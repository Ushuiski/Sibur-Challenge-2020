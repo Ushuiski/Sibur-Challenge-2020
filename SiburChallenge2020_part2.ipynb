{
 "cells": [
  {
   "cell_type": "code",
   "execution_count": 874,
   "metadata": {},
   "outputs": [],
   "source": [
    "import numpy as np\n",
    "import pandas as pd\n",
    "import seaborn as sns\n",
    "import math as m\n",
    "\n",
    "from sklearn import linear_model, metrics\n",
    "from sklearn.preprocessing import StandardScaler\n",
    "from sklearn.model_selection import train_test_split, KFold, TimeSeriesSplit, \\\n",
    "                                    cross_val_score, GridSearchCV, RandomizedSearchCV\n",
    "\n",
    "from sklearn.ensemble import GradientBoostingRegressor\n",
    "\n",
    "import matplotlib.pyplot as plt\n",
    "\n",
    "%matplotlib inline"
   ]
  },
  {
   "cell_type": "code",
   "execution_count": 875,
   "metadata": {},
   "outputs": [],
   "source": [
    "import warnings\n",
    "warnings.filterwarnings('ignore')"
   ]
  },
  {
   "cell_type": "code",
   "execution_count": 876,
   "metadata": {},
   "outputs": [],
   "source": [
    "train_C2H6 = pd.read_csv('train_data_C2H6.csv', header = 0, sep = ',')\n",
    "train_C3H8 = pd.read_csv('train_data_C3H8.csv', header = 0, sep = ',')\n",
    "train_iC4H10 = pd.read_csv('train_data_iC4H10.csv', header = 0, sep = ',')\n",
    "train_nC4H10 = pd.read_csv('train_data_nC4H10.csv', header = 0, sep = ',')"
   ]
  },
  {
   "cell_type": "code",
   "execution_count": 877,
   "metadata": {},
   "outputs": [],
   "source": [
    "pd.set_option('display.max_columns', 500)\n",
    "pd.set_option('display.max_rows', 500)"
   ]
  },
  {
   "cell_type": "code",
   "execution_count": 878,
   "metadata": {},
   "outputs": [
    {
     "data": {
      "text/html": [
       "<div>\n",
       "<style scoped>\n",
       "    .dataframe tbody tr th:only-of-type {\n",
       "        vertical-align: middle;\n",
       "    }\n",
       "\n",
       "    .dataframe tbody tr th {\n",
       "        vertical-align: top;\n",
       "    }\n",
       "\n",
       "    .dataframe thead th {\n",
       "        text-align: right;\n",
       "    }\n",
       "</style>\n",
       "<table border=\"1\" class=\"dataframe\">\n",
       "  <thead>\n",
       "    <tr style=\"text-align: right;\">\n",
       "      <th></th>\n",
       "      <th>Cx_A_C2H6</th>\n",
       "      <th>Pe_ef_C2H6</th>\n",
       "      <th>G_B_C2H6</th>\n",
       "    </tr>\n",
       "  </thead>\n",
       "  <tbody>\n",
       "    <tr>\n",
       "      <td>0</td>\n",
       "      <td>-0.489581</td>\n",
       "      <td>0.190170</td>\n",
       "      <td>3.261401</td>\n",
       "    </tr>\n",
       "    <tr>\n",
       "      <td>1</td>\n",
       "      <td>-0.246485</td>\n",
       "      <td>0.143749</td>\n",
       "      <td>3.287555</td>\n",
       "    </tr>\n",
       "    <tr>\n",
       "      <td>2</td>\n",
       "      <td>-0.170814</td>\n",
       "      <td>0.593639</td>\n",
       "      <td>3.286083</td>\n",
       "    </tr>\n",
       "    <tr>\n",
       "      <td>3</td>\n",
       "      <td>-0.233986</td>\n",
       "      <td>4.228007</td>\n",
       "      <td>3.287569</td>\n",
       "    </tr>\n",
       "    <tr>\n",
       "      <td>4</td>\n",
       "      <td>-0.301800</td>\n",
       "      <td>0.320362</td>\n",
       "      <td>3.287977</td>\n",
       "    </tr>\n",
       "    <tr>\n",
       "      <td>...</td>\n",
       "      <td>...</td>\n",
       "      <td>...</td>\n",
       "      <td>...</td>\n",
       "    </tr>\n",
       "    <tr>\n",
       "      <td>5793</td>\n",
       "      <td>0.034875</td>\n",
       "      <td>1.283931</td>\n",
       "      <td>3.613900</td>\n",
       "    </tr>\n",
       "    <tr>\n",
       "      <td>5794</td>\n",
       "      <td>0.041494</td>\n",
       "      <td>0.105731</td>\n",
       "      <td>3.619171</td>\n",
       "    </tr>\n",
       "    <tr>\n",
       "      <td>5795</td>\n",
       "      <td>0.053704</td>\n",
       "      <td>0.047468</td>\n",
       "      <td>3.627698</td>\n",
       "    </tr>\n",
       "    <tr>\n",
       "      <td>5796</td>\n",
       "      <td>0.060286</td>\n",
       "      <td>0.051004</td>\n",
       "      <td>3.638930</td>\n",
       "    </tr>\n",
       "    <tr>\n",
       "      <td>5797</td>\n",
       "      <td>0.068488</td>\n",
       "      <td>0.070580</td>\n",
       "      <td>3.648088</td>\n",
       "    </tr>\n",
       "  </tbody>\n",
       "</table>\n",
       "<p>5798 rows × 3 columns</p>\n",
       "</div>"
      ],
      "text/plain": [
       "      Cx_A_C2H6  Pe_ef_C2H6  G_B_C2H6\n",
       "0     -0.489581    0.190170  3.261401\n",
       "1     -0.246485    0.143749  3.287555\n",
       "2     -0.170814    0.593639  3.286083\n",
       "3     -0.233986    4.228007  3.287569\n",
       "4     -0.301800    0.320362  3.287977\n",
       "...         ...         ...       ...\n",
       "5793   0.034875    1.283931  3.613900\n",
       "5794   0.041494    0.105731  3.619171\n",
       "5795   0.053704    0.047468  3.627698\n",
       "5796   0.060286    0.051004  3.638930\n",
       "5797   0.068488    0.070580  3.648088\n",
       "\n",
       "[5798 rows x 3 columns]"
      ]
     },
     "execution_count": 878,
     "metadata": {},
     "output_type": "execute_result"
    }
   ],
   "source": [
    "train_C2H6"
   ]
  },
  {
   "cell_type": "code",
   "execution_count": 879,
   "metadata": {},
   "outputs": [],
   "source": [
    "col_C2H6 = [i for i in train_C2H6.drop('G_B_C2H6',axis=1).columns]"
   ]
  },
  {
   "cell_type": "code",
   "execution_count": 880,
   "metadata": {},
   "outputs": [],
   "source": [
    "X_C2H6 = train_C2H6.drop('G_B_C2H6',1)\n",
    "y_C2H6 = train_C2H6['G_B_C2H6']\n",
    "\n",
    "scaler_C2H6 = StandardScaler()\n",
    "scaler_C2H6.fit(X_C2H6, y_C2H6)\n",
    "X_scaled_C2H6 = scaler_C2H6.transform(X_C2H6)"
   ]
  },
  {
   "cell_type": "code",
   "execution_count": 881,
   "metadata": {},
   "outputs": [
    {
     "data": {
      "text/html": [
       "<div>\n",
       "<style scoped>\n",
       "    .dataframe tbody tr th:only-of-type {\n",
       "        vertical-align: middle;\n",
       "    }\n",
       "\n",
       "    .dataframe tbody tr th {\n",
       "        vertical-align: top;\n",
       "    }\n",
       "\n",
       "    .dataframe thead th {\n",
       "        text-align: right;\n",
       "    }\n",
       "</style>\n",
       "<table border=\"1\" class=\"dataframe\">\n",
       "  <thead>\n",
       "    <tr style=\"text-align: right;\">\n",
       "      <th></th>\n",
       "      <th>B_rate</th>\n",
       "      <th>Re_A</th>\n",
       "      <th>G_A_C2H6</th>\n",
       "      <th>G_A_C3H8</th>\n",
       "      <th>G_A_iC4H10</th>\n",
       "      <th>G_A_nC4H10</th>\n",
       "      <th>Cx_A_C3H8**2</th>\n",
       "      <th>Cx_A_iC4H10**2</th>\n",
       "      <th>Cx_A_nC4H10**2</th>\n",
       "      <th>sqrt_Pe_ef_C3H8</th>\n",
       "      <th>sqrt_Pe_ef_iC4H10</th>\n",
       "      <th>sqrt_Pe_ef_nC4H10</th>\n",
       "      <th>G_B_C3H8</th>\n",
       "    </tr>\n",
       "  </thead>\n",
       "  <tbody>\n",
       "    <tr>\n",
       "      <td>0</td>\n",
       "      <td>71.591090</td>\n",
       "      <td>406691.601290</td>\n",
       "      <td>3.507886</td>\n",
       "      <td>28.822011</td>\n",
       "      <td>12.256473</td>\n",
       "      <td>16.885985</td>\n",
       "      <td>5.028694</td>\n",
       "      <td>0.032902</td>\n",
       "      <td>0.707197</td>\n",
       "      <td>0.938085</td>\n",
       "      <td>0.225533</td>\n",
       "      <td>0.561008</td>\n",
       "      <td>27.603653</td>\n",
       "    </tr>\n",
       "    <tr>\n",
       "      <td>1</td>\n",
       "      <td>71.707246</td>\n",
       "      <td>404402.122607</td>\n",
       "      <td>3.458369</td>\n",
       "      <td>28.179261</td>\n",
       "      <td>12.278466</td>\n",
       "      <td>17.072465</td>\n",
       "      <td>1.484397</td>\n",
       "      <td>0.004709</td>\n",
       "      <td>0.231491</td>\n",
       "      <td>0.650774</td>\n",
       "      <td>0.179067</td>\n",
       "      <td>0.449726</td>\n",
       "      <td>27.783881</td>\n",
       "    </tr>\n",
       "    <tr>\n",
       "      <td>2</td>\n",
       "      <td>71.811607</td>\n",
       "      <td>405816.722617</td>\n",
       "      <td>3.520068</td>\n",
       "      <td>28.198436</td>\n",
       "      <td>12.246353</td>\n",
       "      <td>17.025021</td>\n",
       "      <td>0.156325</td>\n",
       "      <td>0.007586</td>\n",
       "      <td>0.097052</td>\n",
       "      <td>0.691400</td>\n",
       "      <td>0.526302</td>\n",
       "      <td>0.825590</td>\n",
       "      <td>27.734744</td>\n",
       "    </tr>\n",
       "    <tr>\n",
       "      <td>3</td>\n",
       "      <td>71.904943</td>\n",
       "      <td>407882.237062</td>\n",
       "      <td>3.589369</td>\n",
       "      <td>28.473852</td>\n",
       "      <td>12.208397</td>\n",
       "      <td>16.906464</td>\n",
       "      <td>0.215011</td>\n",
       "      <td>0.013121</td>\n",
       "      <td>0.121494</td>\n",
       "      <td>0.644464</td>\n",
       "      <td>0.796202</td>\n",
       "      <td>1.282295</td>\n",
       "      <td>27.679363</td>\n",
       "    </tr>\n",
       "    <tr>\n",
       "      <td>4</td>\n",
       "      <td>71.996468</td>\n",
       "      <td>408308.687585</td>\n",
       "      <td>3.594282</td>\n",
       "      <td>28.625395</td>\n",
       "      <td>12.207304</td>\n",
       "      <td>16.856159</td>\n",
       "      <td>0.631212</td>\n",
       "      <td>0.020599</td>\n",
       "      <td>0.204350</td>\n",
       "      <td>1.572816</td>\n",
       "      <td>0.384088</td>\n",
       "      <td>0.865145</td>\n",
       "      <td>27.624403</td>\n",
       "    </tr>\n",
       "    <tr>\n",
       "      <td>...</td>\n",
       "      <td>...</td>\n",
       "      <td>...</td>\n",
       "      <td>...</td>\n",
       "      <td>...</td>\n",
       "      <td>...</td>\n",
       "      <td>...</td>\n",
       "      <td>...</td>\n",
       "      <td>...</td>\n",
       "      <td>...</td>\n",
       "      <td>...</td>\n",
       "      <td>...</td>\n",
       "      <td>...</td>\n",
       "      <td>...</td>\n",
       "    </tr>\n",
       "    <tr>\n",
       "      <td>5793</td>\n",
       "      <td>72.121189</td>\n",
       "      <td>413983.930391</td>\n",
       "      <td>3.572406</td>\n",
       "      <td>25.245525</td>\n",
       "      <td>11.661197</td>\n",
       "      <td>17.125750</td>\n",
       "      <td>0.341780</td>\n",
       "      <td>0.016146</td>\n",
       "      <td>0.250456</td>\n",
       "      <td>0.676084</td>\n",
       "      <td>0.429058</td>\n",
       "      <td>0.676560</td>\n",
       "      <td>25.788062</td>\n",
       "    </tr>\n",
       "    <tr>\n",
       "      <td>5794</td>\n",
       "      <td>72.237662</td>\n",
       "      <td>414147.971365</td>\n",
       "      <td>3.565468</td>\n",
       "      <td>25.309821</td>\n",
       "      <td>11.678729</td>\n",
       "      <td>17.142614</td>\n",
       "      <td>0.294347</td>\n",
       "      <td>0.015368</td>\n",
       "      <td>0.268782</td>\n",
       "      <td>0.615824</td>\n",
       "      <td>0.504972</td>\n",
       "      <td>0.680913</td>\n",
       "      <td>25.830453</td>\n",
       "    </tr>\n",
       "    <tr>\n",
       "      <td>5795</td>\n",
       "      <td>72.362225</td>\n",
       "      <td>414636.369811</td>\n",
       "      <td>3.567413</td>\n",
       "      <td>25.362570</td>\n",
       "      <td>11.692550</td>\n",
       "      <td>17.154685</td>\n",
       "      <td>0.271058</td>\n",
       "      <td>0.013704</td>\n",
       "      <td>0.294229</td>\n",
       "      <td>0.617023</td>\n",
       "      <td>0.452487</td>\n",
       "      <td>0.708459</td>\n",
       "      <td>25.881397</td>\n",
       "    </tr>\n",
       "    <tr>\n",
       "      <td>5796</td>\n",
       "      <td>72.481486</td>\n",
       "      <td>415123.962871</td>\n",
       "      <td>3.570442</td>\n",
       "      <td>25.424037</td>\n",
       "      <td>11.707783</td>\n",
       "      <td>17.166859</td>\n",
       "      <td>0.269181</td>\n",
       "      <td>0.011038</td>\n",
       "      <td>0.327344</td>\n",
       "      <td>0.602549</td>\n",
       "      <td>0.470335</td>\n",
       "      <td>0.728842</td>\n",
       "      <td>25.950659</td>\n",
       "    </tr>\n",
       "    <tr>\n",
       "      <td>5797</td>\n",
       "      <td>72.601981</td>\n",
       "      <td>415477.749614</td>\n",
       "      <td>3.569881</td>\n",
       "      <td>25.479712</td>\n",
       "      <td>11.724163</td>\n",
       "      <td>17.183164</td>\n",
       "      <td>0.277331</td>\n",
       "      <td>0.008333</td>\n",
       "      <td>0.356064</td>\n",
       "      <td>0.617254</td>\n",
       "      <td>0.509768</td>\n",
       "      <td>0.736928</td>\n",
       "      <td>25.981607</td>\n",
       "    </tr>\n",
       "  </tbody>\n",
       "</table>\n",
       "<p>5798 rows × 13 columns</p>\n",
       "</div>"
      ],
      "text/plain": [
       "         B_rate           Re_A  G_A_C2H6   G_A_C3H8  G_A_iC4H10  G_A_nC4H10  \\\n",
       "0     71.591090  406691.601290  3.507886  28.822011   12.256473   16.885985   \n",
       "1     71.707246  404402.122607  3.458369  28.179261   12.278466   17.072465   \n",
       "2     71.811607  405816.722617  3.520068  28.198436   12.246353   17.025021   \n",
       "3     71.904943  407882.237062  3.589369  28.473852   12.208397   16.906464   \n",
       "4     71.996468  408308.687585  3.594282  28.625395   12.207304   16.856159   \n",
       "...         ...            ...       ...        ...         ...         ...   \n",
       "5793  72.121189  413983.930391  3.572406  25.245525   11.661197   17.125750   \n",
       "5794  72.237662  414147.971365  3.565468  25.309821   11.678729   17.142614   \n",
       "5795  72.362225  414636.369811  3.567413  25.362570   11.692550   17.154685   \n",
       "5796  72.481486  415123.962871  3.570442  25.424037   11.707783   17.166859   \n",
       "5797  72.601981  415477.749614  3.569881  25.479712   11.724163   17.183164   \n",
       "\n",
       "      Cx_A_C3H8**2  Cx_A_iC4H10**2  Cx_A_nC4H10**2  sqrt_Pe_ef_C3H8  \\\n",
       "0         5.028694        0.032902        0.707197         0.938085   \n",
       "1         1.484397        0.004709        0.231491         0.650774   \n",
       "2         0.156325        0.007586        0.097052         0.691400   \n",
       "3         0.215011        0.013121        0.121494         0.644464   \n",
       "4         0.631212        0.020599        0.204350         1.572816   \n",
       "...            ...             ...             ...              ...   \n",
       "5793      0.341780        0.016146        0.250456         0.676084   \n",
       "5794      0.294347        0.015368        0.268782         0.615824   \n",
       "5795      0.271058        0.013704        0.294229         0.617023   \n",
       "5796      0.269181        0.011038        0.327344         0.602549   \n",
       "5797      0.277331        0.008333        0.356064         0.617254   \n",
       "\n",
       "      sqrt_Pe_ef_iC4H10  sqrt_Pe_ef_nC4H10   G_B_C3H8  \n",
       "0              0.225533           0.561008  27.603653  \n",
       "1              0.179067           0.449726  27.783881  \n",
       "2              0.526302           0.825590  27.734744  \n",
       "3              0.796202           1.282295  27.679363  \n",
       "4              0.384088           0.865145  27.624403  \n",
       "...                 ...                ...        ...  \n",
       "5793           0.429058           0.676560  25.788062  \n",
       "5794           0.504972           0.680913  25.830453  \n",
       "5795           0.452487           0.708459  25.881397  \n",
       "5796           0.470335           0.728842  25.950659  \n",
       "5797           0.509768           0.736928  25.981607  \n",
       "\n",
       "[5798 rows x 13 columns]"
      ]
     },
     "execution_count": 881,
     "metadata": {},
     "output_type": "execute_result"
    }
   ],
   "source": [
    "train_C3H8"
   ]
  },
  {
   "cell_type": "code",
   "execution_count": 882,
   "metadata": {},
   "outputs": [],
   "source": [
    "col_C3H8 = [i for i in train_C3H8.drop('G_B_C3H8',axis=1).columns]"
   ]
  },
  {
   "cell_type": "code",
   "execution_count": 883,
   "metadata": {},
   "outputs": [],
   "source": [
    "X_C3H8 = train_C3H8.drop('G_B_C3H8',1)\n",
    "y_C3H8 = train_C3H8['G_B_C3H8']\n",
    "\n",
    "scaler_C3H8 = StandardScaler()\n",
    "scaler_C3H8.fit(X_C3H8, y_C3H8)\n",
    "X_scaled_C3H8 = scaler_C3H8.transform(X_C3H8)"
   ]
  },
  {
   "cell_type": "code",
   "execution_count": 884,
   "metadata": {},
   "outputs": [
    {
     "data": {
      "text/html": [
       "<div>\n",
       "<style scoped>\n",
       "    .dataframe tbody tr th:only-of-type {\n",
       "        vertical-align: middle;\n",
       "    }\n",
       "\n",
       "    .dataframe tbody tr th {\n",
       "        vertical-align: top;\n",
       "    }\n",
       "\n",
       "    .dataframe thead th {\n",
       "        text-align: right;\n",
       "    }\n",
       "</style>\n",
       "<table border=\"1\" class=\"dataframe\">\n",
       "  <thead>\n",
       "    <tr style=\"text-align: right;\">\n",
       "      <th></th>\n",
       "      <th>B_rate</th>\n",
       "      <th>Re_A</th>\n",
       "      <th>G_A_C2H6</th>\n",
       "      <th>G_A_C3H8</th>\n",
       "      <th>G_A_iC4H10</th>\n",
       "      <th>G_A_nC4H10</th>\n",
       "      <th>Cx_A_C3H8**2</th>\n",
       "      <th>Cx_A_iC4H10**2</th>\n",
       "      <th>Cx_A_nC4H10**2</th>\n",
       "      <th>sqrt_Pe_ef_C3H8</th>\n",
       "      <th>sqrt_Pe_ef_iC4H10</th>\n",
       "      <th>sqrt_Pe_ef_nC4H10</th>\n",
       "      <th>G_B_iC4H10</th>\n",
       "    </tr>\n",
       "  </thead>\n",
       "  <tbody>\n",
       "    <tr>\n",
       "      <td>0</td>\n",
       "      <td>71.591090</td>\n",
       "      <td>406691.601290</td>\n",
       "      <td>3.507886</td>\n",
       "      <td>28.822011</td>\n",
       "      <td>12.256473</td>\n",
       "      <td>16.885985</td>\n",
       "      <td>5.028694</td>\n",
       "      <td>0.032902</td>\n",
       "      <td>0.707197</td>\n",
       "      <td>0.938085</td>\n",
       "      <td>0.225533</td>\n",
       "      <td>0.561008</td>\n",
       "      <td>12.325097</td>\n",
       "    </tr>\n",
       "    <tr>\n",
       "      <td>1</td>\n",
       "      <td>71.707246</td>\n",
       "      <td>404402.122607</td>\n",
       "      <td>3.458369</td>\n",
       "      <td>28.179261</td>\n",
       "      <td>12.278466</td>\n",
       "      <td>17.072465</td>\n",
       "      <td>1.484397</td>\n",
       "      <td>0.004709</td>\n",
       "      <td>0.231491</td>\n",
       "      <td>0.650774</td>\n",
       "      <td>0.179067</td>\n",
       "      <td>0.449726</td>\n",
       "      <td>12.365565</td>\n",
       "    </tr>\n",
       "    <tr>\n",
       "      <td>2</td>\n",
       "      <td>71.811607</td>\n",
       "      <td>405816.722617</td>\n",
       "      <td>3.520068</td>\n",
       "      <td>28.198436</td>\n",
       "      <td>12.246353</td>\n",
       "      <td>17.025021</td>\n",
       "      <td>0.156325</td>\n",
       "      <td>0.007586</td>\n",
       "      <td>0.097052</td>\n",
       "      <td>0.691400</td>\n",
       "      <td>0.526302</td>\n",
       "      <td>0.825590</td>\n",
       "      <td>12.360900</td>\n",
       "    </tr>\n",
       "    <tr>\n",
       "      <td>3</td>\n",
       "      <td>71.904943</td>\n",
       "      <td>407882.237062</td>\n",
       "      <td>3.589369</td>\n",
       "      <td>28.473852</td>\n",
       "      <td>12.208397</td>\n",
       "      <td>16.906464</td>\n",
       "      <td>0.215011</td>\n",
       "      <td>0.013121</td>\n",
       "      <td>0.121494</td>\n",
       "      <td>0.644464</td>\n",
       "      <td>0.796202</td>\n",
       "      <td>1.282295</td>\n",
       "      <td>12.351922</td>\n",
       "    </tr>\n",
       "    <tr>\n",
       "      <td>4</td>\n",
       "      <td>71.996468</td>\n",
       "      <td>408308.687585</td>\n",
       "      <td>3.594282</td>\n",
       "      <td>28.625395</td>\n",
       "      <td>12.207304</td>\n",
       "      <td>16.856159</td>\n",
       "      <td>0.631212</td>\n",
       "      <td>0.020599</td>\n",
       "      <td>0.204350</td>\n",
       "      <td>1.572816</td>\n",
       "      <td>0.384088</td>\n",
       "      <td>0.865145</td>\n",
       "      <td>12.340423</td>\n",
       "    </tr>\n",
       "    <tr>\n",
       "      <td>...</td>\n",
       "      <td>...</td>\n",
       "      <td>...</td>\n",
       "      <td>...</td>\n",
       "      <td>...</td>\n",
       "      <td>...</td>\n",
       "      <td>...</td>\n",
       "      <td>...</td>\n",
       "      <td>...</td>\n",
       "      <td>...</td>\n",
       "      <td>...</td>\n",
       "      <td>...</td>\n",
       "      <td>...</td>\n",
       "      <td>...</td>\n",
       "    </tr>\n",
       "    <tr>\n",
       "      <td>5793</td>\n",
       "      <td>72.121189</td>\n",
       "      <td>413983.930391</td>\n",
       "      <td>3.572406</td>\n",
       "      <td>25.245525</td>\n",
       "      <td>11.661197</td>\n",
       "      <td>17.125750</td>\n",
       "      <td>0.341780</td>\n",
       "      <td>0.016146</td>\n",
       "      <td>0.250456</td>\n",
       "      <td>0.676084</td>\n",
       "      <td>0.429058</td>\n",
       "      <td>0.676560</td>\n",
       "      <td>11.537228</td>\n",
       "    </tr>\n",
       "    <tr>\n",
       "      <td>5794</td>\n",
       "      <td>72.237662</td>\n",
       "      <td>414147.971365</td>\n",
       "      <td>3.565468</td>\n",
       "      <td>25.309821</td>\n",
       "      <td>11.678729</td>\n",
       "      <td>17.142614</td>\n",
       "      <td>0.294347</td>\n",
       "      <td>0.015368</td>\n",
       "      <td>0.268782</td>\n",
       "      <td>0.615824</td>\n",
       "      <td>0.504972</td>\n",
       "      <td>0.680913</td>\n",
       "      <td>11.561665</td>\n",
       "    </tr>\n",
       "    <tr>\n",
       "      <td>5795</td>\n",
       "      <td>72.362225</td>\n",
       "      <td>414636.369811</td>\n",
       "      <td>3.567413</td>\n",
       "      <td>25.362570</td>\n",
       "      <td>11.692550</td>\n",
       "      <td>17.154685</td>\n",
       "      <td>0.271058</td>\n",
       "      <td>0.013704</td>\n",
       "      <td>0.294229</td>\n",
       "      <td>0.617023</td>\n",
       "      <td>0.452487</td>\n",
       "      <td>0.708459</td>\n",
       "      <td>11.587488</td>\n",
       "    </tr>\n",
       "    <tr>\n",
       "      <td>5796</td>\n",
       "      <td>72.481486</td>\n",
       "      <td>415123.962871</td>\n",
       "      <td>3.570442</td>\n",
       "      <td>25.424037</td>\n",
       "      <td>11.707783</td>\n",
       "      <td>17.166859</td>\n",
       "      <td>0.269181</td>\n",
       "      <td>0.011038</td>\n",
       "      <td>0.327344</td>\n",
       "      <td>0.602549</td>\n",
       "      <td>0.470335</td>\n",
       "      <td>0.728842</td>\n",
       "      <td>11.616500</td>\n",
       "    </tr>\n",
       "    <tr>\n",
       "      <td>5797</td>\n",
       "      <td>72.601981</td>\n",
       "      <td>415477.749614</td>\n",
       "      <td>3.569881</td>\n",
       "      <td>25.479712</td>\n",
       "      <td>11.724163</td>\n",
       "      <td>17.183164</td>\n",
       "      <td>0.277331</td>\n",
       "      <td>0.008333</td>\n",
       "      <td>0.356064</td>\n",
       "      <td>0.617254</td>\n",
       "      <td>0.509768</td>\n",
       "      <td>0.736928</td>\n",
       "      <td>11.638576</td>\n",
       "    </tr>\n",
       "  </tbody>\n",
       "</table>\n",
       "<p>5798 rows × 13 columns</p>\n",
       "</div>"
      ],
      "text/plain": [
       "         B_rate           Re_A  G_A_C2H6   G_A_C3H8  G_A_iC4H10  G_A_nC4H10  \\\n",
       "0     71.591090  406691.601290  3.507886  28.822011   12.256473   16.885985   \n",
       "1     71.707246  404402.122607  3.458369  28.179261   12.278466   17.072465   \n",
       "2     71.811607  405816.722617  3.520068  28.198436   12.246353   17.025021   \n",
       "3     71.904943  407882.237062  3.589369  28.473852   12.208397   16.906464   \n",
       "4     71.996468  408308.687585  3.594282  28.625395   12.207304   16.856159   \n",
       "...         ...            ...       ...        ...         ...         ...   \n",
       "5793  72.121189  413983.930391  3.572406  25.245525   11.661197   17.125750   \n",
       "5794  72.237662  414147.971365  3.565468  25.309821   11.678729   17.142614   \n",
       "5795  72.362225  414636.369811  3.567413  25.362570   11.692550   17.154685   \n",
       "5796  72.481486  415123.962871  3.570442  25.424037   11.707783   17.166859   \n",
       "5797  72.601981  415477.749614  3.569881  25.479712   11.724163   17.183164   \n",
       "\n",
       "      Cx_A_C3H8**2  Cx_A_iC4H10**2  Cx_A_nC4H10**2  sqrt_Pe_ef_C3H8  \\\n",
       "0         5.028694        0.032902        0.707197         0.938085   \n",
       "1         1.484397        0.004709        0.231491         0.650774   \n",
       "2         0.156325        0.007586        0.097052         0.691400   \n",
       "3         0.215011        0.013121        0.121494         0.644464   \n",
       "4         0.631212        0.020599        0.204350         1.572816   \n",
       "...            ...             ...             ...              ...   \n",
       "5793      0.341780        0.016146        0.250456         0.676084   \n",
       "5794      0.294347        0.015368        0.268782         0.615824   \n",
       "5795      0.271058        0.013704        0.294229         0.617023   \n",
       "5796      0.269181        0.011038        0.327344         0.602549   \n",
       "5797      0.277331        0.008333        0.356064         0.617254   \n",
       "\n",
       "      sqrt_Pe_ef_iC4H10  sqrt_Pe_ef_nC4H10  G_B_iC4H10  \n",
       "0              0.225533           0.561008   12.325097  \n",
       "1              0.179067           0.449726   12.365565  \n",
       "2              0.526302           0.825590   12.360900  \n",
       "3              0.796202           1.282295   12.351922  \n",
       "4              0.384088           0.865145   12.340423  \n",
       "...                 ...                ...         ...  \n",
       "5793           0.429058           0.676560   11.537228  \n",
       "5794           0.504972           0.680913   11.561665  \n",
       "5795           0.452487           0.708459   11.587488  \n",
       "5796           0.470335           0.728842   11.616500  \n",
       "5797           0.509768           0.736928   11.638576  \n",
       "\n",
       "[5798 rows x 13 columns]"
      ]
     },
     "execution_count": 884,
     "metadata": {},
     "output_type": "execute_result"
    }
   ],
   "source": [
    "train_iC4H10"
   ]
  },
  {
   "cell_type": "code",
   "execution_count": 885,
   "metadata": {},
   "outputs": [],
   "source": [
    "col_iC4H10 = [i for i in train_iC4H10.drop('G_B_iC4H10',axis=1).columns]"
   ]
  },
  {
   "cell_type": "code",
   "execution_count": 886,
   "metadata": {},
   "outputs": [],
   "source": [
    "X_iC4H10 = train_iC4H10.drop('G_B_iC4H10',1)\n",
    "y_iC4H10 = train_iC4H10['G_B_iC4H10']\n",
    "\n",
    "scaler_iC4H10 = StandardScaler()\n",
    "scaler_iC4H10.fit(X_iC4H10, y_iC4H10)\n",
    "X_scaled_iC4H10 = scaler_iC4H10.transform(X_iC4H10)"
   ]
  },
  {
   "cell_type": "code",
   "execution_count": 887,
   "metadata": {},
   "outputs": [
    {
     "data": {
      "text/html": [
       "<div>\n",
       "<style scoped>\n",
       "    .dataframe tbody tr th:only-of-type {\n",
       "        vertical-align: middle;\n",
       "    }\n",
       "\n",
       "    .dataframe tbody tr th {\n",
       "        vertical-align: top;\n",
       "    }\n",
       "\n",
       "    .dataframe thead th {\n",
       "        text-align: right;\n",
       "    }\n",
       "</style>\n",
       "<table border=\"1\" class=\"dataframe\">\n",
       "  <thead>\n",
       "    <tr style=\"text-align: right;\">\n",
       "      <th></th>\n",
       "      <th>B_rate</th>\n",
       "      <th>Re_A</th>\n",
       "      <th>G_A_C2H6</th>\n",
       "      <th>G_A_C3H8</th>\n",
       "      <th>G_A_iC4H10</th>\n",
       "      <th>G_A_nC4H10</th>\n",
       "      <th>Cx_A_C3H8**2</th>\n",
       "      <th>Cx_A_iC4H10**2</th>\n",
       "      <th>Cx_A_nC4H10**2</th>\n",
       "      <th>sqrt_Pe_ef_C3H8</th>\n",
       "      <th>sqrt_Pe_ef_iC4H10</th>\n",
       "      <th>sqrt_Pe_ef_nC4H10</th>\n",
       "      <th>G_B_nC4H10</th>\n",
       "    </tr>\n",
       "  </thead>\n",
       "  <tbody>\n",
       "    <tr>\n",
       "      <td>0</td>\n",
       "      <td>71.591090</td>\n",
       "      <td>406691.601290</td>\n",
       "      <td>3.507886</td>\n",
       "      <td>28.822011</td>\n",
       "      <td>12.256473</td>\n",
       "      <td>16.885985</td>\n",
       "      <td>5.028694</td>\n",
       "      <td>0.032902</td>\n",
       "      <td>0.707197</td>\n",
       "      <td>0.938085</td>\n",
       "      <td>0.225533</td>\n",
       "      <td>0.561008</td>\n",
       "      <td>17.367120</td>\n",
       "    </tr>\n",
       "    <tr>\n",
       "      <td>1</td>\n",
       "      <td>71.707246</td>\n",
       "      <td>404402.122607</td>\n",
       "      <td>3.458369</td>\n",
       "      <td>28.179261</td>\n",
       "      <td>12.278466</td>\n",
       "      <td>17.072465</td>\n",
       "      <td>1.484397</td>\n",
       "      <td>0.004709</td>\n",
       "      <td>0.231491</td>\n",
       "      <td>0.650774</td>\n",
       "      <td>0.179067</td>\n",
       "      <td>0.449726</td>\n",
       "      <td>17.383997</td>\n",
       "    </tr>\n",
       "    <tr>\n",
       "      <td>2</td>\n",
       "      <td>71.811607</td>\n",
       "      <td>405816.722617</td>\n",
       "      <td>3.520068</td>\n",
       "      <td>28.198436</td>\n",
       "      <td>12.246353</td>\n",
       "      <td>17.025021</td>\n",
       "      <td>0.156325</td>\n",
       "      <td>0.007586</td>\n",
       "      <td>0.097052</td>\n",
       "      <td>0.691400</td>\n",
       "      <td>0.526302</td>\n",
       "      <td>0.825590</td>\n",
       "      <td>17.373582</td>\n",
       "    </tr>\n",
       "    <tr>\n",
       "      <td>3</td>\n",
       "      <td>71.904943</td>\n",
       "      <td>407882.237062</td>\n",
       "      <td>3.589369</td>\n",
       "      <td>28.473852</td>\n",
       "      <td>12.208397</td>\n",
       "      <td>16.906464</td>\n",
       "      <td>0.215011</td>\n",
       "      <td>0.013121</td>\n",
       "      <td>0.121494</td>\n",
       "      <td>0.644464</td>\n",
       "      <td>0.796202</td>\n",
       "      <td>1.282295</td>\n",
       "      <td>17.358515</td>\n",
       "    </tr>\n",
       "    <tr>\n",
       "      <td>4</td>\n",
       "      <td>71.996468</td>\n",
       "      <td>408308.687585</td>\n",
       "      <td>3.594282</td>\n",
       "      <td>28.625395</td>\n",
       "      <td>12.207304</td>\n",
       "      <td>16.856159</td>\n",
       "      <td>0.631212</td>\n",
       "      <td>0.020599</td>\n",
       "      <td>0.204350</td>\n",
       "      <td>1.572816</td>\n",
       "      <td>0.384088</td>\n",
       "      <td>0.865145</td>\n",
       "      <td>17.339268</td>\n",
       "    </tr>\n",
       "    <tr>\n",
       "      <td>...</td>\n",
       "      <td>...</td>\n",
       "      <td>...</td>\n",
       "      <td>...</td>\n",
       "      <td>...</td>\n",
       "      <td>...</td>\n",
       "      <td>...</td>\n",
       "      <td>...</td>\n",
       "      <td>...</td>\n",
       "      <td>...</td>\n",
       "      <td>...</td>\n",
       "      <td>...</td>\n",
       "      <td>...</td>\n",
       "      <td>...</td>\n",
       "    </tr>\n",
       "    <tr>\n",
       "      <td>5793</td>\n",
       "      <td>72.121189</td>\n",
       "      <td>413983.930391</td>\n",
       "      <td>3.572406</td>\n",
       "      <td>25.245525</td>\n",
       "      <td>11.661197</td>\n",
       "      <td>17.125750</td>\n",
       "      <td>0.341780</td>\n",
       "      <td>0.016146</td>\n",
       "      <td>0.250456</td>\n",
       "      <td>0.676084</td>\n",
       "      <td>0.429058</td>\n",
       "      <td>0.676560</td>\n",
       "      <td>17.644192</td>\n",
       "    </tr>\n",
       "    <tr>\n",
       "      <td>5794</td>\n",
       "      <td>72.237662</td>\n",
       "      <td>414147.971365</td>\n",
       "      <td>3.565468</td>\n",
       "      <td>25.309821</td>\n",
       "      <td>11.678729</td>\n",
       "      <td>17.142614</td>\n",
       "      <td>0.294347</td>\n",
       "      <td>0.015368</td>\n",
       "      <td>0.268782</td>\n",
       "      <td>0.615824</td>\n",
       "      <td>0.504972</td>\n",
       "      <td>0.680913</td>\n",
       "      <td>17.685043</td>\n",
       "    </tr>\n",
       "    <tr>\n",
       "      <td>5795</td>\n",
       "      <td>72.362225</td>\n",
       "      <td>414636.369811</td>\n",
       "      <td>3.567413</td>\n",
       "      <td>25.362570</td>\n",
       "      <td>11.692550</td>\n",
       "      <td>17.154685</td>\n",
       "      <td>0.271058</td>\n",
       "      <td>0.013704</td>\n",
       "      <td>0.294229</td>\n",
       "      <td>0.617023</td>\n",
       "      <td>0.452487</td>\n",
       "      <td>0.708459</td>\n",
       "      <td>17.726825</td>\n",
       "    </tr>\n",
       "    <tr>\n",
       "      <td>5796</td>\n",
       "      <td>72.481486</td>\n",
       "      <td>415123.962871</td>\n",
       "      <td>3.570442</td>\n",
       "      <td>25.424037</td>\n",
       "      <td>11.707783</td>\n",
       "      <td>17.166859</td>\n",
       "      <td>0.269181</td>\n",
       "      <td>0.011038</td>\n",
       "      <td>0.327344</td>\n",
       "      <td>0.602549</td>\n",
       "      <td>0.470335</td>\n",
       "      <td>0.728842</td>\n",
       "      <td>17.763570</td>\n",
       "    </tr>\n",
       "    <tr>\n",
       "      <td>5797</td>\n",
       "      <td>72.601981</td>\n",
       "      <td>415477.749614</td>\n",
       "      <td>3.569881</td>\n",
       "      <td>25.479712</td>\n",
       "      <td>11.724163</td>\n",
       "      <td>17.183164</td>\n",
       "      <td>0.277331</td>\n",
       "      <td>0.008333</td>\n",
       "      <td>0.356064</td>\n",
       "      <td>0.617254</td>\n",
       "      <td>0.509768</td>\n",
       "      <td>0.736928</td>\n",
       "      <td>17.799919</td>\n",
       "    </tr>\n",
       "  </tbody>\n",
       "</table>\n",
       "<p>5798 rows × 13 columns</p>\n",
       "</div>"
      ],
      "text/plain": [
       "         B_rate           Re_A  G_A_C2H6   G_A_C3H8  G_A_iC4H10  G_A_nC4H10  \\\n",
       "0     71.591090  406691.601290  3.507886  28.822011   12.256473   16.885985   \n",
       "1     71.707246  404402.122607  3.458369  28.179261   12.278466   17.072465   \n",
       "2     71.811607  405816.722617  3.520068  28.198436   12.246353   17.025021   \n",
       "3     71.904943  407882.237062  3.589369  28.473852   12.208397   16.906464   \n",
       "4     71.996468  408308.687585  3.594282  28.625395   12.207304   16.856159   \n",
       "...         ...            ...       ...        ...         ...         ...   \n",
       "5793  72.121189  413983.930391  3.572406  25.245525   11.661197   17.125750   \n",
       "5794  72.237662  414147.971365  3.565468  25.309821   11.678729   17.142614   \n",
       "5795  72.362225  414636.369811  3.567413  25.362570   11.692550   17.154685   \n",
       "5796  72.481486  415123.962871  3.570442  25.424037   11.707783   17.166859   \n",
       "5797  72.601981  415477.749614  3.569881  25.479712   11.724163   17.183164   \n",
       "\n",
       "      Cx_A_C3H8**2  Cx_A_iC4H10**2  Cx_A_nC4H10**2  sqrt_Pe_ef_C3H8  \\\n",
       "0         5.028694        0.032902        0.707197         0.938085   \n",
       "1         1.484397        0.004709        0.231491         0.650774   \n",
       "2         0.156325        0.007586        0.097052         0.691400   \n",
       "3         0.215011        0.013121        0.121494         0.644464   \n",
       "4         0.631212        0.020599        0.204350         1.572816   \n",
       "...            ...             ...             ...              ...   \n",
       "5793      0.341780        0.016146        0.250456         0.676084   \n",
       "5794      0.294347        0.015368        0.268782         0.615824   \n",
       "5795      0.271058        0.013704        0.294229         0.617023   \n",
       "5796      0.269181        0.011038        0.327344         0.602549   \n",
       "5797      0.277331        0.008333        0.356064         0.617254   \n",
       "\n",
       "      sqrt_Pe_ef_iC4H10  sqrt_Pe_ef_nC4H10  G_B_nC4H10  \n",
       "0              0.225533           0.561008   17.367120  \n",
       "1              0.179067           0.449726   17.383997  \n",
       "2              0.526302           0.825590   17.373582  \n",
       "3              0.796202           1.282295   17.358515  \n",
       "4              0.384088           0.865145   17.339268  \n",
       "...                 ...                ...         ...  \n",
       "5793           0.429058           0.676560   17.644192  \n",
       "5794           0.504972           0.680913   17.685043  \n",
       "5795           0.452487           0.708459   17.726825  \n",
       "5796           0.470335           0.728842   17.763570  \n",
       "5797           0.509768           0.736928   17.799919  \n",
       "\n",
       "[5798 rows x 13 columns]"
      ]
     },
     "execution_count": 887,
     "metadata": {},
     "output_type": "execute_result"
    }
   ],
   "source": [
    "train_nC4H10"
   ]
  },
  {
   "cell_type": "code",
   "execution_count": 888,
   "metadata": {},
   "outputs": [],
   "source": [
    "col_nC4H10 = [i for i in train_nC4H10.drop('G_B_nC4H10', axis=1).columns]"
   ]
  },
  {
   "cell_type": "code",
   "execution_count": 889,
   "metadata": {},
   "outputs": [],
   "source": [
    "X_nC4H10 = train_nC4H10.drop('G_B_nC4H10',1)\n",
    "y_nC4H10 = train_nC4H10['G_B_nC4H10']\n",
    "\n",
    "scaler_nC4H10 = StandardScaler()\n",
    "scaler_nC4H10.fit(X_nC4H10, y_nC4H10)\n",
    "X_scaled_nC4H10 = scaler_nC4H10.transform(X_nC4H10)"
   ]
  },
  {
   "cell_type": "markdown",
   "metadata": {},
   "source": [
    "## Кросс валидация"
   ]
  },
  {
   "cell_type": "markdown",
   "metadata": {},
   "source": [
    "Обучение / тест"
   ]
  },
  {
   "cell_type": "code",
   "execution_count": 890,
   "metadata": {},
   "outputs": [],
   "source": [
    "X_train_C2H6, X_test_C2H6, y_train_C2H6, y_test_C2H6 = train_test_split(\n",
    "    X_scaled_C2H6, y_C2H6, test_size=0.2, shuffle=False, random_state=0)"
   ]
  },
  {
   "cell_type": "code",
   "execution_count": 891,
   "metadata": {},
   "outputs": [],
   "source": [
    "X_train_C3H8, X_test_C3H8, y_train_C3H8, y_test_C3H8 = train_test_split(\n",
    "    X_scaled_C3H8, y_C3H8, test_size=0.2, shuffle=False, random_state=0)"
   ]
  },
  {
   "cell_type": "code",
   "execution_count": 892,
   "metadata": {},
   "outputs": [],
   "source": [
    "X_train_iC4H10, X_test_iC4H10, y_train_iC4H10, y_test_iC4H10 = train_test_split(\n",
    "    X_scaled_iC4H10, y_iC4H10, test_size=0.2, shuffle=False, random_state=0)"
   ]
  },
  {
   "cell_type": "code",
   "execution_count": 893,
   "metadata": {},
   "outputs": [],
   "source": [
    "X_train_nC4H10, X_test_nC4H10, y_train_nC4H10, y_test_nC4H10 = train_test_split(\n",
    "    X_scaled_nC4H10, y_nC4H10, test_size=0.2, shuffle=False, random_state=0)"
   ]
  },
  {
   "cell_type": "markdown",
   "metadata": {},
   "source": [
    "Стратегии кросс-валидации"
   ]
  },
  {
   "cell_type": "code",
   "execution_count": 894,
   "metadata": {},
   "outputs": [],
   "source": [
    "cv_strategy_KFold = KFold(n_splits=5, random_state=0, shuffle=False)\n",
    "cv_strategy_TMS = TimeSeriesSplit(n_splits=5)"
   ]
  },
  {
   "cell_type": "markdown",
   "metadata": {},
   "source": [
    "Загружаем метрику качества"
   ]
  },
  {
   "cell_type": "code",
   "execution_count": 895,
   "metadata": {},
   "outputs": [],
   "source": [
    "scorer = metrics.make_scorer(metrics.mean_absolute_error)\n",
    "scorerCV = metrics.make_scorer(metrics.mean_absolute_error, greater_is_better=False)"
   ]
  },
  {
   "cell_type": "code",
   "execution_count": null,
   "metadata": {},
   "outputs": [],
   "source": []
  },
  {
   "cell_type": "markdown",
   "metadata": {},
   "source": [
    "# linear_regressor"
   ]
  },
  {
   "cell_type": "markdown",
   "metadata": {},
   "source": [
    "### C2H6"
   ]
  },
  {
   "cell_type": "code",
   "execution_count": 896,
   "metadata": {},
   "outputs": [],
   "source": [
    "linear_regressor = linear_model.LinearRegression()\n",
    "linear_regressor.fit(X_train_C2H6, y_train_C2H6)\n",
    "predictions = linear_regressor.predict(X_test_C2H6)"
   ]
  },
  {
   "cell_type": "code",
   "execution_count": 897,
   "metadata": {},
   "outputs": [
    {
     "data": {
      "text/plain": [
       "3.0246117405476407"
      ]
     },
     "execution_count": 897,
     "metadata": {},
     "output_type": "execute_result"
    }
   ],
   "source": [
    "metrics.mean_absolute_error(y_test_C2H6, predictions)"
   ]
  },
  {
   "cell_type": "code",
   "execution_count": 898,
   "metadata": {},
   "outputs": [
    {
     "name": "stdout",
     "output_type": "stream",
     "text": [
      "LR (KFold) mean:0.8426594205897538, max:1.854412032495994, min:0.3890787211782451, std:0.5283447943537979\n"
     ]
    }
   ],
   "source": [
    "lr_scoring = cross_val_score(linear_regressor, X_train_C2H6, y_train_C2H6, scoring = scorer, cv = cv_strategy_KFold)\n",
    "print ('LR (KFold) mean:{}, max:{}, min:{}, std:{}'.format(lr_scoring .mean(), lr_scoring .max(), \n",
    "                                                     lr_scoring .min(), lr_scoring .std()))"
   ]
  },
  {
   "cell_type": "code",
   "execution_count": 899,
   "metadata": {},
   "outputs": [
    {
     "data": {
      "text/plain": [
       "array([0.8490587 , 1.85441203, 0.61932738, 0.38907872, 0.50142027])"
      ]
     },
     "execution_count": 899,
     "metadata": {},
     "output_type": "execute_result"
    }
   ],
   "source": [
    "lr_scoring"
   ]
  },
  {
   "cell_type": "code",
   "execution_count": 900,
   "metadata": {},
   "outputs": [
    {
     "name": "stdout",
     "output_type": "stream",
     "text": [
      "LR (TMS) mean:0.9149238330643662, max:1.702612988231826, min:0.3282031361453393, std:0.586899538221614\n"
     ]
    }
   ],
   "source": [
    "lr_scoring = cross_val_score(linear_regressor, X_train_C2H6, y_train_C2H6, scoring = scorer, cv = cv_strategy_TMS)\n",
    "print ('LR (TMS) mean:{}, max:{}, min:{}, std:{}'.format(lr_scoring .mean(), lr_scoring .max(), \n",
    "                                                     lr_scoring .min(), lr_scoring .std()))"
   ]
  },
  {
   "cell_type": "code",
   "execution_count": 901,
   "metadata": {},
   "outputs": [
    {
     "data": {
      "text/plain": [
       "array([1.70261299, 1.54823107, 0.43269402, 0.32820314, 0.56287795])"
      ]
     },
     "execution_count": 901,
     "metadata": {},
     "output_type": "execute_result"
    }
   ],
   "source": [
    "lr_scoring"
   ]
  },
  {
   "cell_type": "markdown",
   "metadata": {},
   "source": [
    "### C3H8"
   ]
  },
  {
   "cell_type": "code",
   "execution_count": 902,
   "metadata": {},
   "outputs": [],
   "source": [
    "linear_regressor = linear_model.LinearRegression()\n",
    "linear_regressor.fit(X_train_C3H8, y_train_C3H8)\n",
    "predictions = linear_regressor.predict(X_test_C3H8)"
   ]
  },
  {
   "cell_type": "code",
   "execution_count": 903,
   "metadata": {},
   "outputs": [
    {
     "data": {
      "text/plain": [
       "1.8242943495244528"
      ]
     },
     "execution_count": 903,
     "metadata": {},
     "output_type": "execute_result"
    }
   ],
   "source": [
    "metrics.mean_absolute_error(y_test_C3H8, predictions)"
   ]
  },
  {
   "cell_type": "code",
   "execution_count": 904,
   "metadata": {},
   "outputs": [
    {
     "name": "stdout",
     "output_type": "stream",
     "text": [
      "LR (KFold) mean:1.6364280799335522, max:5.1869207309197325, min:0.4650886025011178, std:1.7854415986190961\n"
     ]
    }
   ],
   "source": [
    "lr_scoring = cross_val_score(linear_regressor, X_train_C3H8, y_train_C3H8, scoring = scorer, cv = cv_strategy_KFold)\n",
    "print ('LR (KFold) mean:{}, max:{}, min:{}, std:{}'.format(lr_scoring .mean(), lr_scoring .max(), \n",
    "                                                     lr_scoring .min(), lr_scoring .std()))"
   ]
  },
  {
   "cell_type": "code",
   "execution_count": 905,
   "metadata": {},
   "outputs": [
    {
     "data": {
      "text/plain": [
       "array([0.77695207, 5.18692073, 1.06039091, 0.4650886 , 0.69278808])"
      ]
     },
     "execution_count": 905,
     "metadata": {},
     "output_type": "execute_result"
    }
   ],
   "source": [
    "lr_scoring"
   ]
  },
  {
   "cell_type": "code",
   "execution_count": 906,
   "metadata": {},
   "outputs": [
    {
     "name": "stdout",
     "output_type": "stream",
     "text": [
      "LR (TMS) mean:3.663082181344284, max:14.782940761874375, min:0.4737863317132307, std:5.573971595847967\n"
     ]
    }
   ],
   "source": [
    "lr_scoring = cross_val_score(linear_regressor, X_train_C3H8, y_train_C3H8, scoring = scorer, cv = cv_strategy_TMS)\n",
    "print ('LR (TMS) mean:{}, max:{}, min:{}, std:{}'.format(lr_scoring .mean(), lr_scoring .max(), \n",
    "                                                     lr_scoring .min(), lr_scoring .std()))"
   ]
  },
  {
   "cell_type": "code",
   "execution_count": 907,
   "metadata": {},
   "outputs": [
    {
     "data": {
      "text/plain": [
       "array([14.78294076,  1.62668618,  0.47378633,  0.76807806,  0.66391957])"
      ]
     },
     "execution_count": 907,
     "metadata": {},
     "output_type": "execute_result"
    }
   ],
   "source": [
    "lr_scoring"
   ]
  },
  {
   "cell_type": "markdown",
   "metadata": {},
   "source": [
    "### iC4H10"
   ]
  },
  {
   "cell_type": "code",
   "execution_count": 908,
   "metadata": {},
   "outputs": [],
   "source": [
    "linear_regressor = linear_model.LinearRegression()\n",
    "linear_regressor.fit(X_train_iC4H10, y_train_iC4H10)\n",
    "predictions = linear_regressor.predict(X_test_iC4H10)"
   ]
  },
  {
   "cell_type": "code",
   "execution_count": 909,
   "metadata": {},
   "outputs": [
    {
     "data": {
      "text/plain": [
       "0.9355681348132701"
      ]
     },
     "execution_count": 909,
     "metadata": {},
     "output_type": "execute_result"
    }
   ],
   "source": [
    "metrics.mean_absolute_error(y_test_iC4H10, predictions)"
   ]
  },
  {
   "cell_type": "code",
   "execution_count": 910,
   "metadata": {},
   "outputs": [
    {
     "name": "stdout",
     "output_type": "stream",
     "text": [
      "LR (KFold) mean:0.5805123317424916, max:1.9141828427200223, min:0.15778951703877667, std:0.6722042549435101\n"
     ]
    }
   ],
   "source": [
    "lr_scoring = cross_val_score(linear_regressor, X_train_iC4H10, y_train_iC4H10, scoring = scorer, cv = cv_strategy_KFold)\n",
    "print ('LR (KFold) mean:{}, max:{}, min:{}, std:{}'.format(lr_scoring .mean(), lr_scoring .max(), \n",
    "                                                     lr_scoring .min(), lr_scoring .std()))"
   ]
  },
  {
   "cell_type": "code",
   "execution_count": 911,
   "metadata": {},
   "outputs": [
    {
     "data": {
      "text/plain": [
       "array([0.15778952, 1.91418284, 0.23917287, 0.18804719, 0.40336924])"
      ]
     },
     "execution_count": 911,
     "metadata": {},
     "output_type": "execute_result"
    }
   ],
   "source": [
    "lr_scoring"
   ]
  },
  {
   "cell_type": "code",
   "execution_count": 912,
   "metadata": {},
   "outputs": [
    {
     "name": "stdout",
     "output_type": "stream",
     "text": [
      "LR (TMS) mean:3.5217852236858618, max:16.419411166476223, min:0.15023770327630406, std:6.449399626778427\n"
     ]
    }
   ],
   "source": [
    "lr_scoring = cross_val_score(linear_regressor, X_train_iC4H10, y_train_iC4H10, scoring = scorer, cv = cv_strategy_TMS)\n",
    "print ('LR (TMS) mean:{}, max:{}, min:{}, std:{}'.format(lr_scoring .mean(), lr_scoring .max(), \n",
    "                                                     lr_scoring .min(), lr_scoring .std()))"
   ]
  },
  {
   "cell_type": "code",
   "execution_count": 913,
   "metadata": {},
   "outputs": [
    {
     "data": {
      "text/plain": [
       "array([16.41941117,  0.32472075,  0.1502377 ,  0.29301295,  0.42154355])"
      ]
     },
     "execution_count": 913,
     "metadata": {},
     "output_type": "execute_result"
    }
   ],
   "source": [
    "lr_scoring"
   ]
  },
  {
   "cell_type": "markdown",
   "metadata": {},
   "source": [
    "### nC4H10"
   ]
  },
  {
   "cell_type": "code",
   "execution_count": 914,
   "metadata": {},
   "outputs": [],
   "source": [
    "linear_regressor = linear_model.LinearRegression()\n",
    "linear_regressor.fit(X_train_nC4H10, y_train_nC4H10)\n",
    "predictions = linear_regressor.predict(X_test_nC4H10)"
   ]
  },
  {
   "cell_type": "code",
   "execution_count": 915,
   "metadata": {},
   "outputs": [
    {
     "data": {
      "text/plain": [
       "1.2698502503165572"
      ]
     },
     "execution_count": 915,
     "metadata": {},
     "output_type": "execute_result"
    }
   ],
   "source": [
    "metrics.mean_absolute_error(y_test_nC4H10, predictions)"
   ]
  },
  {
   "cell_type": "code",
   "execution_count": 916,
   "metadata": {},
   "outputs": [
    {
     "name": "stdout",
     "output_type": "stream",
     "text": [
      "LR (KFold) mean:0.8700982990185112, max:3.1452781909067165, min:0.23517837521970472, std:1.13856282515911\n"
     ]
    }
   ],
   "source": [
    "lr_scoring = cross_val_score(linear_regressor, X_train_nC4H10, y_train_nC4H10, scoring = scorer, cv = cv_strategy_KFold)\n",
    "print ('LR (KFold) mean:{}, max:{}, min:{}, std:{}'.format(lr_scoring .mean(), lr_scoring .max(), \n",
    "                                                     lr_scoring .min(), lr_scoring .std()))"
   ]
  },
  {
   "cell_type": "code",
   "execution_count": 917,
   "metadata": {},
   "outputs": [
    {
     "data": {
      "text/plain": [
       "array([0.26934989, 3.14527819, 0.32949914, 0.23517838, 0.3711859 ])"
      ]
     },
     "execution_count": 917,
     "metadata": {},
     "output_type": "execute_result"
    }
   ],
   "source": [
    "lr_scoring"
   ]
  },
  {
   "cell_type": "code",
   "execution_count": 918,
   "metadata": {},
   "outputs": [
    {
     "name": "stdout",
     "output_type": "stream",
     "text": [
      "LR (TMS) mean:3.039421993538384, max:13.739212828038026, min:0.21903407681325818, std:5.350528432793523\n"
     ]
    }
   ],
   "source": [
    "lr_scoring = cross_val_score(linear_regressor, X_train_nC4H10, y_train_nC4H10, scoring = scorer, cv = cv_strategy_TMS)\n",
    "print ('LR (TMS) mean:{}, max:{}, min:{}, std:{}'.format(lr_scoring .mean(), lr_scoring .max(), \n",
    "                                                     lr_scoring .min(), lr_scoring .std()))"
   ]
  },
  {
   "cell_type": "code",
   "execution_count": 919,
   "metadata": {},
   "outputs": [
    {
     "data": {
      "text/plain": [
       "array([13.73921283,  0.47290983,  0.37131731,  0.21903408,  0.39463592])"
      ]
     },
     "execution_count": 919,
     "metadata": {},
     "output_type": "execute_result"
    }
   ],
   "source": [
    "lr_scoring"
   ]
  },
  {
   "cell_type": "markdown",
   "metadata": {},
   "source": [
    "# lasso_regressor"
   ]
  },
  {
   "cell_type": "markdown",
   "metadata": {},
   "source": [
    "### C2H6"
   ]
  },
  {
   "cell_type": "code",
   "execution_count": 920,
   "metadata": {},
   "outputs": [],
   "source": [
    "lasso_regressor = linear_model.Lasso(random_state=0)\n",
    "lasso_regressor.fit(X_train_C2H6, y_train_C2H6)\n",
    "predictions = lasso_regressor.predict(X_test_C2H6)"
   ]
  },
  {
   "cell_type": "code",
   "execution_count": 921,
   "metadata": {},
   "outputs": [
    {
     "data": {
      "text/plain": [
       "2.160635055064188"
      ]
     },
     "execution_count": 921,
     "metadata": {},
     "output_type": "execute_result"
    }
   ],
   "source": [
    "metrics.mean_absolute_error(y_test_C2H6, predictions)"
   ]
  },
  {
   "cell_type": "code",
   "execution_count": 922,
   "metadata": {},
   "outputs": [
    {
     "name": "stdout",
     "output_type": "stream",
     "text": [
      "LR (TMS)) mean:0.8166752692831993, max:1.3573229747620663, min:0.3225992593174646, std:0.40439029951170297\n"
     ]
    }
   ],
   "source": [
    "ls_scoring = cross_val_score(lasso_regressor, X_train_C2H6, y_train_C2H6, scoring = scorer, cv = cv_strategy_TMS)\n",
    "print ('LR (TMS)) mean:{}, max:{}, min:{}, std:{}'.format(ls_scoring .mean(), ls_scoring .max(), \n",
    "                                                     ls_scoring .min(), ls_scoring .std()))"
   ]
  },
  {
   "cell_type": "code",
   "execution_count": 923,
   "metadata": {},
   "outputs": [
    {
     "data": {
      "text/plain": [
       "array([1.35732297, 1.22299428, 0.6726811 , 0.50777873, 0.32259926])"
      ]
     },
     "execution_count": 923,
     "metadata": {},
     "output_type": "execute_result"
    }
   ],
   "source": [
    "ls_scoring"
   ]
  },
  {
   "cell_type": "code",
   "execution_count": 924,
   "metadata": {},
   "outputs": [
    {
     "data": {
      "text/plain": [
       "dict_keys(['alpha', 'copy_X', 'fit_intercept', 'max_iter', 'normalize', 'positive', 'precompute', 'random_state', 'selection', 'tol', 'warm_start'])"
      ]
     },
     "execution_count": 924,
     "metadata": {},
     "output_type": "execute_result"
    }
   ],
   "source": [
    "lasso_regressor.get_params().keys()"
   ]
  },
  {
   "cell_type": "code",
   "execution_count": 925,
   "metadata": {},
   "outputs": [],
   "source": [
    "parameters_grid = {\n",
    "    'alpha' : [0.5, 1, 1.5, 2],\n",
    "    'tol' : [0.00001, 0.0001, 0.001],\n",
    "    'max_iter': [500, 1000, 2000],\n",
    "}"
   ]
  },
  {
   "cell_type": "code",
   "execution_count": 926,
   "metadata": {},
   "outputs": [],
   "source": [
    "grid_cv = GridSearchCV(lasso_regressor, parameters_grid, scoring = scorerCV, cv = cv_strategy_KFold)"
   ]
  },
  {
   "cell_type": "code",
   "execution_count": 927,
   "metadata": {},
   "outputs": [
    {
     "name": "stdout",
     "output_type": "stream",
     "text": [
      "Wall time: 750 ms\n"
     ]
    },
    {
     "data": {
      "text/plain": [
       "GridSearchCV(cv=KFold(n_splits=5, random_state=0, shuffle=False),\n",
       "             error_score='raise-deprecating',\n",
       "             estimator=Lasso(alpha=1.0, copy_X=True, fit_intercept=True,\n",
       "                             max_iter=1000, normalize=False, positive=False,\n",
       "                             precompute=False, random_state=0,\n",
       "                             selection='cyclic', tol=0.0001, warm_start=False),\n",
       "             iid='warn', n_jobs=None,\n",
       "             param_grid={'alpha': [0.5, 1, 1.5, 2],\n",
       "                         'max_iter': [500, 1000, 2000],\n",
       "                         'tol': [1e-05, 0.0001, 0.001]},\n",
       "             pre_dispatch='2*n_jobs', refit=True, return_train_score=False,\n",
       "             scoring=make_scorer(mean_absolute_error, greater_is_better=False),\n",
       "             verbose=0)"
      ]
     },
     "execution_count": 927,
     "metadata": {},
     "output_type": "execute_result"
    }
   ],
   "source": [
    "%%time\n",
    "grid_cv.fit(X_train_C2H6, y_train_C2H6)"
   ]
  },
  {
   "cell_type": "code",
   "execution_count": 928,
   "metadata": {},
   "outputs": [
    {
     "data": {
      "text/plain": [
       "Lasso(alpha=0.5, copy_X=True, fit_intercept=True, max_iter=500, normalize=False,\n",
       "      positive=False, precompute=False, random_state=0, selection='cyclic',\n",
       "      tol=1e-05, warm_start=False)"
      ]
     },
     "execution_count": 928,
     "metadata": {},
     "output_type": "execute_result"
    }
   ],
   "source": [
    "grid_cv.best_estimator_"
   ]
  },
  {
   "cell_type": "code",
   "execution_count": 929,
   "metadata": {},
   "outputs": [
    {
     "name": "stdout",
     "output_type": "stream",
     "text": [
      "-0.7824760941679109\n",
      "{'alpha': 0.5, 'max_iter': 500, 'tol': 1e-05}\n"
     ]
    }
   ],
   "source": [
    "print(grid_cv.best_score_)\n",
    "print(grid_cv.best_params_)"
   ]
  },
  {
   "cell_type": "code",
   "execution_count": 930,
   "metadata": {},
   "outputs": [
    {
     "data": {
      "text/plain": [
       "2.160635055064188"
      ]
     },
     "execution_count": 930,
     "metadata": {},
     "output_type": "execute_result"
    }
   ],
   "source": [
    "predictions = grid_cv.predict(X_test_C2H6)\n",
    "metrics.mean_absolute_error(y_test_C2H6, predictions)"
   ]
  },
  {
   "cell_type": "code",
   "execution_count": 931,
   "metadata": {},
   "outputs": [],
   "source": [
    "grid_cv = GridSearchCV(lasso_regressor, parameters_grid, scoring = scorerCV, cv = cv_strategy_TMS)"
   ]
  },
  {
   "cell_type": "code",
   "execution_count": 932,
   "metadata": {},
   "outputs": [
    {
     "name": "stdout",
     "output_type": "stream",
     "text": [
      "Wall time: 758 ms\n"
     ]
    },
    {
     "data": {
      "text/plain": [
       "GridSearchCV(cv=TimeSeriesSplit(max_train_size=None, n_splits=5),\n",
       "             error_score='raise-deprecating',\n",
       "             estimator=Lasso(alpha=1.0, copy_X=True, fit_intercept=True,\n",
       "                             max_iter=1000, normalize=False, positive=False,\n",
       "                             precompute=False, random_state=0,\n",
       "                             selection='cyclic', tol=0.0001, warm_start=False),\n",
       "             iid='warn', n_jobs=None,\n",
       "             param_grid={'alpha': [0.5, 1, 1.5, 2],\n",
       "                         'max_iter': [500, 1000, 2000],\n",
       "                         'tol': [1e-05, 0.0001, 0.001]},\n",
       "             pre_dispatch='2*n_jobs', refit=True, return_train_score=False,\n",
       "             scoring=make_scorer(mean_absolute_error, greater_is_better=False),\n",
       "             verbose=0)"
      ]
     },
     "execution_count": 932,
     "metadata": {},
     "output_type": "execute_result"
    }
   ],
   "source": [
    "%%time\n",
    "grid_cv.fit(X_train_C2H6, y_train_C2H6)"
   ]
  },
  {
   "cell_type": "code",
   "execution_count": 933,
   "metadata": {},
   "outputs": [
    {
     "data": {
      "text/plain": [
       "Lasso(alpha=0.5, copy_X=True, fit_intercept=True, max_iter=500, normalize=False,\n",
       "      positive=False, precompute=False, random_state=0, selection='cyclic',\n",
       "      tol=1e-05, warm_start=False)"
      ]
     },
     "execution_count": 933,
     "metadata": {},
     "output_type": "execute_result"
    }
   ],
   "source": [
    "grid_cv.best_estimator_"
   ]
  },
  {
   "cell_type": "code",
   "execution_count": 934,
   "metadata": {},
   "outputs": [
    {
     "name": "stdout",
     "output_type": "stream",
     "text": [
      "-0.8166752692831994\n",
      "{'alpha': 0.5, 'max_iter': 500, 'tol': 1e-05}\n"
     ]
    }
   ],
   "source": [
    "print(grid_cv.best_score_)\n",
    "print(grid_cv.best_params_)"
   ]
  },
  {
   "cell_type": "code",
   "execution_count": 935,
   "metadata": {},
   "outputs": [
    {
     "data": {
      "text/plain": [
       "2.160635055064188"
      ]
     },
     "execution_count": 935,
     "metadata": {},
     "output_type": "execute_result"
    }
   ],
   "source": [
    "predictions = grid_cv.predict(X_test_C2H6)\n",
    "metrics.mean_absolute_error(y_test_C2H6, predictions)"
   ]
  },
  {
   "cell_type": "markdown",
   "metadata": {},
   "source": [
    "### C3H8"
   ]
  },
  {
   "cell_type": "code",
   "execution_count": 936,
   "metadata": {},
   "outputs": [],
   "source": [
    "lasso_regressor = linear_model.Lasso(random_state=0)\n",
    "lasso_regressor.fit(X_train_C3H8, y_train_C3H8)\n",
    "predictions = lasso_regressor.predict(X_test_C3H8)"
   ]
  },
  {
   "cell_type": "code",
   "execution_count": 937,
   "metadata": {},
   "outputs": [
    {
     "data": {
      "text/plain": [
       "1.6651071559158253"
      ]
     },
     "execution_count": 937,
     "metadata": {},
     "output_type": "execute_result"
    }
   ],
   "source": [
    "metrics.mean_absolute_error(y_test_C3H8, predictions)"
   ]
  },
  {
   "cell_type": "code",
   "execution_count": 938,
   "metadata": {},
   "outputs": [
    {
     "name": "stdout",
     "output_type": "stream",
     "text": [
      "LR (KFold)) mean:2.8340178193781633, max:10.194233284580378, min:0.32335360285457354, std:3.700276798721592\n"
     ]
    }
   ],
   "source": [
    "ls_scoring = cross_val_score(lasso_regressor, X_train_C3H8, y_train_C3H8, scoring = scorer, cv = cv_strategy_KFold)\n",
    "print ('LR (KFold)) mean:{}, max:{}, min:{}, std:{}'.format(ls_scoring .mean(), ls_scoring .max(), \n",
    "                                                     ls_scoring .min(), ls_scoring .std()))"
   ]
  },
  {
   "cell_type": "code",
   "execution_count": 939,
   "metadata": {},
   "outputs": [
    {
     "data": {
      "text/plain": [
       "array([ 1.1708592 , 10.19423328,  1.50670667,  0.3233536 ,  0.97493633])"
      ]
     },
     "execution_count": 939,
     "metadata": {},
     "output_type": "execute_result"
    }
   ],
   "source": [
    "ls_scoring"
   ]
  },
  {
   "cell_type": "code",
   "execution_count": 940,
   "metadata": {},
   "outputs": [
    {
     "name": "stdout",
     "output_type": "stream",
     "text": [
      "LR (TMS)) mean:2.6085429971097116, max:7.7018155776801835, min:0.4550719728421791, std:2.770795794916527\n"
     ]
    }
   ],
   "source": [
    "ls_scoring = cross_val_score(lasso_regressor, X_train_C3H8, y_train_C3H8, scoring = scorer, cv = cv_strategy_TMS)\n",
    "print ('LR (TMS)) mean:{}, max:{}, min:{}, std:{}'.format(ls_scoring .mean(), ls_scoring .max(), \n",
    "                                                     ls_scoring .min(), ls_scoring .std()))"
   ]
  },
  {
   "cell_type": "code",
   "execution_count": 941,
   "metadata": {},
   "outputs": [
    {
     "data": {
      "text/plain": [
       "array([7.70181558, 3.43954826, 0.45507197, 0.66140679, 0.78487239])"
      ]
     },
     "execution_count": 941,
     "metadata": {},
     "output_type": "execute_result"
    }
   ],
   "source": [
    "ls_scoring"
   ]
  },
  {
   "cell_type": "code",
   "execution_count": 942,
   "metadata": {},
   "outputs": [
    {
     "data": {
      "text/plain": [
       "dict_keys(['alpha', 'copy_X', 'fit_intercept', 'max_iter', 'normalize', 'positive', 'precompute', 'random_state', 'selection', 'tol', 'warm_start'])"
      ]
     },
     "execution_count": 942,
     "metadata": {},
     "output_type": "execute_result"
    }
   ],
   "source": [
    "lasso_regressor.get_params().keys()"
   ]
  },
  {
   "cell_type": "code",
   "execution_count": 943,
   "metadata": {},
   "outputs": [],
   "source": [
    "parameters_grid = {\n",
    "    'alpha' : [0.5, 1, 1.5, 2],\n",
    "    'tol' : [0.00001, 0.0001, 0.001],\n",
    "    'max_iter': [500, 1000, 2000],\n",
    "}"
   ]
  },
  {
   "cell_type": "code",
   "execution_count": 944,
   "metadata": {},
   "outputs": [],
   "source": [
    "grid_cv = GridSearchCV(lasso_regressor, parameters_grid, scoring = scorerCV, cv = cv_strategy_KFold)"
   ]
  },
  {
   "cell_type": "code",
   "execution_count": 945,
   "metadata": {},
   "outputs": [
    {
     "name": "stdout",
     "output_type": "stream",
     "text": [
      "Wall time: 1.15 s\n"
     ]
    },
    {
     "data": {
      "text/plain": [
       "GridSearchCV(cv=KFold(n_splits=5, random_state=0, shuffle=False),\n",
       "             error_score='raise-deprecating',\n",
       "             estimator=Lasso(alpha=1.0, copy_X=True, fit_intercept=True,\n",
       "                             max_iter=1000, normalize=False, positive=False,\n",
       "                             precompute=False, random_state=0,\n",
       "                             selection='cyclic', tol=0.0001, warm_start=False),\n",
       "             iid='warn', n_jobs=None,\n",
       "             param_grid={'alpha': [0.5, 1, 1.5, 2],\n",
       "                         'max_iter': [500, 1000, 2000],\n",
       "                         'tol': [1e-05, 0.0001, 0.001]},\n",
       "             pre_dispatch='2*n_jobs', refit=True, return_train_score=False,\n",
       "             scoring=make_scorer(mean_absolute_error, greater_is_better=False),\n",
       "             verbose=0)"
      ]
     },
     "execution_count": 945,
     "metadata": {},
     "output_type": "execute_result"
    }
   ],
   "source": [
    "%%time\n",
    "grid_cv.fit(X_train_C3H8, y_train_C3H8)"
   ]
  },
  {
   "cell_type": "code",
   "execution_count": 946,
   "metadata": {},
   "outputs": [
    {
     "data": {
      "text/plain": [
       "Lasso(alpha=0.5, copy_X=True, fit_intercept=True, max_iter=500, normalize=False,\n",
       "      positive=False, precompute=False, random_state=0, selection='cyclic',\n",
       "      tol=0.001, warm_start=False)"
      ]
     },
     "execution_count": 946,
     "metadata": {},
     "output_type": "execute_result"
    }
   ],
   "source": [
    "grid_cv.best_estimator_"
   ]
  },
  {
   "cell_type": "code",
   "execution_count": 947,
   "metadata": {},
   "outputs": [
    {
     "name": "stdout",
     "output_type": "stream",
     "text": [
      "-2.231794099728587\n",
      "{'alpha': 0.5, 'max_iter': 500, 'tol': 0.001}\n"
     ]
    }
   ],
   "source": [
    "print(grid_cv.best_score_)\n",
    "print(grid_cv.best_params_)"
   ]
  },
  {
   "cell_type": "code",
   "execution_count": 948,
   "metadata": {},
   "outputs": [
    {
     "data": {
      "text/plain": [
       "1.713296449045317"
      ]
     },
     "execution_count": 948,
     "metadata": {},
     "output_type": "execute_result"
    }
   ],
   "source": [
    "predictions = grid_cv.predict(X_test_C3H8)\n",
    "metrics.mean_absolute_error(y_test_C3H8, predictions)"
   ]
  },
  {
   "cell_type": "code",
   "execution_count": 949,
   "metadata": {},
   "outputs": [],
   "source": [
    "grid_cv = GridSearchCV(lasso_regressor, parameters_grid, scoring = scorerCV, cv = cv_strategy_TMS)"
   ]
  },
  {
   "cell_type": "code",
   "execution_count": 950,
   "metadata": {},
   "outputs": [
    {
     "name": "stdout",
     "output_type": "stream",
     "text": [
      "Wall time: 1.13 s\n"
     ]
    },
    {
     "data": {
      "text/plain": [
       "GridSearchCV(cv=TimeSeriesSplit(max_train_size=None, n_splits=5),\n",
       "             error_score='raise-deprecating',\n",
       "             estimator=Lasso(alpha=1.0, copy_X=True, fit_intercept=True,\n",
       "                             max_iter=1000, normalize=False, positive=False,\n",
       "                             precompute=False, random_state=0,\n",
       "                             selection='cyclic', tol=0.0001, warm_start=False),\n",
       "             iid='warn', n_jobs=None,\n",
       "             param_grid={'alpha': [0.5, 1, 1.5, 2],\n",
       "                         'max_iter': [500, 1000, 2000],\n",
       "                         'tol': [1e-05, 0.0001, 0.001]},\n",
       "             pre_dispatch='2*n_jobs', refit=True, return_train_score=False,\n",
       "             scoring=make_scorer(mean_absolute_error, greater_is_better=False),\n",
       "             verbose=0)"
      ]
     },
     "execution_count": 950,
     "metadata": {},
     "output_type": "execute_result"
    }
   ],
   "source": [
    "%%time\n",
    "grid_cv.fit(X_train_C3H8, y_train_C3H8)"
   ]
  },
  {
   "cell_type": "code",
   "execution_count": 951,
   "metadata": {},
   "outputs": [
    {
     "data": {
      "text/plain": [
       "Lasso(alpha=0.5, copy_X=True, fit_intercept=True, max_iter=500, normalize=False,\n",
       "      positive=False, precompute=False, random_state=0, selection='cyclic',\n",
       "      tol=0.001, warm_start=False)"
      ]
     },
     "execution_count": 951,
     "metadata": {},
     "output_type": "execute_result"
    }
   ],
   "source": [
    "grid_cv.best_estimator_"
   ]
  },
  {
   "cell_type": "code",
   "execution_count": 952,
   "metadata": {},
   "outputs": [
    {
     "name": "stdout",
     "output_type": "stream",
     "text": [
      "-2.604096799145661\n",
      "{'alpha': 0.5, 'max_iter': 500, 'tol': 0.001}\n"
     ]
    }
   ],
   "source": [
    "print(grid_cv.best_score_)\n",
    "print(grid_cv.best_params_)"
   ]
  },
  {
   "cell_type": "code",
   "execution_count": 953,
   "metadata": {},
   "outputs": [
    {
     "data": {
      "text/plain": [
       "1.713296449045317"
      ]
     },
     "execution_count": 953,
     "metadata": {},
     "output_type": "execute_result"
    }
   ],
   "source": [
    "predictions = grid_cv.predict(X_test_C3H8)\n",
    "metrics.mean_absolute_error(y_test_C3H8, predictions)"
   ]
  },
  {
   "cell_type": "markdown",
   "metadata": {},
   "source": [
    "### iC4H10"
   ]
  },
  {
   "cell_type": "code",
   "execution_count": 954,
   "metadata": {},
   "outputs": [],
   "source": [
    "lasso_regressor = linear_model.Lasso(random_state=0)\n",
    "lasso_regressor.fit(X_train_iC4H10, y_train_iC4H10)\n",
    "predictions = lasso_regressor.predict(X_test_iC4H10)"
   ]
  },
  {
   "cell_type": "code",
   "execution_count": 955,
   "metadata": {},
   "outputs": [
    {
     "data": {
      "text/plain": [
       "0.9333868510046126"
      ]
     },
     "execution_count": 955,
     "metadata": {},
     "output_type": "execute_result"
    }
   ],
   "source": [
    "metrics.mean_absolute_error(y_test_iC4H10, predictions)"
   ]
  },
  {
   "cell_type": "code",
   "execution_count": 956,
   "metadata": {},
   "outputs": [
    {
     "name": "stdout",
     "output_type": "stream",
     "text": [
      "LR (KFold)) mean:1.2810734123288263, max:4.572704732033658, min:0.3129721481235549, std:1.6487256615879988\n"
     ]
    }
   ],
   "source": [
    "ls_scoring = cross_val_score(lasso_regressor, X_train_iC4H10, y_train_iC4H10, scoring = scorer, cv = cv_strategy_KFold)\n",
    "print ('LR (KFold)) mean:{}, max:{}, min:{}, std:{}'.format(ls_scoring .mean(), ls_scoring .max(), \n",
    "                                                     ls_scoring .min(), ls_scoring .std()))"
   ]
  },
  {
   "cell_type": "code",
   "execution_count": 957,
   "metadata": {},
   "outputs": [
    {
     "data": {
      "text/plain": [
       "array([0.57105206, 4.57270473, 0.55674856, 0.31297215, 0.39188956])"
      ]
     },
     "execution_count": 957,
     "metadata": {},
     "output_type": "execute_result"
    }
   ],
   "source": [
    "ls_scoring"
   ]
  },
  {
   "cell_type": "code",
   "execution_count": 958,
   "metadata": {},
   "outputs": [
    {
     "name": "stdout",
     "output_type": "stream",
     "text": [
      "LR (TMS)) mean:1.1954363490239308, max:2.868031934677872, min:0.23358410938260632, std:1.0972631424107355\n"
     ]
    }
   ],
   "source": [
    "ls_scoring = cross_val_score(lasso_regressor, X_train_iC4H10, y_train_iC4H10, scoring = scorer, cv = cv_strategy_TMS)\n",
    "print ('LR (TMS)) mean:{}, max:{}, min:{}, std:{}'.format(ls_scoring .mean(), ls_scoring .max(), \n",
    "                                                     ls_scoring .min(), ls_scoring .std()))"
   ]
  },
  {
   "cell_type": "code",
   "execution_count": 959,
   "metadata": {},
   "outputs": [
    {
     "data": {
      "text/plain": [
       "array([2.86803193, 2.14763455, 0.30140522, 0.23358411, 0.42652594])"
      ]
     },
     "execution_count": 959,
     "metadata": {},
     "output_type": "execute_result"
    }
   ],
   "source": [
    "ls_scoring"
   ]
  },
  {
   "cell_type": "code",
   "execution_count": 960,
   "metadata": {},
   "outputs": [
    {
     "data": {
      "text/plain": [
       "dict_keys(['alpha', 'copy_X', 'fit_intercept', 'max_iter', 'normalize', 'positive', 'precompute', 'random_state', 'selection', 'tol', 'warm_start'])"
      ]
     },
     "execution_count": 960,
     "metadata": {},
     "output_type": "execute_result"
    }
   ],
   "source": [
    "lasso_regressor.get_params().keys()"
   ]
  },
  {
   "cell_type": "code",
   "execution_count": 961,
   "metadata": {},
   "outputs": [],
   "source": [
    "parameters_grid = {\n",
    "    'alpha' : [0.5, 1, 1.5, 2],\n",
    "    'tol' : [0.00001, 0.0001, 0.001],\n",
    "    'max_iter': [500, 1000, 2000],\n",
    "}"
   ]
  },
  {
   "cell_type": "code",
   "execution_count": 962,
   "metadata": {},
   "outputs": [],
   "source": [
    "grid_cv = GridSearchCV(lasso_regressor, parameters_grid, scoring = scorerCV, cv = cv_strategy_KFold)"
   ]
  },
  {
   "cell_type": "code",
   "execution_count": 963,
   "metadata": {},
   "outputs": [
    {
     "name": "stdout",
     "output_type": "stream",
     "text": [
      "Wall time: 1.18 s\n"
     ]
    },
    {
     "data": {
      "text/plain": [
       "GridSearchCV(cv=KFold(n_splits=5, random_state=0, shuffle=False),\n",
       "             error_score='raise-deprecating',\n",
       "             estimator=Lasso(alpha=1.0, copy_X=True, fit_intercept=True,\n",
       "                             max_iter=1000, normalize=False, positive=False,\n",
       "                             precompute=False, random_state=0,\n",
       "                             selection='cyclic', tol=0.0001, warm_start=False),\n",
       "             iid='warn', n_jobs=None,\n",
       "             param_grid={'alpha': [0.5, 1, 1.5, 2],\n",
       "                         'max_iter': [500, 1000, 2000],\n",
       "                         'tol': [1e-05, 0.0001, 0.001]},\n",
       "             pre_dispatch='2*n_jobs', refit=True, return_train_score=False,\n",
       "             scoring=make_scorer(mean_absolute_error, greater_is_better=False),\n",
       "             verbose=0)"
      ]
     },
     "execution_count": 963,
     "metadata": {},
     "output_type": "execute_result"
    }
   ],
   "source": [
    "%%time\n",
    "grid_cv.fit(X_train_iC4H10, y_train_iC4H10)"
   ]
  },
  {
   "cell_type": "code",
   "execution_count": 964,
   "metadata": {},
   "outputs": [
    {
     "data": {
      "text/plain": [
       "Lasso(alpha=0.5, copy_X=True, fit_intercept=True, max_iter=500, normalize=False,\n",
       "      positive=False, precompute=False, random_state=0, selection='cyclic',\n",
       "      tol=1e-05, warm_start=False)"
      ]
     },
     "execution_count": 964,
     "metadata": {},
     "output_type": "execute_result"
    }
   ],
   "source": [
    "grid_cv.best_estimator_"
   ]
  },
  {
   "cell_type": "code",
   "execution_count": 965,
   "metadata": {},
   "outputs": [
    {
     "name": "stdout",
     "output_type": "stream",
     "text": [
      "-1.1649954424692102\n",
      "{'alpha': 0.5, 'max_iter': 500, 'tol': 1e-05}\n"
     ]
    }
   ],
   "source": [
    "print(grid_cv.best_score_)\n",
    "print(grid_cv.best_params_)"
   ]
  },
  {
   "cell_type": "code",
   "execution_count": 966,
   "metadata": {},
   "outputs": [
    {
     "data": {
      "text/plain": [
       "0.8342777944462326"
      ]
     },
     "execution_count": 966,
     "metadata": {},
     "output_type": "execute_result"
    }
   ],
   "source": [
    "predictions = grid_cv.predict(X_test_iC4H10)\n",
    "metrics.mean_absolute_error(y_test_iC4H10, predictions)"
   ]
  },
  {
   "cell_type": "code",
   "execution_count": 967,
   "metadata": {},
   "outputs": [],
   "source": [
    "grid_cv = GridSearchCV(lasso_regressor, parameters_grid, scoring = scorerCV, cv = cv_strategy_TMS)"
   ]
  },
  {
   "cell_type": "code",
   "execution_count": 968,
   "metadata": {},
   "outputs": [
    {
     "name": "stdout",
     "output_type": "stream",
     "text": [
      "Wall time: 1.56 s\n"
     ]
    },
    {
     "data": {
      "text/plain": [
       "GridSearchCV(cv=TimeSeriesSplit(max_train_size=None, n_splits=5),\n",
       "             error_score='raise-deprecating',\n",
       "             estimator=Lasso(alpha=1.0, copy_X=True, fit_intercept=True,\n",
       "                             max_iter=1000, normalize=False, positive=False,\n",
       "                             precompute=False, random_state=0,\n",
       "                             selection='cyclic', tol=0.0001, warm_start=False),\n",
       "             iid='warn', n_jobs=None,\n",
       "             param_grid={'alpha': [0.5, 1, 1.5, 2],\n",
       "                         'max_iter': [500, 1000, 2000],\n",
       "                         'tol': [1e-05, 0.0001, 0.001]},\n",
       "             pre_dispatch='2*n_jobs', refit=True, return_train_score=False,\n",
       "             scoring=make_scorer(mean_absolute_error, greater_is_better=False),\n",
       "             verbose=0)"
      ]
     },
     "execution_count": 968,
     "metadata": {},
     "output_type": "execute_result"
    }
   ],
   "source": [
    "%%time\n",
    "grid_cv.fit(X_train_iC4H10, y_train_iC4H10)"
   ]
  },
  {
   "cell_type": "code",
   "execution_count": 969,
   "metadata": {},
   "outputs": [
    {
     "data": {
      "text/plain": [
       "Lasso(alpha=0.5, copy_X=True, fit_intercept=True, max_iter=500, normalize=False,\n",
       "      positive=False, precompute=False, random_state=0, selection='cyclic',\n",
       "      tol=0.001, warm_start=False)"
      ]
     },
     "execution_count": 969,
     "metadata": {},
     "output_type": "execute_result"
    }
   ],
   "source": [
    "grid_cv.best_estimator_"
   ]
  },
  {
   "cell_type": "code",
   "execution_count": 970,
   "metadata": {},
   "outputs": [
    {
     "name": "stdout",
     "output_type": "stream",
     "text": [
      "-1.0925199731010429\n",
      "{'alpha': 0.5, 'max_iter': 500, 'tol': 0.001}\n"
     ]
    }
   ],
   "source": [
    "print(grid_cv.best_score_)\n",
    "print(grid_cv.best_params_)"
   ]
  },
  {
   "cell_type": "code",
   "execution_count": 971,
   "metadata": {},
   "outputs": [
    {
     "data": {
      "text/plain": [
       "0.8342777944462326"
      ]
     },
     "execution_count": 971,
     "metadata": {},
     "output_type": "execute_result"
    }
   ],
   "source": [
    "predictions = grid_cv.predict(X_test_iC4H10)\n",
    "metrics.mean_absolute_error(y_test_iC4H10, predictions)"
   ]
  },
  {
   "cell_type": "markdown",
   "metadata": {},
   "source": [
    "### nC4H10"
   ]
  },
  {
   "cell_type": "code",
   "execution_count": 972,
   "metadata": {},
   "outputs": [],
   "source": [
    "lasso_regressor = linear_model.Lasso(random_state=0)\n",
    "lasso_regressor.fit(X_train_nC4H10, y_train_nC4H10)\n",
    "predictions = lasso_regressor.predict(X_test_nC4H10)"
   ]
  },
  {
   "cell_type": "code",
   "execution_count": 973,
   "metadata": {},
   "outputs": [
    {
     "data": {
      "text/plain": [
       "1.3133927241337715"
      ]
     },
     "execution_count": 973,
     "metadata": {},
     "output_type": "execute_result"
    }
   ],
   "source": [
    "metrics.mean_absolute_error(y_test_nC4H10, predictions)"
   ]
  },
  {
   "cell_type": "code",
   "execution_count": 974,
   "metadata": {},
   "outputs": [
    {
     "name": "stdout",
     "output_type": "stream",
     "text": [
      "LR (KFold)) mean:1.5798065016917804, max:6.395014553392381, min:0.2913427543876322, std:2.408030512879343\n"
     ]
    }
   ],
   "source": [
    "ls_scoring = cross_val_score(lasso_regressor, X_train_nC4H10, y_train_nC4H10, scoring = scorer, cv = cv_strategy_KFold)\n",
    "print ('LR (KFold)) mean:{}, max:{}, min:{}, std:{}'.format(ls_scoring .mean(), ls_scoring .max(), \n",
    "                                                     ls_scoring .min(), ls_scoring .std()))"
   ]
  },
  {
   "cell_type": "code",
   "execution_count": 975,
   "metadata": {},
   "outputs": [
    {
     "data": {
      "text/plain": [
       "array([0.42342055, 6.39501455, 0.38569659, 0.29134275, 0.40355806])"
      ]
     },
     "execution_count": 975,
     "metadata": {},
     "output_type": "execute_result"
    }
   ],
   "source": [
    "ls_scoring"
   ]
  },
  {
   "cell_type": "code",
   "execution_count": 976,
   "metadata": {},
   "outputs": [
    {
     "name": "stdout",
     "output_type": "stream",
     "text": [
      "LR (TMS)) mean:1.524585360110542, max:3.8607101479163926, min:0.2396636221198513, std:1.5213109765038015\n"
     ]
    }
   ],
   "source": [
    "ls_scoring = cross_val_score(lasso_regressor, X_train_nC4H10, y_train_nC4H10, scoring = scorer, cv = cv_strategy_TMS)\n",
    "print ('LR (TMS)) mean:{}, max:{}, min:{}, std:{}'.format(ls_scoring .mean(), ls_scoring .max(), \n",
    "                                                     ls_scoring .min(), ls_scoring .std()))"
   ]
  },
  {
   "cell_type": "code",
   "execution_count": 977,
   "metadata": {},
   "outputs": [
    {
     "data": {
      "text/plain": [
       "array([3.86071015, 2.82382084, 0.23966362, 0.2683134 , 0.43041879])"
      ]
     },
     "execution_count": 977,
     "metadata": {},
     "output_type": "execute_result"
    }
   ],
   "source": [
    "ls_scoring"
   ]
  },
  {
   "cell_type": "code",
   "execution_count": 978,
   "metadata": {},
   "outputs": [
    {
     "data": {
      "text/plain": [
       "dict_keys(['alpha', 'copy_X', 'fit_intercept', 'max_iter', 'normalize', 'positive', 'precompute', 'random_state', 'selection', 'tol', 'warm_start'])"
      ]
     },
     "execution_count": 978,
     "metadata": {},
     "output_type": "execute_result"
    }
   ],
   "source": [
    "lasso_regressor.get_params().keys()"
   ]
  },
  {
   "cell_type": "code",
   "execution_count": 979,
   "metadata": {},
   "outputs": [],
   "source": [
    "parameters_grid = {\n",
    "    'alpha' : [0.5, 1, 1.5, 2],\n",
    "    'tol' : [0.00001, 0.0001, 0.001],\n",
    "    'max_iter': [500, 1000, 2000],\n",
    "}"
   ]
  },
  {
   "cell_type": "code",
   "execution_count": 980,
   "metadata": {},
   "outputs": [],
   "source": [
    "grid_cv = GridSearchCV(lasso_regressor, parameters_grid, scoring = scorerCV, cv = cv_strategy_KFold)"
   ]
  },
  {
   "cell_type": "code",
   "execution_count": 981,
   "metadata": {},
   "outputs": [
    {
     "name": "stdout",
     "output_type": "stream",
     "text": [
      "Wall time: 1.22 s\n"
     ]
    },
    {
     "data": {
      "text/plain": [
       "GridSearchCV(cv=KFold(n_splits=5, random_state=0, shuffle=False),\n",
       "             error_score='raise-deprecating',\n",
       "             estimator=Lasso(alpha=1.0, copy_X=True, fit_intercept=True,\n",
       "                             max_iter=1000, normalize=False, positive=False,\n",
       "                             precompute=False, random_state=0,\n",
       "                             selection='cyclic', tol=0.0001, warm_start=False),\n",
       "             iid='warn', n_jobs=None,\n",
       "             param_grid={'alpha': [0.5, 1, 1.5, 2],\n",
       "                         'max_iter': [500, 1000, 2000],\n",
       "                         'tol': [1e-05, 0.0001, 0.001]},\n",
       "             pre_dispatch='2*n_jobs', refit=True, return_train_score=False,\n",
       "             scoring=make_scorer(mean_absolute_error, greater_is_better=False),\n",
       "             verbose=0)"
      ]
     },
     "execution_count": 981,
     "metadata": {},
     "output_type": "execute_result"
    }
   ],
   "source": [
    "%%time\n",
    "grid_cv.fit(X_train_nC4H10, y_train_nC4H10)"
   ]
  },
  {
   "cell_type": "code",
   "execution_count": 982,
   "metadata": {},
   "outputs": [
    {
     "data": {
      "text/plain": [
       "Lasso(alpha=0.5, copy_X=True, fit_intercept=True, max_iter=500, normalize=False,\n",
       "      positive=False, precompute=False, random_state=0, selection='cyclic',\n",
       "      tol=1e-05, warm_start=False)"
      ]
     },
     "execution_count": 982,
     "metadata": {},
     "output_type": "execute_result"
    }
   ],
   "source": [
    "grid_cv.best_estimator_"
   ]
  },
  {
   "cell_type": "code",
   "execution_count": 983,
   "metadata": {},
   "outputs": [
    {
     "name": "stdout",
     "output_type": "stream",
     "text": [
      "-1.5023987983717684\n",
      "{'alpha': 0.5, 'max_iter': 500, 'tol': 1e-05}\n"
     ]
    }
   ],
   "source": [
    "print(grid_cv.best_score_)\n",
    "print(grid_cv.best_params_)"
   ]
  },
  {
   "cell_type": "code",
   "execution_count": 984,
   "metadata": {},
   "outputs": [
    {
     "data": {
      "text/plain": [
       "1.1919196697303216"
      ]
     },
     "execution_count": 984,
     "metadata": {},
     "output_type": "execute_result"
    }
   ],
   "source": [
    "predictions = grid_cv.predict(X_test_nC4H10)\n",
    "metrics.mean_absolute_error(y_test_nC4H10, predictions)"
   ]
  },
  {
   "cell_type": "code",
   "execution_count": 985,
   "metadata": {},
   "outputs": [],
   "source": [
    "grid_cv = GridSearchCV(lasso_regressor, parameters_grid, scoring = scorerCV, cv = cv_strategy_TMS)"
   ]
  },
  {
   "cell_type": "code",
   "execution_count": 986,
   "metadata": {},
   "outputs": [
    {
     "name": "stdout",
     "output_type": "stream",
     "text": [
      "Wall time: 1.53 s\n"
     ]
    },
    {
     "data": {
      "text/plain": [
       "GridSearchCV(cv=TimeSeriesSplit(max_train_size=None, n_splits=5),\n",
       "             error_score='raise-deprecating',\n",
       "             estimator=Lasso(alpha=1.0, copy_X=True, fit_intercept=True,\n",
       "                             max_iter=1000, normalize=False, positive=False,\n",
       "                             precompute=False, random_state=0,\n",
       "                             selection='cyclic', tol=0.0001, warm_start=False),\n",
       "             iid='warn', n_jobs=None,\n",
       "             param_grid={'alpha': [0.5, 1, 1.5, 2],\n",
       "                         'max_iter': [500, 1000, 2000],\n",
       "                         'tol': [1e-05, 0.0001, 0.001]},\n",
       "             pre_dispatch='2*n_jobs', refit=True, return_train_score=False,\n",
       "             scoring=make_scorer(mean_absolute_error, greater_is_better=False),\n",
       "             verbose=0)"
      ]
     },
     "execution_count": 986,
     "metadata": {},
     "output_type": "execute_result"
    }
   ],
   "source": [
    "%%time\n",
    "grid_cv.fit(X_train_nC4H10, y_train_nC4H10)"
   ]
  },
  {
   "cell_type": "code",
   "execution_count": 987,
   "metadata": {},
   "outputs": [
    {
     "data": {
      "text/plain": [
       "Lasso(alpha=0.5, copy_X=True, fit_intercept=True, max_iter=500, normalize=False,\n",
       "      positive=False, precompute=False, random_state=0, selection='cyclic',\n",
       "      tol=0.001, warm_start=False)"
      ]
     },
     "execution_count": 987,
     "metadata": {},
     "output_type": "execute_result"
    }
   ],
   "source": [
    "grid_cv.best_estimator_"
   ]
  },
  {
   "cell_type": "code",
   "execution_count": 988,
   "metadata": {},
   "outputs": [
    {
     "name": "stdout",
     "output_type": "stream",
     "text": [
      "-1.4391146835173148\n",
      "{'alpha': 0.5, 'max_iter': 500, 'tol': 0.001}\n"
     ]
    }
   ],
   "source": [
    "print(grid_cv.best_score_)\n",
    "print(grid_cv.best_params_)"
   ]
  },
  {
   "cell_type": "code",
   "execution_count": 989,
   "metadata": {},
   "outputs": [
    {
     "data": {
      "text/plain": [
       "1.1919196697303216"
      ]
     },
     "execution_count": 989,
     "metadata": {},
     "output_type": "execute_result"
    }
   ],
   "source": [
    "predictions = grid_cv.predict(X_test_nC4H10)\n",
    "metrics.mean_absolute_error(y_test_nC4H10, predictions)"
   ]
  },
  {
   "cell_type": "markdown",
   "metadata": {},
   "source": [
    "# Ridge regressor"
   ]
  },
  {
   "cell_type": "markdown",
   "metadata": {},
   "source": [
    "### C2H6"
   ]
  },
  {
   "cell_type": "code",
   "execution_count": 990,
   "metadata": {},
   "outputs": [],
   "source": [
    "ridge_regressor = linear_model.Ridge(random_state=0)\n",
    "ridge_regressor.fit(X_train_C2H6, y_train_C2H6)\n",
    "predictions = ridge_regressor.predict(X_test_C2H6)"
   ]
  },
  {
   "cell_type": "code",
   "execution_count": 991,
   "metadata": {},
   "outputs": [
    {
     "data": {
      "text/plain": [
       "3.022289138416155"
      ]
     },
     "execution_count": 991,
     "metadata": {},
     "output_type": "execute_result"
    }
   ],
   "source": [
    "metrics.mean_absolute_error(y_test_C2H6, predictions)"
   ]
  },
  {
   "cell_type": "code",
   "execution_count": 992,
   "metadata": {},
   "outputs": [
    {
     "name": "stdout",
     "output_type": "stream",
     "text": [
      "LR (KFold)) mean:0.8418318014294934, max:1.8512367062935413, min:0.389420206103247, std:0.5272317565638073\n"
     ]
    }
   ],
   "source": [
    "rd_scoring = cross_val_score(ridge_regressor, X_train_C2H6, y_train_C2H6, scoring = scorer, cv = cv_strategy_KFold)\n",
    "print ('LR (KFold)) mean:{}, max:{}, min:{}, std:{}'.format(rd_scoring .mean(), rd_scoring .max(), \n",
    "                                                     rd_scoring .min(), rd_scoring .std()))"
   ]
  },
  {
   "cell_type": "code",
   "execution_count": 993,
   "metadata": {},
   "outputs": [
    {
     "data": {
      "text/plain": [
       "array([0.84927378, 1.85123671, 0.61853415, 0.38942021, 0.50069416])"
      ]
     },
     "execution_count": 993,
     "metadata": {},
     "output_type": "execute_result"
    }
   ],
   "source": [
    "rd_scoring"
   ]
  },
  {
   "cell_type": "code",
   "execution_count": 994,
   "metadata": {},
   "outputs": [
    {
     "name": "stdout",
     "output_type": "stream",
     "text": [
      "LR (KFold)) mean:0.9015442606895228, max:1.641027810838306, min:0.32847798410681817, std:0.5693226304770311\n"
     ]
    }
   ],
   "source": [
    "rd_scoring = cross_val_score(ridge_regressor, X_train_C2H6, y_train_C2H6, scoring = scorer, cv = cv_strategy_TMS)\n",
    "print ('LR (KFold)) mean:{}, max:{}, min:{}, std:{}'.format(rd_scoring .mean(), rd_scoring .max(), \n",
    "                                                     rd_scoring .min(), rd_scoring .std()))"
   ]
  },
  {
   "cell_type": "code",
   "execution_count": 995,
   "metadata": {},
   "outputs": [
    {
     "data": {
      "text/plain": [
       "array([1.64102781, 1.54268052, 0.43345049, 0.32847798, 0.5620845 ])"
      ]
     },
     "execution_count": 995,
     "metadata": {},
     "output_type": "execute_result"
    }
   ],
   "source": [
    "rd_scoring"
   ]
  },
  {
   "cell_type": "code",
   "execution_count": 996,
   "metadata": {},
   "outputs": [
    {
     "data": {
      "text/plain": [
       "dict_keys(['alpha', 'copy_X', 'fit_intercept', 'max_iter', 'normalize', 'random_state', 'solver', 'tol'])"
      ]
     },
     "execution_count": 996,
     "metadata": {},
     "output_type": "execute_result"
    }
   ],
   "source": [
    "ridge_regressor.get_params().keys()"
   ]
  },
  {
   "cell_type": "code",
   "execution_count": 997,
   "metadata": {},
   "outputs": [],
   "source": [
    "parameters_grid = {\n",
    "    'alpha' : [0.5, 1, 1.5, 2],\n",
    "    'tol' : [0.00001, 0.0001, 0.001],\n",
    "    'max_iter': [500, 1000, 2000],\n",
    "}"
   ]
  },
  {
   "cell_type": "code",
   "execution_count": 998,
   "metadata": {},
   "outputs": [],
   "source": [
    "grid_cv = GridSearchCV(lasso_regressor, parameters_grid, scoring = scorerCV, cv = cv_strategy_KFold)"
   ]
  },
  {
   "cell_type": "code",
   "execution_count": 999,
   "metadata": {},
   "outputs": [
    {
     "name": "stdout",
     "output_type": "stream",
     "text": [
      "Wall time: 859 ms\n"
     ]
    },
    {
     "data": {
      "text/plain": [
       "GridSearchCV(cv=KFold(n_splits=5, random_state=0, shuffle=False),\n",
       "             error_score='raise-deprecating',\n",
       "             estimator=Lasso(alpha=1.0, copy_X=True, fit_intercept=True,\n",
       "                             max_iter=1000, normalize=False, positive=False,\n",
       "                             precompute=False, random_state=0,\n",
       "                             selection='cyclic', tol=0.0001, warm_start=False),\n",
       "             iid='warn', n_jobs=None,\n",
       "             param_grid={'alpha': [0.5, 1, 1.5, 2],\n",
       "                         'max_iter': [500, 1000, 2000],\n",
       "                         'tol': [1e-05, 0.0001, 0.001]},\n",
       "             pre_dispatch='2*n_jobs', refit=True, return_train_score=False,\n",
       "             scoring=make_scorer(mean_absolute_error, greater_is_better=False),\n",
       "             verbose=0)"
      ]
     },
     "execution_count": 999,
     "metadata": {},
     "output_type": "execute_result"
    }
   ],
   "source": [
    "%%time\n",
    "grid_cv.fit(X_train_C2H6, y_train_C2H6)"
   ]
  },
  {
   "cell_type": "code",
   "execution_count": 1000,
   "metadata": {},
   "outputs": [
    {
     "data": {
      "text/plain": [
       "Lasso(alpha=0.5, copy_X=True, fit_intercept=True, max_iter=500, normalize=False,\n",
       "      positive=False, precompute=False, random_state=0, selection='cyclic',\n",
       "      tol=1e-05, warm_start=False)"
      ]
     },
     "execution_count": 1000,
     "metadata": {},
     "output_type": "execute_result"
    }
   ],
   "source": [
    "grid_cv.best_estimator_"
   ]
  },
  {
   "cell_type": "code",
   "execution_count": 1001,
   "metadata": {},
   "outputs": [
    {
     "name": "stdout",
     "output_type": "stream",
     "text": [
      "-0.7824760941679109\n",
      "{'alpha': 0.5, 'max_iter': 500, 'tol': 1e-05}\n"
     ]
    }
   ],
   "source": [
    "print(grid_cv.best_score_)\n",
    "print(grid_cv.best_params_)"
   ]
  },
  {
   "cell_type": "code",
   "execution_count": 1002,
   "metadata": {},
   "outputs": [
    {
     "data": {
      "text/plain": [
       "2.160635055064188"
      ]
     },
     "execution_count": 1002,
     "metadata": {},
     "output_type": "execute_result"
    }
   ],
   "source": [
    "predictions = grid_cv.predict(X_test_C2H6)\n",
    "metrics.mean_absolute_error(y_test_C2H6, predictions)"
   ]
  },
  {
   "cell_type": "code",
   "execution_count": 1003,
   "metadata": {},
   "outputs": [],
   "source": [
    "grid_cv = GridSearchCV(lasso_regressor, parameters_grid, scoring = scorerCV, cv = cv_strategy_TMS)"
   ]
  },
  {
   "cell_type": "code",
   "execution_count": 1004,
   "metadata": {},
   "outputs": [
    {
     "name": "stdout",
     "output_type": "stream",
     "text": [
      "Wall time: 787 ms\n"
     ]
    },
    {
     "data": {
      "text/plain": [
       "GridSearchCV(cv=TimeSeriesSplit(max_train_size=None, n_splits=5),\n",
       "             error_score='raise-deprecating',\n",
       "             estimator=Lasso(alpha=1.0, copy_X=True, fit_intercept=True,\n",
       "                             max_iter=1000, normalize=False, positive=False,\n",
       "                             precompute=False, random_state=0,\n",
       "                             selection='cyclic', tol=0.0001, warm_start=False),\n",
       "             iid='warn', n_jobs=None,\n",
       "             param_grid={'alpha': [0.5, 1, 1.5, 2],\n",
       "                         'max_iter': [500, 1000, 2000],\n",
       "                         'tol': [1e-05, 0.0001, 0.001]},\n",
       "             pre_dispatch='2*n_jobs', refit=True, return_train_score=False,\n",
       "             scoring=make_scorer(mean_absolute_error, greater_is_better=False),\n",
       "             verbose=0)"
      ]
     },
     "execution_count": 1004,
     "metadata": {},
     "output_type": "execute_result"
    }
   ],
   "source": [
    "%%time\n",
    "grid_cv.fit(X_train_C2H6, y_train_C2H6)"
   ]
  },
  {
   "cell_type": "code",
   "execution_count": 1005,
   "metadata": {},
   "outputs": [
    {
     "data": {
      "text/plain": [
       "Lasso(alpha=0.5, copy_X=True, fit_intercept=True, max_iter=500, normalize=False,\n",
       "      positive=False, precompute=False, random_state=0, selection='cyclic',\n",
       "      tol=1e-05, warm_start=False)"
      ]
     },
     "execution_count": 1005,
     "metadata": {},
     "output_type": "execute_result"
    }
   ],
   "source": [
    "grid_cv.best_estimator_"
   ]
  },
  {
   "cell_type": "code",
   "execution_count": 1006,
   "metadata": {},
   "outputs": [
    {
     "name": "stdout",
     "output_type": "stream",
     "text": [
      "-0.8166752692831994\n",
      "{'alpha': 0.5, 'max_iter': 500, 'tol': 1e-05}\n"
     ]
    }
   ],
   "source": [
    "print(grid_cv.best_score_)\n",
    "print(grid_cv.best_params_)"
   ]
  },
  {
   "cell_type": "code",
   "execution_count": 1007,
   "metadata": {},
   "outputs": [
    {
     "data": {
      "text/plain": [
       "2.160635055064188"
      ]
     },
     "execution_count": 1007,
     "metadata": {},
     "output_type": "execute_result"
    }
   ],
   "source": [
    "predictions = grid_cv.predict(X_test_C2H6)\n",
    "metrics.mean_absolute_error(y_test_C2H6, predictions)"
   ]
  },
  {
   "cell_type": "markdown",
   "metadata": {},
   "source": [
    "### C3H8"
   ]
  },
  {
   "cell_type": "code",
   "execution_count": 1008,
   "metadata": {},
   "outputs": [],
   "source": [
    "ridge_regressor = linear_model.Ridge(random_state=0)\n",
    "ridge_regressor.fit(X_train_C3H8, y_train_C3H8)\n",
    "predictions = ridge_regressor.predict(X_test_C3H8)"
   ]
  },
  {
   "cell_type": "code",
   "execution_count": 1009,
   "metadata": {},
   "outputs": [
    {
     "data": {
      "text/plain": [
       "1.8449571855501428"
      ]
     },
     "execution_count": 1009,
     "metadata": {},
     "output_type": "execute_result"
    }
   ],
   "source": [
    "metrics.mean_absolute_error(y_test_C3H8, predictions)"
   ]
  },
  {
   "cell_type": "code",
   "execution_count": 1010,
   "metadata": {},
   "outputs": [
    {
     "name": "stdout",
     "output_type": "stream",
     "text": [
      "LR (KFold)) mean:1.7590157111457736, max:5.78303627645629, min:0.44344008062274176, std:2.0219444677159717\n"
     ]
    }
   ],
   "source": [
    "rd_scoring = cross_val_score(ridge_regressor, X_train_C3H8, y_train_C3H8, scoring = scorer, cv = cv_strategy_KFold)\n",
    "print ('LR (KFold)) mean:{}, max:{}, min:{}, std:{}'.format(rd_scoring .mean(), rd_scoring .max(), \n",
    "                                                     rd_scoring .min(), rd_scoring .std()))"
   ]
  },
  {
   "cell_type": "code",
   "execution_count": 1011,
   "metadata": {},
   "outputs": [
    {
     "data": {
      "text/plain": [
       "array([0.75981056, 5.78303628, 1.07564878, 0.44344008, 0.73314287])"
      ]
     },
     "execution_count": 1011,
     "metadata": {},
     "output_type": "execute_result"
    }
   ],
   "source": [
    "rd_scoring"
   ]
  },
  {
   "cell_type": "code",
   "execution_count": 1012,
   "metadata": {},
   "outputs": [
    {
     "name": "stdout",
     "output_type": "stream",
     "text": [
      "LR (KFold)) mean:1.554336634588043, max:4.6113542032811985, min:0.48174772656515896, std:1.5477669306836261\n"
     ]
    }
   ],
   "source": [
    "rd_scoring = cross_val_score(ridge_regressor, X_train_C3H8, y_train_C3H8, scoring = scorer, cv = cv_strategy_TMS)\n",
    "print ('LR (KFold)) mean:{}, max:{}, min:{}, std:{}'.format(rd_scoring .mean(), rd_scoring .max(), \n",
    "                                                     rd_scoring .min(), rd_scoring .std()))"
   ]
  },
  {
   "cell_type": "code",
   "execution_count": 1013,
   "metadata": {},
   "outputs": [
    {
     "data": {
      "text/plain": [
       "array([4.6113542 , 1.21319806, 0.48174773, 0.82081735, 0.64456583])"
      ]
     },
     "execution_count": 1013,
     "metadata": {},
     "output_type": "execute_result"
    }
   ],
   "source": [
    "rd_scoring"
   ]
  },
  {
   "cell_type": "code",
   "execution_count": 1014,
   "metadata": {},
   "outputs": [
    {
     "data": {
      "text/plain": [
       "dict_keys(['alpha', 'copy_X', 'fit_intercept', 'max_iter', 'normalize', 'random_state', 'solver', 'tol'])"
      ]
     },
     "execution_count": 1014,
     "metadata": {},
     "output_type": "execute_result"
    }
   ],
   "source": [
    "ridge_regressor.get_params().keys()"
   ]
  },
  {
   "cell_type": "code",
   "execution_count": 1015,
   "metadata": {},
   "outputs": [],
   "source": [
    "parameters_grid = {\n",
    "    'alpha' : [0.5, 1, 1.5, 2],\n",
    "    'tol' : [0.00001, 0.0001, 0.001],\n",
    "    'max_iter': [500, 1000, 2000],\n",
    "}"
   ]
  },
  {
   "cell_type": "code",
   "execution_count": 1016,
   "metadata": {},
   "outputs": [],
   "source": [
    "grid_cv = GridSearchCV(lasso_regressor, parameters_grid, scoring = scorerCV, cv = cv_strategy_KFold)"
   ]
  },
  {
   "cell_type": "code",
   "execution_count": 1017,
   "metadata": {},
   "outputs": [
    {
     "name": "stdout",
     "output_type": "stream",
     "text": [
      "Wall time: 1.15 s\n"
     ]
    },
    {
     "data": {
      "text/plain": [
       "GridSearchCV(cv=KFold(n_splits=5, random_state=0, shuffle=False),\n",
       "             error_score='raise-deprecating',\n",
       "             estimator=Lasso(alpha=1.0, copy_X=True, fit_intercept=True,\n",
       "                             max_iter=1000, normalize=False, positive=False,\n",
       "                             precompute=False, random_state=0,\n",
       "                             selection='cyclic', tol=0.0001, warm_start=False),\n",
       "             iid='warn', n_jobs=None,\n",
       "             param_grid={'alpha': [0.5, 1, 1.5, 2],\n",
       "                         'max_iter': [500, 1000, 2000],\n",
       "                         'tol': [1e-05, 0.0001, 0.001]},\n",
       "             pre_dispatch='2*n_jobs', refit=True, return_train_score=False,\n",
       "             scoring=make_scorer(mean_absolute_error, greater_is_better=False),\n",
       "             verbose=0)"
      ]
     },
     "execution_count": 1017,
     "metadata": {},
     "output_type": "execute_result"
    }
   ],
   "source": [
    "%%time\n",
    "grid_cv.fit(X_train_C3H8, y_train_C3H8)"
   ]
  },
  {
   "cell_type": "code",
   "execution_count": 1018,
   "metadata": {},
   "outputs": [
    {
     "data": {
      "text/plain": [
       "Lasso(alpha=0.5, copy_X=True, fit_intercept=True, max_iter=500, normalize=False,\n",
       "      positive=False, precompute=False, random_state=0, selection='cyclic',\n",
       "      tol=0.001, warm_start=False)"
      ]
     },
     "execution_count": 1018,
     "metadata": {},
     "output_type": "execute_result"
    }
   ],
   "source": [
    "grid_cv.best_estimator_"
   ]
  },
  {
   "cell_type": "code",
   "execution_count": 1019,
   "metadata": {},
   "outputs": [
    {
     "name": "stdout",
     "output_type": "stream",
     "text": [
      "-2.231794099728587\n",
      "{'alpha': 0.5, 'max_iter': 500, 'tol': 0.001}\n"
     ]
    }
   ],
   "source": [
    "print(grid_cv.best_score_)\n",
    "print(grid_cv.best_params_)"
   ]
  },
  {
   "cell_type": "code",
   "execution_count": 1020,
   "metadata": {},
   "outputs": [
    {
     "data": {
      "text/plain": [
       "1.713296449045317"
      ]
     },
     "execution_count": 1020,
     "metadata": {},
     "output_type": "execute_result"
    }
   ],
   "source": [
    "predictions = grid_cv.predict(X_test_C3H8)\n",
    "metrics.mean_absolute_error(y_test_C3H8, predictions)"
   ]
  },
  {
   "cell_type": "code",
   "execution_count": 1021,
   "metadata": {},
   "outputs": [],
   "source": [
    "grid_cv = GridSearchCV(lasso_regressor, parameters_grid, scoring = scorerCV, cv = cv_strategy_TMS)"
   ]
  },
  {
   "cell_type": "code",
   "execution_count": 1022,
   "metadata": {},
   "outputs": [
    {
     "name": "stdout",
     "output_type": "stream",
     "text": [
      "Wall time: 1.03 s\n"
     ]
    },
    {
     "data": {
      "text/plain": [
       "GridSearchCV(cv=TimeSeriesSplit(max_train_size=None, n_splits=5),\n",
       "             error_score='raise-deprecating',\n",
       "             estimator=Lasso(alpha=1.0, copy_X=True, fit_intercept=True,\n",
       "                             max_iter=1000, normalize=False, positive=False,\n",
       "                             precompute=False, random_state=0,\n",
       "                             selection='cyclic', tol=0.0001, warm_start=False),\n",
       "             iid='warn', n_jobs=None,\n",
       "             param_grid={'alpha': [0.5, 1, 1.5, 2],\n",
       "                         'max_iter': [500, 1000, 2000],\n",
       "                         'tol': [1e-05, 0.0001, 0.001]},\n",
       "             pre_dispatch='2*n_jobs', refit=True, return_train_score=False,\n",
       "             scoring=make_scorer(mean_absolute_error, greater_is_better=False),\n",
       "             verbose=0)"
      ]
     },
     "execution_count": 1022,
     "metadata": {},
     "output_type": "execute_result"
    }
   ],
   "source": [
    "%%time\n",
    "grid_cv.fit(X_train_C3H8, y_train_C3H8)"
   ]
  },
  {
   "cell_type": "code",
   "execution_count": 1023,
   "metadata": {},
   "outputs": [
    {
     "data": {
      "text/plain": [
       "Lasso(alpha=0.5, copy_X=True, fit_intercept=True, max_iter=500, normalize=False,\n",
       "      positive=False, precompute=False, random_state=0, selection='cyclic',\n",
       "      tol=0.001, warm_start=False)"
      ]
     },
     "execution_count": 1023,
     "metadata": {},
     "output_type": "execute_result"
    }
   ],
   "source": [
    "grid_cv.best_estimator_"
   ]
  },
  {
   "cell_type": "code",
   "execution_count": 1024,
   "metadata": {},
   "outputs": [
    {
     "name": "stdout",
     "output_type": "stream",
     "text": [
      "-2.604096799145661\n",
      "{'alpha': 0.5, 'max_iter': 500, 'tol': 0.001}\n"
     ]
    }
   ],
   "source": [
    "print(grid_cv.best_score_)\n",
    "print(grid_cv.best_params_)"
   ]
  },
  {
   "cell_type": "code",
   "execution_count": 1025,
   "metadata": {},
   "outputs": [
    {
     "data": {
      "text/plain": [
       "1.713296449045317"
      ]
     },
     "execution_count": 1025,
     "metadata": {},
     "output_type": "execute_result"
    }
   ],
   "source": [
    "predictions = grid_cv.predict(X_test_C3H8)\n",
    "metrics.mean_absolute_error(y_test_C3H8, predictions)"
   ]
  },
  {
   "cell_type": "markdown",
   "metadata": {},
   "source": [
    "### iC4H10"
   ]
  },
  {
   "cell_type": "code",
   "execution_count": 1026,
   "metadata": {},
   "outputs": [],
   "source": [
    "ridge_regressor = linear_model.Ridge(random_state=0)\n",
    "ridge_regressor.fit(X_train_iC4H10, y_train_iC4H10)\n",
    "predictions = ridge_regressor.predict(X_test_iC4H10)"
   ]
  },
  {
   "cell_type": "code",
   "execution_count": 1027,
   "metadata": {},
   "outputs": [
    {
     "data": {
      "text/plain": [
       "0.9304955208168008"
      ]
     },
     "execution_count": 1027,
     "metadata": {},
     "output_type": "execute_result"
    }
   ],
   "source": [
    "metrics.mean_absolute_error(y_test_iC4H10, predictions)"
   ]
  },
  {
   "cell_type": "code",
   "execution_count": 1028,
   "metadata": {},
   "outputs": [
    {
     "name": "stdout",
     "output_type": "stream",
     "text": [
      "LR (KFold)) mean:0.5476641816436202, max:1.7682730508581679, min:0.15897440811073535, std:0.6150160918983028\n"
     ]
    }
   ],
   "source": [
    "rd_scoring = cross_val_score(ridge_regressor, X_train_iC4H10, y_train_iC4H10, scoring = scorer, cv = cv_strategy_KFold)\n",
    "print ('LR (KFold)) mean:{}, max:{}, min:{}, std:{}'.format(rd_scoring .mean(), rd_scoring .max(), \n",
    "                                                     rd_scoring .min(), rd_scoring .std()))"
   ]
  },
  {
   "cell_type": "code",
   "execution_count": 1029,
   "metadata": {},
   "outputs": [
    {
     "data": {
      "text/plain": [
       "array([0.15897441, 1.76827305, 0.24040077, 0.1899015 , 0.38077118])"
      ]
     },
     "execution_count": 1029,
     "metadata": {},
     "output_type": "execute_result"
    }
   ],
   "source": [
    "rd_scoring"
   ]
  },
  {
   "cell_type": "code",
   "execution_count": 1030,
   "metadata": {},
   "outputs": [
    {
     "name": "stdout",
     "output_type": "stream",
     "text": [
      "LR (KFold)) mean:0.5309090560762219, max:1.0496291908066764, min:0.15306371116650935, std:0.32273061129793534\n"
     ]
    }
   ],
   "source": [
    "rd_scoring = cross_val_score(ridge_regressor, X_train_iC4H10, y_train_iC4H10, scoring = scorer, cv = cv_strategy_TMS)\n",
    "print ('LR (KFold)) mean:{}, max:{}, min:{}, std:{}'.format(rd_scoring .mean(), rd_scoring .max(), \n",
    "                                                     rd_scoring .min(), rd_scoring .std()))"
   ]
  },
  {
   "cell_type": "code",
   "execution_count": 1031,
   "metadata": {},
   "outputs": [
    {
     "data": {
      "text/plain": [
       "array([1.04962919, 0.73862664, 0.15306371, 0.30644994, 0.4067758 ])"
      ]
     },
     "execution_count": 1031,
     "metadata": {},
     "output_type": "execute_result"
    }
   ],
   "source": [
    "rd_scoring"
   ]
  },
  {
   "cell_type": "code",
   "execution_count": 1032,
   "metadata": {},
   "outputs": [
    {
     "data": {
      "text/plain": [
       "dict_keys(['alpha', 'copy_X', 'fit_intercept', 'max_iter', 'normalize', 'random_state', 'solver', 'tol'])"
      ]
     },
     "execution_count": 1032,
     "metadata": {},
     "output_type": "execute_result"
    }
   ],
   "source": [
    "ridge_regressor.get_params().keys()"
   ]
  },
  {
   "cell_type": "code",
   "execution_count": 1033,
   "metadata": {},
   "outputs": [],
   "source": [
    "parameters_grid = {\n",
    "    'alpha' : [0.5, 1, 1.5, 2],\n",
    "    'tol' : [0.00001, 0.0001, 0.001],\n",
    "    'max_iter': [500, 1000, 2000],\n",
    "}"
   ]
  },
  {
   "cell_type": "code",
   "execution_count": 1034,
   "metadata": {},
   "outputs": [],
   "source": [
    "grid_cv = GridSearchCV(lasso_regressor, parameters_grid, scoring = scorerCV, cv = cv_strategy_KFold)"
   ]
  },
  {
   "cell_type": "code",
   "execution_count": 1035,
   "metadata": {},
   "outputs": [
    {
     "name": "stdout",
     "output_type": "stream",
     "text": [
      "Wall time: 1.16 s\n"
     ]
    },
    {
     "data": {
      "text/plain": [
       "GridSearchCV(cv=KFold(n_splits=5, random_state=0, shuffle=False),\n",
       "             error_score='raise-deprecating',\n",
       "             estimator=Lasso(alpha=1.0, copy_X=True, fit_intercept=True,\n",
       "                             max_iter=1000, normalize=False, positive=False,\n",
       "                             precompute=False, random_state=0,\n",
       "                             selection='cyclic', tol=0.0001, warm_start=False),\n",
       "             iid='warn', n_jobs=None,\n",
       "             param_grid={'alpha': [0.5, 1, 1.5, 2],\n",
       "                         'max_iter': [500, 1000, 2000],\n",
       "                         'tol': [1e-05, 0.0001, 0.001]},\n",
       "             pre_dispatch='2*n_jobs', refit=True, return_train_score=False,\n",
       "             scoring=make_scorer(mean_absolute_error, greater_is_better=False),\n",
       "             verbose=0)"
      ]
     },
     "execution_count": 1035,
     "metadata": {},
     "output_type": "execute_result"
    }
   ],
   "source": [
    "%%time\n",
    "grid_cv.fit(X_train_iC4H10, y_train_iC4H10)"
   ]
  },
  {
   "cell_type": "code",
   "execution_count": 1036,
   "metadata": {},
   "outputs": [
    {
     "data": {
      "text/plain": [
       "Lasso(alpha=0.5, copy_X=True, fit_intercept=True, max_iter=500, normalize=False,\n",
       "      positive=False, precompute=False, random_state=0, selection='cyclic',\n",
       "      tol=1e-05, warm_start=False)"
      ]
     },
     "execution_count": 1036,
     "metadata": {},
     "output_type": "execute_result"
    }
   ],
   "source": [
    "grid_cv.best_estimator_"
   ]
  },
  {
   "cell_type": "code",
   "execution_count": 1037,
   "metadata": {},
   "outputs": [
    {
     "name": "stdout",
     "output_type": "stream",
     "text": [
      "-1.1649954424692102\n",
      "{'alpha': 0.5, 'max_iter': 500, 'tol': 1e-05}\n"
     ]
    }
   ],
   "source": [
    "print(grid_cv.best_score_)\n",
    "print(grid_cv.best_params_)"
   ]
  },
  {
   "cell_type": "code",
   "execution_count": 1038,
   "metadata": {},
   "outputs": [
    {
     "data": {
      "text/plain": [
       "0.8342777944462326"
      ]
     },
     "execution_count": 1038,
     "metadata": {},
     "output_type": "execute_result"
    }
   ],
   "source": [
    "predictions = grid_cv.predict(X_test_iC4H10)\n",
    "metrics.mean_absolute_error(y_test_iC4H10, predictions)"
   ]
  },
  {
   "cell_type": "code",
   "execution_count": 1039,
   "metadata": {},
   "outputs": [],
   "source": [
    "grid_cv = GridSearchCV(lasso_regressor, parameters_grid, scoring = scorerCV, cv = cv_strategy_TMS)"
   ]
  },
  {
   "cell_type": "code",
   "execution_count": 1040,
   "metadata": {},
   "outputs": [
    {
     "name": "stdout",
     "output_type": "stream",
     "text": [
      "Wall time: 1.48 s\n"
     ]
    },
    {
     "data": {
      "text/plain": [
       "GridSearchCV(cv=TimeSeriesSplit(max_train_size=None, n_splits=5),\n",
       "             error_score='raise-deprecating',\n",
       "             estimator=Lasso(alpha=1.0, copy_X=True, fit_intercept=True,\n",
       "                             max_iter=1000, normalize=False, positive=False,\n",
       "                             precompute=False, random_state=0,\n",
       "                             selection='cyclic', tol=0.0001, warm_start=False),\n",
       "             iid='warn', n_jobs=None,\n",
       "             param_grid={'alpha': [0.5, 1, 1.5, 2],\n",
       "                         'max_iter': [500, 1000, 2000],\n",
       "                         'tol': [1e-05, 0.0001, 0.001]},\n",
       "             pre_dispatch='2*n_jobs', refit=True, return_train_score=False,\n",
       "             scoring=make_scorer(mean_absolute_error, greater_is_better=False),\n",
       "             verbose=0)"
      ]
     },
     "execution_count": 1040,
     "metadata": {},
     "output_type": "execute_result"
    }
   ],
   "source": [
    "%%time\n",
    "grid_cv.fit(X_train_iC4H10, y_train_iC4H10)"
   ]
  },
  {
   "cell_type": "code",
   "execution_count": 1041,
   "metadata": {},
   "outputs": [
    {
     "data": {
      "text/plain": [
       "Lasso(alpha=0.5, copy_X=True, fit_intercept=True, max_iter=500, normalize=False,\n",
       "      positive=False, precompute=False, random_state=0, selection='cyclic',\n",
       "      tol=0.001, warm_start=False)"
      ]
     },
     "execution_count": 1041,
     "metadata": {},
     "output_type": "execute_result"
    }
   ],
   "source": [
    "grid_cv.best_estimator_"
   ]
  },
  {
   "cell_type": "code",
   "execution_count": 1042,
   "metadata": {},
   "outputs": [
    {
     "name": "stdout",
     "output_type": "stream",
     "text": [
      "-1.0925199731010429\n",
      "{'alpha': 0.5, 'max_iter': 500, 'tol': 0.001}\n"
     ]
    }
   ],
   "source": [
    "print(grid_cv.best_score_)\n",
    "print(grid_cv.best_params_)"
   ]
  },
  {
   "cell_type": "code",
   "execution_count": 1043,
   "metadata": {},
   "outputs": [
    {
     "data": {
      "text/plain": [
       "0.8342777944462326"
      ]
     },
     "execution_count": 1043,
     "metadata": {},
     "output_type": "execute_result"
    }
   ],
   "source": [
    "predictions = grid_cv.predict(X_test_iC4H10)\n",
    "metrics.mean_absolute_error(y_test_iC4H10, predictions)"
   ]
  },
  {
   "cell_type": "markdown",
   "metadata": {},
   "source": [
    "### nC4H10"
   ]
  },
  {
   "cell_type": "code",
   "execution_count": 1044,
   "metadata": {},
   "outputs": [],
   "source": [
    "ridge_regressor = linear_model.Ridge(random_state=0)\n",
    "ridge_regressor.fit(X_train_nC4H10, y_train_nC4H10)\n",
    "predictions = ridge_regressor.predict(X_test_nC4H10)"
   ]
  },
  {
   "cell_type": "code",
   "execution_count": 1045,
   "metadata": {},
   "outputs": [
    {
     "data": {
      "text/plain": [
       "1.272075766997528"
      ]
     },
     "execution_count": 1045,
     "metadata": {},
     "output_type": "execute_result"
    }
   ],
   "source": [
    "metrics.mean_absolute_error(y_test_nC4H10, predictions)"
   ]
  },
  {
   "cell_type": "code",
   "execution_count": 1046,
   "metadata": {},
   "outputs": [
    {
     "name": "stdout",
     "output_type": "stream",
     "text": [
      "LR (KFold)) mean:0.7095936851087323, max:2.347911553130697, min:0.23415808522715423, std:0.8206265695406924\n"
     ]
    }
   ],
   "source": [
    "rd_scoring = cross_val_score(ridge_regressor, X_train_nC4H10, y_train_nC4H10, scoring = scorer, cv = cv_strategy_KFold)\n",
    "print ('LR (KFold)) mean:{}, max:{}, min:{}, std:{}'.format(rd_scoring .mean(), rd_scoring .max(), \n",
    "                                                     rd_scoring .min(), rd_scoring .std()))"
   ]
  },
  {
   "cell_type": "code",
   "execution_count": 1047,
   "metadata": {},
   "outputs": [
    {
     "data": {
      "text/plain": [
       "array([0.26451689, 2.34791155, 0.32519893, 0.23415809, 0.37618296])"
      ]
     },
     "execution_count": 1047,
     "metadata": {},
     "output_type": "execute_result"
    }
   ],
   "source": [
    "rd_scoring"
   ]
  },
  {
   "cell_type": "code",
   "execution_count": 1048,
   "metadata": {},
   "outputs": [
    {
     "name": "stdout",
     "output_type": "stream",
     "text": [
      "LR (KFold)) mean:0.6063486289489578, max:1.129130473753545, min:0.21803377349587721, std:0.3561707757308177\n"
     ]
    }
   ],
   "source": [
    "rd_scoring = cross_val_score(ridge_regressor, X_train_nC4H10, y_train_nC4H10, scoring = scorer, cv = cv_strategy_TMS)\n",
    "print ('LR (KFold)) mean:{}, max:{}, min:{}, std:{}'.format(rd_scoring .mean(), rd_scoring .max(), \n",
    "                                                     rd_scoring .min(), rd_scoring .std()))"
   ]
  },
  {
   "cell_type": "code",
   "execution_count": 1049,
   "metadata": {},
   "outputs": [
    {
     "data": {
      "text/plain": [
       "array([1.12913047, 0.92940931, 0.35345144, 0.21803377, 0.40171815])"
      ]
     },
     "execution_count": 1049,
     "metadata": {},
     "output_type": "execute_result"
    }
   ],
   "source": [
    "rd_scoring"
   ]
  },
  {
   "cell_type": "code",
   "execution_count": 1050,
   "metadata": {},
   "outputs": [
    {
     "data": {
      "text/plain": [
       "dict_keys(['alpha', 'copy_X', 'fit_intercept', 'max_iter', 'normalize', 'random_state', 'solver', 'tol'])"
      ]
     },
     "execution_count": 1050,
     "metadata": {},
     "output_type": "execute_result"
    }
   ],
   "source": [
    "ridge_regressor.get_params().keys()"
   ]
  },
  {
   "cell_type": "code",
   "execution_count": 1051,
   "metadata": {},
   "outputs": [],
   "source": [
    "parameters_grid = {\n",
    "    'alpha' : [0.5, 1, 1.5, 2],\n",
    "    'tol' : [0.00001, 0.0001, 0.001],\n",
    "    'max_iter': [500, 1000, 2000],\n",
    "}"
   ]
  },
  {
   "cell_type": "code",
   "execution_count": 1052,
   "metadata": {},
   "outputs": [],
   "source": [
    "grid_cv = GridSearchCV(lasso_regressor, parameters_grid, scoring = scorerCV, cv = cv_strategy_KFold)"
   ]
  },
  {
   "cell_type": "code",
   "execution_count": 1053,
   "metadata": {},
   "outputs": [
    {
     "name": "stdout",
     "output_type": "stream",
     "text": [
      "Wall time: 1.15 s\n"
     ]
    },
    {
     "data": {
      "text/plain": [
       "GridSearchCV(cv=KFold(n_splits=5, random_state=0, shuffle=False),\n",
       "             error_score='raise-deprecating',\n",
       "             estimator=Lasso(alpha=1.0, copy_X=True, fit_intercept=True,\n",
       "                             max_iter=1000, normalize=False, positive=False,\n",
       "                             precompute=False, random_state=0,\n",
       "                             selection='cyclic', tol=0.0001, warm_start=False),\n",
       "             iid='warn', n_jobs=None,\n",
       "             param_grid={'alpha': [0.5, 1, 1.5, 2],\n",
       "                         'max_iter': [500, 1000, 2000],\n",
       "                         'tol': [1e-05, 0.0001, 0.001]},\n",
       "             pre_dispatch='2*n_jobs', refit=True, return_train_score=False,\n",
       "             scoring=make_scorer(mean_absolute_error, greater_is_better=False),\n",
       "             verbose=0)"
      ]
     },
     "execution_count": 1053,
     "metadata": {},
     "output_type": "execute_result"
    }
   ],
   "source": [
    "%%time\n",
    "grid_cv.fit(X_train_nC4H10, y_train_nC4H10)"
   ]
  },
  {
   "cell_type": "code",
   "execution_count": 1054,
   "metadata": {},
   "outputs": [
    {
     "data": {
      "text/plain": [
       "Lasso(alpha=0.5, copy_X=True, fit_intercept=True, max_iter=500, normalize=False,\n",
       "      positive=False, precompute=False, random_state=0, selection='cyclic',\n",
       "      tol=1e-05, warm_start=False)"
      ]
     },
     "execution_count": 1054,
     "metadata": {},
     "output_type": "execute_result"
    }
   ],
   "source": [
    "grid_cv.best_estimator_"
   ]
  },
  {
   "cell_type": "code",
   "execution_count": 1055,
   "metadata": {},
   "outputs": [
    {
     "name": "stdout",
     "output_type": "stream",
     "text": [
      "-1.5023987983717684\n",
      "{'alpha': 0.5, 'max_iter': 500, 'tol': 1e-05}\n"
     ]
    }
   ],
   "source": [
    "print(grid_cv.best_score_)\n",
    "print(grid_cv.best_params_)"
   ]
  },
  {
   "cell_type": "code",
   "execution_count": 1056,
   "metadata": {},
   "outputs": [
    {
     "data": {
      "text/plain": [
       "1.1919196697303216"
      ]
     },
     "execution_count": 1056,
     "metadata": {},
     "output_type": "execute_result"
    }
   ],
   "source": [
    "predictions = grid_cv.predict(X_test_nC4H10)\n",
    "metrics.mean_absolute_error(y_test_nC4H10, predictions)"
   ]
  },
  {
   "cell_type": "code",
   "execution_count": 1057,
   "metadata": {},
   "outputs": [],
   "source": [
    "grid_cv = GridSearchCV(lasso_regressor, parameters_grid, scoring = scorerCV, cv = cv_strategy_TMS)"
   ]
  },
  {
   "cell_type": "code",
   "execution_count": 1058,
   "metadata": {},
   "outputs": [
    {
     "name": "stdout",
     "output_type": "stream",
     "text": [
      "Wall time: 1.58 s\n"
     ]
    },
    {
     "data": {
      "text/plain": [
       "GridSearchCV(cv=TimeSeriesSplit(max_train_size=None, n_splits=5),\n",
       "             error_score='raise-deprecating',\n",
       "             estimator=Lasso(alpha=1.0, copy_X=True, fit_intercept=True,\n",
       "                             max_iter=1000, normalize=False, positive=False,\n",
       "                             precompute=False, random_state=0,\n",
       "                             selection='cyclic', tol=0.0001, warm_start=False),\n",
       "             iid='warn', n_jobs=None,\n",
       "             param_grid={'alpha': [0.5, 1, 1.5, 2],\n",
       "                         'max_iter': [500, 1000, 2000],\n",
       "                         'tol': [1e-05, 0.0001, 0.001]},\n",
       "             pre_dispatch='2*n_jobs', refit=True, return_train_score=False,\n",
       "             scoring=make_scorer(mean_absolute_error, greater_is_better=False),\n",
       "             verbose=0)"
      ]
     },
     "execution_count": 1058,
     "metadata": {},
     "output_type": "execute_result"
    }
   ],
   "source": [
    "%%time\n",
    "grid_cv.fit(X_train_nC4H10, y_train_nC4H10)"
   ]
  },
  {
   "cell_type": "code",
   "execution_count": 1059,
   "metadata": {},
   "outputs": [
    {
     "data": {
      "text/plain": [
       "Lasso(alpha=0.5, copy_X=True, fit_intercept=True, max_iter=500, normalize=False,\n",
       "      positive=False, precompute=False, random_state=0, selection='cyclic',\n",
       "      tol=0.001, warm_start=False)"
      ]
     },
     "execution_count": 1059,
     "metadata": {},
     "output_type": "execute_result"
    }
   ],
   "source": [
    "grid_cv.best_estimator_"
   ]
  },
  {
   "cell_type": "code",
   "execution_count": 1060,
   "metadata": {},
   "outputs": [
    {
     "name": "stdout",
     "output_type": "stream",
     "text": [
      "-1.4391146835173148\n",
      "{'alpha': 0.5, 'max_iter': 500, 'tol': 0.001}\n"
     ]
    }
   ],
   "source": [
    "print(grid_cv.best_score_)\n",
    "print(grid_cv.best_params_)"
   ]
  },
  {
   "cell_type": "code",
   "execution_count": 1061,
   "metadata": {},
   "outputs": [
    {
     "data": {
      "text/plain": [
       "1.1919196697303216"
      ]
     },
     "execution_count": 1061,
     "metadata": {},
     "output_type": "execute_result"
    }
   ],
   "source": [
    "predictions = grid_cv.predict(X_test_nC4H10)\n",
    "metrics.mean_absolute_error(y_test_nC4H10, predictions)"
   ]
  },
  {
   "cell_type": "code",
   "execution_count": null,
   "metadata": {},
   "outputs": [],
   "source": []
  },
  {
   "cell_type": "markdown",
   "metadata": {},
   "source": [
    "# SGDRegressor"
   ]
  },
  {
   "cell_type": "markdown",
   "metadata": {},
   "source": [
    "### C2H6"
   ]
  },
  {
   "cell_type": "code",
   "execution_count": 1062,
   "metadata": {},
   "outputs": [],
   "source": [
    "SGD_regressor = linear_model.SGDRegressor(shuffle=False, random_state=0)\n",
    "#SGD_regressor = linear_model.SGDRegressor(shuffle=False,tol=0.5, power_t=0.15, penalty='l2', \n",
    "#                                          eta0= 0.1, alpha= 0.0001, random_state=0)\n",
    "\n",
    "SGD_regressor.fit(X_train_C2H6, y_train_C2H6)\n",
    "predictions = SGD_regressor.predict(X_test_C2H6)"
   ]
  },
  {
   "cell_type": "code",
   "execution_count": 1063,
   "metadata": {},
   "outputs": [
    {
     "data": {
      "text/plain": [
       "3.223429777931039"
      ]
     },
     "execution_count": 1063,
     "metadata": {},
     "output_type": "execute_result"
    }
   ],
   "source": [
    "metrics.mean_absolute_error(y_test_C2H6, predictions)"
   ]
  },
  {
   "cell_type": "code",
   "execution_count": 1064,
   "metadata": {},
   "outputs": [
    {
     "name": "stdout",
     "output_type": "stream",
     "text": [
      "SGD (KFold) mean:0.7808541810610398, max:1.5509676120479956, min:0.44337828415547903, std:0.3956863146097772\n"
     ]
    }
   ],
   "source": [
    "SGD_scoring = cross_val_score(SGD_regressor, X_train_C2H6, y_train_C2H6, scoring = scorer , cv = cv_strategy_KFold)\n",
    "print ('SGD (KFold) mean:{}, max:{}, min:{}, std:{}'.format(SGD_scoring .mean(), SGD_scoring .max(), \n",
    "                                                     SGD_scoring .min(), SGD_scoring .std()))"
   ]
  },
  {
   "cell_type": "code",
   "execution_count": 1065,
   "metadata": {},
   "outputs": [
    {
     "data": {
      "text/plain": [
       "array([0.72074323, 1.55096761, 0.63248725, 0.44337828, 0.55669454])"
      ]
     },
     "execution_count": 1065,
     "metadata": {},
     "output_type": "execute_result"
    }
   ],
   "source": [
    "SGD_scoring"
   ]
  },
  {
   "cell_type": "code",
   "execution_count": 1066,
   "metadata": {},
   "outputs": [
    {
     "name": "stdout",
     "output_type": "stream",
     "text": [
      "SGD (TMS) mean:0.8302627524691184, max:1.341026450530759, min:0.3481430663519423, std:0.3525794840918707\n"
     ]
    }
   ],
   "source": [
    "SGD_scoring = cross_val_score(SGD_regressor, X_train_C2H6, y_train_C2H6, scoring = scorer, cv = cv_strategy_TMS)\n",
    "print ('SGD (TMS) mean:{}, max:{}, min:{}, std:{}'.format(SGD_scoring .mean(), SGD_scoring .max(), \n",
    "                                                     SGD_scoring .min(), SGD_scoring .std()))"
   ]
  },
  {
   "cell_type": "code",
   "execution_count": 1067,
   "metadata": {},
   "outputs": [
    {
     "data": {
      "text/plain": [
       "array([1.10485849, 1.34102645, 0.73721983, 0.34814307, 0.62006592])"
      ]
     },
     "execution_count": 1067,
     "metadata": {},
     "output_type": "execute_result"
    }
   ],
   "source": [
    "SGD_scoring"
   ]
  },
  {
   "cell_type": "code",
   "execution_count": 1068,
   "metadata": {},
   "outputs": [
    {
     "data": {
      "text/plain": [
       "dict_keys(['alpha', 'average', 'early_stopping', 'epsilon', 'eta0', 'fit_intercept', 'l1_ratio', 'learning_rate', 'loss', 'max_iter', 'n_iter_no_change', 'penalty', 'power_t', 'random_state', 'shuffle', 'tol', 'validation_fraction', 'verbose', 'warm_start'])"
      ]
     },
     "execution_count": 1068,
     "metadata": {},
     "output_type": "execute_result"
    }
   ],
   "source": [
    "SGD_regressor.get_params().keys()"
   ]
  },
  {
   "cell_type": "code",
   "execution_count": 1069,
   "metadata": {},
   "outputs": [],
   "source": [
    "parameters_grid = {\n",
    "    'penalty' : ['l1', 'l2'],\n",
    "    'alpha' : [0.00005, 0.0001, 0.001,0.0001],\n",
    "    'eta0' : [0.001, 0.005, 0.01, 0.05, 0.1],\n",
    "     'tol' : [0.5,1, 1.5],\n",
    "    'power_t' : [0.15,0.2,0.25, 0.3], \n",
    "    \n",
    "}"
   ]
  },
  {
   "cell_type": "code",
   "execution_count": 1070,
   "metadata": {},
   "outputs": [],
   "source": [
    "randomized_grid_cv = RandomizedSearchCV(SGD_regressor, parameters_grid, scoring = scorerCV,\n",
    "                                        cv = cv_strategy_KFold, n_iter = 200, random_state=0)"
   ]
  },
  {
   "cell_type": "code",
   "execution_count": 1071,
   "metadata": {},
   "outputs": [
    {
     "name": "stdout",
     "output_type": "stream",
     "text": [
      "Wall time: 9.03 s\n"
     ]
    },
    {
     "data": {
      "text/plain": [
       "RandomizedSearchCV(cv=KFold(n_splits=5, random_state=0, shuffle=False),\n",
       "                   error_score='raise-deprecating',\n",
       "                   estimator=SGDRegressor(alpha=0.0001, average=False,\n",
       "                                          early_stopping=False, epsilon=0.1,\n",
       "                                          eta0=0.01, fit_intercept=True,\n",
       "                                          l1_ratio=0.15,\n",
       "                                          learning_rate='invscaling',\n",
       "                                          loss='squared_loss', max_iter=1000,\n",
       "                                          n_iter_no_change=5, penalty='l2',\n",
       "                                          power_t=0.25, random_state=0,\n",
       "                                          sh...\n",
       "                                          warm_start=False),\n",
       "                   iid='warn', n_iter=200, n_jobs=None,\n",
       "                   param_distributions={'alpha': [5e-05, 0.0001, 0.001, 0.0001],\n",
       "                                        'eta0': [0.001, 0.005, 0.01, 0.05, 0.1],\n",
       "                                        'penalty': ['l1', 'l2'],\n",
       "                                        'power_t': [0.15, 0.2, 0.25, 0.3],\n",
       "                                        'tol': [0.5, 1, 1.5]},\n",
       "                   pre_dispatch='2*n_jobs', random_state=0, refit=True,\n",
       "                   return_train_score=False,\n",
       "                   scoring=make_scorer(mean_absolute_error, greater_is_better=False),\n",
       "                   verbose=0)"
      ]
     },
     "execution_count": 1071,
     "metadata": {},
     "output_type": "execute_result"
    }
   ],
   "source": [
    "%%time\n",
    "randomized_grid_cv.fit(X_train_C2H6, y_train_C2H6)"
   ]
  },
  {
   "cell_type": "code",
   "execution_count": 1072,
   "metadata": {},
   "outputs": [
    {
     "data": {
      "text/plain": [
       "SGDRegressor(alpha=5e-05, average=False, early_stopping=False, epsilon=0.1,\n",
       "             eta0=0.001, fit_intercept=True, l1_ratio=0.15,\n",
       "             learning_rate='invscaling', loss='squared_loss', max_iter=1000,\n",
       "             n_iter_no_change=5, penalty='l2', power_t=0.15, random_state=0,\n",
       "             shuffle=False, tol=1.5, validation_fraction=0.1, verbose=0,\n",
       "             warm_start=False)"
      ]
     },
     "execution_count": 1072,
     "metadata": {},
     "output_type": "execute_result"
    }
   ],
   "source": [
    "randomized_grid_cv.best_estimator_"
   ]
  },
  {
   "cell_type": "code",
   "execution_count": 1073,
   "metadata": {},
   "outputs": [
    {
     "name": "stdout",
     "output_type": "stream",
     "text": [
      "-0.7320181154110683\n",
      "{'tol': 1.5, 'power_t': 0.15, 'penalty': 'l2', 'eta0': 0.001, 'alpha': 5e-05}\n"
     ]
    }
   ],
   "source": [
    "print(randomized_grid_cv.best_score_)\n",
    "print(randomized_grid_cv.best_params_)"
   ]
  },
  {
   "cell_type": "code",
   "execution_count": 1074,
   "metadata": {},
   "outputs": [
    {
     "data": {
      "text/plain": [
       "2.8218706483066374"
      ]
     },
     "execution_count": 1074,
     "metadata": {},
     "output_type": "execute_result"
    }
   ],
   "source": [
    "predictions = randomized_grid_cv.predict(X_test_C2H6)\n",
    "metrics.mean_absolute_error(y_test_C2H6, predictions)"
   ]
  },
  {
   "cell_type": "code",
   "execution_count": 1075,
   "metadata": {},
   "outputs": [],
   "source": [
    "randomized_grid_cv = RandomizedSearchCV(SGD_regressor, parameters_grid, scoring = scorerCV,\n",
    "                                        cv = cv_strategy_TMS, n_iter = 200, random_state=0)"
   ]
  },
  {
   "cell_type": "code",
   "execution_count": 1076,
   "metadata": {},
   "outputs": [
    {
     "name": "stdout",
     "output_type": "stream",
     "text": [
      "Wall time: 7.13 s\n"
     ]
    },
    {
     "data": {
      "text/plain": [
       "RandomizedSearchCV(cv=TimeSeriesSplit(max_train_size=None, n_splits=5),\n",
       "                   error_score='raise-deprecating',\n",
       "                   estimator=SGDRegressor(alpha=0.0001, average=False,\n",
       "                                          early_stopping=False, epsilon=0.1,\n",
       "                                          eta0=0.01, fit_intercept=True,\n",
       "                                          l1_ratio=0.15,\n",
       "                                          learning_rate='invscaling',\n",
       "                                          loss='squared_loss', max_iter=1000,\n",
       "                                          n_iter_no_change=5, penalty='l2',\n",
       "                                          power_t=0.25, random_state=0,\n",
       "                                          s...\n",
       "                                          warm_start=False),\n",
       "                   iid='warn', n_iter=200, n_jobs=None,\n",
       "                   param_distributions={'alpha': [5e-05, 0.0001, 0.001, 0.0001],\n",
       "                                        'eta0': [0.001, 0.005, 0.01, 0.05, 0.1],\n",
       "                                        'penalty': ['l1', 'l2'],\n",
       "                                        'power_t': [0.15, 0.2, 0.25, 0.3],\n",
       "                                        'tol': [0.5, 1, 1.5]},\n",
       "                   pre_dispatch='2*n_jobs', random_state=0, refit=True,\n",
       "                   return_train_score=False,\n",
       "                   scoring=make_scorer(mean_absolute_error, greater_is_better=False),\n",
       "                   verbose=0)"
      ]
     },
     "execution_count": 1076,
     "metadata": {},
     "output_type": "execute_result"
    }
   ],
   "source": [
    "%%time\n",
    "randomized_grid_cv.fit(X_train_C2H6, y_train_C2H6)"
   ]
  },
  {
   "cell_type": "code",
   "execution_count": 1077,
   "metadata": {},
   "outputs": [
    {
     "data": {
      "text/plain": [
       "SGDRegressor(alpha=0.0001, average=False, early_stopping=False, epsilon=0.1,\n",
       "             eta0=0.1, fit_intercept=True, l1_ratio=0.15,\n",
       "             learning_rate='invscaling', loss='squared_loss', max_iter=1000,\n",
       "             n_iter_no_change=5, penalty='l2', power_t=0.15, random_state=0,\n",
       "             shuffle=False, tol=0.5, validation_fraction=0.1, verbose=0,\n",
       "             warm_start=False)"
      ]
     },
     "execution_count": 1077,
     "metadata": {},
     "output_type": "execute_result"
    }
   ],
   "source": [
    "randomized_grid_cv.best_estimator_"
   ]
  },
  {
   "cell_type": "code",
   "execution_count": 1078,
   "metadata": {},
   "outputs": [
    {
     "name": "stdout",
     "output_type": "stream",
     "text": [
      "-0.5118773980313367\n",
      "{'tol': 0.5, 'power_t': 0.15, 'penalty': 'l2', 'eta0': 0.1, 'alpha': 0.0001}\n"
     ]
    }
   ],
   "source": [
    "print(randomized_grid_cv.best_score_)\n",
    "print(randomized_grid_cv.best_params_)"
   ]
  },
  {
   "cell_type": "code",
   "execution_count": 1079,
   "metadata": {},
   "outputs": [
    {
     "data": {
      "text/plain": [
       "2.1711872772448677"
      ]
     },
     "execution_count": 1079,
     "metadata": {},
     "output_type": "execute_result"
    }
   ],
   "source": [
    "predictions = randomized_grid_cv.predict(X_test_C2H6)\n",
    "metrics.mean_absolute_error(y_test_C2H6, predictions)"
   ]
  },
  {
   "cell_type": "markdown",
   "metadata": {},
   "source": [
    "### C3H8"
   ]
  },
  {
   "cell_type": "code",
   "execution_count": 1080,
   "metadata": {},
   "outputs": [],
   "source": [
    "SGD_regressor = linear_model.SGDRegressor(shuffle=False, random_state=0)\n",
    "#SGD_regressor = linear_model.SGDRegressor(shuffle=False,tol=0.25, power_t=0.2, penalty='l2', \n",
    "#                                          eta0= 0.1, alpha= 0.001, random_state=0)\n",
    "\n",
    "SGD_regressor.fit(X_train_C3H8, y_train_C3H8)\n",
    "predictions = SGD_regressor.predict(X_test_C3H8)"
   ]
  },
  {
   "cell_type": "code",
   "execution_count": 1081,
   "metadata": {},
   "outputs": [
    {
     "data": {
      "text/plain": [
       "1.8286209978152967"
      ]
     },
     "execution_count": 1081,
     "metadata": {},
     "output_type": "execute_result"
    }
   ],
   "source": [
    "metrics.mean_absolute_error(y_test_C3H8, predictions)"
   ]
  },
  {
   "cell_type": "code",
   "execution_count": 1082,
   "metadata": {},
   "outputs": [
    {
     "name": "stdout",
     "output_type": "stream",
     "text": [
      "SGD (KFold) mean:1.5486737127644088, max:4.372053981362505, min:0.35314970798019957, std:1.4488789619102176\n"
     ]
    }
   ],
   "source": [
    "SGD_scoring = cross_val_score(SGD_regressor, X_train_C3H8, y_train_C3H8, scoring = scorer , cv = cv_strategy_KFold)\n",
    "print ('SGD (KFold) mean:{}, max:{}, min:{}, std:{}'.format(SGD_scoring .mean(), SGD_scoring .max(), \n",
    "                                                     SGD_scoring .min(), SGD_scoring .std()))"
   ]
  },
  {
   "cell_type": "code",
   "execution_count": 1083,
   "metadata": {},
   "outputs": [
    {
     "data": {
      "text/plain": [
       "array([0.90772632, 4.37205398, 1.36961499, 0.35314971, 0.74082357])"
      ]
     },
     "execution_count": 1083,
     "metadata": {},
     "output_type": "execute_result"
    }
   ],
   "source": [
    "SGD_scoring"
   ]
  },
  {
   "cell_type": "code",
   "execution_count": 1084,
   "metadata": {},
   "outputs": [
    {
     "name": "stdout",
     "output_type": "stream",
     "text": [
      "SGD (TMS) mean:8.049167837509653, max:36.689009405453525, min:0.4684333665964056, std:14.325933252614824\n"
     ]
    }
   ],
   "source": [
    "SGD_scoring = cross_val_score(SGD_regressor, X_train_C3H8, y_train_C3H8, scoring = scorer, cv = cv_strategy_TMS)\n",
    "print ('SGD (TMS) mean:{}, max:{}, min:{}, std:{}'.format(SGD_scoring .mean(), SGD_scoring .max(), \n",
    "                                                     SGD_scoring .min(), SGD_scoring .std()))"
   ]
  },
  {
   "cell_type": "code",
   "execution_count": 1085,
   "metadata": {},
   "outputs": [
    {
     "data": {
      "text/plain": [
       "array([36.68900941,  1.66714036,  0.62359404,  0.79766201,  0.46843337])"
      ]
     },
     "execution_count": 1085,
     "metadata": {},
     "output_type": "execute_result"
    }
   ],
   "source": [
    "SGD_scoring"
   ]
  },
  {
   "cell_type": "code",
   "execution_count": 1086,
   "metadata": {},
   "outputs": [
    {
     "data": {
      "text/plain": [
       "dict_keys(['alpha', 'average', 'early_stopping', 'epsilon', 'eta0', 'fit_intercept', 'l1_ratio', 'learning_rate', 'loss', 'max_iter', 'n_iter_no_change', 'penalty', 'power_t', 'random_state', 'shuffle', 'tol', 'validation_fraction', 'verbose', 'warm_start'])"
      ]
     },
     "execution_count": 1086,
     "metadata": {},
     "output_type": "execute_result"
    }
   ],
   "source": [
    "SGD_regressor.get_params().keys()"
   ]
  },
  {
   "cell_type": "code",
   "execution_count": 1087,
   "metadata": {},
   "outputs": [],
   "source": [
    "parameters_grid = {\n",
    "    'penalty' : ['l1', 'l2'],\n",
    "    'alpha' : [0.00005, 0.0001, 0.001,0.0001],\n",
    "    'eta0' : [0.001, 0.005, 0.01, 0.05, 0.1],\n",
    "     'tol' : [0.25,0.5,1, 1.5],\n",
    "    'power_t' : [0.15,0.2,0.25, 0.3], \n",
    "    \n",
    "}"
   ]
  },
  {
   "cell_type": "code",
   "execution_count": 1088,
   "metadata": {},
   "outputs": [],
   "source": [
    "randomized_grid_cv = RandomizedSearchCV(SGD_regressor, parameters_grid, scoring = scorerCV, \n",
    "                                        cv = cv_strategy_KFold, n_iter = 200, random_state=0)"
   ]
  },
  {
   "cell_type": "code",
   "execution_count": 1089,
   "metadata": {},
   "outputs": [
    {
     "name": "stdout",
     "output_type": "stream",
     "text": [
      "Wall time: 24.5 s\n"
     ]
    },
    {
     "data": {
      "text/plain": [
       "RandomizedSearchCV(cv=KFold(n_splits=5, random_state=0, shuffle=False),\n",
       "                   error_score='raise-deprecating',\n",
       "                   estimator=SGDRegressor(alpha=0.0001, average=False,\n",
       "                                          early_stopping=False, epsilon=0.1,\n",
       "                                          eta0=0.01, fit_intercept=True,\n",
       "                                          l1_ratio=0.15,\n",
       "                                          learning_rate='invscaling',\n",
       "                                          loss='squared_loss', max_iter=1000,\n",
       "                                          n_iter_no_change=5, penalty='l2',\n",
       "                                          power_t=0.25, random_state=0,\n",
       "                                          sh...\n",
       "                   iid='warn', n_iter=200, n_jobs=None,\n",
       "                   param_distributions={'alpha': [5e-05, 0.0001, 0.001, 0.0001],\n",
       "                                        'eta0': [0.001, 0.005, 0.01, 0.05, 0.1],\n",
       "                                        'penalty': ['l1', 'l2'],\n",
       "                                        'power_t': [0.15, 0.2, 0.25, 0.3],\n",
       "                                        'tol': [0.25, 0.5, 1, 1.5]},\n",
       "                   pre_dispatch='2*n_jobs', random_state=0, refit=True,\n",
       "                   return_train_score=False,\n",
       "                   scoring=make_scorer(mean_absolute_error, greater_is_better=False),\n",
       "                   verbose=0)"
      ]
     },
     "execution_count": 1089,
     "metadata": {},
     "output_type": "execute_result"
    }
   ],
   "source": [
    "%%time\n",
    "randomized_grid_cv.fit(X_train_C3H8, y_train_C3H8)"
   ]
  },
  {
   "cell_type": "code",
   "execution_count": 1090,
   "metadata": {},
   "outputs": [
    {
     "data": {
      "text/plain": [
       "SGDRegressor(alpha=0.001, average=False, early_stopping=False, epsilon=0.1,\n",
       "             eta0=0.05, fit_intercept=True, l1_ratio=0.15,\n",
       "             learning_rate='invscaling', loss='squared_loss', max_iter=1000,\n",
       "             n_iter_no_change=5, penalty='l2', power_t=0.15, random_state=0,\n",
       "             shuffle=False, tol=0.5, validation_fraction=0.1, verbose=0,\n",
       "             warm_start=False)"
      ]
     },
     "execution_count": 1090,
     "metadata": {},
     "output_type": "execute_result"
    }
   ],
   "source": [
    "randomized_grid_cv.best_estimator_"
   ]
  },
  {
   "cell_type": "code",
   "execution_count": 1091,
   "metadata": {},
   "outputs": [
    {
     "name": "stdout",
     "output_type": "stream",
     "text": [
      "-2.632285976740567\n",
      "{'tol': 0.5, 'power_t': 0.15, 'penalty': 'l2', 'eta0': 0.05, 'alpha': 0.001}\n"
     ]
    }
   ],
   "source": [
    "print(randomized_grid_cv.best_score_)\n",
    "print(randomized_grid_cv.best_params_)"
   ]
  },
  {
   "cell_type": "code",
   "execution_count": 1092,
   "metadata": {},
   "outputs": [
    {
     "data": {
      "text/plain": [
       "1.5093748523793953"
      ]
     },
     "execution_count": 1092,
     "metadata": {},
     "output_type": "execute_result"
    }
   ],
   "source": [
    "predictions = randomized_grid_cv.predict(X_test_C3H8)\n",
    "metrics.mean_absolute_error(y_test_C3H8, predictions)"
   ]
  },
  {
   "cell_type": "code",
   "execution_count": 1093,
   "metadata": {},
   "outputs": [],
   "source": [
    "randomized_grid_cv = RandomizedSearchCV(SGD_regressor, parameters_grid, scoring = scorerCV, \n",
    "                                        cv = cv_strategy_TMS, n_iter = 200, random_state=0)"
   ]
  },
  {
   "cell_type": "code",
   "execution_count": 1094,
   "metadata": {},
   "outputs": [
    {
     "name": "stdout",
     "output_type": "stream",
     "text": [
      "Wall time: 15.9 s\n"
     ]
    },
    {
     "data": {
      "text/plain": [
       "RandomizedSearchCV(cv=TimeSeriesSplit(max_train_size=None, n_splits=5),\n",
       "                   error_score='raise-deprecating',\n",
       "                   estimator=SGDRegressor(alpha=0.0001, average=False,\n",
       "                                          early_stopping=False, epsilon=0.1,\n",
       "                                          eta0=0.01, fit_intercept=True,\n",
       "                                          l1_ratio=0.15,\n",
       "                                          learning_rate='invscaling',\n",
       "                                          loss='squared_loss', max_iter=1000,\n",
       "                                          n_iter_no_change=5, penalty='l2',\n",
       "                                          power_t=0.25, random_state=0,\n",
       "                                          s...\n",
       "                   iid='warn', n_iter=200, n_jobs=None,\n",
       "                   param_distributions={'alpha': [5e-05, 0.0001, 0.001, 0.0001],\n",
       "                                        'eta0': [0.001, 0.005, 0.01, 0.05, 0.1],\n",
       "                                        'penalty': ['l1', 'l2'],\n",
       "                                        'power_t': [0.15, 0.2, 0.25, 0.3],\n",
       "                                        'tol': [0.25, 0.5, 1, 1.5]},\n",
       "                   pre_dispatch='2*n_jobs', random_state=0, refit=True,\n",
       "                   return_train_score=False,\n",
       "                   scoring=make_scorer(mean_absolute_error, greater_is_better=False),\n",
       "                   verbose=0)"
      ]
     },
     "execution_count": 1094,
     "metadata": {},
     "output_type": "execute_result"
    }
   ],
   "source": [
    "%%time\n",
    "randomized_grid_cv.fit(X_train_C3H8, y_train_C3H8)"
   ]
  },
  {
   "cell_type": "code",
   "execution_count": 1095,
   "metadata": {},
   "outputs": [
    {
     "data": {
      "text/plain": [
       "SGDRegressor(alpha=0.001, average=False, early_stopping=False, epsilon=0.1,\n",
       "             eta0=0.1, fit_intercept=True, l1_ratio=0.15,\n",
       "             learning_rate='invscaling', loss='squared_loss', max_iter=1000,\n",
       "             n_iter_no_change=5, penalty='l1', power_t=0.2, random_state=0,\n",
       "             shuffle=False, tol=0.25, validation_fraction=0.1, verbose=0,\n",
       "             warm_start=False)"
      ]
     },
     "execution_count": 1095,
     "metadata": {},
     "output_type": "execute_result"
    }
   ],
   "source": [
    "randomized_grid_cv.best_estimator_"
   ]
  },
  {
   "cell_type": "code",
   "execution_count": 1096,
   "metadata": {},
   "outputs": [
    {
     "name": "stdout",
     "output_type": "stream",
     "text": [
      "-9.066809467279775\n",
      "{'tol': 0.25, 'power_t': 0.2, 'penalty': 'l1', 'eta0': 0.1, 'alpha': 0.001}\n"
     ]
    }
   ],
   "source": [
    "print(randomized_grid_cv.best_score_)\n",
    "print(randomized_grid_cv.best_params_)"
   ]
  },
  {
   "cell_type": "code",
   "execution_count": 1097,
   "metadata": {},
   "outputs": [
    {
     "data": {
      "text/plain": [
       "2.8314712194382574"
      ]
     },
     "execution_count": 1097,
     "metadata": {},
     "output_type": "execute_result"
    }
   ],
   "source": [
    "predictions = randomized_grid_cv.predict(X_test_C3H8)\n",
    "metrics.mean_absolute_error(y_test_C3H8, predictions)"
   ]
  },
  {
   "cell_type": "markdown",
   "metadata": {},
   "source": [
    "### iC4H10"
   ]
  },
  {
   "cell_type": "code",
   "execution_count": 1098,
   "metadata": {},
   "outputs": [],
   "source": [
    "SGD_regressor = linear_model.SGDRegressor(shuffle=False, random_state=0)\n",
    "#SGD_regressor = linear_model.SGDRegressor(shuffle=False,tol=1, power_t=0.2, penalty='l2', \n",
    "#                                          eta0= 0.1, alpha= 0.001, random_state=0)\n",
    "\n",
    "SGD_regressor.fit(X_train_iC4H10, y_train_iC4H10)\n",
    "predictions = SGD_regressor.predict(X_test_iC4H10)"
   ]
  },
  {
   "cell_type": "code",
   "execution_count": 1099,
   "metadata": {},
   "outputs": [
    {
     "data": {
      "text/plain": [
       "0.9509201606106973"
      ]
     },
     "execution_count": 1099,
     "metadata": {},
     "output_type": "execute_result"
    }
   ],
   "source": [
    "metrics.mean_absolute_error(y_test_iC4H10, predictions)"
   ]
  },
  {
   "cell_type": "code",
   "execution_count": 1100,
   "metadata": {},
   "outputs": [
    {
     "name": "stdout",
     "output_type": "stream",
     "text": [
      "SGD (KFold) mean:1.3777429663553082, max:5.984026864371929, min:0.1555007029825834, std:2.3040689198805575\n"
     ]
    }
   ],
   "source": [
    "SGD_scoring = cross_val_score(SGD_regressor, X_train_iC4H10, y_train_iC4H10, scoring = scorer , cv = cv_strategy_KFold)\n",
    "print ('SGD (KFold) mean:{}, max:{}, min:{}, std:{}'.format(SGD_scoring .mean(), SGD_scoring .max(), \n",
    "                                                     SGD_scoring .min(), SGD_scoring .std()))"
   ]
  },
  {
   "cell_type": "code",
   "execution_count": 1101,
   "metadata": {},
   "outputs": [
    {
     "data": {
      "text/plain": [
       "array([0.1555007 , 5.98402686, 0.22507761, 0.17903987, 0.34506979])"
      ]
     },
     "execution_count": 1101,
     "metadata": {},
     "output_type": "execute_result"
    }
   ],
   "source": [
    "SGD_scoring"
   ]
  },
  {
   "cell_type": "code",
   "execution_count": 1102,
   "metadata": {},
   "outputs": [
    {
     "name": "stdout",
     "output_type": "stream",
     "text": [
      "SGD (TMS) mean:3.9582022522472124, max:18.472085671245686, min:0.17132021028836442, std:7.258268108543571\n"
     ]
    }
   ],
   "source": [
    "SGD_scoring = cross_val_score(SGD_regressor, X_train_iC4H10, y_train_iC4H10, scoring = scorer, cv = cv_strategy_TMS)\n",
    "print ('SGD (TMS) mean:{}, max:{}, min:{}, std:{}'.format(SGD_scoring .mean(), SGD_scoring .max(), \n",
    "                                                     SGD_scoring .min(), SGD_scoring .std()))"
   ]
  },
  {
   "cell_type": "code",
   "execution_count": 1103,
   "metadata": {},
   "outputs": [
    {
     "data": {
      "text/plain": [
       "array([18.47208567,  0.56288214,  0.17132021,  0.20864057,  0.37608266])"
      ]
     },
     "execution_count": 1103,
     "metadata": {},
     "output_type": "execute_result"
    }
   ],
   "source": [
    "SGD_scoring"
   ]
  },
  {
   "cell_type": "code",
   "execution_count": 1104,
   "metadata": {},
   "outputs": [
    {
     "data": {
      "text/plain": [
       "dict_keys(['alpha', 'average', 'early_stopping', 'epsilon', 'eta0', 'fit_intercept', 'l1_ratio', 'learning_rate', 'loss', 'max_iter', 'n_iter_no_change', 'penalty', 'power_t', 'random_state', 'shuffle', 'tol', 'validation_fraction', 'verbose', 'warm_start'])"
      ]
     },
     "execution_count": 1104,
     "metadata": {},
     "output_type": "execute_result"
    }
   ],
   "source": [
    "SGD_regressor.get_params().keys()"
   ]
  },
  {
   "cell_type": "code",
   "execution_count": 1105,
   "metadata": {},
   "outputs": [],
   "source": [
    "parameters_grid = {\n",
    "    'penalty' : ['l1', 'l2'],\n",
    "    'alpha' : [0.00005, 0.0001, 0.001,0.0001],\n",
    "    'eta0' : [0.001, 0.005, 0.01, 0.05, 0.1],\n",
    "     'tol' : [0.5,1, 1.5],\n",
    "    'power_t' : [0.15,0.2,0.25, 0.3], \n",
    "    \n",
    "}"
   ]
  },
  {
   "cell_type": "code",
   "execution_count": 1106,
   "metadata": {},
   "outputs": [],
   "source": [
    "randomized_grid_cv = RandomizedSearchCV(SGD_regressor, parameters_grid, scoring = scorerCV,\n",
    "                                        cv = cv_strategy_KFold, n_iter = 200, random_state=0)"
   ]
  },
  {
   "cell_type": "code",
   "execution_count": 1107,
   "metadata": {},
   "outputs": [
    {
     "name": "stdout",
     "output_type": "stream",
     "text": [
      "Wall time: 24.8 s\n"
     ]
    },
    {
     "data": {
      "text/plain": [
       "RandomizedSearchCV(cv=KFold(n_splits=5, random_state=0, shuffle=False),\n",
       "                   error_score='raise-deprecating',\n",
       "                   estimator=SGDRegressor(alpha=0.0001, average=False,\n",
       "                                          early_stopping=False, epsilon=0.1,\n",
       "                                          eta0=0.01, fit_intercept=True,\n",
       "                                          l1_ratio=0.15,\n",
       "                                          learning_rate='invscaling',\n",
       "                                          loss='squared_loss', max_iter=1000,\n",
       "                                          n_iter_no_change=5, penalty='l2',\n",
       "                                          power_t=0.25, random_state=0,\n",
       "                                          sh...\n",
       "                                          warm_start=False),\n",
       "                   iid='warn', n_iter=200, n_jobs=None,\n",
       "                   param_distributions={'alpha': [5e-05, 0.0001, 0.001, 0.0001],\n",
       "                                        'eta0': [0.001, 0.005, 0.01, 0.05, 0.1],\n",
       "                                        'penalty': ['l1', 'l2'],\n",
       "                                        'power_t': [0.15, 0.2, 0.25, 0.3],\n",
       "                                        'tol': [0.5, 1, 1.5]},\n",
       "                   pre_dispatch='2*n_jobs', random_state=0, refit=True,\n",
       "                   return_train_score=False,\n",
       "                   scoring=make_scorer(mean_absolute_error, greater_is_better=False),\n",
       "                   verbose=0)"
      ]
     },
     "execution_count": 1107,
     "metadata": {},
     "output_type": "execute_result"
    }
   ],
   "source": [
    "%%time\n",
    "randomized_grid_cv.fit(X_train_iC4H10, y_train_iC4H10)"
   ]
  },
  {
   "cell_type": "code",
   "execution_count": 1108,
   "metadata": {},
   "outputs": [
    {
     "data": {
      "text/plain": [
       "SGDRegressor(alpha=0.001, average=False, early_stopping=False, epsilon=0.1,\n",
       "             eta0=0.05, fit_intercept=True, l1_ratio=0.15,\n",
       "             learning_rate='invscaling', loss='squared_loss', max_iter=1000,\n",
       "             n_iter_no_change=5, penalty='l1', power_t=0.15, random_state=0,\n",
       "             shuffle=False, tol=1, validation_fraction=0.1, verbose=0,\n",
       "             warm_start=False)"
      ]
     },
     "execution_count": 1108,
     "metadata": {},
     "output_type": "execute_result"
    }
   ],
   "source": [
    "randomized_grid_cv.best_estimator_"
   ]
  },
  {
   "cell_type": "code",
   "execution_count": 1109,
   "metadata": {},
   "outputs": [
    {
     "name": "stdout",
     "output_type": "stream",
     "text": [
      "-1.4101229291206203\n",
      "{'tol': 1, 'power_t': 0.15, 'penalty': 'l1', 'eta0': 0.05, 'alpha': 0.001}\n"
     ]
    }
   ],
   "source": [
    "print(randomized_grid_cv.best_score_)\n",
    "print(randomized_grid_cv.best_params_)"
   ]
  },
  {
   "cell_type": "code",
   "execution_count": 1110,
   "metadata": {},
   "outputs": [
    {
     "data": {
      "text/plain": [
       "0.6919892465468686"
      ]
     },
     "execution_count": 1110,
     "metadata": {},
     "output_type": "execute_result"
    }
   ],
   "source": [
    "predictions = randomized_grid_cv.predict(X_test_iC4H10)\n",
    "metrics.mean_absolute_error(y_test_iC4H10, predictions)"
   ]
  },
  {
   "cell_type": "code",
   "execution_count": 1111,
   "metadata": {},
   "outputs": [],
   "source": [
    "randomized_grid_cv = RandomizedSearchCV(SGD_regressor, parameters_grid, scoring = scorerCV,\n",
    "                                        cv = cv_strategy_TMS, n_iter = 200, random_state=0)"
   ]
  },
  {
   "cell_type": "code",
   "execution_count": 1112,
   "metadata": {},
   "outputs": [
    {
     "name": "stdout",
     "output_type": "stream",
     "text": [
      "Wall time: 16.6 s\n"
     ]
    },
    {
     "data": {
      "text/plain": [
       "RandomizedSearchCV(cv=TimeSeriesSplit(max_train_size=None, n_splits=5),\n",
       "                   error_score='raise-deprecating',\n",
       "                   estimator=SGDRegressor(alpha=0.0001, average=False,\n",
       "                                          early_stopping=False, epsilon=0.1,\n",
       "                                          eta0=0.01, fit_intercept=True,\n",
       "                                          l1_ratio=0.15,\n",
       "                                          learning_rate='invscaling',\n",
       "                                          loss='squared_loss', max_iter=1000,\n",
       "                                          n_iter_no_change=5, penalty='l2',\n",
       "                                          power_t=0.25, random_state=0,\n",
       "                                          s...\n",
       "                                          warm_start=False),\n",
       "                   iid='warn', n_iter=200, n_jobs=None,\n",
       "                   param_distributions={'alpha': [5e-05, 0.0001, 0.001, 0.0001],\n",
       "                                        'eta0': [0.001, 0.005, 0.01, 0.05, 0.1],\n",
       "                                        'penalty': ['l1', 'l2'],\n",
       "                                        'power_t': [0.15, 0.2, 0.25, 0.3],\n",
       "                                        'tol': [0.5, 1, 1.5]},\n",
       "                   pre_dispatch='2*n_jobs', random_state=0, refit=True,\n",
       "                   return_train_score=False,\n",
       "                   scoring=make_scorer(mean_absolute_error, greater_is_better=False),\n",
       "                   verbose=0)"
      ]
     },
     "execution_count": 1112,
     "metadata": {},
     "output_type": "execute_result"
    }
   ],
   "source": [
    "%%time\n",
    "randomized_grid_cv.fit(X_train_iC4H10, y_train_iC4H10)"
   ]
  },
  {
   "cell_type": "code",
   "execution_count": 1113,
   "metadata": {},
   "outputs": [
    {
     "data": {
      "text/plain": [
       "SGDRegressor(alpha=0.001, average=False, early_stopping=False, epsilon=0.1,\n",
       "             eta0=0.1, fit_intercept=True, l1_ratio=0.15,\n",
       "             learning_rate='invscaling', loss='squared_loss', max_iter=1000,\n",
       "             n_iter_no_change=5, penalty='l2', power_t=0.2, random_state=0,\n",
       "             shuffle=False, tol=1, validation_fraction=0.1, verbose=0,\n",
       "             warm_start=False)"
      ]
     },
     "execution_count": 1113,
     "metadata": {},
     "output_type": "execute_result"
    }
   ],
   "source": [
    "randomized_grid_cv.best_estimator_"
   ]
  },
  {
   "cell_type": "code",
   "execution_count": 1114,
   "metadata": {},
   "outputs": [
    {
     "name": "stdout",
     "output_type": "stream",
     "text": [
      "-4.415966417210468\n",
      "{'tol': 1, 'power_t': 0.2, 'penalty': 'l2', 'eta0': 0.1, 'alpha': 0.001}\n"
     ]
    }
   ],
   "source": [
    "print(randomized_grid_cv.best_score_)\n",
    "print(randomized_grid_cv.best_params_)"
   ]
  },
  {
   "cell_type": "code",
   "execution_count": 1115,
   "metadata": {},
   "outputs": [
    {
     "data": {
      "text/plain": [
       "1.1587457465152966"
      ]
     },
     "execution_count": 1115,
     "metadata": {},
     "output_type": "execute_result"
    }
   ],
   "source": [
    "predictions = randomized_grid_cv.predict(X_test_iC4H10)\n",
    "metrics.mean_absolute_error(y_test_iC4H10, predictions)"
   ]
  },
  {
   "cell_type": "markdown",
   "metadata": {},
   "source": [
    "### nC4H10"
   ]
  },
  {
   "cell_type": "code",
   "execution_count": 1116,
   "metadata": {},
   "outputs": [],
   "source": [
    "SGD_regressor = linear_model.SGDRegressor(shuffle=False, random_state=0)\n",
    "#SGD_regressor = linear_model.SGDRegressor(shuffle=False,tol=0.5, power_t=0.15, penalty='l2', \n",
    "#                                          eta0= 0.05, alpha= 0.001, random_state=0)\n",
    "\n",
    "SGD_regressor.fit(X_train_nC4H10, y_train_nC4H10)\n",
    "predictions = SGD_regressor.predict(X_test_nC4H10)"
   ]
  },
  {
   "cell_type": "code",
   "execution_count": 1117,
   "metadata": {},
   "outputs": [
    {
     "data": {
      "text/plain": [
       "1.4247802449575515"
      ]
     },
     "execution_count": 1117,
     "metadata": {},
     "output_type": "execute_result"
    }
   ],
   "source": [
    "metrics.mean_absolute_error(y_test_nC4H10, predictions)"
   ]
  },
  {
   "cell_type": "code",
   "execution_count": 1118,
   "metadata": {},
   "outputs": [
    {
     "name": "stdout",
     "output_type": "stream",
     "text": [
      "SGD (KFold) mean:1.7245262597193332, max:7.407119932185212, min:0.23607502526424176, std:2.84179652618471\n"
     ]
    }
   ],
   "source": [
    "SGD_scoring = cross_val_score(SGD_regressor, X_train_nC4H10, y_train_nC4H10, scoring = scorer , cv = cv_strategy_KFold)\n",
    "print ('SGD (KFold) mean:{}, max:{}, min:{}, std:{}'.format(SGD_scoring .mean(), SGD_scoring .max(), \n",
    "                                                     SGD_scoring .min(), SGD_scoring .std()))"
   ]
  },
  {
   "cell_type": "code",
   "execution_count": 1119,
   "metadata": {},
   "outputs": [
    {
     "data": {
      "text/plain": [
       "array([0.2602252 , 7.40711993, 0.33235683, 0.23607503, 0.38685432])"
      ]
     },
     "execution_count": 1119,
     "metadata": {},
     "output_type": "execute_result"
    }
   ],
   "source": [
    "SGD_scoring"
   ]
  },
  {
   "cell_type": "code",
   "execution_count": 1120,
   "metadata": {},
   "outputs": [
    {
     "name": "stdout",
     "output_type": "stream",
     "text": [
      "SGD (TMS) mean:5.5284031795006054, max:25.816641634025654, min:0.3270275610208852, std:10.145367311304057\n"
     ]
    }
   ],
   "source": [
    "SGD_scoring = cross_val_score(SGD_regressor, X_train_nC4H10, y_train_nC4H10, scoring = scorer, cv = cv_strategy_TMS)\n",
    "print ('SGD (TMS) mean:{}, max:{}, min:{}, std:{}'.format(SGD_scoring .mean(), SGD_scoring .max(), \n",
    "                                                     SGD_scoring .min(), SGD_scoring .std()))"
   ]
  },
  {
   "cell_type": "code",
   "execution_count": 1121,
   "metadata": {},
   "outputs": [
    {
     "data": {
      "text/plain": [
       "array([25.81664163,  0.76002369,  0.33402428,  0.32702756,  0.40429873])"
      ]
     },
     "execution_count": 1121,
     "metadata": {},
     "output_type": "execute_result"
    }
   ],
   "source": [
    "SGD_scoring"
   ]
  },
  {
   "cell_type": "code",
   "execution_count": 1122,
   "metadata": {},
   "outputs": [
    {
     "data": {
      "text/plain": [
       "dict_keys(['alpha', 'average', 'early_stopping', 'epsilon', 'eta0', 'fit_intercept', 'l1_ratio', 'learning_rate', 'loss', 'max_iter', 'n_iter_no_change', 'penalty', 'power_t', 'random_state', 'shuffle', 'tol', 'validation_fraction', 'verbose', 'warm_start'])"
      ]
     },
     "execution_count": 1122,
     "metadata": {},
     "output_type": "execute_result"
    }
   ],
   "source": [
    "SGD_regressor.get_params().keys()"
   ]
  },
  {
   "cell_type": "code",
   "execution_count": 1123,
   "metadata": {},
   "outputs": [],
   "source": [
    "parameters_grid = {\n",
    "    'penalty' : ['l1', 'l2'],\n",
    "    'alpha' : [0.00005, 0.0001, 0.001,0.0001],\n",
    "    'eta0' : [0.001, 0.005, 0.01, 0.05,0.1],\n",
    "     'tol' : [0.25,0.5,1, 1.5],\n",
    "    'power_t' : [0.15,0.2,0.25, 0.3], \n",
    "    \n",
    "}"
   ]
  },
  {
   "cell_type": "code",
   "execution_count": 1124,
   "metadata": {},
   "outputs": [],
   "source": [
    "randomized_grid_cv = RandomizedSearchCV(SGD_regressor, parameters_grid, scoring = scorerCV,\n",
    "                                        cv = cv_strategy_KFold, n_iter = 200, random_state=0)"
   ]
  },
  {
   "cell_type": "code",
   "execution_count": 1125,
   "metadata": {},
   "outputs": [
    {
     "name": "stdout",
     "output_type": "stream",
     "text": [
      "Wall time: 25.1 s\n"
     ]
    },
    {
     "data": {
      "text/plain": [
       "RandomizedSearchCV(cv=KFold(n_splits=5, random_state=0, shuffle=False),\n",
       "                   error_score='raise-deprecating',\n",
       "                   estimator=SGDRegressor(alpha=0.0001, average=False,\n",
       "                                          early_stopping=False, epsilon=0.1,\n",
       "                                          eta0=0.01, fit_intercept=True,\n",
       "                                          l1_ratio=0.15,\n",
       "                                          learning_rate='invscaling',\n",
       "                                          loss='squared_loss', max_iter=1000,\n",
       "                                          n_iter_no_change=5, penalty='l2',\n",
       "                                          power_t=0.25, random_state=0,\n",
       "                                          sh...\n",
       "                   iid='warn', n_iter=200, n_jobs=None,\n",
       "                   param_distributions={'alpha': [5e-05, 0.0001, 0.001, 0.0001],\n",
       "                                        'eta0': [0.001, 0.005, 0.01, 0.05, 0.1],\n",
       "                                        'penalty': ['l1', 'l2'],\n",
       "                                        'power_t': [0.15, 0.2, 0.25, 0.3],\n",
       "                                        'tol': [0.25, 0.5, 1, 1.5]},\n",
       "                   pre_dispatch='2*n_jobs', random_state=0, refit=True,\n",
       "                   return_train_score=False,\n",
       "                   scoring=make_scorer(mean_absolute_error, greater_is_better=False),\n",
       "                   verbose=0)"
      ]
     },
     "execution_count": 1125,
     "metadata": {},
     "output_type": "execute_result"
    }
   ],
   "source": [
    "%%time\n",
    "randomized_grid_cv.fit(X_train_nC4H10, y_train_nC4H10)"
   ]
  },
  {
   "cell_type": "code",
   "execution_count": 1126,
   "metadata": {},
   "outputs": [
    {
     "data": {
      "text/plain": [
       "SGDRegressor(alpha=0.001, average=False, early_stopping=False, epsilon=0.1,\n",
       "             eta0=0.05, fit_intercept=True, l1_ratio=0.15,\n",
       "             learning_rate='invscaling', loss='squared_loss', max_iter=1000,\n",
       "             n_iter_no_change=5, penalty='l2', power_t=0.15, random_state=0,\n",
       "             shuffle=False, tol=0.5, validation_fraction=0.1, verbose=0,\n",
       "             warm_start=False)"
      ]
     },
     "execution_count": 1126,
     "metadata": {},
     "output_type": "execute_result"
    }
   ],
   "source": [
    "randomized_grid_cv.best_estimator_"
   ]
  },
  {
   "cell_type": "code",
   "execution_count": 1127,
   "metadata": {},
   "outputs": [
    {
     "name": "stdout",
     "output_type": "stream",
     "text": [
      "-1.7794421885156662\n",
      "{'tol': 0.5, 'power_t': 0.15, 'penalty': 'l2', 'eta0': 0.05, 'alpha': 0.001}\n"
     ]
    }
   ],
   "source": [
    "print(randomized_grid_cv.best_score_)\n",
    "print(randomized_grid_cv.best_params_)"
   ]
  },
  {
   "cell_type": "code",
   "execution_count": 1128,
   "metadata": {},
   "outputs": [
    {
     "data": {
      "text/plain": [
       "0.9355472405193754"
      ]
     },
     "execution_count": 1128,
     "metadata": {},
     "output_type": "execute_result"
    }
   ],
   "source": [
    "predictions = randomized_grid_cv.predict(X_test_nC4H10)\n",
    "metrics.mean_absolute_error(y_test_nC4H10, predictions)"
   ]
  },
  {
   "cell_type": "code",
   "execution_count": 1129,
   "metadata": {},
   "outputs": [],
   "source": [
    "randomized_grid_cv = RandomizedSearchCV(SGD_regressor, parameters_grid, scoring = scorerCV,\n",
    "                                        cv = cv_strategy_TMS, n_iter = 200, random_state=0)"
   ]
  },
  {
   "cell_type": "code",
   "execution_count": 1130,
   "metadata": {},
   "outputs": [
    {
     "name": "stdout",
     "output_type": "stream",
     "text": [
      "Wall time: 16.6 s\n"
     ]
    },
    {
     "data": {
      "text/plain": [
       "RandomizedSearchCV(cv=TimeSeriesSplit(max_train_size=None, n_splits=5),\n",
       "                   error_score='raise-deprecating',\n",
       "                   estimator=SGDRegressor(alpha=0.0001, average=False,\n",
       "                                          early_stopping=False, epsilon=0.1,\n",
       "                                          eta0=0.01, fit_intercept=True,\n",
       "                                          l1_ratio=0.15,\n",
       "                                          learning_rate='invscaling',\n",
       "                                          loss='squared_loss', max_iter=1000,\n",
       "                                          n_iter_no_change=5, penalty='l2',\n",
       "                                          power_t=0.25, random_state=0,\n",
       "                                          s...\n",
       "                   iid='warn', n_iter=200, n_jobs=None,\n",
       "                   param_distributions={'alpha': [5e-05, 0.0001, 0.001, 0.0001],\n",
       "                                        'eta0': [0.001, 0.005, 0.01, 0.05, 0.1],\n",
       "                                        'penalty': ['l1', 'l2'],\n",
       "                                        'power_t': [0.15, 0.2, 0.25, 0.3],\n",
       "                                        'tol': [0.25, 0.5, 1, 1.5]},\n",
       "                   pre_dispatch='2*n_jobs', random_state=0, refit=True,\n",
       "                   return_train_score=False,\n",
       "                   scoring=make_scorer(mean_absolute_error, greater_is_better=False),\n",
       "                   verbose=0)"
      ]
     },
     "execution_count": 1130,
     "metadata": {},
     "output_type": "execute_result"
    }
   ],
   "source": [
    "%%time\n",
    "randomized_grid_cv.fit(X_train_nC4H10, y_train_nC4H10)"
   ]
  },
  {
   "cell_type": "code",
   "execution_count": 1131,
   "metadata": {},
   "outputs": [
    {
     "data": {
      "text/plain": [
       "SGDRegressor(alpha=0.001, average=False, early_stopping=False, epsilon=0.1,\n",
       "             eta0=0.05, fit_intercept=True, l1_ratio=0.15,\n",
       "             learning_rate='invscaling', loss='squared_loss', max_iter=1000,\n",
       "             n_iter_no_change=5, penalty='l2', power_t=0.15, random_state=0,\n",
       "             shuffle=False, tol=0.5, validation_fraction=0.1, verbose=0,\n",
       "             warm_start=False)"
      ]
     },
     "execution_count": 1131,
     "metadata": {},
     "output_type": "execute_result"
    }
   ],
   "source": [
    "randomized_grid_cv.best_estimator_"
   ]
  },
  {
   "cell_type": "code",
   "execution_count": 1132,
   "metadata": {},
   "outputs": [
    {
     "name": "stdout",
     "output_type": "stream",
     "text": [
      "-6.134487035809981\n",
      "{'tol': 0.5, 'power_t': 0.15, 'penalty': 'l2', 'eta0': 0.05, 'alpha': 0.001}\n"
     ]
    }
   ],
   "source": [
    "print(randomized_grid_cv.best_score_)\n",
    "print(randomized_grid_cv.best_params_)"
   ]
  },
  {
   "cell_type": "code",
   "execution_count": 1133,
   "metadata": {},
   "outputs": [
    {
     "data": {
      "text/plain": [
       "0.9355472405193754"
      ]
     },
     "execution_count": 1133,
     "metadata": {},
     "output_type": "execute_result"
    }
   ],
   "source": [
    "predictions = randomized_grid_cv.predict(X_test_nC4H10)\n",
    "metrics.mean_absolute_error(y_test_nC4H10, predictions)"
   ]
  },
  {
   "cell_type": "markdown",
   "metadata": {},
   "source": [
    "# GradientBoostingRegressor"
   ]
  },
  {
   "cell_type": "markdown",
   "metadata": {},
   "source": [
    "### C2H6"
   ]
  },
  {
   "cell_type": "code",
   "execution_count": 1134,
   "metadata": {},
   "outputs": [],
   "source": [
    "estimator = GradientBoostingRegressor(random_state=0)\n",
    "estimator.fit(X_train_C2H6, y_train_C2H6)\n",
    "predictions = estimator.predict(X_test_C2H6)"
   ]
  },
  {
   "cell_type": "code",
   "execution_count": 1135,
   "metadata": {},
   "outputs": [
    {
     "data": {
      "text/plain": [
       "1.8798375980556714"
      ]
     },
     "execution_count": 1135,
     "metadata": {},
     "output_type": "execute_result"
    }
   ],
   "source": [
    "metrics.mean_absolute_error(y_test_C2H6, predictions)"
   ]
  },
  {
   "cell_type": "code",
   "execution_count": 1136,
   "metadata": {},
   "outputs": [
    {
     "name": "stdout",
     "output_type": "stream",
     "text": [
      "GBR (KFold) mean:0.7445223367552175, max:1.6629482929855002, min:0.3127689376391962, std:0.4775424359164478\n"
     ]
    }
   ],
   "source": [
    "GBR_scoring = cross_val_score(estimator, X_train_C2H6, y_train_C2H6, scoring = scorer, cv = cv_strategy_KFold)\n",
    "print ('GBR (KFold) mean:{}, max:{}, min:{}, std:{}'.format(GBR_scoring .mean(), GBR_scoring .max(), \n",
    "                                                     GBR_scoring .min(), GBR_scoring .std()))"
   ]
  },
  {
   "cell_type": "code",
   "execution_count": 1137,
   "metadata": {},
   "outputs": [
    {
     "data": {
      "text/plain": [
       "array([0.66474497, 1.66294829, 0.43819039, 0.31276894, 0.64395909])"
      ]
     },
     "execution_count": 1137,
     "metadata": {},
     "output_type": "execute_result"
    }
   ],
   "source": [
    "GBR_scoring"
   ]
  },
  {
   "cell_type": "code",
   "execution_count": 1138,
   "metadata": {},
   "outputs": [
    {
     "name": "stdout",
     "output_type": "stream",
     "text": [
      "GBR (TMS) mean:0.7593128400127369, max:1.4430081536756054, min:0.24601009780462044, std:0.4608517957799587\n"
     ]
    }
   ],
   "source": [
    "GBR_scoring = cross_val_score(estimator, X_train_C2H6, y_train_C2H6, scoring = scorer, cv = cv_strategy_TMS)\n",
    "print ('GBR (TMS) mean:{}, max:{}, min:{}, std:{}'.format(GBR_scoring .mean(), GBR_scoring .max(), \n",
    "                                                     GBR_scoring .min(), GBR_scoring .std()))"
   ]
  },
  {
   "cell_type": "code",
   "execution_count": 1139,
   "metadata": {},
   "outputs": [
    {
     "data": {
      "text/plain": [
       "array([1.44300815, 1.08905305, 0.2460101 , 0.28878342, 0.72970948])"
      ]
     },
     "execution_count": 1139,
     "metadata": {},
     "output_type": "execute_result"
    }
   ],
   "source": [
    "GBR_scoring"
   ]
  },
  {
   "cell_type": "code",
   "execution_count": 1140,
   "metadata": {},
   "outputs": [
    {
     "data": {
      "text/plain": [
       "dict_keys(['alpha', 'criterion', 'init', 'learning_rate', 'loss', 'max_depth', 'max_features', 'max_leaf_nodes', 'min_impurity_decrease', 'min_impurity_split', 'min_samples_leaf', 'min_samples_split', 'min_weight_fraction_leaf', 'n_estimators', 'n_iter_no_change', 'presort', 'random_state', 'subsample', 'tol', 'validation_fraction', 'verbose', 'warm_start'])"
      ]
     },
     "execution_count": 1140,
     "metadata": {},
     "output_type": "execute_result"
    }
   ],
   "source": [
    "estimator.get_params().keys()"
   ]
  },
  {
   "cell_type": "code",
   "execution_count": 1141,
   "metadata": {},
   "outputs": [],
   "source": [
    "parameters_grid = {\n",
    "    'n_estimators' : [50, 100, 200, 500],\n",
    "    'max_depth' : [3, 5, 10, 15],\n",
    "    \n",
    "}"
   ]
  },
  {
   "cell_type": "code",
   "execution_count": 1142,
   "metadata": {},
   "outputs": [],
   "source": [
    "#randomized_grid_cv = RandomizedSearchCV(estimator, parameters_grid, scoring = scorer,\n",
    "#                                        cv = cv_strategy_KFold, n_iter = 20, random_state = 0)"
   ]
  },
  {
   "cell_type": "code",
   "execution_count": 1143,
   "metadata": {},
   "outputs": [],
   "source": [
    "#%%time\n",
    "#randomized_grid_cv.fit(X_train_C2H6, y_train_C2H6)"
   ]
  },
  {
   "cell_type": "code",
   "execution_count": 1144,
   "metadata": {},
   "outputs": [],
   "source": [
    "#randomized_grid_cv.best_estimator_"
   ]
  },
  {
   "cell_type": "code",
   "execution_count": 1145,
   "metadata": {},
   "outputs": [],
   "source": [
    "#print(randomized_grid_cv.best_score_)\n",
    "#print(randomized_grid_cv.best_params_)"
   ]
  },
  {
   "cell_type": "code",
   "execution_count": 1146,
   "metadata": {},
   "outputs": [],
   "source": [
    "#predictions = randomized_grid_cv.predict(X_test_C2H6)\n",
    "#metrics.mean_absolute_error(y_test_C2H6, predictions)"
   ]
  },
  {
   "cell_type": "code",
   "execution_count": 1147,
   "metadata": {},
   "outputs": [],
   "source": [
    "#randomized_grid_cv = RandomizedSearchCV(estimator, parameters_grid, scoring = scorer,\n",
    "#                                        cv = cv_strategy_TMS, n_iter = 20, random_state = 0)"
   ]
  },
  {
   "cell_type": "code",
   "execution_count": 1148,
   "metadata": {},
   "outputs": [],
   "source": [
    "#%%time\n",
    "#randomized_grid_cv.fit(X_train_C2H6, y_train_C2H6)"
   ]
  },
  {
   "cell_type": "code",
   "execution_count": 1149,
   "metadata": {},
   "outputs": [],
   "source": [
    "#randomized_grid_cv.best_estimator_"
   ]
  },
  {
   "cell_type": "code",
   "execution_count": 1150,
   "metadata": {},
   "outputs": [],
   "source": [
    "#print(randomized_grid_cv.best_score_)\n",
    "#print(randomized_grid_cv.best_params_)"
   ]
  },
  {
   "cell_type": "code",
   "execution_count": 1151,
   "metadata": {},
   "outputs": [],
   "source": [
    "#predictions = randomized_grid_cv.predict(X_test_C2H6)\n",
    "#metrics.mean_absolute_error(y_test_C2H6, predictions)"
   ]
  },
  {
   "cell_type": "markdown",
   "metadata": {},
   "source": [
    "### C3H8"
   ]
  },
  {
   "cell_type": "code",
   "execution_count": 1152,
   "metadata": {},
   "outputs": [],
   "source": [
    "estimator = GradientBoostingRegressor(random_state=0)\n",
    "estimator.fit(X_train_C3H8, y_train_C3H8)\n",
    "predictions = estimator.predict(X_test_C3H8)"
   ]
  },
  {
   "cell_type": "code",
   "execution_count": 1153,
   "metadata": {},
   "outputs": [
    {
     "data": {
      "text/plain": [
       "1.711376148364079"
      ]
     },
     "execution_count": 1153,
     "metadata": {},
     "output_type": "execute_result"
    }
   ],
   "source": [
    "metrics.mean_absolute_error(y_test_C3H8, predictions)"
   ]
  },
  {
   "cell_type": "code",
   "execution_count": 1154,
   "metadata": {},
   "outputs": [
    {
     "name": "stdout",
     "output_type": "stream",
     "text": [
      "GBR (KFold) mean:0.9803892587464718, max:1.8063672117137808, min:0.4781131754756656, std:0.44829760935707463\n"
     ]
    }
   ],
   "source": [
    "GBR_scoring = cross_val_score(estimator, X_train_C3H8, y_train_C3H8, scoring = scorer, cv = cv_strategy_KFold)\n",
    "print ('GBR (KFold) mean:{}, max:{}, min:{}, std:{}'.format(GBR_scoring .mean(), GBR_scoring .max(), \n",
    "                                                     GBR_scoring .min(), GBR_scoring .std()))"
   ]
  },
  {
   "cell_type": "code",
   "execution_count": 1155,
   "metadata": {},
   "outputs": [
    {
     "data": {
      "text/plain": [
       "array([0.82348545, 1.80636721, 1.02309195, 0.47811318, 0.77088851])"
      ]
     },
     "execution_count": 1155,
     "metadata": {},
     "output_type": "execute_result"
    }
   ],
   "source": [
    "GBR_scoring"
   ]
  },
  {
   "cell_type": "code",
   "execution_count": 1156,
   "metadata": {},
   "outputs": [
    {
     "name": "stdout",
     "output_type": "stream",
     "text": [
      "GBR (TMS) mean:2.2480711628591314, max:6.578835283132298, min:0.5973613454353496, std:2.2892821852055065\n"
     ]
    }
   ],
   "source": [
    "GBR_scoring = cross_val_score(estimator, X_train_C3H8, y_train_C3H8, scoring = scorer, cv = cv_strategy_TMS)\n",
    "print ('GBR (TMS) mean:{}, max:{}, min:{}, std:{}'.format(GBR_scoring .mean(), GBR_scoring .max(), \n",
    "                                                     GBR_scoring .min(), GBR_scoring .std()))"
   ]
  },
  {
   "cell_type": "code",
   "execution_count": 1157,
   "metadata": {},
   "outputs": [
    {
     "data": {
      "text/plain": [
       "array([6.57883528, 2.59241392, 0.61008886, 0.8616564 , 0.59736135])"
      ]
     },
     "execution_count": 1157,
     "metadata": {},
     "output_type": "execute_result"
    }
   ],
   "source": [
    "GBR_scoring"
   ]
  },
  {
   "cell_type": "code",
   "execution_count": 1158,
   "metadata": {},
   "outputs": [
    {
     "data": {
      "text/plain": [
       "dict_keys(['alpha', 'criterion', 'init', 'learning_rate', 'loss', 'max_depth', 'max_features', 'max_leaf_nodes', 'min_impurity_decrease', 'min_impurity_split', 'min_samples_leaf', 'min_samples_split', 'min_weight_fraction_leaf', 'n_estimators', 'n_iter_no_change', 'presort', 'random_state', 'subsample', 'tol', 'validation_fraction', 'verbose', 'warm_start'])"
      ]
     },
     "execution_count": 1158,
     "metadata": {},
     "output_type": "execute_result"
    }
   ],
   "source": [
    "estimator.get_params().keys()"
   ]
  },
  {
   "cell_type": "code",
   "execution_count": 1159,
   "metadata": {},
   "outputs": [],
   "source": [
    "parameters_grid = {\n",
    "    'n_estimators' : [50, 100, 200, 500],\n",
    "    'max_depth' : [3, 5, 10, 15],\n",
    "    \n",
    "}"
   ]
  },
  {
   "cell_type": "code",
   "execution_count": 1160,
   "metadata": {},
   "outputs": [],
   "source": [
    "#randomized_grid_cv = RandomizedSearchCV(estimator, parameters_grid, scoring = scorer,\n",
    "#                                        cv = cv_strategy_KFold, n_iter = 20, random_state = 0)"
   ]
  },
  {
   "cell_type": "code",
   "execution_count": 1161,
   "metadata": {},
   "outputs": [],
   "source": [
    "#%%time\n",
    "#randomized_grid_cv.fit(X_train_C3H8, y_train_C3H8)"
   ]
  },
  {
   "cell_type": "code",
   "execution_count": 1162,
   "metadata": {},
   "outputs": [],
   "source": [
    "#randomized_grid_cv.best_estimator_"
   ]
  },
  {
   "cell_type": "code",
   "execution_count": 1163,
   "metadata": {},
   "outputs": [],
   "source": [
    "#print(randomized_grid_cv.best_score_)\n",
    "#print(randomized_grid_cv.best_params_)"
   ]
  },
  {
   "cell_type": "code",
   "execution_count": 1164,
   "metadata": {},
   "outputs": [],
   "source": [
    "#predictions = randomized_grid_cv.predict(X_test_C3H8)\n",
    "#metrics.mean_absolute_error(y_test_C3H8, predictions)"
   ]
  },
  {
   "cell_type": "code",
   "execution_count": 1165,
   "metadata": {},
   "outputs": [],
   "source": [
    "#randomized_grid_cv = RandomizedSearchCV(estimator, parameters_grid, scoring = scorer, \n",
    "#                                        cv = cv_strategy_TMS, n_iter = 20, random_state = 0)"
   ]
  },
  {
   "cell_type": "code",
   "execution_count": 1166,
   "metadata": {},
   "outputs": [],
   "source": [
    "#%%time\n",
    "#randomized_grid_cv.fit(X_train_C3H8, y_train_C3H8)"
   ]
  },
  {
   "cell_type": "code",
   "execution_count": 1167,
   "metadata": {},
   "outputs": [],
   "source": [
    "#randomized_grid_cv.best_estimator_"
   ]
  },
  {
   "cell_type": "code",
   "execution_count": 1168,
   "metadata": {},
   "outputs": [],
   "source": [
    "#print(randomized_grid_cv.best_score_)\n",
    "#print(randomized_grid_cv.best_params_)"
   ]
  },
  {
   "cell_type": "code",
   "execution_count": 1169,
   "metadata": {},
   "outputs": [],
   "source": [
    "#predictions = randomized_grid_cv.predict(X_test_C3H8)\n",
    "#metrics.mean_absolute_error(y_test_C3H8, predictions)"
   ]
  },
  {
   "cell_type": "markdown",
   "metadata": {},
   "source": [
    "### iC4H10"
   ]
  },
  {
   "cell_type": "code",
   "execution_count": 1170,
   "metadata": {},
   "outputs": [],
   "source": [
    "estimator = GradientBoostingRegressor(random_state=0)\n",
    "estimator.fit(X_train_iC4H10, y_train_iC4H10)\n",
    "predictions = estimator.predict(X_test_iC4H10)"
   ]
  },
  {
   "cell_type": "code",
   "execution_count": 1171,
   "metadata": {},
   "outputs": [
    {
     "data": {
      "text/plain": [
       "0.8095697957517684"
      ]
     },
     "execution_count": 1171,
     "metadata": {},
     "output_type": "execute_result"
    }
   ],
   "source": [
    "metrics.mean_absolute_error(y_test_iC4H10, predictions)"
   ]
  },
  {
   "cell_type": "code",
   "execution_count": 1172,
   "metadata": {},
   "outputs": [
    {
     "name": "stdout",
     "output_type": "stream",
     "text": [
      "GBR (KFold) mean:0.41875205984416486, max:0.9592175265719015, min:0.21822219603589557, std:0.2731679756482865\n"
     ]
    }
   ],
   "source": [
    "GBR_scoring = cross_val_score(estimator, X_train_iC4H10, y_train_iC4H10, scoring = scorer, cv = cv_strategy_KFold)\n",
    "print ('GBR (KFold) mean:{}, max:{}, min:{}, std:{}'.format(GBR_scoring .mean(), GBR_scoring .max(), \n",
    "                                                     GBR_scoring .min(), GBR_scoring .std()))"
   ]
  },
  {
   "cell_type": "code",
   "execution_count": 1173,
   "metadata": {},
   "outputs": [
    {
     "data": {
      "text/plain": [
       "array([0.32223349, 0.95921753, 0.26665599, 0.2182222 , 0.3274311 ])"
      ]
     },
     "execution_count": 1173,
     "metadata": {},
     "output_type": "execute_result"
    }
   ],
   "source": [
    "GBR_scoring"
   ]
  },
  {
   "cell_type": "code",
   "execution_count": 1174,
   "metadata": {},
   "outputs": [
    {
     "name": "stdout",
     "output_type": "stream",
     "text": [
      "GBR (TMS) mean:0.9133842632226401, max:2.5322641560587416, min:0.2061812676308953, std:0.8809292341838779\n"
     ]
    }
   ],
   "source": [
    "GBR_scoring = cross_val_score(estimator, X_train_iC4H10, y_train_iC4H10, scoring = scorer, cv = cv_strategy_TMS)\n",
    "print ('GBR (TMS) mean:{}, max:{}, min:{}, std:{}'.format(GBR_scoring .mean(), GBR_scoring .max(), \n",
    "                                                     GBR_scoring .min(), GBR_scoring .std()))"
   ]
  },
  {
   "cell_type": "code",
   "execution_count": 1175,
   "metadata": {},
   "outputs": [
    {
     "data": {
      "text/plain": [
       "array([2.53226416, 1.17505102, 0.20618127, 0.29181083, 0.36161405])"
      ]
     },
     "execution_count": 1175,
     "metadata": {},
     "output_type": "execute_result"
    }
   ],
   "source": [
    "GBR_scoring"
   ]
  },
  {
   "cell_type": "code",
   "execution_count": 1176,
   "metadata": {},
   "outputs": [
    {
     "data": {
      "text/plain": [
       "dict_keys(['alpha', 'criterion', 'init', 'learning_rate', 'loss', 'max_depth', 'max_features', 'max_leaf_nodes', 'min_impurity_decrease', 'min_impurity_split', 'min_samples_leaf', 'min_samples_split', 'min_weight_fraction_leaf', 'n_estimators', 'n_iter_no_change', 'presort', 'random_state', 'subsample', 'tol', 'validation_fraction', 'verbose', 'warm_start'])"
      ]
     },
     "execution_count": 1176,
     "metadata": {},
     "output_type": "execute_result"
    }
   ],
   "source": [
    "estimator.get_params().keys()"
   ]
  },
  {
   "cell_type": "code",
   "execution_count": 1177,
   "metadata": {},
   "outputs": [],
   "source": [
    "parameters_grid = {\n",
    "    'n_estimators' : [50, 100, 200, 500],\n",
    "    'max_depth' : [3, 5, 10, 15],\n",
    "    \n",
    "}"
   ]
  },
  {
   "cell_type": "code",
   "execution_count": 1178,
   "metadata": {},
   "outputs": [],
   "source": [
    "#randomized_grid_cv = RandomizedSearchCV(estimator, parameters_grid, scoring = scorer,\n",
    "#                                        cv = cv_strategy_KFold, n_iter = 20, random_state = 0)"
   ]
  },
  {
   "cell_type": "code",
   "execution_count": 1179,
   "metadata": {},
   "outputs": [],
   "source": [
    "#%%time\n",
    "#randomized_grid_cv.fit(X_train_iC4H10, y_train_iC4H10)"
   ]
  },
  {
   "cell_type": "code",
   "execution_count": 1180,
   "metadata": {},
   "outputs": [],
   "source": [
    "#randomized_grid_cv.best_estimator_"
   ]
  },
  {
   "cell_type": "code",
   "execution_count": 1181,
   "metadata": {},
   "outputs": [],
   "source": [
    "#print(randomized_grid_cv.best_score_)\n",
    "#print(randomized_grid_cv.best_params_)"
   ]
  },
  {
   "cell_type": "code",
   "execution_count": 1182,
   "metadata": {},
   "outputs": [],
   "source": [
    "#predictions = randomized_grid_cv.predict(X_test_iC4H10)\n",
    "#metrics.mean_absolute_error(y_test_iC4H10, predictions)"
   ]
  },
  {
   "cell_type": "code",
   "execution_count": 1183,
   "metadata": {},
   "outputs": [],
   "source": [
    "#randomized_grid_cv = RandomizedSearchCV(estimator, parameters_grid, scoring = scorer,\n",
    "#                                        cv = cv_strategy_TMS, n_iter = 20, random_state = 0)"
   ]
  },
  {
   "cell_type": "code",
   "execution_count": 1184,
   "metadata": {},
   "outputs": [],
   "source": [
    "#%%time\n",
    "#randomized_grid_cv.fit(X_train_iC4H10, y_train_iC4H10)"
   ]
  },
  {
   "cell_type": "code",
   "execution_count": 1185,
   "metadata": {},
   "outputs": [],
   "source": [
    "#randomized_grid_cv.best_estimator_"
   ]
  },
  {
   "cell_type": "code",
   "execution_count": 1186,
   "metadata": {},
   "outputs": [],
   "source": [
    "#print(randomized_grid_cv.best_score_)\n",
    "#print(randomized_grid_cv.best_params_)"
   ]
  },
  {
   "cell_type": "code",
   "execution_count": 1187,
   "metadata": {},
   "outputs": [],
   "source": [
    "#predictions = randomized_grid_cv.predict(X_test_iC4H10)\n",
    "#metrics.mean_absolute_error(y_test_iC4H10, predictions)"
   ]
  },
  {
   "cell_type": "markdown",
   "metadata": {},
   "source": [
    "### nC4H10"
   ]
  },
  {
   "cell_type": "code",
   "execution_count": 1188,
   "metadata": {},
   "outputs": [],
   "source": [
    "estimator = GradientBoostingRegressor(random_state=0)\n",
    "estimator.fit(X_train_nC4H10, y_train_nC4H10)\n",
    "predictions = estimator.predict(X_test_nC4H10)"
   ]
  },
  {
   "cell_type": "code",
   "execution_count": 1189,
   "metadata": {},
   "outputs": [
    {
     "data": {
      "text/plain": [
       "1.1366726420780149"
      ]
     },
     "execution_count": 1189,
     "metadata": {},
     "output_type": "execute_result"
    }
   ],
   "source": [
    "metrics.mean_absolute_error(y_test_nC4H10, predictions)"
   ]
  },
  {
   "cell_type": "code",
   "execution_count": 1190,
   "metadata": {},
   "outputs": [
    {
     "name": "stdout",
     "output_type": "stream",
     "text": [
      "GBR (KFold) mean:0.522805953771017, max:1.3470633711288518, min:0.17246427773121684, std:0.4203725308481294\n"
     ]
    }
   ],
   "source": [
    "GBR_scoring = cross_val_score(estimator, X_train_nC4H10, y_train_nC4H10, scoring = scorer, cv = cv_strategy_KFold)\n",
    "print ('GBR (KFold) mean:{}, max:{}, min:{}, std:{}'.format(GBR_scoring .mean(), GBR_scoring .max(), \n",
    "                                                     GBR_scoring .min(), GBR_scoring .std()))"
   ]
  },
  {
   "cell_type": "code",
   "execution_count": 1191,
   "metadata": {},
   "outputs": [
    {
     "name": "stdout",
     "output_type": "stream",
     "text": [
      "GBR (TMS) mean:1.2978848261682394, max:3.57587062402793, min:0.2633581121222209, std:1.2905715274570575\n"
     ]
    }
   ],
   "source": [
    "GBR_scoring = cross_val_score(estimator, X_train_nC4H10, y_train_nC4H10, scoring = scorer, cv = cv_strategy_TMS)\n",
    "print ('GBR (TMS) mean:{}, max:{}, min:{}, std:{}'.format(GBR_scoring .mean(), GBR_scoring .max(), \n",
    "                                                     GBR_scoring .min(), GBR_scoring .std()))"
   ]
  },
  {
   "cell_type": "code",
   "execution_count": 1192,
   "metadata": {},
   "outputs": [
    {
     "data": {
      "text/plain": [
       "array([3.57587062, 1.9009107 , 0.37746899, 0.26335811, 0.37181571])"
      ]
     },
     "execution_count": 1192,
     "metadata": {},
     "output_type": "execute_result"
    }
   ],
   "source": [
    "GBR_scoring"
   ]
  },
  {
   "cell_type": "code",
   "execution_count": 1193,
   "metadata": {},
   "outputs": [
    {
     "data": {
      "text/plain": [
       "dict_keys(['alpha', 'criterion', 'init', 'learning_rate', 'loss', 'max_depth', 'max_features', 'max_leaf_nodes', 'min_impurity_decrease', 'min_impurity_split', 'min_samples_leaf', 'min_samples_split', 'min_weight_fraction_leaf', 'n_estimators', 'n_iter_no_change', 'presort', 'random_state', 'subsample', 'tol', 'validation_fraction', 'verbose', 'warm_start'])"
      ]
     },
     "execution_count": 1193,
     "metadata": {},
     "output_type": "execute_result"
    }
   ],
   "source": [
    "estimator.get_params().keys()"
   ]
  },
  {
   "cell_type": "code",
   "execution_count": 1194,
   "metadata": {},
   "outputs": [],
   "source": [
    "parameters_grid = {\n",
    "    'n_estimators' : [50, 100, 200, 500],\n",
    "    'max_depth' : [3, 5, 10, 15],\n",
    "    \n",
    "}"
   ]
  },
  {
   "cell_type": "code",
   "execution_count": 1195,
   "metadata": {},
   "outputs": [],
   "source": [
    "#randomized_grid_cv = RandomizedSearchCV(estimator, parameters_grid, scoring = scorer,\n",
    "#                                        cv = cv_strategy_KFold, n_iter = 20, random_state = 0)"
   ]
  },
  {
   "cell_type": "code",
   "execution_count": 1196,
   "metadata": {},
   "outputs": [],
   "source": [
    "#%%time\n",
    "#randomized_grid_cv.fit(X_train_nC4H10, y_train_nC4H10)"
   ]
  },
  {
   "cell_type": "code",
   "execution_count": 1197,
   "metadata": {},
   "outputs": [],
   "source": [
    "#randomized_grid_cv.best_estimator_"
   ]
  },
  {
   "cell_type": "code",
   "execution_count": 1198,
   "metadata": {},
   "outputs": [],
   "source": [
    "#print(randomized_grid_cv.best_score_)\n",
    "#print(randomized_grid_cv.best_params_)"
   ]
  },
  {
   "cell_type": "code",
   "execution_count": 1199,
   "metadata": {},
   "outputs": [],
   "source": [
    "#predictions = randomized_grid_cv.predict(X_test_nC4H10)\n",
    "#metrics.mean_absolute_error(y_test_nC4H10, predictions)"
   ]
  },
  {
   "cell_type": "code",
   "execution_count": 1200,
   "metadata": {},
   "outputs": [],
   "source": [
    "#randomized_grid_cv = RandomizedSearchCV(estimator, parameters_grid, scoring = scorer, \n",
    "#                                        cv = cv_strategy_TMS, n_iter = 20, random_state = 0)"
   ]
  },
  {
   "cell_type": "code",
   "execution_count": 1201,
   "metadata": {},
   "outputs": [],
   "source": [
    "#%%time\n",
    "#randomized_grid_cv.fit(X_train_nC4H10, y_train_nC4H10)"
   ]
  },
  {
   "cell_type": "code",
   "execution_count": 1202,
   "metadata": {},
   "outputs": [],
   "source": [
    "#randomized_grid_cv.best_estimator_"
   ]
  },
  {
   "cell_type": "code",
   "execution_count": 1203,
   "metadata": {},
   "outputs": [],
   "source": [
    "#print(randomized_grid_cv.best_score_)\n",
    "#print(randomized_grid_cv.best_params_)"
   ]
  },
  {
   "cell_type": "code",
   "execution_count": 1204,
   "metadata": {},
   "outputs": [],
   "source": [
    "#predictions = randomized_grid_cv.predict(X_test_nC4H10)\n",
    "#metrics.mean_absolute_error(y_test_nC4H10, predictions)"
   ]
  },
  {
   "cell_type": "markdown",
   "metadata": {},
   "source": [
    "# Prediction"
   ]
  },
  {
   "cell_type": "code",
   "execution_count": 1205,
   "metadata": {},
   "outputs": [],
   "source": [
    "test_data = pd.read_csv('test_data.csv', header = 0, sep = ',')"
   ]
  },
  {
   "cell_type": "code",
   "execution_count": 1206,
   "metadata": {},
   "outputs": [
    {
     "data": {
      "text/html": [
       "<div>\n",
       "<style scoped>\n",
       "    .dataframe tbody tr th:only-of-type {\n",
       "        vertical-align: middle;\n",
       "    }\n",
       "\n",
       "    .dataframe tbody tr th {\n",
       "        vertical-align: top;\n",
       "    }\n",
       "\n",
       "    .dataframe thead th {\n",
       "        text-align: right;\n",
       "    }\n",
       "</style>\n",
       "<table border=\"1\" class=\"dataframe\">\n",
       "  <thead>\n",
       "    <tr style=\"text-align: right;\">\n",
       "      <th></th>\n",
       "      <th>B_rate</th>\n",
       "      <th>Cx_A_C2H6</th>\n",
       "      <th>Cx_A_C2H6**2</th>\n",
       "      <th>Cx_A_C3H8</th>\n",
       "      <th>Cx_A_C3H8**2</th>\n",
       "      <th>Cx_A_iC4H10</th>\n",
       "      <th>Cx_A_iC4H10**2</th>\n",
       "      <th>Cx_A_nC4H10</th>\n",
       "      <th>Cx_A_nC4H10**2</th>\n",
       "      <th>G_A_C2H6</th>\n",
       "      <th>G_A_C3H8</th>\n",
       "      <th>G_A_C6H14</th>\n",
       "      <th>G_A_CH4</th>\n",
       "      <th>G_A_iC4H10</th>\n",
       "      <th>G_A_iC5H12</th>\n",
       "      <th>G_A_nC4H10</th>\n",
       "      <th>G_A_nC5H12</th>\n",
       "      <th>G_B_C2H6</th>\n",
       "      <th>G_B_C3H8</th>\n",
       "      <th>G_B_iC4H10</th>\n",
       "      <th>G_B_nC4H10</th>\n",
       "      <th>Pe_ef_C2H6</th>\n",
       "      <th>Pe_ef_C2H6**2</th>\n",
       "      <th>Pe_ef_C3H8</th>\n",
       "      <th>Pe_ef_C3H8**2</th>\n",
       "      <th>Pe_ef_iC4H10</th>\n",
       "      <th>Pe_ef_iC4H10**2</th>\n",
       "      <th>Pe_ef_nC4H10</th>\n",
       "      <th>Pe_ef_nC4H10**2</th>\n",
       "      <th>Re_A</th>\n",
       "      <th>e**Pe_ef_C2H6</th>\n",
       "      <th>e**Pe_ef_C3H8</th>\n",
       "      <th>e**Pe_ef_iC4H10</th>\n",
       "      <th>e**Pe_ef_nC4H10</th>\n",
       "      <th>sqrt_Pe_ef_C2H6</th>\n",
       "      <th>sqrt_Pe_ef_C3H8</th>\n",
       "      <th>sqrt_Pe_ef_iC4H10</th>\n",
       "      <th>sqrt_Pe_ef_nC4H10</th>\n",
       "      <th>timestamp</th>\n",
       "      <th>w_A</th>\n",
       "      <th>w_prev</th>\n",
       "    </tr>\n",
       "  </thead>\n",
       "  <tbody>\n",
       "    <tr>\n",
       "      <td>0</td>\n",
       "      <td>72.601981</td>\n",
       "      <td>0.068488</td>\n",
       "      <td>0.004691</td>\n",
       "      <td>0.526622</td>\n",
       "      <td>0.277331</td>\n",
       "      <td>-0.091283</td>\n",
       "      <td>0.008333</td>\n",
       "      <td>0.596711</td>\n",
       "      <td>0.356064</td>\n",
       "      <td>3.569881</td>\n",
       "      <td>25.479712</td>\n",
       "      <td>4.466263</td>\n",
       "      <td>0.213048</td>\n",
       "      <td>11.724163</td>\n",
       "      <td>4.152003</td>\n",
       "      <td>17.183164</td>\n",
       "      <td>3.661481</td>\n",
       "      <td>3.648088</td>\n",
       "      <td>25.981607</td>\n",
       "      <td>11.638576</td>\n",
       "      <td>17.799919</td>\n",
       "      <td>0.07058</td>\n",
       "      <td>0.004981</td>\n",
       "      <td>0.381002</td>\n",
       "      <td>0.145163</td>\n",
       "      <td>0.259863</td>\n",
       "      <td>0.067529</td>\n",
       "      <td>0.543063</td>\n",
       "      <td>0.294918</td>\n",
       "      <td>415477.749614</td>\n",
       "      <td>0.931854</td>\n",
       "      <td>0.683176</td>\n",
       "      <td>0.771157</td>\n",
       "      <td>0.580966</td>\n",
       "      <td>0.265668</td>\n",
       "      <td>0.617254</td>\n",
       "      <td>0.509768</td>\n",
       "      <td>0.736928</td>\n",
       "      <td>2020-04-30 23:30:00</td>\n",
       "      <td>0.277036</td>\n",
       "      <td>0.276608</td>\n",
       "    </tr>\n",
       "    <tr>\n",
       "      <td>1</td>\n",
       "      <td>74.273009</td>\n",
       "      <td>NaN</td>\n",
       "      <td>NaN</td>\n",
       "      <td>NaN</td>\n",
       "      <td>NaN</td>\n",
       "      <td>NaN</td>\n",
       "      <td>NaN</td>\n",
       "      <td>NaN</td>\n",
       "      <td>NaN</td>\n",
       "      <td>3.667959</td>\n",
       "      <td>26.297401</td>\n",
       "      <td>4.568047</td>\n",
       "      <td>0.191308</td>\n",
       "      <td>11.880148</td>\n",
       "      <td>4.068561</td>\n",
       "      <td>17.187507</td>\n",
       "      <td>3.528153</td>\n",
       "      <td>NaN</td>\n",
       "      <td>NaN</td>\n",
       "      <td>NaN</td>\n",
       "      <td>NaN</td>\n",
       "      <td>NaN</td>\n",
       "      <td>NaN</td>\n",
       "      <td>NaN</td>\n",
       "      <td>NaN</td>\n",
       "      <td>NaN</td>\n",
       "      <td>NaN</td>\n",
       "      <td>NaN</td>\n",
       "      <td>NaN</td>\n",
       "      <td>419019.690291</td>\n",
       "      <td>NaN</td>\n",
       "      <td>NaN</td>\n",
       "      <td>NaN</td>\n",
       "      <td>NaN</td>\n",
       "      <td>NaN</td>\n",
       "      <td>NaN</td>\n",
       "      <td>NaN</td>\n",
       "      <td>NaN</td>\n",
       "      <td>2020-05-01 00:00:00</td>\n",
       "      <td>0.281026</td>\n",
       "      <td>NaN</td>\n",
       "    </tr>\n",
       "    <tr>\n",
       "      <td>2</td>\n",
       "      <td>74.167421</td>\n",
       "      <td>NaN</td>\n",
       "      <td>NaN</td>\n",
       "      <td>NaN</td>\n",
       "      <td>NaN</td>\n",
       "      <td>NaN</td>\n",
       "      <td>NaN</td>\n",
       "      <td>NaN</td>\n",
       "      <td>NaN</td>\n",
       "      <td>3.660194</td>\n",
       "      <td>26.223466</td>\n",
       "      <td>4.534756</td>\n",
       "      <td>0.190859</td>\n",
       "      <td>11.845278</td>\n",
       "      <td>4.047247</td>\n",
       "      <td>17.129529</td>\n",
       "      <td>3.505918</td>\n",
       "      <td>NaN</td>\n",
       "      <td>NaN</td>\n",
       "      <td>NaN</td>\n",
       "      <td>NaN</td>\n",
       "      <td>NaN</td>\n",
       "      <td>NaN</td>\n",
       "      <td>NaN</td>\n",
       "      <td>NaN</td>\n",
       "      <td>NaN</td>\n",
       "      <td>NaN</td>\n",
       "      <td>NaN</td>\n",
       "      <td>NaN</td>\n",
       "      <td>417716.031332</td>\n",
       "      <td>NaN</td>\n",
       "      <td>NaN</td>\n",
       "      <td>NaN</td>\n",
       "      <td>NaN</td>\n",
       "      <td>NaN</td>\n",
       "      <td>NaN</td>\n",
       "      <td>NaN</td>\n",
       "      <td>NaN</td>\n",
       "      <td>2020-05-01 00:30:00</td>\n",
       "      <td>0.280066</td>\n",
       "      <td>NaN</td>\n",
       "    </tr>\n",
       "    <tr>\n",
       "      <td>3</td>\n",
       "      <td>74.063703</td>\n",
       "      <td>NaN</td>\n",
       "      <td>NaN</td>\n",
       "      <td>NaN</td>\n",
       "      <td>NaN</td>\n",
       "      <td>NaN</td>\n",
       "      <td>NaN</td>\n",
       "      <td>NaN</td>\n",
       "      <td>NaN</td>\n",
       "      <td>3.659918</td>\n",
       "      <td>26.255791</td>\n",
       "      <td>4.500369</td>\n",
       "      <td>0.191285</td>\n",
       "      <td>11.851348</td>\n",
       "      <td>4.017352</td>\n",
       "      <td>17.124160</td>\n",
       "      <td>3.475113</td>\n",
       "      <td>NaN</td>\n",
       "      <td>NaN</td>\n",
       "      <td>NaN</td>\n",
       "      <td>NaN</td>\n",
       "      <td>NaN</td>\n",
       "      <td>NaN</td>\n",
       "      <td>NaN</td>\n",
       "      <td>NaN</td>\n",
       "      <td>NaN</td>\n",
       "      <td>NaN</td>\n",
       "      <td>NaN</td>\n",
       "      <td>NaN</td>\n",
       "      <td>417677.086653</td>\n",
       "      <td>NaN</td>\n",
       "      <td>NaN</td>\n",
       "      <td>NaN</td>\n",
       "      <td>NaN</td>\n",
       "      <td>NaN</td>\n",
       "      <td>NaN</td>\n",
       "      <td>NaN</td>\n",
       "      <td>NaN</td>\n",
       "      <td>2020-05-01 01:00:00</td>\n",
       "      <td>0.279884</td>\n",
       "      <td>NaN</td>\n",
       "    </tr>\n",
       "    <tr>\n",
       "      <td>4</td>\n",
       "      <td>73.985463</td>\n",
       "      <td>NaN</td>\n",
       "      <td>NaN</td>\n",
       "      <td>NaN</td>\n",
       "      <td>NaN</td>\n",
       "      <td>NaN</td>\n",
       "      <td>NaN</td>\n",
       "      <td>NaN</td>\n",
       "      <td>NaN</td>\n",
       "      <td>3.673042</td>\n",
       "      <td>26.325080</td>\n",
       "      <td>4.457838</td>\n",
       "      <td>0.192301</td>\n",
       "      <td>11.848657</td>\n",
       "      <td>3.991482</td>\n",
       "      <td>17.105351</td>\n",
       "      <td>3.445699</td>\n",
       "      <td>NaN</td>\n",
       "      <td>NaN</td>\n",
       "      <td>NaN</td>\n",
       "      <td>NaN</td>\n",
       "      <td>NaN</td>\n",
       "      <td>NaN</td>\n",
       "      <td>NaN</td>\n",
       "      <td>NaN</td>\n",
       "      <td>NaN</td>\n",
       "      <td>NaN</td>\n",
       "      <td>NaN</td>\n",
       "      <td>NaN</td>\n",
       "      <td>418092.480177</td>\n",
       "      <td>NaN</td>\n",
       "      <td>NaN</td>\n",
       "      <td>NaN</td>\n",
       "      <td>NaN</td>\n",
       "      <td>NaN</td>\n",
       "      <td>NaN</td>\n",
       "      <td>NaN</td>\n",
       "      <td>NaN</td>\n",
       "      <td>2020-05-01 01:30:00</td>\n",
       "      <td>0.279844</td>\n",
       "      <td>NaN</td>\n",
       "    </tr>\n",
       "    <tr>\n",
       "      <td>...</td>\n",
       "      <td>...</td>\n",
       "      <td>...</td>\n",
       "      <td>...</td>\n",
       "      <td>...</td>\n",
       "      <td>...</td>\n",
       "      <td>...</td>\n",
       "      <td>...</td>\n",
       "      <td>...</td>\n",
       "      <td>...</td>\n",
       "      <td>...</td>\n",
       "      <td>...</td>\n",
       "      <td>...</td>\n",
       "      <td>...</td>\n",
       "      <td>...</td>\n",
       "      <td>...</td>\n",
       "      <td>...</td>\n",
       "      <td>...</td>\n",
       "      <td>...</td>\n",
       "      <td>...</td>\n",
       "      <td>...</td>\n",
       "      <td>...</td>\n",
       "      <td>...</td>\n",
       "      <td>...</td>\n",
       "      <td>...</td>\n",
       "      <td>...</td>\n",
       "      <td>...</td>\n",
       "      <td>...</td>\n",
       "      <td>...</td>\n",
       "      <td>...</td>\n",
       "      <td>...</td>\n",
       "      <td>...</td>\n",
       "      <td>...</td>\n",
       "      <td>...</td>\n",
       "      <td>...</td>\n",
       "      <td>...</td>\n",
       "      <td>...</td>\n",
       "      <td>...</td>\n",
       "      <td>...</td>\n",
       "      <td>...</td>\n",
       "      <td>...</td>\n",
       "      <td>...</td>\n",
       "    </tr>\n",
       "    <tr>\n",
       "      <td>3980</td>\n",
       "      <td>71.147451</td>\n",
       "      <td>NaN</td>\n",
       "      <td>NaN</td>\n",
       "      <td>NaN</td>\n",
       "      <td>NaN</td>\n",
       "      <td>NaN</td>\n",
       "      <td>NaN</td>\n",
       "      <td>NaN</td>\n",
       "      <td>NaN</td>\n",
       "      <td>2.749937</td>\n",
       "      <td>27.047878</td>\n",
       "      <td>4.132746</td>\n",
       "      <td>0.081633</td>\n",
       "      <td>12.083220</td>\n",
       "      <td>3.131494</td>\n",
       "      <td>16.478626</td>\n",
       "      <td>2.564446</td>\n",
       "      <td>NaN</td>\n",
       "      <td>NaN</td>\n",
       "      <td>NaN</td>\n",
       "      <td>NaN</td>\n",
       "      <td>NaN</td>\n",
       "      <td>NaN</td>\n",
       "      <td>NaN</td>\n",
       "      <td>NaN</td>\n",
       "      <td>NaN</td>\n",
       "      <td>NaN</td>\n",
       "      <td>NaN</td>\n",
       "      <td>NaN</td>\n",
       "      <td>380844.777764</td>\n",
       "      <td>NaN</td>\n",
       "      <td>NaN</td>\n",
       "      <td>NaN</td>\n",
       "      <td>NaN</td>\n",
       "      <td>NaN</td>\n",
       "      <td>NaN</td>\n",
       "      <td>NaN</td>\n",
       "      <td>NaN</td>\n",
       "      <td>2020-07-22 21:30:00</td>\n",
       "      <td>0.268524</td>\n",
       "      <td>NaN</td>\n",
       "    </tr>\n",
       "    <tr>\n",
       "      <td>3981</td>\n",
       "      <td>71.256112</td>\n",
       "      <td>NaN</td>\n",
       "      <td>NaN</td>\n",
       "      <td>NaN</td>\n",
       "      <td>NaN</td>\n",
       "      <td>NaN</td>\n",
       "      <td>NaN</td>\n",
       "      <td>NaN</td>\n",
       "      <td>NaN</td>\n",
       "      <td>2.756247</td>\n",
       "      <td>27.134846</td>\n",
       "      <td>4.207451</td>\n",
       "      <td>0.081756</td>\n",
       "      <td>12.122493</td>\n",
       "      <td>3.156155</td>\n",
       "      <td>16.548577</td>\n",
       "      <td>2.589827</td>\n",
       "      <td>NaN</td>\n",
       "      <td>NaN</td>\n",
       "      <td>NaN</td>\n",
       "      <td>NaN</td>\n",
       "      <td>NaN</td>\n",
       "      <td>NaN</td>\n",
       "      <td>NaN</td>\n",
       "      <td>NaN</td>\n",
       "      <td>NaN</td>\n",
       "      <td>NaN</td>\n",
       "      <td>NaN</td>\n",
       "      <td>NaN</td>\n",
       "      <td>382368.259444</td>\n",
       "      <td>NaN</td>\n",
       "      <td>NaN</td>\n",
       "      <td>NaN</td>\n",
       "      <td>NaN</td>\n",
       "      <td>NaN</td>\n",
       "      <td>NaN</td>\n",
       "      <td>NaN</td>\n",
       "      <td>NaN</td>\n",
       "      <td>2020-07-22 22:00:00</td>\n",
       "      <td>0.269746</td>\n",
       "      <td>NaN</td>\n",
       "    </tr>\n",
       "    <tr>\n",
       "      <td>3982</td>\n",
       "      <td>71.607384</td>\n",
       "      <td>NaN</td>\n",
       "      <td>NaN</td>\n",
       "      <td>NaN</td>\n",
       "      <td>NaN</td>\n",
       "      <td>NaN</td>\n",
       "      <td>NaN</td>\n",
       "      <td>NaN</td>\n",
       "      <td>NaN</td>\n",
       "      <td>2.795420</td>\n",
       "      <td>27.581964</td>\n",
       "      <td>4.311932</td>\n",
       "      <td>0.083086</td>\n",
       "      <td>12.322751</td>\n",
       "      <td>3.219705</td>\n",
       "      <td>16.837526</td>\n",
       "      <td>2.645874</td>\n",
       "      <td>NaN</td>\n",
       "      <td>NaN</td>\n",
       "      <td>NaN</td>\n",
       "      <td>NaN</td>\n",
       "      <td>NaN</td>\n",
       "      <td>NaN</td>\n",
       "      <td>NaN</td>\n",
       "      <td>NaN</td>\n",
       "      <td>NaN</td>\n",
       "      <td>NaN</td>\n",
       "      <td>NaN</td>\n",
       "      <td>NaN</td>\n",
       "      <td>388821.338979</td>\n",
       "      <td>NaN</td>\n",
       "      <td>NaN</td>\n",
       "      <td>NaN</td>\n",
       "      <td>NaN</td>\n",
       "      <td>NaN</td>\n",
       "      <td>NaN</td>\n",
       "      <td>NaN</td>\n",
       "      <td>NaN</td>\n",
       "      <td>2020-07-22 22:30:00</td>\n",
       "      <td>0.274419</td>\n",
       "      <td>NaN</td>\n",
       "    </tr>\n",
       "    <tr>\n",
       "      <td>3983</td>\n",
       "      <td>72.582642</td>\n",
       "      <td>NaN</td>\n",
       "      <td>NaN</td>\n",
       "      <td>NaN</td>\n",
       "      <td>NaN</td>\n",
       "      <td>NaN</td>\n",
       "      <td>NaN</td>\n",
       "      <td>NaN</td>\n",
       "      <td>NaN</td>\n",
       "      <td>2.863233</td>\n",
       "      <td>28.320698</td>\n",
       "      <td>4.442151</td>\n",
       "      <td>0.085586</td>\n",
       "      <td>12.650781</td>\n",
       "      <td>3.312669</td>\n",
       "      <td>17.297763</td>\n",
       "      <td>2.725052</td>\n",
       "      <td>NaN</td>\n",
       "      <td>NaN</td>\n",
       "      <td>NaN</td>\n",
       "      <td>NaN</td>\n",
       "      <td>NaN</td>\n",
       "      <td>NaN</td>\n",
       "      <td>NaN</td>\n",
       "      <td>NaN</td>\n",
       "      <td>NaN</td>\n",
       "      <td>NaN</td>\n",
       "      <td>NaN</td>\n",
       "      <td>NaN</td>\n",
       "      <td>399288.163412</td>\n",
       "      <td>NaN</td>\n",
       "      <td>NaN</td>\n",
       "      <td>NaN</td>\n",
       "      <td>NaN</td>\n",
       "      <td>NaN</td>\n",
       "      <td>NaN</td>\n",
       "      <td>NaN</td>\n",
       "      <td>NaN</td>\n",
       "      <td>2020-07-22 23:00:00</td>\n",
       "      <td>0.281859</td>\n",
       "      <td>NaN</td>\n",
       "    </tr>\n",
       "    <tr>\n",
       "      <td>3984</td>\n",
       "      <td>73.808644</td>\n",
       "      <td>NaN</td>\n",
       "      <td>NaN</td>\n",
       "      <td>NaN</td>\n",
       "      <td>NaN</td>\n",
       "      <td>NaN</td>\n",
       "      <td>NaN</td>\n",
       "      <td>NaN</td>\n",
       "      <td>NaN</td>\n",
       "      <td>2.908511</td>\n",
       "      <td>28.825223</td>\n",
       "      <td>4.413029</td>\n",
       "      <td>0.087495</td>\n",
       "      <td>12.838860</td>\n",
       "      <td>3.343317</td>\n",
       "      <td>17.542051</td>\n",
       "      <td>2.744470</td>\n",
       "      <td>NaN</td>\n",
       "      <td>NaN</td>\n",
       "      <td>NaN</td>\n",
       "      <td>NaN</td>\n",
       "      <td>NaN</td>\n",
       "      <td>NaN</td>\n",
       "      <td>NaN</td>\n",
       "      <td>NaN</td>\n",
       "      <td>NaN</td>\n",
       "      <td>NaN</td>\n",
       "      <td>NaN</td>\n",
       "      <td>NaN</td>\n",
       "      <td>405435.375734</td>\n",
       "      <td>NaN</td>\n",
       "      <td>NaN</td>\n",
       "      <td>NaN</td>\n",
       "      <td>NaN</td>\n",
       "      <td>NaN</td>\n",
       "      <td>NaN</td>\n",
       "      <td>NaN</td>\n",
       "      <td>NaN</td>\n",
       "      <td>2020-07-22 23:30:00</td>\n",
       "      <td>0.285923</td>\n",
       "      <td>NaN</td>\n",
       "    </tr>\n",
       "  </tbody>\n",
       "</table>\n",
       "<p>3985 rows × 41 columns</p>\n",
       "</div>"
      ],
      "text/plain": [
       "         B_rate  Cx_A_C2H6  Cx_A_C2H6**2  Cx_A_C3H8  Cx_A_C3H8**2  \\\n",
       "0     72.601981   0.068488      0.004691   0.526622      0.277331   \n",
       "1     74.273009        NaN           NaN        NaN           NaN   \n",
       "2     74.167421        NaN           NaN        NaN           NaN   \n",
       "3     74.063703        NaN           NaN        NaN           NaN   \n",
       "4     73.985463        NaN           NaN        NaN           NaN   \n",
       "...         ...        ...           ...        ...           ...   \n",
       "3980  71.147451        NaN           NaN        NaN           NaN   \n",
       "3981  71.256112        NaN           NaN        NaN           NaN   \n",
       "3982  71.607384        NaN           NaN        NaN           NaN   \n",
       "3983  72.582642        NaN           NaN        NaN           NaN   \n",
       "3984  73.808644        NaN           NaN        NaN           NaN   \n",
       "\n",
       "      Cx_A_iC4H10  Cx_A_iC4H10**2  Cx_A_nC4H10  Cx_A_nC4H10**2  G_A_C2H6  \\\n",
       "0       -0.091283        0.008333     0.596711        0.356064  3.569881   \n",
       "1             NaN             NaN          NaN             NaN  3.667959   \n",
       "2             NaN             NaN          NaN             NaN  3.660194   \n",
       "3             NaN             NaN          NaN             NaN  3.659918   \n",
       "4             NaN             NaN          NaN             NaN  3.673042   \n",
       "...           ...             ...          ...             ...       ...   \n",
       "3980          NaN             NaN          NaN             NaN  2.749937   \n",
       "3981          NaN             NaN          NaN             NaN  2.756247   \n",
       "3982          NaN             NaN          NaN             NaN  2.795420   \n",
       "3983          NaN             NaN          NaN             NaN  2.863233   \n",
       "3984          NaN             NaN          NaN             NaN  2.908511   \n",
       "\n",
       "       G_A_C3H8  G_A_C6H14   G_A_CH4  G_A_iC4H10  G_A_iC5H12  G_A_nC4H10  \\\n",
       "0     25.479712   4.466263  0.213048   11.724163    4.152003   17.183164   \n",
       "1     26.297401   4.568047  0.191308   11.880148    4.068561   17.187507   \n",
       "2     26.223466   4.534756  0.190859   11.845278    4.047247   17.129529   \n",
       "3     26.255791   4.500369  0.191285   11.851348    4.017352   17.124160   \n",
       "4     26.325080   4.457838  0.192301   11.848657    3.991482   17.105351   \n",
       "...         ...        ...       ...         ...         ...         ...   \n",
       "3980  27.047878   4.132746  0.081633   12.083220    3.131494   16.478626   \n",
       "3981  27.134846   4.207451  0.081756   12.122493    3.156155   16.548577   \n",
       "3982  27.581964   4.311932  0.083086   12.322751    3.219705   16.837526   \n",
       "3983  28.320698   4.442151  0.085586   12.650781    3.312669   17.297763   \n",
       "3984  28.825223   4.413029  0.087495   12.838860    3.343317   17.542051   \n",
       "\n",
       "      G_A_nC5H12  G_B_C2H6   G_B_C3H8  G_B_iC4H10  G_B_nC4H10  Pe_ef_C2H6  \\\n",
       "0       3.661481  3.648088  25.981607   11.638576   17.799919     0.07058   \n",
       "1       3.528153       NaN        NaN         NaN         NaN         NaN   \n",
       "2       3.505918       NaN        NaN         NaN         NaN         NaN   \n",
       "3       3.475113       NaN        NaN         NaN         NaN         NaN   \n",
       "4       3.445699       NaN        NaN         NaN         NaN         NaN   \n",
       "...          ...       ...        ...         ...         ...         ...   \n",
       "3980    2.564446       NaN        NaN         NaN         NaN         NaN   \n",
       "3981    2.589827       NaN        NaN         NaN         NaN         NaN   \n",
       "3982    2.645874       NaN        NaN         NaN         NaN         NaN   \n",
       "3983    2.725052       NaN        NaN         NaN         NaN         NaN   \n",
       "3984    2.744470       NaN        NaN         NaN         NaN         NaN   \n",
       "\n",
       "      Pe_ef_C2H6**2  Pe_ef_C3H8  Pe_ef_C3H8**2  Pe_ef_iC4H10  Pe_ef_iC4H10**2  \\\n",
       "0          0.004981    0.381002       0.145163      0.259863         0.067529   \n",
       "1               NaN         NaN            NaN           NaN              NaN   \n",
       "2               NaN         NaN            NaN           NaN              NaN   \n",
       "3               NaN         NaN            NaN           NaN              NaN   \n",
       "4               NaN         NaN            NaN           NaN              NaN   \n",
       "...             ...         ...            ...           ...              ...   \n",
       "3980            NaN         NaN            NaN           NaN              NaN   \n",
       "3981            NaN         NaN            NaN           NaN              NaN   \n",
       "3982            NaN         NaN            NaN           NaN              NaN   \n",
       "3983            NaN         NaN            NaN           NaN              NaN   \n",
       "3984            NaN         NaN            NaN           NaN              NaN   \n",
       "\n",
       "      Pe_ef_nC4H10  Pe_ef_nC4H10**2           Re_A  e**Pe_ef_C2H6  \\\n",
       "0         0.543063         0.294918  415477.749614       0.931854   \n",
       "1              NaN              NaN  419019.690291            NaN   \n",
       "2              NaN              NaN  417716.031332            NaN   \n",
       "3              NaN              NaN  417677.086653            NaN   \n",
       "4              NaN              NaN  418092.480177            NaN   \n",
       "...            ...              ...            ...            ...   \n",
       "3980           NaN              NaN  380844.777764            NaN   \n",
       "3981           NaN              NaN  382368.259444            NaN   \n",
       "3982           NaN              NaN  388821.338979            NaN   \n",
       "3983           NaN              NaN  399288.163412            NaN   \n",
       "3984           NaN              NaN  405435.375734            NaN   \n",
       "\n",
       "      e**Pe_ef_C3H8  e**Pe_ef_iC4H10  e**Pe_ef_nC4H10  sqrt_Pe_ef_C2H6  \\\n",
       "0          0.683176         0.771157         0.580966         0.265668   \n",
       "1               NaN              NaN              NaN              NaN   \n",
       "2               NaN              NaN              NaN              NaN   \n",
       "3               NaN              NaN              NaN              NaN   \n",
       "4               NaN              NaN              NaN              NaN   \n",
       "...             ...              ...              ...              ...   \n",
       "3980            NaN              NaN              NaN              NaN   \n",
       "3981            NaN              NaN              NaN              NaN   \n",
       "3982            NaN              NaN              NaN              NaN   \n",
       "3983            NaN              NaN              NaN              NaN   \n",
       "3984            NaN              NaN              NaN              NaN   \n",
       "\n",
       "      sqrt_Pe_ef_C3H8  sqrt_Pe_ef_iC4H10  sqrt_Pe_ef_nC4H10  \\\n",
       "0            0.617254           0.509768           0.736928   \n",
       "1                 NaN                NaN                NaN   \n",
       "2                 NaN                NaN                NaN   \n",
       "3                 NaN                NaN                NaN   \n",
       "4                 NaN                NaN                NaN   \n",
       "...               ...                ...                ...   \n",
       "3980              NaN                NaN                NaN   \n",
       "3981              NaN                NaN                NaN   \n",
       "3982              NaN                NaN                NaN   \n",
       "3983              NaN                NaN                NaN   \n",
       "3984              NaN                NaN                NaN   \n",
       "\n",
       "                timestamp       w_A    w_prev  \n",
       "0     2020-04-30 23:30:00  0.277036  0.276608  \n",
       "1     2020-05-01 00:00:00  0.281026       NaN  \n",
       "2     2020-05-01 00:30:00  0.280066       NaN  \n",
       "3     2020-05-01 01:00:00  0.279884       NaN  \n",
       "4     2020-05-01 01:30:00  0.279844       NaN  \n",
       "...                   ...       ...       ...  \n",
       "3980  2020-07-22 21:30:00  0.268524       NaN  \n",
       "3981  2020-07-22 22:00:00  0.269746       NaN  \n",
       "3982  2020-07-22 22:30:00  0.274419       NaN  \n",
       "3983  2020-07-22 23:00:00  0.281859       NaN  \n",
       "3984  2020-07-22 23:30:00  0.285923       NaN  \n",
       "\n",
       "[3985 rows x 41 columns]"
      ]
     },
     "execution_count": 1206,
     "metadata": {},
     "output_type": "execute_result"
    }
   ],
   "source": [
    "test_data"
   ]
  },
  {
   "cell_type": "code",
   "execution_count": 1207,
   "metadata": {},
   "outputs": [
    {
     "data": {
      "text/plain": [
       "SGDRegressor(alpha=0.0001, average=False, early_stopping=False, epsilon=0.1,\n",
       "             eta0=0.01, fit_intercept=True, l1_ratio=0.15,\n",
       "             learning_rate='invscaling', loss='squared_loss', max_iter=1000,\n",
       "             n_iter_no_change=5, penalty='l2', power_t=0.25, random_state=0,\n",
       "             shuffle=False, tol=0.001, validation_fraction=0.1, verbose=0,\n",
       "             warm_start=False)"
      ]
     },
     "execution_count": 1207,
     "metadata": {},
     "output_type": "execute_result"
    }
   ],
   "source": [
    "rg_C2H6 = linear_model.SGDRegressor(shuffle=False, random_state=0)\n",
    "rg_C2H6.fit(X_train_C2H6, y_train_C2H6)\n",
    "\n",
    "rg_C3H8 = linear_model.SGDRegressor(shuffle=False, random_state=0)\n",
    "rg_C3H8.fit(X_train_C3H8, y_train_C3H8)\n",
    "\n",
    "rg_iC4H10 = linear_model.SGDRegressor(shuffle=False, random_state=0)\n",
    "rg_iC4H10.fit(X_train_iC4H10, y_train_iC4H10)\n",
    "\n",
    "rg_nC4H10 = linear_model.SGDRegressor(shuffle=False, random_state=0)\n",
    "rg_nC4H10.fit(X_train_nC4H10, y_train_nC4H10)"
   ]
  },
  {
   "cell_type": "code",
   "execution_count": 1208,
   "metadata": {},
   "outputs": [],
   "source": [
    "T=1"
   ]
  },
  {
   "cell_type": "code",
   "execution_count": 1209,
   "metadata": {},
   "outputs": [],
   "source": [
    "for i in range(T,test_data.shape[0]):\n",
    "    test_data.loc[[i], [\"w_prev\"]] = test_data.loc[i-T, \"w_A\"]\n",
    "    test_data.loc[[i], [\"Cx_A_C2H6\"]] = test_data.loc[i-T,'G_B_C2H6'] - test_data.loc[i-T,'G_A_C2H6'] \n",
    "    test_data.loc[[i], [\"Cx_A_C3H8\"]] = test_data.loc[i-T,'G_B_C3H8'] - test_data.loc[i-T,'G_A_C3H8']\n",
    "    test_data.loc[[i], [\"Cx_A_iC4H10\"]] = test_data.loc[i-T,'G_B_iC4H10'] - test_data.loc[i-T,'G_A_iC4H10']\n",
    "    test_data.loc[[i], [\"Cx_A_nC4H10\"]] = test_data.loc[i-T,'G_B_nC4H10'] - test_data.loc[i-T,'G_A_nC4H10']\n",
    "    #print(1)\n",
    "    test_data.loc[[i], [\"Cx_A_C2H6**2\"]] = test_data.loc[i, \"Cx_A_C2H6\"]**2\n",
    "    test_data.loc[[i], [\"Cx_A_C3H8**2\"]] = test_data.loc[i, \"Cx_A_C3H8\"]**2\n",
    "    test_data.loc[[i], [\"Cx_A_iC4H10**2\"]] = test_data.loc[i, \"Cx_A_iC4H10\"]**2\n",
    "    test_data.loc[[i], [\"Cx_A_nC4H10**2\"]] = test_data.loc[i, \"Cx_A_nC4H10\"]**2\n",
    "    #print(2)\n",
    "    a_C2H6 = (test_data.loc[i,'G_A_C2H6'] - test_data.loc[i-1,'G_A_C2H6']) + test_data.loc[i,'w_prev'] * test_data.loc[i,'Cx_A_C2H6']\n",
    "    E_C2H6 = a_C2H6 / test_data.loc[i,'Cx_A_C2H6**2']\n",
    "    \n",
    "    a_C3H8 = (test_data.loc[i,'G_A_C3H8'] - test_data.loc[i-1,'G_A_C3H8']) + test_data.loc[i,'w_prev'] * test_data.loc[i,'Cx_A_C3H8']\n",
    "    E_C3H8 = a_C3H8 / test_data.loc[i,'Cx_A_C3H8**2']\n",
    "    \n",
    "    a_iC4H10 = (test_data.loc[i,'G_A_iC4H10'] - test_data.loc[i-1,'G_A_iC4H10']) + test_data.loc[i,'w_prev'] * test_data.loc[i,'Cx_A_iC4H10']\n",
    "    E_iC4H10 = a_iC4H10 / test_data.loc[i,'Cx_A_iC4H10**2']\n",
    "    \n",
    "    a_nC4H10 = (test_data.loc[i,'G_A_nC4H10'] - test_data.loc[i-1,'G_A_nC4H10']) + test_data.loc[i,'w_prev'] * test_data.loc[i,'Cx_A_nC4H10']\n",
    "    E_nC4H10 = a_nC4H10 / test_data.loc[i,'Cx_A_nC4H10**2']\n",
    "    \n",
    "    test_data.loc[[i],['Pe_ef_C2H6']] = np.abs(test_data.loc[i,'w_prev'] / E_C2H6)\n",
    "    test_data.loc[[i],['Pe_ef_C3H8']] = np.abs(test_data.loc[i,'w_prev'] / E_C3H8)\n",
    "    test_data.loc[[i],['Pe_ef_iC4H10']] = np.abs(test_data.loc[i,'w_prev'] / E_iC4H10)\n",
    "    test_data.loc[[i],['Pe_ef_nC4H10']] = np.abs(test_data.loc[i,'w_prev'] / E_nC4H10)\n",
    "    \n",
    "    test_data.loc[[i],['sqrt_Pe_ef_C2H6']] = np.sqrt(test_data.loc[i,'Pe_ef_C2H6'])\n",
    "    test_data.loc[[i],['sqrt_Pe_ef_C3H8']] = np.sqrt(test_data.loc[i,'Pe_ef_C3H8'])\n",
    "    test_data.loc[[i],['sqrt_Pe_ef_iC4H10']] = np.sqrt(test_data.loc[i,'Pe_ef_iC4H10'])\n",
    "    test_data.loc[[i],['sqrt_Pe_ef_nC4H10']] = np.sqrt(test_data.loc[i,'Pe_ef_nC4H10'])\n",
    "    \n",
    "    test_data.loc[[i],['e**Pe_ef_C2H6']] = np.exp(-1 * test_data.loc[i,'Pe_ef_C2H6'])\n",
    "    test_data.loc[[i],['e**Pe_ef_C3H8']] = np.exp(-1 * test_data.loc[i,'Pe_ef_C3H8'])\n",
    "    test_data.loc[[i],['e**Pe_ef_iC4H10']] = np.exp(-1 * test_data.loc[i,'Pe_ef_iC4H10'])\n",
    "    test_data.loc[[i],['e**Pe_ef_nC4H10']] = np.exp(-1 * test_data.loc[i,'Pe_ef_nC4H10'])\n",
    "    \n",
    "    #print(3)\n",
    "    C2H6 = scaler_C2H6.transform(test_data.loc[[i],col_C2H6])\n",
    "    C3H8 = scaler_C3H8.transform(test_data.loc[[i],col_C3H8])\n",
    "    iC4H10 = scaler_iC4H10.transform(test_data.loc[[i],col_iC4H10])\n",
    "    nC4H10 = scaler_nC4H10.transform(test_data.loc[[i],col_nC4H10])\n",
    "    #print(4)\n",
    "    test_data.loc[[i], [\"G_B_C2H6\"]] = rg_C2H6.predict(C2H6)\n",
    "    test_data.loc[[i], [\"G_B_C3H8\"]] = rg_C3H8.predict(C3H8)\n",
    "    test_data.loc[[i], [\"G_B_iC4H10\"]] = rg_iC4H10.predict(iC4H10)\n",
    "    test_data.loc[[i], [\"G_B_nC4H10\"]] = rg_nC4H10.predict(nC4H10)\n",
    "    #print(5)\n",
    "    \n",
    "    #Если не убирать шумы в исходных данных для сходимости алгоритма нужен следующий код:\n",
    "    for j in ['G_B_C2H6','G_B_C3H8','G_B_iC4H10','G_B_nC4H10']:\n",
    "        if test_data.loc[i,j] < 0:\n",
    "            test_data.loc[[i],[j]] = test_data.loc[i-1,j]\n",
    "            \n",
    "    x = test_data.loc[[i], [\"G_B_C2H6\",'G_B_C3H8','G_B_iC4H10','G_B_nC4H10']]\n",
    "    \n",
    "    if abs(np.array(x).sum()) > test_data.loc[i, \"B_rate\"]:\n",
    "        test_data.loc[[i], [\"G_B_C2H6\"]] = test_data.loc[:i, \"G_B_C2H6\"].mean()\n",
    "        test_data.loc[[i], [\"G_B_C3H8\"]] = test_data.loc[:i, \"G_B_C3H8\"].mean()\n",
    "        test_data.loc[[i], [\"G_B_iC4H10\"]] = test_data.loc[:i, \"G_B_iC4H10\"].mean()\n",
    "        test_data.loc[[i], [\"G_B_nC4H10\"]] = test_data.loc[:i, \"G_B_nC4H10\"].mean()\n",
    "        \n",
    "    #print(i)"
   ]
  },
  {
   "cell_type": "code",
   "execution_count": 1210,
   "metadata": {},
   "outputs": [
    {
     "data": {
      "text/html": [
       "<div>\n",
       "<style scoped>\n",
       "    .dataframe tbody tr th:only-of-type {\n",
       "        vertical-align: middle;\n",
       "    }\n",
       "\n",
       "    .dataframe tbody tr th {\n",
       "        vertical-align: top;\n",
       "    }\n",
       "\n",
       "    .dataframe thead th {\n",
       "        text-align: right;\n",
       "    }\n",
       "</style>\n",
       "<table border=\"1\" class=\"dataframe\">\n",
       "  <thead>\n",
       "    <tr style=\"text-align: right;\">\n",
       "      <th></th>\n",
       "      <th>B_rate</th>\n",
       "      <th>Cx_A_C2H6</th>\n",
       "      <th>Cx_A_C2H6**2</th>\n",
       "      <th>Cx_A_C3H8</th>\n",
       "      <th>Cx_A_C3H8**2</th>\n",
       "      <th>Cx_A_iC4H10</th>\n",
       "      <th>Cx_A_iC4H10**2</th>\n",
       "      <th>Cx_A_nC4H10</th>\n",
       "      <th>Cx_A_nC4H10**2</th>\n",
       "      <th>G_A_C2H6</th>\n",
       "      <th>G_A_C3H8</th>\n",
       "      <th>G_A_C6H14</th>\n",
       "      <th>G_A_CH4</th>\n",
       "      <th>G_A_iC4H10</th>\n",
       "      <th>G_A_iC5H12</th>\n",
       "      <th>G_A_nC4H10</th>\n",
       "      <th>G_A_nC5H12</th>\n",
       "      <th>G_B_C2H6</th>\n",
       "      <th>G_B_C3H8</th>\n",
       "      <th>G_B_iC4H10</th>\n",
       "      <th>G_B_nC4H10</th>\n",
       "      <th>Pe_ef_C2H6</th>\n",
       "      <th>Pe_ef_C2H6**2</th>\n",
       "      <th>Pe_ef_C3H8</th>\n",
       "      <th>Pe_ef_C3H8**2</th>\n",
       "      <th>Pe_ef_iC4H10</th>\n",
       "      <th>Pe_ef_iC4H10**2</th>\n",
       "      <th>Pe_ef_nC4H10</th>\n",
       "      <th>Pe_ef_nC4H10**2</th>\n",
       "      <th>Re_A</th>\n",
       "      <th>e**Pe_ef_C2H6</th>\n",
       "      <th>e**Pe_ef_C3H8</th>\n",
       "      <th>e**Pe_ef_iC4H10</th>\n",
       "      <th>e**Pe_ef_nC4H10</th>\n",
       "      <th>sqrt_Pe_ef_C2H6</th>\n",
       "      <th>sqrt_Pe_ef_C3H8</th>\n",
       "      <th>sqrt_Pe_ef_iC4H10</th>\n",
       "      <th>sqrt_Pe_ef_nC4H10</th>\n",
       "      <th>timestamp</th>\n",
       "      <th>w_A</th>\n",
       "      <th>w_prev</th>\n",
       "    </tr>\n",
       "  </thead>\n",
       "  <tbody>\n",
       "    <tr>\n",
       "      <td>0</td>\n",
       "      <td>72.601981</td>\n",
       "      <td>0.068488</td>\n",
       "      <td>0.004691</td>\n",
       "      <td>0.526622</td>\n",
       "      <td>0.277331</td>\n",
       "      <td>-0.091283</td>\n",
       "      <td>0.008333</td>\n",
       "      <td>0.596711</td>\n",
       "      <td>0.356064</td>\n",
       "      <td>3.569881</td>\n",
       "      <td>25.479712</td>\n",
       "      <td>4.466263</td>\n",
       "      <td>0.213048</td>\n",
       "      <td>11.724163</td>\n",
       "      <td>4.152003</td>\n",
       "      <td>17.183164</td>\n",
       "      <td>3.661481</td>\n",
       "      <td>3.648088</td>\n",
       "      <td>25.981607</td>\n",
       "      <td>11.638576</td>\n",
       "      <td>17.799919</td>\n",
       "      <td>0.070580</td>\n",
       "      <td>0.004981</td>\n",
       "      <td>0.381002</td>\n",
       "      <td>0.145163</td>\n",
       "      <td>0.259863</td>\n",
       "      <td>0.067529</td>\n",
       "      <td>0.543063</td>\n",
       "      <td>0.294918</td>\n",
       "      <td>415477.749614</td>\n",
       "      <td>0.931854</td>\n",
       "      <td>0.683176</td>\n",
       "      <td>0.771157</td>\n",
       "      <td>0.580966</td>\n",
       "      <td>0.265668</td>\n",
       "      <td>0.617254</td>\n",
       "      <td>0.509768</td>\n",
       "      <td>0.736928</td>\n",
       "      <td>2020-04-30 23:30:00</td>\n",
       "      <td>0.277036</td>\n",
       "      <td>0.276608</td>\n",
       "    </tr>\n",
       "    <tr>\n",
       "      <td>1</td>\n",
       "      <td>74.273009</td>\n",
       "      <td>0.078208</td>\n",
       "      <td>0.006116</td>\n",
       "      <td>0.501895</td>\n",
       "      <td>0.251899</td>\n",
       "      <td>-0.085587</td>\n",
       "      <td>0.007325</td>\n",
       "      <td>0.616754</td>\n",
       "      <td>0.380386</td>\n",
       "      <td>3.667959</td>\n",
       "      <td>26.297401</td>\n",
       "      <td>4.568047</td>\n",
       "      <td>0.191308</td>\n",
       "      <td>11.880148</td>\n",
       "      <td>4.068561</td>\n",
       "      <td>17.187507</td>\n",
       "      <td>3.528153</td>\n",
       "      <td>2.572849</td>\n",
       "      <td>26.983855</td>\n",
       "      <td>12.184055</td>\n",
       "      <td>17.419836</td>\n",
       "      <td>0.014151</td>\n",
       "      <td>NaN</td>\n",
       "      <td>0.072941</td>\n",
       "      <td>NaN</td>\n",
       "      <td>0.015342</td>\n",
       "      <td>NaN</td>\n",
       "      <td>0.601468</td>\n",
       "      <td>NaN</td>\n",
       "      <td>419019.690291</td>\n",
       "      <td>0.985949</td>\n",
       "      <td>0.929656</td>\n",
       "      <td>0.984775</td>\n",
       "      <td>0.548007</td>\n",
       "      <td>0.118957</td>\n",
       "      <td>0.270076</td>\n",
       "      <td>0.123863</td>\n",
       "      <td>0.775543</td>\n",
       "      <td>2020-05-01 00:00:00</td>\n",
       "      <td>0.281026</td>\n",
       "      <td>0.277036</td>\n",
       "    </tr>\n",
       "    <tr>\n",
       "      <td>2</td>\n",
       "      <td>74.167421</td>\n",
       "      <td>-1.095109</td>\n",
       "      <td>1.199264</td>\n",
       "      <td>0.686454</td>\n",
       "      <td>0.471219</td>\n",
       "      <td>0.303907</td>\n",
       "      <td>0.092359</td>\n",
       "      <td>0.232330</td>\n",
       "      <td>0.053977</td>\n",
       "      <td>3.660194</td>\n",
       "      <td>26.223466</td>\n",
       "      <td>4.534756</td>\n",
       "      <td>0.190859</td>\n",
       "      <td>11.845278</td>\n",
       "      <td>4.047247</td>\n",
       "      <td>17.129529</td>\n",
       "      <td>3.505918</td>\n",
       "      <td>3.136566</td>\n",
       "      <td>27.208247</td>\n",
       "      <td>12.234352</td>\n",
       "      <td>17.491670</td>\n",
       "      <td>1.068159</td>\n",
       "      <td>NaN</td>\n",
       "      <td>1.113039</td>\n",
       "      <td>NaN</td>\n",
       "      <td>0.513605</td>\n",
       "      <td>NaN</td>\n",
       "      <td>2.074177</td>\n",
       "      <td>NaN</td>\n",
       "      <td>417716.031332</td>\n",
       "      <td>0.343641</td>\n",
       "      <td>0.328559</td>\n",
       "      <td>0.598335</td>\n",
       "      <td>0.125660</td>\n",
       "      <td>1.033518</td>\n",
       "      <td>1.055007</td>\n",
       "      <td>0.716662</td>\n",
       "      <td>1.440200</td>\n",
       "      <td>2020-05-01 00:30:00</td>\n",
       "      <td>0.280066</td>\n",
       "      <td>0.281026</td>\n",
       "    </tr>\n",
       "    <tr>\n",
       "      <td>3</td>\n",
       "      <td>74.063703</td>\n",
       "      <td>-0.523628</td>\n",
       "      <td>0.274186</td>\n",
       "      <td>0.984781</td>\n",
       "      <td>0.969794</td>\n",
       "      <td>0.389075</td>\n",
       "      <td>0.151379</td>\n",
       "      <td>0.362141</td>\n",
       "      <td>0.131146</td>\n",
       "      <td>3.659918</td>\n",
       "      <td>26.255791</td>\n",
       "      <td>4.500369</td>\n",
       "      <td>0.191285</td>\n",
       "      <td>11.851348</td>\n",
       "      <td>4.017352</td>\n",
       "      <td>17.124160</td>\n",
       "      <td>3.475113</td>\n",
       "      <td>2.866449</td>\n",
       "      <td>27.034979</td>\n",
       "      <td>12.099942</td>\n",
       "      <td>17.316154</td>\n",
       "      <td>0.522644</td>\n",
       "      <td>NaN</td>\n",
       "      <td>0.881470</td>\n",
       "      <td>NaN</td>\n",
       "      <td>0.368545</td>\n",
       "      <td>NaN</td>\n",
       "      <td>0.382385</td>\n",
       "      <td>NaN</td>\n",
       "      <td>417677.086653</td>\n",
       "      <td>0.592951</td>\n",
       "      <td>0.414174</td>\n",
       "      <td>0.691740</td>\n",
       "      <td>0.682232</td>\n",
       "      <td>0.722941</td>\n",
       "      <td>0.938866</td>\n",
       "      <td>0.607079</td>\n",
       "      <td>0.618373</td>\n",
       "      <td>2020-05-01 01:00:00</td>\n",
       "      <td>0.279884</td>\n",
       "      <td>0.280066</td>\n",
       "    </tr>\n",
       "    <tr>\n",
       "      <td>4</td>\n",
       "      <td>73.985463</td>\n",
       "      <td>-0.793468</td>\n",
       "      <td>0.629592</td>\n",
       "      <td>0.779188</td>\n",
       "      <td>0.607134</td>\n",
       "      <td>0.248595</td>\n",
       "      <td>0.061799</td>\n",
       "      <td>0.191994</td>\n",
       "      <td>0.036862</td>\n",
       "      <td>3.673042</td>\n",
       "      <td>26.325080</td>\n",
       "      <td>4.457838</td>\n",
       "      <td>0.192301</td>\n",
       "      <td>11.848657</td>\n",
       "      <td>3.991482</td>\n",
       "      <td>17.105351</td>\n",
       "      <td>3.445699</td>\n",
       "      <td>2.985259</td>\n",
       "      <td>26.987744</td>\n",
       "      <td>12.083529</td>\n",
       "      <td>17.285789</td>\n",
       "      <td>0.843306</td>\n",
       "      <td>NaN</td>\n",
       "      <td>0.591315</td>\n",
       "      <td>NaN</td>\n",
       "      <td>0.258595</td>\n",
       "      <td>NaN</td>\n",
       "      <td>0.295384</td>\n",
       "      <td>NaN</td>\n",
       "      <td>418092.480177</td>\n",
       "      <td>0.430285</td>\n",
       "      <td>0.553599</td>\n",
       "      <td>0.772136</td>\n",
       "      <td>0.744246</td>\n",
       "      <td>0.918317</td>\n",
       "      <td>0.768970</td>\n",
       "      <td>0.508522</td>\n",
       "      <td>0.543493</td>\n",
       "      <td>2020-05-01 01:30:00</td>\n",
       "      <td>0.279844</td>\n",
       "      <td>0.279884</td>\n",
       "    </tr>\n",
       "  </tbody>\n",
       "</table>\n",
       "</div>"
      ],
      "text/plain": [
       "      B_rate  Cx_A_C2H6  Cx_A_C2H6**2  Cx_A_C3H8  Cx_A_C3H8**2  Cx_A_iC4H10  \\\n",
       "0  72.601981   0.068488      0.004691   0.526622      0.277331    -0.091283   \n",
       "1  74.273009   0.078208      0.006116   0.501895      0.251899    -0.085587   \n",
       "2  74.167421  -1.095109      1.199264   0.686454      0.471219     0.303907   \n",
       "3  74.063703  -0.523628      0.274186   0.984781      0.969794     0.389075   \n",
       "4  73.985463  -0.793468      0.629592   0.779188      0.607134     0.248595   \n",
       "\n",
       "   Cx_A_iC4H10**2  Cx_A_nC4H10  Cx_A_nC4H10**2  G_A_C2H6   G_A_C3H8  \\\n",
       "0        0.008333     0.596711        0.356064  3.569881  25.479712   \n",
       "1        0.007325     0.616754        0.380386  3.667959  26.297401   \n",
       "2        0.092359     0.232330        0.053977  3.660194  26.223466   \n",
       "3        0.151379     0.362141        0.131146  3.659918  26.255791   \n",
       "4        0.061799     0.191994        0.036862  3.673042  26.325080   \n",
       "\n",
       "   G_A_C6H14   G_A_CH4  G_A_iC4H10  G_A_iC5H12  G_A_nC4H10  G_A_nC5H12  \\\n",
       "0   4.466263  0.213048   11.724163    4.152003   17.183164    3.661481   \n",
       "1   4.568047  0.191308   11.880148    4.068561   17.187507    3.528153   \n",
       "2   4.534756  0.190859   11.845278    4.047247   17.129529    3.505918   \n",
       "3   4.500369  0.191285   11.851348    4.017352   17.124160    3.475113   \n",
       "4   4.457838  0.192301   11.848657    3.991482   17.105351    3.445699   \n",
       "\n",
       "   G_B_C2H6   G_B_C3H8  G_B_iC4H10  G_B_nC4H10  Pe_ef_C2H6  Pe_ef_C2H6**2  \\\n",
       "0  3.648088  25.981607   11.638576   17.799919    0.070580       0.004981   \n",
       "1  2.572849  26.983855   12.184055   17.419836    0.014151            NaN   \n",
       "2  3.136566  27.208247   12.234352   17.491670    1.068159            NaN   \n",
       "3  2.866449  27.034979   12.099942   17.316154    0.522644            NaN   \n",
       "4  2.985259  26.987744   12.083529   17.285789    0.843306            NaN   \n",
       "\n",
       "   Pe_ef_C3H8  Pe_ef_C3H8**2  Pe_ef_iC4H10  Pe_ef_iC4H10**2  Pe_ef_nC4H10  \\\n",
       "0    0.381002       0.145163      0.259863         0.067529      0.543063   \n",
       "1    0.072941            NaN      0.015342              NaN      0.601468   \n",
       "2    1.113039            NaN      0.513605              NaN      2.074177   \n",
       "3    0.881470            NaN      0.368545              NaN      0.382385   \n",
       "4    0.591315            NaN      0.258595              NaN      0.295384   \n",
       "\n",
       "   Pe_ef_nC4H10**2           Re_A  e**Pe_ef_C2H6  e**Pe_ef_C3H8  \\\n",
       "0         0.294918  415477.749614       0.931854       0.683176   \n",
       "1              NaN  419019.690291       0.985949       0.929656   \n",
       "2              NaN  417716.031332       0.343641       0.328559   \n",
       "3              NaN  417677.086653       0.592951       0.414174   \n",
       "4              NaN  418092.480177       0.430285       0.553599   \n",
       "\n",
       "   e**Pe_ef_iC4H10  e**Pe_ef_nC4H10  sqrt_Pe_ef_C2H6  sqrt_Pe_ef_C3H8  \\\n",
       "0         0.771157         0.580966         0.265668         0.617254   \n",
       "1         0.984775         0.548007         0.118957         0.270076   \n",
       "2         0.598335         0.125660         1.033518         1.055007   \n",
       "3         0.691740         0.682232         0.722941         0.938866   \n",
       "4         0.772136         0.744246         0.918317         0.768970   \n",
       "\n",
       "   sqrt_Pe_ef_iC4H10  sqrt_Pe_ef_nC4H10            timestamp       w_A  \\\n",
       "0           0.509768           0.736928  2020-04-30 23:30:00  0.277036   \n",
       "1           0.123863           0.775543  2020-05-01 00:00:00  0.281026   \n",
       "2           0.716662           1.440200  2020-05-01 00:30:00  0.280066   \n",
       "3           0.607079           0.618373  2020-05-01 01:00:00  0.279884   \n",
       "4           0.508522           0.543493  2020-05-01 01:30:00  0.279844   \n",
       "\n",
       "     w_prev  \n",
       "0  0.276608  \n",
       "1  0.277036  \n",
       "2  0.281026  \n",
       "3  0.280066  \n",
       "4  0.279884  "
      ]
     },
     "execution_count": 1210,
     "metadata": {},
     "output_type": "execute_result"
    }
   ],
   "source": [
    "test_data.head()"
   ]
  },
  {
   "cell_type": "code",
   "execution_count": 1211,
   "metadata": {},
   "outputs": [
    {
     "data": {
      "text/plain": [
       "Index(['B_rate', 'Cx_A_C2H6', 'Cx_A_C2H6**2', 'Cx_A_C3H8', 'Cx_A_C3H8**2',\n",
       "       'Cx_A_iC4H10', 'Cx_A_iC4H10**2', 'Cx_A_nC4H10', 'Cx_A_nC4H10**2',\n",
       "       'G_A_C2H6', 'G_A_C3H8', 'G_A_C6H14', 'G_A_CH4', 'G_A_iC4H10',\n",
       "       'G_A_iC5H12', 'G_A_nC4H10', 'G_A_nC5H12', 'G_B_C2H6', 'G_B_C3H8',\n",
       "       'G_B_iC4H10', 'G_B_nC4H10', 'Pe_ef_C2H6', 'Pe_ef_C2H6**2', 'Pe_ef_C3H8',\n",
       "       'Pe_ef_C3H8**2', 'Pe_ef_iC4H10', 'Pe_ef_iC4H10**2', 'Pe_ef_nC4H10',\n",
       "       'Pe_ef_nC4H10**2', 'Re_A', 'e**Pe_ef_C2H6', 'e**Pe_ef_C3H8',\n",
       "       'e**Pe_ef_iC4H10', 'e**Pe_ef_nC4H10', 'sqrt_Pe_ef_C2H6',\n",
       "       'sqrt_Pe_ef_C3H8', 'sqrt_Pe_ef_iC4H10', 'sqrt_Pe_ef_nC4H10',\n",
       "       'timestamp', 'w_A', 'w_prev'],\n",
       "      dtype='object')"
      ]
     },
     "execution_count": 1211,
     "metadata": {},
     "output_type": "execute_result"
    }
   ],
   "source": [
    "test_data.columns"
   ]
  },
  {
   "cell_type": "code",
   "execution_count": 1212,
   "metadata": {},
   "outputs": [
    {
     "data": {
      "image/png": "[encoded data removed]",
      "text/plain": [
       "<Figure size 1080x360 with 1 Axes>"
      ]
     },
     "metadata": {
      "needs_background": "light"
     },
     "output_type": "display_data"
    },
    {
     "data": {
      "image/png": "[encoded data removed]",
      "text/plain": [
       "<Figure size 1080x360 with 1 Axes>"
      ]
     },
     "metadata": {
      "needs_background": "light"
     },
     "output_type": "display_data"
    }
   ],
   "source": [
    "plt.rcParams[\"figure.figsize\"] = (15,5)\n",
    "\n",
    "test_data[['G_A_C2H6', 'G_A_C3H8','G_A_iC4H10', 'G_A_nC4H10']][:].plot()\n",
    "\n",
    "# make room for tick labels\n",
    "plt.tight_layout()\n",
    "\n",
    "plt.rcParams[\"figure.figsize\"] = (15,5)\n",
    "\n",
    "test_data[['G_B_C2H6', 'G_B_C3H8','G_B_iC4H10', 'G_B_nC4H10']][:].plot()\n",
    "\n",
    "# make room for tick labels\n",
    "plt.tight_layout()\n",
    "\n",
    "\n",
    "plt.show()"
   ]
  },
  {
   "cell_type": "code",
   "execution_count": 1213,
   "metadata": {},
   "outputs": [],
   "source": [
    "predict = pd.DataFrame()"
   ]
  },
  {
   "cell_type": "code",
   "execution_count": 1214,
   "metadata": {},
   "outputs": [],
   "source": [
    "predict[['timestamp']] = test_data[['timestamp']]"
   ]
  },
  {
   "cell_type": "code",
   "execution_count": 1215,
   "metadata": {},
   "outputs": [],
   "source": [
    "B = pd.DataFrame({'B_C2H6':[],'B_C3H8':[],'B_iC4H10':[], 'B_nC4H10':[]})"
   ]
  },
  {
   "cell_type": "code",
   "execution_count": 1216,
   "metadata": {
    "scrolled": true
   },
   "outputs": [],
   "source": [
    "for i in range(test_data.shape[0]):\n",
    "    new_line = {}\n",
    "    B_C2H6 = test_data.loc[i,'G_B_C2H6'] * 100 / test_data.loc[i,'B_rate']\n",
    "    B_C3H8 = test_data.loc[i,'G_B_C3H8'] * 100 / test_data.loc[i,'B_rate']\n",
    "    B_iC4H10 = test_data.loc[i,'G_B_iC4H10'] * 100 / test_data.loc[i,'B_rate']\n",
    "    B_nC4H10 = test_data.loc[i,'G_B_nC4H10'] * 100 / test_data.loc[i,'B_rate']\n",
    "    \n",
    "    new_line.update({'B_C2H6':B_C2H6,'B_C3H8':B_C3H8,'B_iC4H10':B_iC4H10,'B_nC4H10': B_nC4H10})\n",
    "    B = B.append(new_line, ignore_index=True)"
   ]
  },
  {
   "cell_type": "code",
   "execution_count": 1217,
   "metadata": {},
   "outputs": [],
   "source": [
    "predict = pd.concat([predict,B] , axis=1)"
   ]
  },
  {
   "cell_type": "code",
   "execution_count": 1218,
   "metadata": {},
   "outputs": [
    {
     "data": {
      "text/html": [
       "<div>\n",
       "<style scoped>\n",
       "    .dataframe tbody tr th:only-of-type {\n",
       "        vertical-align: middle;\n",
       "    }\n",
       "\n",
       "    .dataframe tbody tr th {\n",
       "        vertical-align: top;\n",
       "    }\n",
       "\n",
       "    .dataframe thead th {\n",
       "        text-align: right;\n",
       "    }\n",
       "</style>\n",
       "<table border=\"1\" class=\"dataframe\">\n",
       "  <thead>\n",
       "    <tr style=\"text-align: right;\">\n",
       "      <th></th>\n",
       "      <th>timestamp</th>\n",
       "      <th>B_C2H6</th>\n",
       "      <th>B_C3H8</th>\n",
       "      <th>B_iC4H10</th>\n",
       "      <th>B_nC4H10</th>\n",
       "    </tr>\n",
       "  </thead>\n",
       "  <tbody>\n",
       "    <tr>\n",
       "      <td>0</td>\n",
       "      <td>2020-04-30 23:30:00</td>\n",
       "      <td>5.024778</td>\n",
       "      <td>35.786361</td>\n",
       "      <td>16.030659</td>\n",
       "      <td>24.517125</td>\n",
       "    </tr>\n",
       "    <tr>\n",
       "      <td>1</td>\n",
       "      <td>2020-05-01 00:00:00</td>\n",
       "      <td>3.464044</td>\n",
       "      <td>36.330634</td>\n",
       "      <td>16.404418</td>\n",
       "      <td>23.453791</td>\n",
       "    </tr>\n",
       "    <tr>\n",
       "      <td>2</td>\n",
       "      <td>2020-05-01 00:30:00</td>\n",
       "      <td>4.229034</td>\n",
       "      <td>36.684904</td>\n",
       "      <td>16.495588</td>\n",
       "      <td>23.584034</td>\n",
       "    </tr>\n",
       "    <tr>\n",
       "      <td>3</td>\n",
       "      <td>2020-05-01 01:00:00</td>\n",
       "      <td>3.870249</td>\n",
       "      <td>36.502332</td>\n",
       "      <td>16.337210</td>\n",
       "      <td>23.380081</td>\n",
       "    </tr>\n",
       "    <tr>\n",
       "      <td>4</td>\n",
       "      <td>2020-05-01 01:30:00</td>\n",
       "      <td>4.034927</td>\n",
       "      <td>36.477091</td>\n",
       "      <td>16.332302</td>\n",
       "      <td>23.363764</td>\n",
       "    </tr>\n",
       "    <tr>\n",
       "      <td>...</td>\n",
       "      <td>...</td>\n",
       "      <td>...</td>\n",
       "      <td>...</td>\n",
       "      <td>...</td>\n",
       "      <td>...</td>\n",
       "    </tr>\n",
       "    <tr>\n",
       "      <td>3980</td>\n",
       "      <td>2020-07-22 21:30:00</td>\n",
       "      <td>3.735827</td>\n",
       "      <td>37.649394</td>\n",
       "      <td>17.154100</td>\n",
       "      <td>24.549979</td>\n",
       "    </tr>\n",
       "    <tr>\n",
       "      <td>3981</td>\n",
       "      <td>2020-07-22 22:00:00</td>\n",
       "      <td>3.733913</td>\n",
       "      <td>37.510186</td>\n",
       "      <td>17.149573</td>\n",
       "      <td>24.538863</td>\n",
       "    </tr>\n",
       "    <tr>\n",
       "      <td>3982</td>\n",
       "      <td>2020-07-22 22:30:00</td>\n",
       "      <td>3.706919</td>\n",
       "      <td>37.371593</td>\n",
       "      <td>17.153624</td>\n",
       "      <td>24.526195</td>\n",
       "    </tr>\n",
       "    <tr>\n",
       "      <td>3983</td>\n",
       "      <td>2020-07-22 23:00:00</td>\n",
       "      <td>3.694341</td>\n",
       "      <td>37.443959</td>\n",
       "      <td>17.175441</td>\n",
       "      <td>24.540478</td>\n",
       "    </tr>\n",
       "    <tr>\n",
       "      <td>3984</td>\n",
       "      <td>2020-07-22 23:30:00</td>\n",
       "      <td>3.408414</td>\n",
       "      <td>37.620705</td>\n",
       "      <td>17.171459</td>\n",
       "      <td>24.541058</td>\n",
       "    </tr>\n",
       "  </tbody>\n",
       "</table>\n",
       "<p>3985 rows × 5 columns</p>\n",
       "</div>"
      ],
      "text/plain": [
       "                timestamp    B_C2H6     B_C3H8   B_iC4H10   B_nC4H10\n",
       "0     2020-04-30 23:30:00  5.024778  35.786361  16.030659  24.517125\n",
       "1     2020-05-01 00:00:00  3.464044  36.330634  16.404418  23.453791\n",
       "2     2020-05-01 00:30:00  4.229034  36.684904  16.495588  23.584034\n",
       "3     2020-05-01 01:00:00  3.870249  36.502332  16.337210  23.380081\n",
       "4     2020-05-01 01:30:00  4.034927  36.477091  16.332302  23.363764\n",
       "...                   ...       ...        ...        ...        ...\n",
       "3980  2020-07-22 21:30:00  3.735827  37.649394  17.154100  24.549979\n",
       "3981  2020-07-22 22:00:00  3.733913  37.510186  17.149573  24.538863\n",
       "3982  2020-07-22 22:30:00  3.706919  37.371593  17.153624  24.526195\n",
       "3983  2020-07-22 23:00:00  3.694341  37.443959  17.175441  24.540478\n",
       "3984  2020-07-22 23:30:00  3.408414  37.620705  17.171459  24.541058\n",
       "\n",
       "[3985 rows x 5 columns]"
      ]
     },
     "execution_count": 1218,
     "metadata": {},
     "output_type": "execute_result"
    }
   ],
   "source": [
    "predict"
   ]
  },
  {
   "cell_type": "code",
   "execution_count": 1219,
   "metadata": {},
   "outputs": [],
   "source": [
    "for i in range(0,1):\n",
    "    predict.drop(i, axis=0, inplace=True)"
   ]
  },
  {
   "cell_type": "code",
   "execution_count": 1220,
   "metadata": {},
   "outputs": [],
   "source": [
    "predict = predict.reset_index(drop=True)"
   ]
  },
  {
   "cell_type": "code",
   "execution_count": 1221,
   "metadata": {
    "scrolled": true
   },
   "outputs": [
    {
     "data": {
      "text/html": [
       "<div>\n",
       "<style scoped>\n",
       "    .dataframe tbody tr th:only-of-type {\n",
       "        vertical-align: middle;\n",
       "    }\n",
       "\n",
       "    .dataframe tbody tr th {\n",
       "        vertical-align: top;\n",
       "    }\n",
       "\n",
       "    .dataframe thead th {\n",
       "        text-align: right;\n",
       "    }\n",
       "</style>\n",
       "<table border=\"1\" class=\"dataframe\">\n",
       "  <thead>\n",
       "    <tr style=\"text-align: right;\">\n",
       "      <th></th>\n",
       "      <th>timestamp</th>\n",
       "      <th>B_C2H6</th>\n",
       "      <th>B_C3H8</th>\n",
       "      <th>B_iC4H10</th>\n",
       "      <th>B_nC4H10</th>\n",
       "    </tr>\n",
       "  </thead>\n",
       "  <tbody>\n",
       "    <tr>\n",
       "      <td>0</td>\n",
       "      <td>2020-05-01 00:00:00</td>\n",
       "      <td>3.464044</td>\n",
       "      <td>36.330634</td>\n",
       "      <td>16.404418</td>\n",
       "      <td>23.453791</td>\n",
       "    </tr>\n",
       "    <tr>\n",
       "      <td>1</td>\n",
       "      <td>2020-05-01 00:30:00</td>\n",
       "      <td>4.229034</td>\n",
       "      <td>36.684904</td>\n",
       "      <td>16.495588</td>\n",
       "      <td>23.584034</td>\n",
       "    </tr>\n",
       "    <tr>\n",
       "      <td>2</td>\n",
       "      <td>2020-05-01 01:00:00</td>\n",
       "      <td>3.870249</td>\n",
       "      <td>36.502332</td>\n",
       "      <td>16.337210</td>\n",
       "      <td>23.380081</td>\n",
       "    </tr>\n",
       "    <tr>\n",
       "      <td>3</td>\n",
       "      <td>2020-05-01 01:30:00</td>\n",
       "      <td>4.034927</td>\n",
       "      <td>36.477091</td>\n",
       "      <td>16.332302</td>\n",
       "      <td>23.363764</td>\n",
       "    </tr>\n",
       "    <tr>\n",
       "      <td>4</td>\n",
       "      <td>2020-05-01 02:00:00</td>\n",
       "      <td>3.974050</td>\n",
       "      <td>36.482015</td>\n",
       "      <td>16.325723</td>\n",
       "      <td>23.349335</td>\n",
       "    </tr>\n",
       "    <tr>\n",
       "      <td>...</td>\n",
       "      <td>...</td>\n",
       "      <td>...</td>\n",
       "      <td>...</td>\n",
       "      <td>...</td>\n",
       "      <td>...</td>\n",
       "    </tr>\n",
       "    <tr>\n",
       "      <td>3979</td>\n",
       "      <td>2020-07-22 21:30:00</td>\n",
       "      <td>3.735827</td>\n",
       "      <td>37.649394</td>\n",
       "      <td>17.154100</td>\n",
       "      <td>24.549979</td>\n",
       "    </tr>\n",
       "    <tr>\n",
       "      <td>3980</td>\n",
       "      <td>2020-07-22 22:00:00</td>\n",
       "      <td>3.733913</td>\n",
       "      <td>37.510186</td>\n",
       "      <td>17.149573</td>\n",
       "      <td>24.538863</td>\n",
       "    </tr>\n",
       "    <tr>\n",
       "      <td>3981</td>\n",
       "      <td>2020-07-22 22:30:00</td>\n",
       "      <td>3.706919</td>\n",
       "      <td>37.371593</td>\n",
       "      <td>17.153624</td>\n",
       "      <td>24.526195</td>\n",
       "    </tr>\n",
       "    <tr>\n",
       "      <td>3982</td>\n",
       "      <td>2020-07-22 23:00:00</td>\n",
       "      <td>3.694341</td>\n",
       "      <td>37.443959</td>\n",
       "      <td>17.175441</td>\n",
       "      <td>24.540478</td>\n",
       "    </tr>\n",
       "    <tr>\n",
       "      <td>3983</td>\n",
       "      <td>2020-07-22 23:30:00</td>\n",
       "      <td>3.408414</td>\n",
       "      <td>37.620705</td>\n",
       "      <td>17.171459</td>\n",
       "      <td>24.541058</td>\n",
       "    </tr>\n",
       "  </tbody>\n",
       "</table>\n",
       "<p>3984 rows × 5 columns</p>\n",
       "</div>"
      ],
      "text/plain": [
       "                timestamp    B_C2H6     B_C3H8   B_iC4H10   B_nC4H10\n",
       "0     2020-05-01 00:00:00  3.464044  36.330634  16.404418  23.453791\n",
       "1     2020-05-01 00:30:00  4.229034  36.684904  16.495588  23.584034\n",
       "2     2020-05-01 01:00:00  3.870249  36.502332  16.337210  23.380081\n",
       "3     2020-05-01 01:30:00  4.034927  36.477091  16.332302  23.363764\n",
       "4     2020-05-01 02:00:00  3.974050  36.482015  16.325723  23.349335\n",
       "...                   ...       ...        ...        ...        ...\n",
       "3979  2020-07-22 21:30:00  3.735827  37.649394  17.154100  24.549979\n",
       "3980  2020-07-22 22:00:00  3.733913  37.510186  17.149573  24.538863\n",
       "3981  2020-07-22 22:30:00  3.706919  37.371593  17.153624  24.526195\n",
       "3982  2020-07-22 23:00:00  3.694341  37.443959  17.175441  24.540478\n",
       "3983  2020-07-22 23:30:00  3.408414  37.620705  17.171459  24.541058\n",
       "\n",
       "[3984 rows x 5 columns]"
      ]
     },
     "execution_count": 1221,
     "metadata": {},
     "output_type": "execute_result"
    }
   ],
   "source": [
    "predict"
   ]
  },
  {
   "cell_type": "code",
   "execution_count": 1222,
   "metadata": {},
   "outputs": [],
   "source": [
    "predict.to_csv('predictSGD.csv', sep=',', header=True, index=False)"
   ]
  },
  {
   "cell_type": "code",
   "execution_count": 1223,
   "metadata": {},
   "outputs": [],
   "source": [
    "a = pd.read_csv('sample_submission.csv', header = 0, sep = ',')\n",
    "b = pd.read_csv('predictSGD.csv', header = 0, sep = ',')"
   ]
  },
  {
   "cell_type": "code",
   "execution_count": 1224,
   "metadata": {},
   "outputs": [
    {
     "data": {
      "text/html": [
       "<div>\n",
       "<style scoped>\n",
       "    .dataframe tbody tr th:only-of-type {\n",
       "        vertical-align: middle;\n",
       "    }\n",
       "\n",
       "    .dataframe tbody tr th {\n",
       "        vertical-align: top;\n",
       "    }\n",
       "\n",
       "    .dataframe thead th {\n",
       "        text-align: right;\n",
       "    }\n",
       "</style>\n",
       "<table border=\"1\" class=\"dataframe\">\n",
       "  <thead>\n",
       "    <tr style=\"text-align: right;\">\n",
       "      <th></th>\n",
       "      <th>timestamp</th>\n",
       "      <th>B_C2H6</th>\n",
       "      <th>B_C3H8</th>\n",
       "      <th>B_iC4H10</th>\n",
       "      <th>B_nC4H10</th>\n",
       "    </tr>\n",
       "  </thead>\n",
       "  <tbody>\n",
       "    <tr>\n",
       "      <td>0</td>\n",
       "      <td>2020-05-01 00:00:00</td>\n",
       "      <td>4.363701</td>\n",
       "      <td>37.742757</td>\n",
       "      <td>16.843028</td>\n",
       "      <td>24.171264</td>\n",
       "    </tr>\n",
       "    <tr>\n",
       "      <td>1</td>\n",
       "      <td>2020-05-01 00:30:00</td>\n",
       "      <td>4.363701</td>\n",
       "      <td>37.742757</td>\n",
       "      <td>16.843028</td>\n",
       "      <td>24.171264</td>\n",
       "    </tr>\n",
       "    <tr>\n",
       "      <td>2</td>\n",
       "      <td>2020-05-01 01:00:00</td>\n",
       "      <td>4.363701</td>\n",
       "      <td>37.742757</td>\n",
       "      <td>16.843028</td>\n",
       "      <td>24.171264</td>\n",
       "    </tr>\n",
       "    <tr>\n",
       "      <td>3</td>\n",
       "      <td>2020-05-01 01:30:00</td>\n",
       "      <td>4.363701</td>\n",
       "      <td>37.742757</td>\n",
       "      <td>16.843028</td>\n",
       "      <td>24.171264</td>\n",
       "    </tr>\n",
       "    <tr>\n",
       "      <td>4</td>\n",
       "      <td>2020-05-01 02:00:00</td>\n",
       "      <td>4.363701</td>\n",
       "      <td>37.742757</td>\n",
       "      <td>16.843028</td>\n",
       "      <td>24.171264</td>\n",
       "    </tr>\n",
       "    <tr>\n",
       "      <td>...</td>\n",
       "      <td>...</td>\n",
       "      <td>...</td>\n",
       "      <td>...</td>\n",
       "      <td>...</td>\n",
       "      <td>...</td>\n",
       "    </tr>\n",
       "    <tr>\n",
       "      <td>3979</td>\n",
       "      <td>2020-07-22 21:30:00</td>\n",
       "      <td>4.363701</td>\n",
       "      <td>37.742757</td>\n",
       "      <td>16.843028</td>\n",
       "      <td>24.171264</td>\n",
       "    </tr>\n",
       "    <tr>\n",
       "      <td>3980</td>\n",
       "      <td>2020-07-22 22:00:00</td>\n",
       "      <td>4.363701</td>\n",
       "      <td>37.742757</td>\n",
       "      <td>16.843028</td>\n",
       "      <td>24.171264</td>\n",
       "    </tr>\n",
       "    <tr>\n",
       "      <td>3981</td>\n",
       "      <td>2020-07-22 22:30:00</td>\n",
       "      <td>4.363701</td>\n",
       "      <td>37.742757</td>\n",
       "      <td>16.843028</td>\n",
       "      <td>24.171264</td>\n",
       "    </tr>\n",
       "    <tr>\n",
       "      <td>3982</td>\n",
       "      <td>2020-07-22 23:00:00</td>\n",
       "      <td>4.363701</td>\n",
       "      <td>37.742757</td>\n",
       "      <td>16.843028</td>\n",
       "      <td>24.171264</td>\n",
       "    </tr>\n",
       "    <tr>\n",
       "      <td>3983</td>\n",
       "      <td>2020-07-22 23:30:00</td>\n",
       "      <td>4.363701</td>\n",
       "      <td>37.742757</td>\n",
       "      <td>16.843028</td>\n",
       "      <td>24.171264</td>\n",
       "    </tr>\n",
       "  </tbody>\n",
       "</table>\n",
       "<p>3984 rows × 5 columns</p>\n",
       "</div>"
      ],
      "text/plain": [
       "                timestamp    B_C2H6     B_C3H8   B_iC4H10   B_nC4H10\n",
       "0     2020-05-01 00:00:00  4.363701  37.742757  16.843028  24.171264\n",
       "1     2020-05-01 00:30:00  4.363701  37.742757  16.843028  24.171264\n",
       "2     2020-05-01 01:00:00  4.363701  37.742757  16.843028  24.171264\n",
       "3     2020-05-01 01:30:00  4.363701  37.742757  16.843028  24.171264\n",
       "4     2020-05-01 02:00:00  4.363701  37.742757  16.843028  24.171264\n",
       "...                   ...       ...        ...        ...        ...\n",
       "3979  2020-07-22 21:30:00  4.363701  37.742757  16.843028  24.171264\n",
       "3980  2020-07-22 22:00:00  4.363701  37.742757  16.843028  24.171264\n",
       "3981  2020-07-22 22:30:00  4.363701  37.742757  16.843028  24.171264\n",
       "3982  2020-07-22 23:00:00  4.363701  37.742757  16.843028  24.171264\n",
       "3983  2020-07-22 23:30:00  4.363701  37.742757  16.843028  24.171264\n",
       "\n",
       "[3984 rows x 5 columns]"
      ]
     },
     "execution_count": 1224,
     "metadata": {},
     "output_type": "execute_result"
    }
   ],
   "source": [
    "a"
   ]
  },
  {
   "cell_type": "code",
   "execution_count": 1225,
   "metadata": {},
   "outputs": [
    {
     "data": {
      "text/html": [
       "<div>\n",
       "<style scoped>\n",
       "    .dataframe tbody tr th:only-of-type {\n",
       "        vertical-align: middle;\n",
       "    }\n",
       "\n",
       "    .dataframe tbody tr th {\n",
       "        vertical-align: top;\n",
       "    }\n",
       "\n",
       "    .dataframe thead th {\n",
       "        text-align: right;\n",
       "    }\n",
       "</style>\n",
       "<table border=\"1\" class=\"dataframe\">\n",
       "  <thead>\n",
       "    <tr style=\"text-align: right;\">\n",
       "      <th></th>\n",
       "      <th>timestamp</th>\n",
       "      <th>B_C2H6</th>\n",
       "      <th>B_C3H8</th>\n",
       "      <th>B_iC4H10</th>\n",
       "      <th>B_nC4H10</th>\n",
       "    </tr>\n",
       "  </thead>\n",
       "  <tbody>\n",
       "    <tr>\n",
       "      <td>0</td>\n",
       "      <td>2020-05-01 00:00:00</td>\n",
       "      <td>3.464044</td>\n",
       "      <td>36.330634</td>\n",
       "      <td>16.404418</td>\n",
       "      <td>23.453791</td>\n",
       "    </tr>\n",
       "    <tr>\n",
       "      <td>1</td>\n",
       "      <td>2020-05-01 00:30:00</td>\n",
       "      <td>4.229034</td>\n",
       "      <td>36.684904</td>\n",
       "      <td>16.495588</td>\n",
       "      <td>23.584034</td>\n",
       "    </tr>\n",
       "    <tr>\n",
       "      <td>2</td>\n",
       "      <td>2020-05-01 01:00:00</td>\n",
       "      <td>3.870249</td>\n",
       "      <td>36.502332</td>\n",
       "      <td>16.337210</td>\n",
       "      <td>23.380081</td>\n",
       "    </tr>\n",
       "    <tr>\n",
       "      <td>3</td>\n",
       "      <td>2020-05-01 01:30:00</td>\n",
       "      <td>4.034927</td>\n",
       "      <td>36.477091</td>\n",
       "      <td>16.332302</td>\n",
       "      <td>23.363764</td>\n",
       "    </tr>\n",
       "    <tr>\n",
       "      <td>4</td>\n",
       "      <td>2020-05-01 02:00:00</td>\n",
       "      <td>3.974050</td>\n",
       "      <td>36.482015</td>\n",
       "      <td>16.325723</td>\n",
       "      <td>23.349335</td>\n",
       "    </tr>\n",
       "    <tr>\n",
       "      <td>...</td>\n",
       "      <td>...</td>\n",
       "      <td>...</td>\n",
       "      <td>...</td>\n",
       "      <td>...</td>\n",
       "      <td>...</td>\n",
       "    </tr>\n",
       "    <tr>\n",
       "      <td>3979</td>\n",
       "      <td>2020-07-22 21:30:00</td>\n",
       "      <td>3.735827</td>\n",
       "      <td>37.649394</td>\n",
       "      <td>17.154100</td>\n",
       "      <td>24.549979</td>\n",
       "    </tr>\n",
       "    <tr>\n",
       "      <td>3980</td>\n",
       "      <td>2020-07-22 22:00:00</td>\n",
       "      <td>3.733913</td>\n",
       "      <td>37.510186</td>\n",
       "      <td>17.149573</td>\n",
       "      <td>24.538863</td>\n",
       "    </tr>\n",
       "    <tr>\n",
       "      <td>3981</td>\n",
       "      <td>2020-07-22 22:30:00</td>\n",
       "      <td>3.706919</td>\n",
       "      <td>37.371593</td>\n",
       "      <td>17.153624</td>\n",
       "      <td>24.526195</td>\n",
       "    </tr>\n",
       "    <tr>\n",
       "      <td>3982</td>\n",
       "      <td>2020-07-22 23:00:00</td>\n",
       "      <td>3.694341</td>\n",
       "      <td>37.443959</td>\n",
       "      <td>17.175441</td>\n",
       "      <td>24.540478</td>\n",
       "    </tr>\n",
       "    <tr>\n",
       "      <td>3983</td>\n",
       "      <td>2020-07-22 23:30:00</td>\n",
       "      <td>3.408414</td>\n",
       "      <td>37.620705</td>\n",
       "      <td>17.171459</td>\n",
       "      <td>24.541058</td>\n",
       "    </tr>\n",
       "  </tbody>\n",
       "</table>\n",
       "<p>3984 rows × 5 columns</p>\n",
       "</div>"
      ],
      "text/plain": [
       "                timestamp    B_C2H6     B_C3H8   B_iC4H10   B_nC4H10\n",
       "0     2020-05-01 00:00:00  3.464044  36.330634  16.404418  23.453791\n",
       "1     2020-05-01 00:30:00  4.229034  36.684904  16.495588  23.584034\n",
       "2     2020-05-01 01:00:00  3.870249  36.502332  16.337210  23.380081\n",
       "3     2020-05-01 01:30:00  4.034927  36.477091  16.332302  23.363764\n",
       "4     2020-05-01 02:00:00  3.974050  36.482015  16.325723  23.349335\n",
       "...                   ...       ...        ...        ...        ...\n",
       "3979  2020-07-22 21:30:00  3.735827  37.649394  17.154100  24.549979\n",
       "3980  2020-07-22 22:00:00  3.733913  37.510186  17.149573  24.538863\n",
       "3981  2020-07-22 22:30:00  3.706919  37.371593  17.153624  24.526195\n",
       "3982  2020-07-22 23:00:00  3.694341  37.443959  17.175441  24.540478\n",
       "3983  2020-07-22 23:30:00  3.408414  37.620705  17.171459  24.541058\n",
       "\n",
       "[3984 rows x 5 columns]"
      ]
     },
     "execution_count": 1225,
     "metadata": {},
     "output_type": "execute_result"
    }
   ],
   "source": [
    "b"
   ]
  },
  {
   "cell_type": "code",
   "execution_count": 1226,
   "metadata": {},
   "outputs": [],
   "source": [
    "#test_data.to_excel('123.xlsx')"
   ]
  },
  {
   "cell_type": "code",
   "execution_count": null,
   "metadata": {},
   "outputs": [],
   "source": []
  }
 ],
 "metadata": {
  "kernelspec": {
   "display_name": "Python 3",
   "language": "python",
   "name": "python3"
  },
  "language_info": {
   "codemirror_mode": {
    "name": "ipython",
    "version": 3
   },
   "file_extension": ".py",
   "mimetype": "text/x-python",
   "name": "python",
   "nbconvert_exporter": "python",
   "pygments_lexer": "ipython3",
   "version": "3.7.4"
  }
 },
 "nbformat": 4,
 "nbformat_minor": 4
}
