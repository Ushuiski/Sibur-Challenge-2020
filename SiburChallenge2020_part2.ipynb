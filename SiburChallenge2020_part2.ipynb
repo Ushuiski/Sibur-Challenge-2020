{
 "cells": [
  {
   "cell_type": "code",
   "execution_count": 949,
   "metadata": {},
   "outputs": [],
   "source": [
    "import numpy as np\n",
    "import pandas as pd\n",
    "import seaborn as sns\n",
    "import math as m\n",
    "\n",
    "from sklearn import linear_model, metrics\n",
    "from sklearn.preprocessing import StandardScaler\n",
    "from sklearn.model_selection import train_test_split, KFold, TimeSeriesSplit, \\\n",
    "                                    cross_val_score, GridSearchCV, RandomizedSearchCV\n",
    "\n",
    "from sklearn.ensemble import GradientBoostingRegressor\n",
    "\n",
    "import matplotlib.pyplot as plt\n",
    "\n",
    "%matplotlib inline"
   ]
  },
  {
   "cell_type": "code",
   "execution_count": 950,
   "metadata": {},
   "outputs": [],
   "source": [
    "import warnings\n",
    "warnings.filterwarnings('ignore')"
   ]
  },
  {
   "cell_type": "code",
   "execution_count": 951,
   "metadata": {},
   "outputs": [],
   "source": [
    "train_C2H6 = pd.read_csv('train_data_C2H6.csv', header = 0, sep = ',')\n",
    "train_C3H8 = pd.read_csv('train_data_C3H8.csv', header = 0, sep = ',')\n",
    "train_iC4H10 = pd.read_csv('train_data_iC4H10.csv', header = 0, sep = ',')\n",
    "train_nC4H10 = pd.read_csv('train_data_nC4H10.csv', header = 0, sep = ',')"
   ]
  },
  {
   "cell_type": "code",
   "execution_count": 952,
   "metadata": {},
   "outputs": [],
   "source": [
    "pd.set_option('display.max_columns', 500)\n",
    "pd.set_option('display.max_rows', 500)"
   ]
  },
  {
   "cell_type": "code",
   "execution_count": 953,
   "metadata": {},
   "outputs": [
    {
     "data": {
      "text/html": [
       "<div>\n",
       "<style scoped>\n",
       "    .dataframe tbody tr th:only-of-type {\n",
       "        vertical-align: middle;\n",
       "    }\n",
       "\n",
       "    .dataframe tbody tr th {\n",
       "        vertical-align: top;\n",
       "    }\n",
       "\n",
       "    .dataframe thead th {\n",
       "        text-align: right;\n",
       "    }\n",
       "</style>\n",
       "<table border=\"1\" class=\"dataframe\">\n",
       "  <thead>\n",
       "    <tr style=\"text-align: right;\">\n",
       "      <th></th>\n",
       "      <th>G_A_C2H6</th>\n",
       "      <th>Re_A**2</th>\n",
       "      <th>Cx_A_C2H6</th>\n",
       "      <th>Cx_A_C2H6**2</th>\n",
       "      <th>Pe_ef_C2H6</th>\n",
       "      <th>Pe_ef_C2H6**2</th>\n",
       "      <th>G_B_C2H6</th>\n",
       "    </tr>\n",
       "  </thead>\n",
       "  <tbody>\n",
       "    <tr>\n",
       "      <th>0</th>\n",
       "      <td>3.507886</td>\n",
       "      <td>1.653981e+11</td>\n",
       "      <td>-0.489581</td>\n",
       "      <td>0.239689</td>\n",
       "      <td>-0.190170</td>\n",
       "      <td>0.036165</td>\n",
       "      <td>3.261401</td>\n",
       "    </tr>\n",
       "    <tr>\n",
       "      <th>1</th>\n",
       "      <td>3.458369</td>\n",
       "      <td>1.635411e+11</td>\n",
       "      <td>-0.246485</td>\n",
       "      <td>0.060755</td>\n",
       "      <td>-0.143749</td>\n",
       "      <td>0.020664</td>\n",
       "      <td>3.287555</td>\n",
       "    </tr>\n",
       "    <tr>\n",
       "      <th>2</th>\n",
       "      <td>3.520068</td>\n",
       "      <td>1.646872e+11</td>\n",
       "      <td>-0.170814</td>\n",
       "      <td>0.029178</td>\n",
       "      <td>0.593639</td>\n",
       "      <td>0.352407</td>\n",
       "      <td>3.286083</td>\n",
       "    </tr>\n",
       "    <tr>\n",
       "      <th>3</th>\n",
       "      <td>3.589369</td>\n",
       "      <td>1.663679e+11</td>\n",
       "      <td>-0.233986</td>\n",
       "      <td>0.054749</td>\n",
       "      <td>4.228007</td>\n",
       "      <td>17.876047</td>\n",
       "      <td>3.287569</td>\n",
       "    </tr>\n",
       "    <tr>\n",
       "      <th>4</th>\n",
       "      <td>3.594282</td>\n",
       "      <td>1.667160e+11</td>\n",
       "      <td>-0.301800</td>\n",
       "      <td>0.091083</td>\n",
       "      <td>-0.320362</td>\n",
       "      <td>0.102632</td>\n",
       "      <td>3.287977</td>\n",
       "    </tr>\n",
       "    <tr>\n",
       "      <th>...</th>\n",
       "      <td>...</td>\n",
       "      <td>...</td>\n",
       "      <td>...</td>\n",
       "      <td>...</td>\n",
       "      <td>...</td>\n",
       "      <td>...</td>\n",
       "      <td>...</td>\n",
       "    </tr>\n",
       "    <tr>\n",
       "      <th>5793</th>\n",
       "      <td>3.572406</td>\n",
       "      <td>1.713827e+11</td>\n",
       "      <td>0.034875</td>\n",
       "      <td>0.001216</td>\n",
       "      <td>-1.283931</td>\n",
       "      <td>1.648479</td>\n",
       "      <td>3.613900</td>\n",
       "    </tr>\n",
       "    <tr>\n",
       "      <th>5794</th>\n",
       "      <td>3.565468</td>\n",
       "      <td>1.715185e+11</td>\n",
       "      <td>0.041494</td>\n",
       "      <td>0.001722</td>\n",
       "      <td>0.105731</td>\n",
       "      <td>0.011179</td>\n",
       "      <td>3.619171</td>\n",
       "    </tr>\n",
       "    <tr>\n",
       "      <th>5795</th>\n",
       "      <td>3.567413</td>\n",
       "      <td>1.719233e+11</td>\n",
       "      <td>0.053704</td>\n",
       "      <td>0.002884</td>\n",
       "      <td>0.047468</td>\n",
       "      <td>0.002253</td>\n",
       "      <td>3.627698</td>\n",
       "    </tr>\n",
       "    <tr>\n",
       "      <th>5796</th>\n",
       "      <td>3.570442</td>\n",
       "      <td>1.723279e+11</td>\n",
       "      <td>0.060286</td>\n",
       "      <td>0.003634</td>\n",
       "      <td>0.051004</td>\n",
       "      <td>0.002601</td>\n",
       "      <td>3.638930</td>\n",
       "    </tr>\n",
       "    <tr>\n",
       "      <th>5797</th>\n",
       "      <td>3.569881</td>\n",
       "      <td>1.726218e+11</td>\n",
       "      <td>0.068488</td>\n",
       "      <td>0.004691</td>\n",
       "      <td>0.070580</td>\n",
       "      <td>0.004981</td>\n",
       "      <td>3.648088</td>\n",
       "    </tr>\n",
       "  </tbody>\n",
       "</table>\n",
       "<p>5798 rows × 7 columns</p>\n",
       "</div>"
      ],
      "text/plain": [
       "      G_A_C2H6       Re_A**2  Cx_A_C2H6  Cx_A_C2H6**2  Pe_ef_C2H6  \\\n",
       "0     3.507886  1.653981e+11  -0.489581      0.239689   -0.190170   \n",
       "1     3.458369  1.635411e+11  -0.246485      0.060755   -0.143749   \n",
       "2     3.520068  1.646872e+11  -0.170814      0.029178    0.593639   \n",
       "3     3.589369  1.663679e+11  -0.233986      0.054749    4.228007   \n",
       "4     3.594282  1.667160e+11  -0.301800      0.091083   -0.320362   \n",
       "...        ...           ...        ...           ...         ...   \n",
       "5793  3.572406  1.713827e+11   0.034875      0.001216   -1.283931   \n",
       "5794  3.565468  1.715185e+11   0.041494      0.001722    0.105731   \n",
       "5795  3.567413  1.719233e+11   0.053704      0.002884    0.047468   \n",
       "5796  3.570442  1.723279e+11   0.060286      0.003634    0.051004   \n",
       "5797  3.569881  1.726218e+11   0.068488      0.004691    0.070580   \n",
       "\n",
       "      Pe_ef_C2H6**2  G_B_C2H6  \n",
       "0          0.036165  3.261401  \n",
       "1          0.020664  3.287555  \n",
       "2          0.352407  3.286083  \n",
       "3         17.876047  3.287569  \n",
       "4          0.102632  3.287977  \n",
       "...             ...       ...  \n",
       "5793       1.648479  3.613900  \n",
       "5794       0.011179  3.619171  \n",
       "5795       0.002253  3.627698  \n",
       "5796       0.002601  3.638930  \n",
       "5797       0.004981  3.648088  \n",
       "\n",
       "[5798 rows x 7 columns]"
      ]
     },
     "execution_count": 953,
     "metadata": {},
     "output_type": "execute_result"
    }
   ],
   "source": [
    "train_C2H6"
   ]
  },
  {
   "cell_type": "code",
   "execution_count": 954,
   "metadata": {},
   "outputs": [],
   "source": [
    "col_C2H6 = [i for i in train_C2H6.drop('G_B_C2H6',axis=1).columns]"
   ]
  },
  {
   "cell_type": "code",
   "execution_count": 955,
   "metadata": {},
   "outputs": [],
   "source": [
    "X_C2H6 = train_C2H6.drop('G_B_C2H6',1)\n",
    "y_C2H6 = train_C2H6['G_B_C2H6']\n",
    "\n",
    "scaler_C2H6 = StandardScaler()\n",
    "scaler_C2H6.fit(X_C2H6, y_C2H6)\n",
    "X_scaled_C2H6 = scaler_C2H6.transform(X_C2H6)"
   ]
  },
  {
   "cell_type": "code",
   "execution_count": 956,
   "metadata": {},
   "outputs": [
    {
     "data": {
      "text/html": [
       "<div>\n",
       "<style scoped>\n",
       "    .dataframe tbody tr th:only-of-type {\n",
       "        vertical-align: middle;\n",
       "    }\n",
       "\n",
       "    .dataframe tbody tr th {\n",
       "        vertical-align: top;\n",
       "    }\n",
       "\n",
       "    .dataframe thead th {\n",
       "        text-align: right;\n",
       "    }\n",
       "</style>\n",
       "<table border=\"1\" class=\"dataframe\">\n",
       "  <thead>\n",
       "    <tr style=\"text-align: right;\">\n",
       "      <th></th>\n",
       "      <th>B_rate</th>\n",
       "      <th>G_A_C3H8</th>\n",
       "      <th>Re_A**2</th>\n",
       "      <th>w_prev</th>\n",
       "      <th>Cx_A_C3H8**2</th>\n",
       "      <th>Cx_A_iC4H10**2</th>\n",
       "      <th>Cx_A_nC4H10**2</th>\n",
       "      <th>G_B_C3H8</th>\n",
       "    </tr>\n",
       "  </thead>\n",
       "  <tbody>\n",
       "    <tr>\n",
       "      <th>0</th>\n",
       "      <td>71.591090</td>\n",
       "      <td>28.822011</td>\n",
       "      <td>1.653981e+11</td>\n",
       "      <td>0.282218</td>\n",
       "      <td>5.028694</td>\n",
       "      <td>0.032902</td>\n",
       "      <td>0.707197</td>\n",
       "      <td>27.603653</td>\n",
       "    </tr>\n",
       "    <tr>\n",
       "      <th>1</th>\n",
       "      <td>71.707246</td>\n",
       "      <td>28.179261</td>\n",
       "      <td>1.635411e+11</td>\n",
       "      <td>0.281087</td>\n",
       "      <td>1.484397</td>\n",
       "      <td>0.004709</td>\n",
       "      <td>0.231491</td>\n",
       "      <td>27.783881</td>\n",
       "    </tr>\n",
       "    <tr>\n",
       "      <th>2</th>\n",
       "      <td>71.811607</td>\n",
       "      <td>28.198436</td>\n",
       "      <td>1.646872e+11</td>\n",
       "      <td>0.280494</td>\n",
       "      <td>0.156325</td>\n",
       "      <td>0.007586</td>\n",
       "      <td>0.097052</td>\n",
       "      <td>27.734744</td>\n",
       "    </tr>\n",
       "    <tr>\n",
       "      <th>3</th>\n",
       "      <td>71.904943</td>\n",
       "      <td>28.473852</td>\n",
       "      <td>1.663679e+11</td>\n",
       "      <td>0.280643</td>\n",
       "      <td>0.215011</td>\n",
       "      <td>0.013121</td>\n",
       "      <td>0.121494</td>\n",
       "      <td>27.679363</td>\n",
       "    </tr>\n",
       "    <tr>\n",
       "      <th>4</th>\n",
       "      <td>71.996468</td>\n",
       "      <td>28.625395</td>\n",
       "      <td>1.667160e+11</td>\n",
       "      <td>0.280985</td>\n",
       "      <td>0.631212</td>\n",
       "      <td>0.020599</td>\n",
       "      <td>0.204350</td>\n",
       "      <td>27.624403</td>\n",
       "    </tr>\n",
       "    <tr>\n",
       "      <th>...</th>\n",
       "      <td>...</td>\n",
       "      <td>...</td>\n",
       "      <td>...</td>\n",
       "      <td>...</td>\n",
       "      <td>...</td>\n",
       "      <td>...</td>\n",
       "      <td>...</td>\n",
       "      <td>...</td>\n",
       "    </tr>\n",
       "    <tr>\n",
       "      <th>5793</th>\n",
       "      <td>72.121189</td>\n",
       "      <td>25.245525</td>\n",
       "      <td>1.713827e+11</td>\n",
       "      <td>0.274930</td>\n",
       "      <td>0.341780</td>\n",
       "      <td>0.016146</td>\n",
       "      <td>0.250456</td>\n",
       "      <td>25.788062</td>\n",
       "    </tr>\n",
       "    <tr>\n",
       "      <th>5794</th>\n",
       "      <td>72.237662</td>\n",
       "      <td>25.309821</td>\n",
       "      <td>1.715185e+11</td>\n",
       "      <td>0.275224</td>\n",
       "      <td>0.294347</td>\n",
       "      <td>0.015368</td>\n",
       "      <td>0.268782</td>\n",
       "      <td>25.830453</td>\n",
       "    </tr>\n",
       "    <tr>\n",
       "      <th>5795</th>\n",
       "      <td>72.362225</td>\n",
       "      <td>25.362570</td>\n",
       "      <td>1.719233e+11</td>\n",
       "      <td>0.275694</td>\n",
       "      <td>0.271058</td>\n",
       "      <td>0.013704</td>\n",
       "      <td>0.294229</td>\n",
       "      <td>25.881397</td>\n",
       "    </tr>\n",
       "    <tr>\n",
       "      <th>5796</th>\n",
       "      <td>72.481486</td>\n",
       "      <td>25.424037</td>\n",
       "      <td>1.723279e+11</td>\n",
       "      <td>0.276149</td>\n",
       "      <td>0.269181</td>\n",
       "      <td>0.011038</td>\n",
       "      <td>0.327344</td>\n",
       "      <td>25.950659</td>\n",
       "    </tr>\n",
       "    <tr>\n",
       "      <th>5797</th>\n",
       "      <td>72.601981</td>\n",
       "      <td>25.479712</td>\n",
       "      <td>1.726218e+11</td>\n",
       "      <td>0.276608</td>\n",
       "      <td>0.277331</td>\n",
       "      <td>0.008333</td>\n",
       "      <td>0.356064</td>\n",
       "      <td>25.981607</td>\n",
       "    </tr>\n",
       "  </tbody>\n",
       "</table>\n",
       "<p>5798 rows × 8 columns</p>\n",
       "</div>"
      ],
      "text/plain": [
       "         B_rate   G_A_C3H8       Re_A**2    w_prev  Cx_A_C3H8**2  \\\n",
       "0     71.591090  28.822011  1.653981e+11  0.282218      5.028694   \n",
       "1     71.707246  28.179261  1.635411e+11  0.281087      1.484397   \n",
       "2     71.811607  28.198436  1.646872e+11  0.280494      0.156325   \n",
       "3     71.904943  28.473852  1.663679e+11  0.280643      0.215011   \n",
       "4     71.996468  28.625395  1.667160e+11  0.280985      0.631212   \n",
       "...         ...        ...           ...       ...           ...   \n",
       "5793  72.121189  25.245525  1.713827e+11  0.274930      0.341780   \n",
       "5794  72.237662  25.309821  1.715185e+11  0.275224      0.294347   \n",
       "5795  72.362225  25.362570  1.719233e+11  0.275694      0.271058   \n",
       "5796  72.481486  25.424037  1.723279e+11  0.276149      0.269181   \n",
       "5797  72.601981  25.479712  1.726218e+11  0.276608      0.277331   \n",
       "\n",
       "      Cx_A_iC4H10**2  Cx_A_nC4H10**2   G_B_C3H8  \n",
       "0           0.032902        0.707197  27.603653  \n",
       "1           0.004709        0.231491  27.783881  \n",
       "2           0.007586        0.097052  27.734744  \n",
       "3           0.013121        0.121494  27.679363  \n",
       "4           0.020599        0.204350  27.624403  \n",
       "...              ...             ...        ...  \n",
       "5793        0.016146        0.250456  25.788062  \n",
       "5794        0.015368        0.268782  25.830453  \n",
       "5795        0.013704        0.294229  25.881397  \n",
       "5796        0.011038        0.327344  25.950659  \n",
       "5797        0.008333        0.356064  25.981607  \n",
       "\n",
       "[5798 rows x 8 columns]"
      ]
     },
     "execution_count": 956,
     "metadata": {},
     "output_type": "execute_result"
    }
   ],
   "source": [
    "train_C3H8"
   ]
  },
  {
   "cell_type": "code",
   "execution_count": 957,
   "metadata": {},
   "outputs": [],
   "source": [
    "col_C3H8 = [i for i in train_C3H8.drop('G_B_C3H8',axis=1).columns]"
   ]
  },
  {
   "cell_type": "code",
   "execution_count": 958,
   "metadata": {},
   "outputs": [],
   "source": [
    "X_C3H8 = train_C3H8.drop('G_B_C3H8',1)\n",
    "y_C3H8 = train_C3H8['G_B_C3H8']\n",
    "\n",
    "scaler_C3H8 = StandardScaler()\n",
    "scaler_C3H8.fit(X_C3H8, y_C3H8)\n",
    "X_scaled_C3H8 = scaler_C3H8.transform(X_C3H8)"
   ]
  },
  {
   "cell_type": "code",
   "execution_count": 959,
   "metadata": {},
   "outputs": [
    {
     "data": {
      "text/html": [
       "<div>\n",
       "<style scoped>\n",
       "    .dataframe tbody tr th:only-of-type {\n",
       "        vertical-align: middle;\n",
       "    }\n",
       "\n",
       "    .dataframe tbody tr th {\n",
       "        vertical-align: top;\n",
       "    }\n",
       "\n",
       "    .dataframe thead th {\n",
       "        text-align: right;\n",
       "    }\n",
       "</style>\n",
       "<table border=\"1\" class=\"dataframe\">\n",
       "  <thead>\n",
       "    <tr style=\"text-align: right;\">\n",
       "      <th></th>\n",
       "      <th>B_rate</th>\n",
       "      <th>G_A_C3H8</th>\n",
       "      <th>G_A_iC4H10</th>\n",
       "      <th>Re_A**2</th>\n",
       "      <th>w_prev</th>\n",
       "      <th>Cx_A_iC4H10**2</th>\n",
       "      <th>Cx_A_nC4H10**2</th>\n",
       "      <th>G_B_iC4H10</th>\n",
       "    </tr>\n",
       "  </thead>\n",
       "  <tbody>\n",
       "    <tr>\n",
       "      <th>0</th>\n",
       "      <td>71.591090</td>\n",
       "      <td>28.822011</td>\n",
       "      <td>12.256473</td>\n",
       "      <td>1.653981e+11</td>\n",
       "      <td>0.282218</td>\n",
       "      <td>0.032902</td>\n",
       "      <td>0.707197</td>\n",
       "      <td>12.325097</td>\n",
       "    </tr>\n",
       "    <tr>\n",
       "      <th>1</th>\n",
       "      <td>71.707246</td>\n",
       "      <td>28.179261</td>\n",
       "      <td>12.278466</td>\n",
       "      <td>1.635411e+11</td>\n",
       "      <td>0.281087</td>\n",
       "      <td>0.004709</td>\n",
       "      <td>0.231491</td>\n",
       "      <td>12.365565</td>\n",
       "    </tr>\n",
       "    <tr>\n",
       "      <th>2</th>\n",
       "      <td>71.811607</td>\n",
       "      <td>28.198436</td>\n",
       "      <td>12.246353</td>\n",
       "      <td>1.646872e+11</td>\n",
       "      <td>0.280494</td>\n",
       "      <td>0.007586</td>\n",
       "      <td>0.097052</td>\n",
       "      <td>12.360900</td>\n",
       "    </tr>\n",
       "    <tr>\n",
       "      <th>3</th>\n",
       "      <td>71.904943</td>\n",
       "      <td>28.473852</td>\n",
       "      <td>12.208397</td>\n",
       "      <td>1.663679e+11</td>\n",
       "      <td>0.280643</td>\n",
       "      <td>0.013121</td>\n",
       "      <td>0.121494</td>\n",
       "      <td>12.351922</td>\n",
       "    </tr>\n",
       "    <tr>\n",
       "      <th>4</th>\n",
       "      <td>71.996468</td>\n",
       "      <td>28.625395</td>\n",
       "      <td>12.207304</td>\n",
       "      <td>1.667160e+11</td>\n",
       "      <td>0.280985</td>\n",
       "      <td>0.020599</td>\n",
       "      <td>0.204350</td>\n",
       "      <td>12.340423</td>\n",
       "    </tr>\n",
       "    <tr>\n",
       "      <th>...</th>\n",
       "      <td>...</td>\n",
       "      <td>...</td>\n",
       "      <td>...</td>\n",
       "      <td>...</td>\n",
       "      <td>...</td>\n",
       "      <td>...</td>\n",
       "      <td>...</td>\n",
       "      <td>...</td>\n",
       "    </tr>\n",
       "    <tr>\n",
       "      <th>5793</th>\n",
       "      <td>72.121189</td>\n",
       "      <td>25.245525</td>\n",
       "      <td>11.661197</td>\n",
       "      <td>1.713827e+11</td>\n",
       "      <td>0.274930</td>\n",
       "      <td>0.016146</td>\n",
       "      <td>0.250456</td>\n",
       "      <td>11.537228</td>\n",
       "    </tr>\n",
       "    <tr>\n",
       "      <th>5794</th>\n",
       "      <td>72.237662</td>\n",
       "      <td>25.309821</td>\n",
       "      <td>11.678729</td>\n",
       "      <td>1.715185e+11</td>\n",
       "      <td>0.275224</td>\n",
       "      <td>0.015368</td>\n",
       "      <td>0.268782</td>\n",
       "      <td>11.561665</td>\n",
       "    </tr>\n",
       "    <tr>\n",
       "      <th>5795</th>\n",
       "      <td>72.362225</td>\n",
       "      <td>25.362570</td>\n",
       "      <td>11.692550</td>\n",
       "      <td>1.719233e+11</td>\n",
       "      <td>0.275694</td>\n",
       "      <td>0.013704</td>\n",
       "      <td>0.294229</td>\n",
       "      <td>11.587488</td>\n",
       "    </tr>\n",
       "    <tr>\n",
       "      <th>5796</th>\n",
       "      <td>72.481486</td>\n",
       "      <td>25.424037</td>\n",
       "      <td>11.707783</td>\n",
       "      <td>1.723279e+11</td>\n",
       "      <td>0.276149</td>\n",
       "      <td>0.011038</td>\n",
       "      <td>0.327344</td>\n",
       "      <td>11.616500</td>\n",
       "    </tr>\n",
       "    <tr>\n",
       "      <th>5797</th>\n",
       "      <td>72.601981</td>\n",
       "      <td>25.479712</td>\n",
       "      <td>11.724163</td>\n",
       "      <td>1.726218e+11</td>\n",
       "      <td>0.276608</td>\n",
       "      <td>0.008333</td>\n",
       "      <td>0.356064</td>\n",
       "      <td>11.638576</td>\n",
       "    </tr>\n",
       "  </tbody>\n",
       "</table>\n",
       "<p>5798 rows × 8 columns</p>\n",
       "</div>"
      ],
      "text/plain": [
       "         B_rate   G_A_C3H8  G_A_iC4H10       Re_A**2    w_prev  \\\n",
       "0     71.591090  28.822011   12.256473  1.653981e+11  0.282218   \n",
       "1     71.707246  28.179261   12.278466  1.635411e+11  0.281087   \n",
       "2     71.811607  28.198436   12.246353  1.646872e+11  0.280494   \n",
       "3     71.904943  28.473852   12.208397  1.663679e+11  0.280643   \n",
       "4     71.996468  28.625395   12.207304  1.667160e+11  0.280985   \n",
       "...         ...        ...         ...           ...       ...   \n",
       "5793  72.121189  25.245525   11.661197  1.713827e+11  0.274930   \n",
       "5794  72.237662  25.309821   11.678729  1.715185e+11  0.275224   \n",
       "5795  72.362225  25.362570   11.692550  1.719233e+11  0.275694   \n",
       "5796  72.481486  25.424037   11.707783  1.723279e+11  0.276149   \n",
       "5797  72.601981  25.479712   11.724163  1.726218e+11  0.276608   \n",
       "\n",
       "      Cx_A_iC4H10**2  Cx_A_nC4H10**2  G_B_iC4H10  \n",
       "0           0.032902        0.707197   12.325097  \n",
       "1           0.004709        0.231491   12.365565  \n",
       "2           0.007586        0.097052   12.360900  \n",
       "3           0.013121        0.121494   12.351922  \n",
       "4           0.020599        0.204350   12.340423  \n",
       "...              ...             ...         ...  \n",
       "5793        0.016146        0.250456   11.537228  \n",
       "5794        0.015368        0.268782   11.561665  \n",
       "5795        0.013704        0.294229   11.587488  \n",
       "5796        0.011038        0.327344   11.616500  \n",
       "5797        0.008333        0.356064   11.638576  \n",
       "\n",
       "[5798 rows x 8 columns]"
      ]
     },
     "execution_count": 959,
     "metadata": {},
     "output_type": "execute_result"
    }
   ],
   "source": [
    "train_iC4H10"
   ]
  },
  {
   "cell_type": "code",
   "execution_count": 960,
   "metadata": {},
   "outputs": [],
   "source": [
    "col_iC4H10 = [i for i in train_iC4H10.drop('G_B_iC4H10',axis=1).columns]"
   ]
  },
  {
   "cell_type": "code",
   "execution_count": 961,
   "metadata": {},
   "outputs": [],
   "source": [
    "X_iC4H10 = train_iC4H10.drop('G_B_iC4H10',1)\n",
    "y_iC4H10 = train_iC4H10['G_B_iC4H10']\n",
    "\n",
    "scaler_iC4H10 = StandardScaler()\n",
    "scaler_iC4H10.fit(X_iC4H10, y_iC4H10)\n",
    "X_scaled_iC4H10 = scaler_iC4H10.transform(X_iC4H10)"
   ]
  },
  {
   "cell_type": "code",
   "execution_count": 962,
   "metadata": {},
   "outputs": [
    {
     "data": {
      "text/html": [
       "<div>\n",
       "<style scoped>\n",
       "    .dataframe tbody tr th:only-of-type {\n",
       "        vertical-align: middle;\n",
       "    }\n",
       "\n",
       "    .dataframe tbody tr th {\n",
       "        vertical-align: top;\n",
       "    }\n",
       "\n",
       "    .dataframe thead th {\n",
       "        text-align: right;\n",
       "    }\n",
       "</style>\n",
       "<table border=\"1\" class=\"dataframe\">\n",
       "  <thead>\n",
       "    <tr style=\"text-align: right;\">\n",
       "      <th></th>\n",
       "      <th>B_rate</th>\n",
       "      <th>G_A_C3H8</th>\n",
       "      <th>G_A_nC4H10</th>\n",
       "      <th>Re_A**2</th>\n",
       "      <th>w_prev</th>\n",
       "      <th>Cx_A_iC4H10**2</th>\n",
       "      <th>Cx_A_nC4H10**2</th>\n",
       "      <th>G_B_nC4H10</th>\n",
       "    </tr>\n",
       "  </thead>\n",
       "  <tbody>\n",
       "    <tr>\n",
       "      <th>0</th>\n",
       "      <td>71.591090</td>\n",
       "      <td>28.822011</td>\n",
       "      <td>16.885985</td>\n",
       "      <td>1.653981e+11</td>\n",
       "      <td>0.282218</td>\n",
       "      <td>0.032902</td>\n",
       "      <td>0.707197</td>\n",
       "      <td>17.367120</td>\n",
       "    </tr>\n",
       "    <tr>\n",
       "      <th>1</th>\n",
       "      <td>71.707246</td>\n",
       "      <td>28.179261</td>\n",
       "      <td>17.072465</td>\n",
       "      <td>1.635411e+11</td>\n",
       "      <td>0.281087</td>\n",
       "      <td>0.004709</td>\n",
       "      <td>0.231491</td>\n",
       "      <td>17.383997</td>\n",
       "    </tr>\n",
       "    <tr>\n",
       "      <th>2</th>\n",
       "      <td>71.811607</td>\n",
       "      <td>28.198436</td>\n",
       "      <td>17.025021</td>\n",
       "      <td>1.646872e+11</td>\n",
       "      <td>0.280494</td>\n",
       "      <td>0.007586</td>\n",
       "      <td>0.097052</td>\n",
       "      <td>17.373582</td>\n",
       "    </tr>\n",
       "    <tr>\n",
       "      <th>3</th>\n",
       "      <td>71.904943</td>\n",
       "      <td>28.473852</td>\n",
       "      <td>16.906464</td>\n",
       "      <td>1.663679e+11</td>\n",
       "      <td>0.280643</td>\n",
       "      <td>0.013121</td>\n",
       "      <td>0.121494</td>\n",
       "      <td>17.358515</td>\n",
       "    </tr>\n",
       "    <tr>\n",
       "      <th>4</th>\n",
       "      <td>71.996468</td>\n",
       "      <td>28.625395</td>\n",
       "      <td>16.856159</td>\n",
       "      <td>1.667160e+11</td>\n",
       "      <td>0.280985</td>\n",
       "      <td>0.020599</td>\n",
       "      <td>0.204350</td>\n",
       "      <td>17.339268</td>\n",
       "    </tr>\n",
       "    <tr>\n",
       "      <th>...</th>\n",
       "      <td>...</td>\n",
       "      <td>...</td>\n",
       "      <td>...</td>\n",
       "      <td>...</td>\n",
       "      <td>...</td>\n",
       "      <td>...</td>\n",
       "      <td>...</td>\n",
       "      <td>...</td>\n",
       "    </tr>\n",
       "    <tr>\n",
       "      <th>5793</th>\n",
       "      <td>72.121189</td>\n",
       "      <td>25.245525</td>\n",
       "      <td>17.125750</td>\n",
       "      <td>1.713827e+11</td>\n",
       "      <td>0.274930</td>\n",
       "      <td>0.016146</td>\n",
       "      <td>0.250456</td>\n",
       "      <td>17.644192</td>\n",
       "    </tr>\n",
       "    <tr>\n",
       "      <th>5794</th>\n",
       "      <td>72.237662</td>\n",
       "      <td>25.309821</td>\n",
       "      <td>17.142614</td>\n",
       "      <td>1.715185e+11</td>\n",
       "      <td>0.275224</td>\n",
       "      <td>0.015368</td>\n",
       "      <td>0.268782</td>\n",
       "      <td>17.685043</td>\n",
       "    </tr>\n",
       "    <tr>\n",
       "      <th>5795</th>\n",
       "      <td>72.362225</td>\n",
       "      <td>25.362570</td>\n",
       "      <td>17.154685</td>\n",
       "      <td>1.719233e+11</td>\n",
       "      <td>0.275694</td>\n",
       "      <td>0.013704</td>\n",
       "      <td>0.294229</td>\n",
       "      <td>17.726825</td>\n",
       "    </tr>\n",
       "    <tr>\n",
       "      <th>5796</th>\n",
       "      <td>72.481486</td>\n",
       "      <td>25.424037</td>\n",
       "      <td>17.166859</td>\n",
       "      <td>1.723279e+11</td>\n",
       "      <td>0.276149</td>\n",
       "      <td>0.011038</td>\n",
       "      <td>0.327344</td>\n",
       "      <td>17.763570</td>\n",
       "    </tr>\n",
       "    <tr>\n",
       "      <th>5797</th>\n",
       "      <td>72.601981</td>\n",
       "      <td>25.479712</td>\n",
       "      <td>17.183164</td>\n",
       "      <td>1.726218e+11</td>\n",
       "      <td>0.276608</td>\n",
       "      <td>0.008333</td>\n",
       "      <td>0.356064</td>\n",
       "      <td>17.799919</td>\n",
       "    </tr>\n",
       "  </tbody>\n",
       "</table>\n",
       "<p>5798 rows × 8 columns</p>\n",
       "</div>"
      ],
      "text/plain": [
       "         B_rate   G_A_C3H8  G_A_nC4H10       Re_A**2    w_prev  \\\n",
       "0     71.591090  28.822011   16.885985  1.653981e+11  0.282218   \n",
       "1     71.707246  28.179261   17.072465  1.635411e+11  0.281087   \n",
       "2     71.811607  28.198436   17.025021  1.646872e+11  0.280494   \n",
       "3     71.904943  28.473852   16.906464  1.663679e+11  0.280643   \n",
       "4     71.996468  28.625395   16.856159  1.667160e+11  0.280985   \n",
       "...         ...        ...         ...           ...       ...   \n",
       "5793  72.121189  25.245525   17.125750  1.713827e+11  0.274930   \n",
       "5794  72.237662  25.309821   17.142614  1.715185e+11  0.275224   \n",
       "5795  72.362225  25.362570   17.154685  1.719233e+11  0.275694   \n",
       "5796  72.481486  25.424037   17.166859  1.723279e+11  0.276149   \n",
       "5797  72.601981  25.479712   17.183164  1.726218e+11  0.276608   \n",
       "\n",
       "      Cx_A_iC4H10**2  Cx_A_nC4H10**2  G_B_nC4H10  \n",
       "0           0.032902        0.707197   17.367120  \n",
       "1           0.004709        0.231491   17.383997  \n",
       "2           0.007586        0.097052   17.373582  \n",
       "3           0.013121        0.121494   17.358515  \n",
       "4           0.020599        0.204350   17.339268  \n",
       "...              ...             ...         ...  \n",
       "5793        0.016146        0.250456   17.644192  \n",
       "5794        0.015368        0.268782   17.685043  \n",
       "5795        0.013704        0.294229   17.726825  \n",
       "5796        0.011038        0.327344   17.763570  \n",
       "5797        0.008333        0.356064   17.799919  \n",
       "\n",
       "[5798 rows x 8 columns]"
      ]
     },
     "execution_count": 962,
     "metadata": {},
     "output_type": "execute_result"
    }
   ],
   "source": [
    "train_nC4H10"
   ]
  },
  {
   "cell_type": "code",
   "execution_count": 963,
   "metadata": {},
   "outputs": [],
   "source": [
    "col_nC4H10 = [i for i in train_nC4H10.drop('G_B_nC4H10', axis=1).columns]"
   ]
  },
  {
   "cell_type": "code",
   "execution_count": 964,
   "metadata": {},
   "outputs": [],
   "source": [
    "X_nC4H10 = train_nC4H10.drop('G_B_nC4H10',1)\n",
    "y_nC4H10 = train_nC4H10['G_B_nC4H10']\n",
    "\n",
    "scaler_nC4H10 = StandardScaler()\n",
    "scaler_nC4H10.fit(X_nC4H10, y_nC4H10)\n",
    "X_scaled_nC4H10 = scaler_nC4H10.transform(X_nC4H10)"
   ]
  },
  {
   "cell_type": "markdown",
   "metadata": {},
   "source": [
    "## Кросс валидация"
   ]
  },
  {
   "cell_type": "markdown",
   "metadata": {},
   "source": [
    "Обучение / тест"
   ]
  },
  {
   "cell_type": "code",
   "execution_count": 965,
   "metadata": {},
   "outputs": [],
   "source": [
    "X_train_C2H6, X_test_C2H6, y_train_C2H6, y_test_C2H6 = train_test_split(\n",
    "    X_scaled_C2H6, y_C2H6, test_size=0.2, shuffle=False, random_state=0)"
   ]
  },
  {
   "cell_type": "code",
   "execution_count": 966,
   "metadata": {},
   "outputs": [],
   "source": [
    "X_train_C3H8, X_test_C3H8, y_train_C3H8, y_test_C3H8 = train_test_split(\n",
    "    X_scaled_C3H8, y_C3H8, test_size=0.2, shuffle=False, random_state=0)"
   ]
  },
  {
   "cell_type": "code",
   "execution_count": 967,
   "metadata": {},
   "outputs": [],
   "source": [
    "X_train_iC4H10, X_test_iC4H10, y_train_iC4H10, y_test_iC4H10 = train_test_split(\n",
    "    X_scaled_iC4H10, y_iC4H10, test_size=0.2, shuffle=False, random_state=0)"
   ]
  },
  {
   "cell_type": "code",
   "execution_count": 968,
   "metadata": {},
   "outputs": [],
   "source": [
    "X_train_nC4H10, X_test_nC4H10, y_train_nC4H10, y_test_nC4H10 = train_test_split(\n",
    "    X_scaled_nC4H10, y_nC4H10, test_size=0.2, shuffle=False, random_state=0)"
   ]
  },
  {
   "cell_type": "markdown",
   "metadata": {},
   "source": [
    "Стратегии кросс-валидации"
   ]
  },
  {
   "cell_type": "code",
   "execution_count": 969,
   "metadata": {},
   "outputs": [],
   "source": [
    "cv_strategy_KFold = KFold(n_splits=5, random_state=0, shuffle=False)\n",
    "cv_strategy_TMS = TimeSeriesSplit(n_splits=5)"
   ]
  },
  {
   "cell_type": "markdown",
   "metadata": {},
   "source": [
    "Загружаем метрику качества"
   ]
  },
  {
   "cell_type": "code",
   "execution_count": 970,
   "metadata": {},
   "outputs": [],
   "source": [
    "scorer = metrics.make_scorer(metrics.mean_absolute_error)\n",
    "scorerCV = metrics.make_scorer(metrics.mean_absolute_error, greater_is_better=False)"
   ]
  },
  {
   "cell_type": "code",
   "execution_count": null,
   "metadata": {},
   "outputs": [],
   "source": []
  },
  {
   "cell_type": "markdown",
   "metadata": {},
   "source": [
    "# linear_regressor"
   ]
  },
  {
   "cell_type": "markdown",
   "metadata": {},
   "source": [
    "### C2H6"
   ]
  },
  {
   "cell_type": "code",
   "execution_count": 701,
   "metadata": {},
   "outputs": [],
   "source": [
    "linear_regressor = linear_model.LinearRegression()\n",
    "linear_regressor.fit(X_train_C2H6, y_train_C2H6)\n",
    "predictions = linear_regressor.predict(X_test_C2H6)"
   ]
  },
  {
   "cell_type": "code",
   "execution_count": 702,
   "metadata": {},
   "outputs": [
    {
     "data": {
      "text/plain": [
       "0.08775489960332757"
      ]
     },
     "execution_count": 702,
     "metadata": {},
     "output_type": "execute_result"
    }
   ],
   "source": [
    "metrics.mean_absolute_error(y_test_C2H6, predictions)"
   ]
  },
  {
   "cell_type": "code",
   "execution_count": 703,
   "metadata": {},
   "outputs": [
    {
     "name": "stdout",
     "output_type": "stream",
     "text": [
      "LR (KFold) mean:0.01156378119599739, max:0.013674762227987265, min:0.009829539183829525, std:0.0013775858177844918\n"
     ]
    }
   ],
   "source": [
    "lr_scoring = cross_val_score(linear_regressor, X_train_C2H6, y_train_C2H6, scoring = scorer, cv = cv_strategy_KFold)\n",
    "print ('LR (KFold) mean:{}, max:{}, min:{}, std:{}'.format(lr_scoring .mean(), lr_scoring .max(), \n",
    "                                                     lr_scoring .min(), lr_scoring .std()))"
   ]
  },
  {
   "cell_type": "code",
   "execution_count": 704,
   "metadata": {},
   "outputs": [
    {
     "data": {
      "text/plain": [
       "array([0.00982954, 0.01158053, 0.01235375, 0.01367476, 0.01038033])"
      ]
     },
     "execution_count": 704,
     "metadata": {},
     "output_type": "execute_result"
    }
   ],
   "source": [
    "lr_scoring"
   ]
  },
  {
   "cell_type": "code",
   "execution_count": 705,
   "metadata": {},
   "outputs": [
    {
     "name": "stdout",
     "output_type": "stream",
     "text": [
      "LR (TMS) mean:0.016871258485017138, max:0.037181943362087175, min:0.008769901491807222, std:0.010402308960329627\n"
     ]
    }
   ],
   "source": [
    "lr_scoring = cross_val_score(linear_regressor, X_train_C2H6, y_train_C2H6, scoring = scorer, cv = cv_strategy_TMS)\n",
    "print ('LR (TMS) mean:{}, max:{}, min:{}, std:{}'.format(lr_scoring .mean(), lr_scoring .max(), \n",
    "                                                     lr_scoring .min(), lr_scoring .std()))"
   ]
  },
  {
   "cell_type": "code",
   "execution_count": 706,
   "metadata": {},
   "outputs": [
    {
     "data": {
      "text/plain": [
       "array([0.03718194, 0.01333157, 0.0087699 , 0.01506365, 0.01000923])"
      ]
     },
     "execution_count": 706,
     "metadata": {},
     "output_type": "execute_result"
    }
   ],
   "source": [
    "lr_scoring"
   ]
  },
  {
   "cell_type": "markdown",
   "metadata": {},
   "source": [
    "### C3H8"
   ]
  },
  {
   "cell_type": "code",
   "execution_count": 707,
   "metadata": {},
   "outputs": [],
   "source": [
    "linear_regressor = linear_model.LinearRegression()\n",
    "linear_regressor.fit(X_train_C3H8, y_train_C3H8)\n",
    "predictions = linear_regressor.predict(X_test_C3H8)"
   ]
  },
  {
   "cell_type": "code",
   "execution_count": 708,
   "metadata": {},
   "outputs": [
    {
     "data": {
      "text/plain": [
       "1.8993677473338493"
      ]
     },
     "execution_count": 708,
     "metadata": {},
     "output_type": "execute_result"
    }
   ],
   "source": [
    "metrics.mean_absolute_error(y_test_C3H8, predictions)"
   ]
  },
  {
   "cell_type": "code",
   "execution_count": 709,
   "metadata": {},
   "outputs": [
    {
     "name": "stdout",
     "output_type": "stream",
     "text": [
      "LR (KFold) mean:2.37751236079186, max:8.484730887022248, min:0.33088259894526995, std:3.0683710573445127\n"
     ]
    }
   ],
   "source": [
    "lr_scoring = cross_val_score(linear_regressor, X_train_C3H8, y_train_C3H8, scoring = scorer, cv = cv_strategy_KFold)\n",
    "print ('LR (KFold) mean:{}, max:{}, min:{}, std:{}'.format(lr_scoring .mean(), lr_scoring .max(), \n",
    "                                                     lr_scoring .min(), lr_scoring .std()))"
   ]
  },
  {
   "cell_type": "code",
   "execution_count": 710,
   "metadata": {},
   "outputs": [
    {
     "data": {
      "text/plain": [
       "array([0.82039002, 8.48473089, 1.24700449, 0.3308826 , 1.0045538 ])"
      ]
     },
     "execution_count": 710,
     "metadata": {},
     "output_type": "execute_result"
    }
   ],
   "source": [
    "lr_scoring"
   ]
  },
  {
   "cell_type": "code",
   "execution_count": 711,
   "metadata": {},
   "outputs": [
    {
     "name": "stdout",
     "output_type": "stream",
     "text": [
      "LR (TMS) mean:2.6065375559215473, max:6.9950844947689514, min:0.41764537575673893, std:2.554109196878999\n"
     ]
    }
   ],
   "source": [
    "lr_scoring = cross_val_score(linear_regressor, X_train_C3H8, y_train_C3H8, scoring = scorer, cv = cv_strategy_TMS)\n",
    "print ('LR (TMS) mean:{}, max:{}, min:{}, std:{}'.format(lr_scoring .mean(), lr_scoring .max(), \n",
    "                                                     lr_scoring .min(), lr_scoring .std()))"
   ]
  },
  {
   "cell_type": "code",
   "execution_count": 712,
   "metadata": {},
   "outputs": [
    {
     "data": {
      "text/plain": [
       "array([6.99508449, 4.026361  , 0.41764538, 0.77997773, 0.81361917])"
      ]
     },
     "execution_count": 712,
     "metadata": {},
     "output_type": "execute_result"
    }
   ],
   "source": [
    "lr_scoring"
   ]
  },
  {
   "cell_type": "markdown",
   "metadata": {},
   "source": [
    "### iC4H10"
   ]
  },
  {
   "cell_type": "code",
   "execution_count": 713,
   "metadata": {},
   "outputs": [],
   "source": [
    "linear_regressor = linear_model.LinearRegression()\n",
    "linear_regressor.fit(X_train_iC4H10, y_train_iC4H10)\n",
    "predictions = linear_regressor.predict(X_test_iC4H10)"
   ]
  },
  {
   "cell_type": "code",
   "execution_count": 714,
   "metadata": {},
   "outputs": [
    {
     "data": {
      "text/plain": [
       "0.9339970802797151"
      ]
     },
     "execution_count": 714,
     "metadata": {},
     "output_type": "execute_result"
    }
   ],
   "source": [
    "metrics.mean_absolute_error(y_test_iC4H10, predictions)"
   ]
  },
  {
   "cell_type": "code",
   "execution_count": 715,
   "metadata": {},
   "outputs": [
    {
     "name": "stdout",
     "output_type": "stream",
     "text": [
      "LR (KFold) mean:0.7606821939118522, max:2.798719819474011, min:0.16200464637130457, std:1.0223712440421586\n"
     ]
    }
   ],
   "source": [
    "lr_scoring = cross_val_score(linear_regressor, X_train_iC4H10, y_train_iC4H10, scoring = scorer, cv = cv_strategy_KFold)\n",
    "print ('LR (KFold) mean:{}, max:{}, min:{}, std:{}'.format(lr_scoring .mean(), lr_scoring .max(), \n",
    "                                                     lr_scoring .min(), lr_scoring .std()))"
   ]
  },
  {
   "cell_type": "code",
   "execution_count": 716,
   "metadata": {},
   "outputs": [
    {
     "data": {
      "text/plain": [
       "array([0.16200465, 2.79871982, 0.25858788, 0.18511387, 0.39898475])"
      ]
     },
     "execution_count": 716,
     "metadata": {},
     "output_type": "execute_result"
    }
   ],
   "source": [
    "lr_scoring"
   ]
  },
  {
   "cell_type": "code",
   "execution_count": 717,
   "metadata": {},
   "outputs": [
    {
     "name": "stdout",
     "output_type": "stream",
     "text": [
      "LR (TMS) mean:3.995646344865964, max:17.99235816575413, min:0.18769032391030552, std:7.005456188706679\n"
     ]
    }
   ],
   "source": [
    "lr_scoring = cross_val_score(linear_regressor, X_train_iC4H10, y_train_iC4H10, scoring = scorer, cv = cv_strategy_TMS)\n",
    "print ('LR (TMS) mean:{}, max:{}, min:{}, std:{}'.format(lr_scoring .mean(), lr_scoring .max(), \n",
    "                                                     lr_scoring .min(), lr_scoring .std()))"
   ]
  },
  {
   "cell_type": "code",
   "execution_count": 718,
   "metadata": {},
   "outputs": [
    {
     "data": {
      "text/plain": [
       "array([17.99235817,  1.09042261,  0.18769032,  0.28920191,  0.41855872])"
      ]
     },
     "execution_count": 718,
     "metadata": {},
     "output_type": "execute_result"
    }
   ],
   "source": [
    "lr_scoring"
   ]
  },
  {
   "cell_type": "markdown",
   "metadata": {},
   "source": [
    "### nC4H10"
   ]
  },
  {
   "cell_type": "code",
   "execution_count": 719,
   "metadata": {},
   "outputs": [],
   "source": [
    "linear_regressor = linear_model.LinearRegression()\n",
    "linear_regressor.fit(X_train_nC4H10, y_train_nC4H10)\n",
    "predictions = linear_regressor.predict(X_test_nC4H10)"
   ]
  },
  {
   "cell_type": "code",
   "execution_count": 720,
   "metadata": {},
   "outputs": [
    {
     "data": {
      "text/plain": [
       "1.2157214452580305"
      ]
     },
     "execution_count": 720,
     "metadata": {},
     "output_type": "execute_result"
    }
   ],
   "source": [
    "metrics.mean_absolute_error(y_test_nC4H10, predictions)"
   ]
  },
  {
   "cell_type": "code",
   "execution_count": 721,
   "metadata": {},
   "outputs": [
    {
     "name": "stdout",
     "output_type": "stream",
     "text": [
      "LR (KFold) mean:0.6186087915075353, max:1.8210146871000314, min:0.17189825239374826, std:0.6061362248823811\n"
     ]
    }
   ],
   "source": [
    "lr_scoring = cross_val_score(linear_regressor, X_train_nC4H10, y_train_nC4H10, scoring = scorer, cv = cv_strategy_KFold)\n",
    "print ('LR (KFold) mean:{}, max:{}, min:{}, std:{}'.format(lr_scoring .mean(), lr_scoring .max(), \n",
    "                                                     lr_scoring .min(), lr_scoring .std()))"
   ]
  },
  {
   "cell_type": "code",
   "execution_count": 722,
   "metadata": {},
   "outputs": [
    {
     "data": {
      "text/plain": [
       "array([0.37430742, 1.82101469, 0.3381095 , 0.17189825, 0.3877141 ])"
      ]
     },
     "execution_count": 722,
     "metadata": {},
     "output_type": "execute_result"
    }
   ],
   "source": [
    "lr_scoring"
   ]
  },
  {
   "cell_type": "code",
   "execution_count": 723,
   "metadata": {},
   "outputs": [
    {
     "name": "stdout",
     "output_type": "stream",
     "text": [
      "LR (TMS) mean:3.509541393747997, max:14.310100390106118, min:0.22325933245459226, std:5.447086761524571\n"
     ]
    }
   ],
   "source": [
    "lr_scoring = cross_val_score(linear_regressor, X_train_nC4H10, y_train_nC4H10, scoring = scorer, cv = cv_strategy_TMS)\n",
    "print ('LR (TMS) mean:{}, max:{}, min:{}, std:{}'.format(lr_scoring .mean(), lr_scoring .max(), \n",
    "                                                     lr_scoring .min(), lr_scoring .std()))"
   ]
  },
  {
   "cell_type": "code",
   "execution_count": 724,
   "metadata": {},
   "outputs": [
    {
     "data": {
      "text/plain": [
       "array([14.31010039,  2.18251738,  0.41740325,  0.22325933,  0.41442662])"
      ]
     },
     "execution_count": 724,
     "metadata": {},
     "output_type": "execute_result"
    }
   ],
   "source": [
    "lr_scoring"
   ]
  },
  {
   "cell_type": "markdown",
   "metadata": {},
   "source": [
    "# lasso_regressor"
   ]
  },
  {
   "cell_type": "markdown",
   "metadata": {},
   "source": [
    "### C2H6"
   ]
  },
  {
   "cell_type": "code",
   "execution_count": 725,
   "metadata": {},
   "outputs": [],
   "source": [
    "lasso_regressor = linear_model.Lasso(random_state=0)\n",
    "lasso_regressor.fit(X_train_C2H6, y_train_C2H6)\n",
    "predictions = lasso_regressor.predict(X_test_C2H6)"
   ]
  },
  {
   "cell_type": "code",
   "execution_count": 726,
   "metadata": {},
   "outputs": [
    {
     "data": {
      "text/plain": [
       "2.160635055064188"
      ]
     },
     "execution_count": 726,
     "metadata": {},
     "output_type": "execute_result"
    }
   ],
   "source": [
    "metrics.mean_absolute_error(y_test_C2H6, predictions)"
   ]
  },
  {
   "cell_type": "code",
   "execution_count": 727,
   "metadata": {},
   "outputs": [
    {
     "name": "stdout",
     "output_type": "stream",
     "text": [
      "LR (TMS)) mean:0.7391010338473573, max:1.3573229747620663, min:0.3225992593174646, std:0.39932915595501645\n"
     ]
    }
   ],
   "source": [
    "ls_scoring = cross_val_score(lasso_regressor, X_train_C2H6, y_train_C2H6, scoring = scorer, cv = cv_strategy_TMS)\n",
    "print ('LR (TMS)) mean:{}, max:{}, min:{}, std:{}'.format(ls_scoring .mean(), ls_scoring .max(), \n",
    "                                                     ls_scoring .min(), ls_scoring .std()))"
   ]
  },
  {
   "cell_type": "code",
   "execution_count": 728,
   "metadata": {},
   "outputs": [
    {
     "data": {
      "text/plain": [
       "array([1.35732297, 1.06027936, 0.5074833 , 0.44782027, 0.32259926])"
      ]
     },
     "execution_count": 728,
     "metadata": {},
     "output_type": "execute_result"
    }
   ],
   "source": [
    "ls_scoring"
   ]
  },
  {
   "cell_type": "code",
   "execution_count": 729,
   "metadata": {},
   "outputs": [
    {
     "data": {
      "text/plain": [
       "dict_keys(['alpha', 'copy_X', 'fit_intercept', 'max_iter', 'normalize', 'positive', 'precompute', 'random_state', 'selection', 'tol', 'warm_start'])"
      ]
     },
     "execution_count": 729,
     "metadata": {},
     "output_type": "execute_result"
    }
   ],
   "source": [
    "lasso_regressor.get_params().keys()"
   ]
  },
  {
   "cell_type": "code",
   "execution_count": 730,
   "metadata": {},
   "outputs": [],
   "source": [
    "parameters_grid = {\n",
    "    'alpha' : [0.5, 1, 1.5, 2],\n",
    "    'tol' : [0.00001, 0.0001, 0.001],\n",
    "    'max_iter': [500, 1000, 2000],\n",
    "}"
   ]
  },
  {
   "cell_type": "code",
   "execution_count": 731,
   "metadata": {},
   "outputs": [],
   "source": [
    "grid_cv = GridSearchCV(lasso_regressor, parameters_grid, scoring = scorerCV, cv = cv_strategy_KFold)"
   ]
  },
  {
   "cell_type": "code",
   "execution_count": 732,
   "metadata": {},
   "outputs": [
    {
     "name": "stdout",
     "output_type": "stream",
     "text": [
      "Wall time: 390 ms\n"
     ]
    },
    {
     "data": {
      "text/plain": [
       "GridSearchCV(cv=KFold(n_splits=5, random_state=0, shuffle=False),\n",
       "             estimator=Lasso(random_state=0),\n",
       "             param_grid={'alpha': [0.5, 1, 1.5, 2],\n",
       "                         'max_iter': [500, 1000, 2000],\n",
       "                         'tol': [1e-05, 0.0001, 0.001]},\n",
       "             scoring=make_scorer(mean_absolute_error, greater_is_better=False))"
      ]
     },
     "execution_count": 732,
     "metadata": {},
     "output_type": "execute_result"
    }
   ],
   "source": [
    "%%time\n",
    "grid_cv.fit(X_train_C2H6, y_train_C2H6)"
   ]
  },
  {
   "cell_type": "code",
   "execution_count": 733,
   "metadata": {},
   "outputs": [
    {
     "data": {
      "text/plain": [
       "Lasso(alpha=0.5, max_iter=500, random_state=0, tol=0.001)"
      ]
     },
     "execution_count": 733,
     "metadata": {},
     "output_type": "execute_result"
    }
   ],
   "source": [
    "grid_cv.best_estimator_"
   ]
  },
  {
   "cell_type": "code",
   "execution_count": 734,
   "metadata": {},
   "outputs": [
    {
     "name": "stdout",
     "output_type": "stream",
     "text": [
      "-0.6764697674100997\n",
      "{'alpha': 0.5, 'max_iter': 500, 'tol': 0.001}\n"
     ]
    }
   ],
   "source": [
    "print(grid_cv.best_score_)\n",
    "print(grid_cv.best_params_)"
   ]
  },
  {
   "cell_type": "code",
   "execution_count": 735,
   "metadata": {},
   "outputs": [
    {
     "data": {
      "text/plain": [
       "2.024539097237825"
      ]
     },
     "execution_count": 735,
     "metadata": {},
     "output_type": "execute_result"
    }
   ],
   "source": [
    "predictions = grid_cv.predict(X_test_C2H6)\n",
    "metrics.mean_absolute_error(y_test_C2H6, predictions)"
   ]
  },
  {
   "cell_type": "code",
   "execution_count": 736,
   "metadata": {},
   "outputs": [],
   "source": [
    "grid_cv = GridSearchCV(lasso_regressor, parameters_grid, scoring = scorerCV, cv = cv_strategy_TMS)"
   ]
  },
  {
   "cell_type": "code",
   "execution_count": 737,
   "metadata": {},
   "outputs": [
    {
     "name": "stdout",
     "output_type": "stream",
     "text": [
      "Wall time: 359 ms\n"
     ]
    },
    {
     "data": {
      "text/plain": [
       "GridSearchCV(cv=TimeSeriesSplit(max_train_size=None, n_splits=5),\n",
       "             estimator=Lasso(random_state=0),\n",
       "             param_grid={'alpha': [0.5, 1, 1.5, 2],\n",
       "                         'max_iter': [500, 1000, 2000],\n",
       "                         'tol': [1e-05, 0.0001, 0.001]},\n",
       "             scoring=make_scorer(mean_absolute_error, greater_is_better=False))"
      ]
     },
     "execution_count": 737,
     "metadata": {},
     "output_type": "execute_result"
    }
   ],
   "source": [
    "%%time\n",
    "grid_cv.fit(X_train_C2H6, y_train_C2H6)"
   ]
  },
  {
   "cell_type": "code",
   "execution_count": 738,
   "metadata": {},
   "outputs": [
    {
     "data": {
      "text/plain": [
       "Lasso(alpha=0.5, max_iter=500, random_state=0, tol=0.001)"
      ]
     },
     "execution_count": 738,
     "metadata": {},
     "output_type": "execute_result"
    }
   ],
   "source": [
    "grid_cv.best_estimator_"
   ]
  },
  {
   "cell_type": "code",
   "execution_count": 739,
   "metadata": {},
   "outputs": [
    {
     "name": "stdout",
     "output_type": "stream",
     "text": [
      "-0.6268706661589943\n",
      "{'alpha': 0.5, 'max_iter': 500, 'tol': 0.001}\n"
     ]
    }
   ],
   "source": [
    "print(grid_cv.best_score_)\n",
    "print(grid_cv.best_params_)"
   ]
  },
  {
   "cell_type": "code",
   "execution_count": 740,
   "metadata": {},
   "outputs": [
    {
     "data": {
      "text/plain": [
       "2.024539097237825"
      ]
     },
     "execution_count": 740,
     "metadata": {},
     "output_type": "execute_result"
    }
   ],
   "source": [
    "predictions = grid_cv.predict(X_test_C2H6)\n",
    "metrics.mean_absolute_error(y_test_C2H6, predictions)"
   ]
  },
  {
   "cell_type": "markdown",
   "metadata": {},
   "source": [
    "### C3H8"
   ]
  },
  {
   "cell_type": "code",
   "execution_count": 741,
   "metadata": {},
   "outputs": [],
   "source": [
    "lasso_regressor = linear_model.Lasso(random_state=0)\n",
    "lasso_regressor.fit(X_train_C3H8, y_train_C3H8)\n",
    "predictions = lasso_regressor.predict(X_test_C3H8)"
   ]
  },
  {
   "cell_type": "code",
   "execution_count": 742,
   "metadata": {},
   "outputs": [
    {
     "data": {
      "text/plain": [
       "1.6651071559158253"
      ]
     },
     "execution_count": 742,
     "metadata": {},
     "output_type": "execute_result"
    }
   ],
   "source": [
    "metrics.mean_absolute_error(y_test_C3H8, predictions)"
   ]
  },
  {
   "cell_type": "code",
   "execution_count": 743,
   "metadata": {},
   "outputs": [
    {
     "name": "stdout",
     "output_type": "stream",
     "text": [
      "LR (KFold)) mean:2.8340178193781633, max:10.194233284580378, min:0.32335360285457354, std:3.700276798721592\n"
     ]
    }
   ],
   "source": [
    "ls_scoring = cross_val_score(lasso_regressor, X_train_C3H8, y_train_C3H8, scoring = scorer, cv = cv_strategy_KFold)\n",
    "print ('LR (KFold)) mean:{}, max:{}, min:{}, std:{}'.format(ls_scoring .mean(), ls_scoring .max(), \n",
    "                                                     ls_scoring .min(), ls_scoring .std()))"
   ]
  },
  {
   "cell_type": "code",
   "execution_count": 744,
   "metadata": {},
   "outputs": [
    {
     "data": {
      "text/plain": [
       "array([ 1.1708592 , 10.19423328,  1.50670667,  0.3233536 ,  0.97493633])"
      ]
     },
     "execution_count": 744,
     "metadata": {},
     "output_type": "execute_result"
    }
   ],
   "source": [
    "ls_scoring"
   ]
  },
  {
   "cell_type": "code",
   "execution_count": 745,
   "metadata": {},
   "outputs": [
    {
     "name": "stdout",
     "output_type": "stream",
     "text": [
      "LR (TMS)) mean:2.5860826234000895, max:7.7018155776801835, min:0.4550719728421791, std:2.7644163639349864\n"
     ]
    }
   ],
   "source": [
    "ls_scoring = cross_val_score(lasso_regressor, X_train_C3H8, y_train_C3H8, scoring = scorer, cv = cv_strategy_TMS)\n",
    "print ('LR (TMS)) mean:{}, max:{}, min:{}, std:{}'.format(ls_scoring .mean(), ls_scoring .max(), \n",
    "                                                     ls_scoring .min(), ls_scoring .std()))"
   ]
  },
  {
   "cell_type": "code",
   "execution_count": 746,
   "metadata": {},
   "outputs": [
    {
     "data": {
      "text/plain": [
       "array([7.70181558, 3.32724639, 0.45507197, 0.66140679, 0.78487239])"
      ]
     },
     "execution_count": 746,
     "metadata": {},
     "output_type": "execute_result"
    }
   ],
   "source": [
    "ls_scoring"
   ]
  },
  {
   "cell_type": "code",
   "execution_count": 747,
   "metadata": {},
   "outputs": [
    {
     "data": {
      "text/plain": [
       "dict_keys(['alpha', 'copy_X', 'fit_intercept', 'max_iter', 'normalize', 'positive', 'precompute', 'random_state', 'selection', 'tol', 'warm_start'])"
      ]
     },
     "execution_count": 747,
     "metadata": {},
     "output_type": "execute_result"
    }
   ],
   "source": [
    "lasso_regressor.get_params().keys()"
   ]
  },
  {
   "cell_type": "code",
   "execution_count": 748,
   "metadata": {},
   "outputs": [],
   "source": [
    "parameters_grid = {\n",
    "    'alpha' : [0.5, 1, 1.5, 2],\n",
    "    'tol' : [0.00001, 0.0001, 0.001],\n",
    "    'max_iter': [500, 1000, 2000],\n",
    "}"
   ]
  },
  {
   "cell_type": "code",
   "execution_count": 749,
   "metadata": {},
   "outputs": [],
   "source": [
    "grid_cv = GridSearchCV(lasso_regressor, parameters_grid, scoring = scorerCV, cv = cv_strategy_KFold)"
   ]
  },
  {
   "cell_type": "code",
   "execution_count": 750,
   "metadata": {},
   "outputs": [
    {
     "name": "stdout",
     "output_type": "stream",
     "text": [
      "Wall time: 371 ms\n"
     ]
    },
    {
     "data": {
      "text/plain": [
       "GridSearchCV(cv=KFold(n_splits=5, random_state=0, shuffle=False),\n",
       "             estimator=Lasso(random_state=0),\n",
       "             param_grid={'alpha': [0.5, 1, 1.5, 2],\n",
       "                         'max_iter': [500, 1000, 2000],\n",
       "                         'tol': [1e-05, 0.0001, 0.001]},\n",
       "             scoring=make_scorer(mean_absolute_error, greater_is_better=False))"
      ]
     },
     "execution_count": 750,
     "metadata": {},
     "output_type": "execute_result"
    }
   ],
   "source": [
    "%%time\n",
    "grid_cv.fit(X_train_C3H8, y_train_C3H8)"
   ]
  },
  {
   "cell_type": "code",
   "execution_count": 751,
   "metadata": {},
   "outputs": [
    {
     "data": {
      "text/plain": [
       "Lasso(alpha=0.5, max_iter=500, random_state=0, tol=1e-05)"
      ]
     },
     "execution_count": 751,
     "metadata": {},
     "output_type": "execute_result"
    }
   ],
   "source": [
    "grid_cv.best_estimator_"
   ]
  },
  {
   "cell_type": "code",
   "execution_count": 752,
   "metadata": {},
   "outputs": [
    {
     "name": "stdout",
     "output_type": "stream",
     "text": [
      "-2.07907689042474\n",
      "{'alpha': 0.5, 'max_iter': 500, 'tol': 1e-05}\n"
     ]
    }
   ],
   "source": [
    "print(grid_cv.best_score_)\n",
    "print(grid_cv.best_params_)"
   ]
  },
  {
   "cell_type": "code",
   "execution_count": 753,
   "metadata": {},
   "outputs": [
    {
     "data": {
      "text/plain": [
       "1.7057637542909934"
      ]
     },
     "execution_count": 753,
     "metadata": {},
     "output_type": "execute_result"
    }
   ],
   "source": [
    "predictions = grid_cv.predict(X_test_C3H8)\n",
    "metrics.mean_absolute_error(y_test_C3H8, predictions)"
   ]
  },
  {
   "cell_type": "code",
   "execution_count": 754,
   "metadata": {},
   "outputs": [],
   "source": [
    "grid_cv = GridSearchCV(lasso_regressor, parameters_grid, scoring = scorerCV, cv = cv_strategy_TMS)"
   ]
  },
  {
   "cell_type": "code",
   "execution_count": 755,
   "metadata": {},
   "outputs": [
    {
     "name": "stdout",
     "output_type": "stream",
     "text": [
      "Wall time: 418 ms\n"
     ]
    },
    {
     "data": {
      "text/plain": [
       "GridSearchCV(cv=TimeSeriesSplit(max_train_size=None, n_splits=5),\n",
       "             estimator=Lasso(random_state=0),\n",
       "             param_grid={'alpha': [0.5, 1, 1.5, 2],\n",
       "                         'max_iter': [500, 1000, 2000],\n",
       "                         'tol': [1e-05, 0.0001, 0.001]},\n",
       "             scoring=make_scorer(mean_absolute_error, greater_is_better=False))"
      ]
     },
     "execution_count": 755,
     "metadata": {},
     "output_type": "execute_result"
    }
   ],
   "source": [
    "%%time\n",
    "grid_cv.fit(X_train_C3H8, y_train_C3H8)"
   ]
  },
  {
   "cell_type": "code",
   "execution_count": 756,
   "metadata": {},
   "outputs": [
    {
     "data": {
      "text/plain": [
       "Lasso(alpha=0.5, max_iter=500, random_state=0, tol=0.001)"
      ]
     },
     "execution_count": 756,
     "metadata": {},
     "output_type": "execute_result"
    }
   ],
   "source": [
    "grid_cv.best_estimator_"
   ]
  },
  {
   "cell_type": "code",
   "execution_count": 757,
   "metadata": {},
   "outputs": [
    {
     "name": "stdout",
     "output_type": "stream",
     "text": [
      "-2.561978289585348\n",
      "{'alpha': 0.5, 'max_iter': 500, 'tol': 0.001}\n"
     ]
    }
   ],
   "source": [
    "print(grid_cv.best_score_)\n",
    "print(grid_cv.best_params_)"
   ]
  },
  {
   "cell_type": "code",
   "execution_count": 758,
   "metadata": {},
   "outputs": [
    {
     "data": {
      "text/plain": [
       "1.7057637542909934"
      ]
     },
     "execution_count": 758,
     "metadata": {},
     "output_type": "execute_result"
    }
   ],
   "source": [
    "predictions = grid_cv.predict(X_test_C3H8)\n",
    "metrics.mean_absolute_error(y_test_C3H8, predictions)"
   ]
  },
  {
   "cell_type": "markdown",
   "metadata": {},
   "source": [
    "### iC4H10"
   ]
  },
  {
   "cell_type": "code",
   "execution_count": 759,
   "metadata": {},
   "outputs": [],
   "source": [
    "lasso_regressor = linear_model.Lasso(random_state=0)\n",
    "lasso_regressor.fit(X_train_iC4H10, y_train_iC4H10)\n",
    "predictions = lasso_regressor.predict(X_test_iC4H10)"
   ]
  },
  {
   "cell_type": "code",
   "execution_count": 760,
   "metadata": {},
   "outputs": [
    {
     "data": {
      "text/plain": [
       "0.9333868510046126"
      ]
     },
     "execution_count": 760,
     "metadata": {},
     "output_type": "execute_result"
    }
   ],
   "source": [
    "metrics.mean_absolute_error(y_test_iC4H10, predictions)"
   ]
  },
  {
   "cell_type": "code",
   "execution_count": 761,
   "metadata": {},
   "outputs": [
    {
     "name": "stdout",
     "output_type": "stream",
     "text": [
      "LR (KFold)) mean:1.2810734123288268, max:4.572704732033658, min:0.3129721481235549, std:1.6487256615879988\n"
     ]
    }
   ],
   "source": [
    "ls_scoring = cross_val_score(lasso_regressor, X_train_iC4H10, y_train_iC4H10, scoring = scorer, cv = cv_strategy_KFold)\n",
    "print ('LR (KFold)) mean:{}, max:{}, min:{}, std:{}'.format(ls_scoring .mean(), ls_scoring .max(), \n",
    "                                                     ls_scoring .min(), ls_scoring .std()))"
   ]
  },
  {
   "cell_type": "code",
   "execution_count": 762,
   "metadata": {},
   "outputs": [
    {
     "data": {
      "text/plain": [
       "array([0.57105206, 4.57270473, 0.55674856, 0.31297215, 0.39188956])"
      ]
     },
     "execution_count": 762,
     "metadata": {},
     "output_type": "execute_result"
    }
   ],
   "source": [
    "ls_scoring"
   ]
  },
  {
   "cell_type": "code",
   "execution_count": 763,
   "metadata": {},
   "outputs": [
    {
     "name": "stdout",
     "output_type": "stream",
     "text": [
      "LR (TMS)) mean:1.1923616441454514, max:2.868031934677872, min:0.23358410938260601, std:1.0946089539395805\n"
     ]
    }
   ],
   "source": [
    "ls_scoring = cross_val_score(lasso_regressor, X_train_iC4H10, y_train_iC4H10, scoring = scorer, cv = cv_strategy_TMS)\n",
    "print ('LR (TMS)) mean:{}, max:{}, min:{}, std:{}'.format(ls_scoring .mean(), ls_scoring .max(), \n",
    "                                                     ls_scoring .min(), ls_scoring .std()))"
   ]
  },
  {
   "cell_type": "code",
   "execution_count": 764,
   "metadata": {},
   "outputs": [
    {
     "data": {
      "text/plain": [
       "array([2.86803193, 2.13226102, 0.30140522, 0.23358411, 0.42652594])"
      ]
     },
     "execution_count": 764,
     "metadata": {},
     "output_type": "execute_result"
    }
   ],
   "source": [
    "ls_scoring"
   ]
  },
  {
   "cell_type": "code",
   "execution_count": 765,
   "metadata": {},
   "outputs": [
    {
     "data": {
      "text/plain": [
       "dict_keys(['alpha', 'copy_X', 'fit_intercept', 'max_iter', 'normalize', 'positive', 'precompute', 'random_state', 'selection', 'tol', 'warm_start'])"
      ]
     },
     "execution_count": 765,
     "metadata": {},
     "output_type": "execute_result"
    }
   ],
   "source": [
    "lasso_regressor.get_params().keys()"
   ]
  },
  {
   "cell_type": "code",
   "execution_count": 766,
   "metadata": {},
   "outputs": [],
   "source": [
    "parameters_grid = {\n",
    "    'alpha' : [0.5, 1, 1.5, 2],\n",
    "    'tol' : [0.00001, 0.0001, 0.001],\n",
    "    'max_iter': [500, 1000, 2000],\n",
    "}"
   ]
  },
  {
   "cell_type": "code",
   "execution_count": 767,
   "metadata": {},
   "outputs": [],
   "source": [
    "grid_cv = GridSearchCV(lasso_regressor, parameters_grid, scoring = scorerCV, cv = cv_strategy_KFold)"
   ]
  },
  {
   "cell_type": "code",
   "execution_count": 768,
   "metadata": {},
   "outputs": [
    {
     "name": "stdout",
     "output_type": "stream",
     "text": [
      "Wall time: 371 ms\n"
     ]
    },
    {
     "data": {
      "text/plain": [
       "GridSearchCV(cv=KFold(n_splits=5, random_state=0, shuffle=False),\n",
       "             estimator=Lasso(random_state=0),\n",
       "             param_grid={'alpha': [0.5, 1, 1.5, 2],\n",
       "                         'max_iter': [500, 1000, 2000],\n",
       "                         'tol': [1e-05, 0.0001, 0.001]},\n",
       "             scoring=make_scorer(mean_absolute_error, greater_is_better=False))"
      ]
     },
     "execution_count": 768,
     "metadata": {},
     "output_type": "execute_result"
    }
   ],
   "source": [
    "%%time\n",
    "grid_cv.fit(X_train_iC4H10, y_train_iC4H10)"
   ]
  },
  {
   "cell_type": "code",
   "execution_count": 769,
   "metadata": {},
   "outputs": [
    {
     "data": {
      "text/plain": [
       "Lasso(alpha=0.5, max_iter=500, random_state=0, tol=1e-05)"
      ]
     },
     "execution_count": 769,
     "metadata": {},
     "output_type": "execute_result"
    }
   ],
   "source": [
    "grid_cv.best_estimator_"
   ]
  },
  {
   "cell_type": "code",
   "execution_count": 770,
   "metadata": {},
   "outputs": [
    {
     "name": "stdout",
     "output_type": "stream",
     "text": [
      "-1.1646224208828384\n",
      "{'alpha': 0.5, 'max_iter': 500, 'tol': 1e-05}\n"
     ]
    }
   ],
   "source": [
    "print(grid_cv.best_score_)\n",
    "print(grid_cv.best_params_)"
   ]
  },
  {
   "cell_type": "code",
   "execution_count": 771,
   "metadata": {},
   "outputs": [
    {
     "data": {
      "text/plain": [
       "0.8342777944462326"
      ]
     },
     "execution_count": 771,
     "metadata": {},
     "output_type": "execute_result"
    }
   ],
   "source": [
    "predictions = grid_cv.predict(X_test_iC4H10)\n",
    "metrics.mean_absolute_error(y_test_iC4H10, predictions)"
   ]
  },
  {
   "cell_type": "code",
   "execution_count": 772,
   "metadata": {},
   "outputs": [],
   "source": [
    "grid_cv = GridSearchCV(lasso_regressor, parameters_grid, scoring = scorerCV, cv = cv_strategy_TMS)"
   ]
  },
  {
   "cell_type": "code",
   "execution_count": 773,
   "metadata": {},
   "outputs": [
    {
     "name": "stdout",
     "output_type": "stream",
     "text": [
      "Wall time: 393 ms\n"
     ]
    },
    {
     "data": {
      "text/plain": [
       "GridSearchCV(cv=TimeSeriesSplit(max_train_size=None, n_splits=5),\n",
       "             estimator=Lasso(random_state=0),\n",
       "             param_grid={'alpha': [0.5, 1, 1.5, 2],\n",
       "                         'max_iter': [500, 1000, 2000],\n",
       "                         'tol': [1e-05, 0.0001, 0.001]},\n",
       "             scoring=make_scorer(mean_absolute_error, greater_is_better=False))"
      ]
     },
     "execution_count": 773,
     "metadata": {},
     "output_type": "execute_result"
    }
   ],
   "source": [
    "%%time\n",
    "grid_cv.fit(X_train_iC4H10, y_train_iC4H10)"
   ]
  },
  {
   "cell_type": "code",
   "execution_count": 774,
   "metadata": {},
   "outputs": [
    {
     "data": {
      "text/plain": [
       "Lasso(alpha=0.5, max_iter=500, random_state=0, tol=0.001)"
      ]
     },
     "execution_count": 774,
     "metadata": {},
     "output_type": "execute_result"
    }
   ],
   "source": [
    "grid_cv.best_estimator_"
   ]
  },
  {
   "cell_type": "code",
   "execution_count": 775,
   "metadata": {},
   "outputs": [
    {
     "name": "stdout",
     "output_type": "stream",
     "text": [
      "-1.0863995200564565\n",
      "{'alpha': 0.5, 'max_iter': 500, 'tol': 0.001}\n"
     ]
    }
   ],
   "source": [
    "print(grid_cv.best_score_)\n",
    "print(grid_cv.best_params_)"
   ]
  },
  {
   "cell_type": "code",
   "execution_count": 776,
   "metadata": {},
   "outputs": [
    {
     "data": {
      "text/plain": [
       "0.8342777944462326"
      ]
     },
     "execution_count": 776,
     "metadata": {},
     "output_type": "execute_result"
    }
   ],
   "source": [
    "predictions = grid_cv.predict(X_test_iC4H10)\n",
    "metrics.mean_absolute_error(y_test_iC4H10, predictions)"
   ]
  },
  {
   "cell_type": "markdown",
   "metadata": {},
   "source": [
    "### nC4H10"
   ]
  },
  {
   "cell_type": "code",
   "execution_count": 777,
   "metadata": {},
   "outputs": [],
   "source": [
    "lasso_regressor = linear_model.Lasso(random_state=0)\n",
    "lasso_regressor.fit(X_train_nC4H10, y_train_nC4H10)\n",
    "predictions = lasso_regressor.predict(X_test_nC4H10)"
   ]
  },
  {
   "cell_type": "code",
   "execution_count": 778,
   "metadata": {},
   "outputs": [
    {
     "data": {
      "text/plain": [
       "1.3133927241337713"
      ]
     },
     "execution_count": 778,
     "metadata": {},
     "output_type": "execute_result"
    }
   ],
   "source": [
    "metrics.mean_absolute_error(y_test_nC4H10, predictions)"
   ]
  },
  {
   "cell_type": "code",
   "execution_count": 779,
   "metadata": {},
   "outputs": [
    {
     "name": "stdout",
     "output_type": "stream",
     "text": [
      "LR (KFold)) mean:1.5798065016917802, max:6.395014553392381, min:0.2913427543876324, std:2.408030512879343\n"
     ]
    }
   ],
   "source": [
    "ls_scoring = cross_val_score(lasso_regressor, X_train_nC4H10, y_train_nC4H10, scoring = scorer, cv = cv_strategy_KFold)\n",
    "print ('LR (KFold)) mean:{}, max:{}, min:{}, std:{}'.format(ls_scoring .mean(), ls_scoring .max(), \n",
    "                                                     ls_scoring .min(), ls_scoring .std()))"
   ]
  },
  {
   "cell_type": "code",
   "execution_count": 780,
   "metadata": {},
   "outputs": [
    {
     "data": {
      "text/plain": [
       "array([0.42342055, 6.39501455, 0.38569659, 0.29134275, 0.40355806])"
      ]
     },
     "execution_count": 780,
     "metadata": {},
     "output_type": "execute_result"
    }
   ],
   "source": [
    "ls_scoring"
   ]
  },
  {
   "cell_type": "code",
   "execution_count": 781,
   "metadata": {},
   "outputs": [
    {
     "name": "stdout",
     "output_type": "stream",
     "text": [
      "LR (TMS)) mean:1.5326174838872317, max:3.8607101479163926, min:0.2396636221198513, std:1.528239636843468\n"
     ]
    }
   ],
   "source": [
    "ls_scoring = cross_val_score(lasso_regressor, X_train_nC4H10, y_train_nC4H10, scoring = scorer, cv = cv_strategy_TMS)\n",
    "print ('LR (TMS)) mean:{}, max:{}, min:{}, std:{}'.format(ls_scoring .mean(), ls_scoring .max(), \n",
    "                                                     ls_scoring .min(), ls_scoring .std()))"
   ]
  },
  {
   "cell_type": "code",
   "execution_count": 782,
   "metadata": {},
   "outputs": [
    {
     "data": {
      "text/plain": [
       "array([3.86071015, 2.86398146, 0.23966362, 0.2683134 , 0.43041879])"
      ]
     },
     "execution_count": 782,
     "metadata": {},
     "output_type": "execute_result"
    }
   ],
   "source": [
    "ls_scoring"
   ]
  },
  {
   "cell_type": "code",
   "execution_count": 783,
   "metadata": {},
   "outputs": [
    {
     "data": {
      "text/plain": [
       "dict_keys(['alpha', 'copy_X', 'fit_intercept', 'max_iter', 'normalize', 'positive', 'precompute', 'random_state', 'selection', 'tol', 'warm_start'])"
      ]
     },
     "execution_count": 783,
     "metadata": {},
     "output_type": "execute_result"
    }
   ],
   "source": [
    "lasso_regressor.get_params().keys()"
   ]
  },
  {
   "cell_type": "code",
   "execution_count": 784,
   "metadata": {},
   "outputs": [],
   "source": [
    "parameters_grid = {\n",
    "    'alpha' : [0.5, 1, 1.5, 2],\n",
    "    'tol' : [0.00001, 0.0001, 0.001],\n",
    "    'max_iter': [500, 1000, 2000],\n",
    "}"
   ]
  },
  {
   "cell_type": "code",
   "execution_count": 785,
   "metadata": {},
   "outputs": [],
   "source": [
    "grid_cv = GridSearchCV(lasso_regressor, parameters_grid, scoring = scorerCV, cv = cv_strategy_KFold)"
   ]
  },
  {
   "cell_type": "code",
   "execution_count": 786,
   "metadata": {},
   "outputs": [
    {
     "name": "stdout",
     "output_type": "stream",
     "text": [
      "Wall time: 370 ms\n"
     ]
    },
    {
     "data": {
      "text/plain": [
       "GridSearchCV(cv=KFold(n_splits=5, random_state=0, shuffle=False),\n",
       "             estimator=Lasso(random_state=0),\n",
       "             param_grid={'alpha': [0.5, 1, 1.5, 2],\n",
       "                         'max_iter': [500, 1000, 2000],\n",
       "                         'tol': [1e-05, 0.0001, 0.001]},\n",
       "             scoring=make_scorer(mean_absolute_error, greater_is_better=False))"
      ]
     },
     "execution_count": 786,
     "metadata": {},
     "output_type": "execute_result"
    }
   ],
   "source": [
    "%%time\n",
    "grid_cv.fit(X_train_nC4H10, y_train_nC4H10)"
   ]
  },
  {
   "cell_type": "code",
   "execution_count": 787,
   "metadata": {},
   "outputs": [
    {
     "data": {
      "text/plain": [
       "Lasso(alpha=0.5, max_iter=500, random_state=0, tol=1e-05)"
      ]
     },
     "execution_count": 787,
     "metadata": {},
     "output_type": "execute_result"
    }
   ],
   "source": [
    "grid_cv.best_estimator_"
   ]
  },
  {
   "cell_type": "code",
   "execution_count": 788,
   "metadata": {},
   "outputs": [
    {
     "name": "stdout",
     "output_type": "stream",
     "text": [
      "-1.5018636939952839\n",
      "{'alpha': 0.5, 'max_iter': 500, 'tol': 1e-05}\n"
     ]
    }
   ],
   "source": [
    "print(grid_cv.best_score_)\n",
    "print(grid_cv.best_params_)"
   ]
  },
  {
   "cell_type": "code",
   "execution_count": 789,
   "metadata": {},
   "outputs": [
    {
     "data": {
      "text/plain": [
       "1.1919196697303216"
      ]
     },
     "execution_count": 789,
     "metadata": {},
     "output_type": "execute_result"
    }
   ],
   "source": [
    "predictions = grid_cv.predict(X_test_nC4H10)\n",
    "metrics.mean_absolute_error(y_test_nC4H10, predictions)"
   ]
  },
  {
   "cell_type": "code",
   "execution_count": 790,
   "metadata": {},
   "outputs": [],
   "source": [
    "grid_cv = GridSearchCV(lasso_regressor, parameters_grid, scoring = scorerCV, cv = cv_strategy_TMS)"
   ]
  },
  {
   "cell_type": "code",
   "execution_count": 791,
   "metadata": {},
   "outputs": [
    {
     "name": "stdout",
     "output_type": "stream",
     "text": [
      "Wall time: 381 ms\n"
     ]
    },
    {
     "data": {
      "text/plain": [
       "GridSearchCV(cv=TimeSeriesSplit(max_train_size=None, n_splits=5),\n",
       "             estimator=Lasso(random_state=0),\n",
       "             param_grid={'alpha': [0.5, 1, 1.5, 2],\n",
       "                         'max_iter': [500, 1000, 2000],\n",
       "                         'tol': [1e-05, 0.0001, 0.001]},\n",
       "             scoring=make_scorer(mean_absolute_error, greater_is_better=False))"
      ]
     },
     "execution_count": 791,
     "metadata": {},
     "output_type": "execute_result"
    }
   ],
   "source": [
    "%%time\n",
    "grid_cv.fit(X_train_nC4H10, y_train_nC4H10)"
   ]
  },
  {
   "cell_type": "code",
   "execution_count": 792,
   "metadata": {},
   "outputs": [
    {
     "data": {
      "text/plain": [
       "Lasso(alpha=0.5, max_iter=500, random_state=0, tol=0.001)"
      ]
     },
     "execution_count": 792,
     "metadata": {},
     "output_type": "execute_result"
    }
   ],
   "source": [
    "grid_cv.best_estimator_"
   ]
  },
  {
   "cell_type": "code",
   "execution_count": 793,
   "metadata": {},
   "outputs": [
    {
     "name": "stdout",
     "output_type": "stream",
     "text": [
      "-1.4474426378617624\n",
      "{'alpha': 0.5, 'max_iter': 500, 'tol': 0.001}\n"
     ]
    }
   ],
   "source": [
    "print(grid_cv.best_score_)\n",
    "print(grid_cv.best_params_)"
   ]
  },
  {
   "cell_type": "code",
   "execution_count": 794,
   "metadata": {},
   "outputs": [
    {
     "data": {
      "text/plain": [
       "1.1919196697303216"
      ]
     },
     "execution_count": 794,
     "metadata": {},
     "output_type": "execute_result"
    }
   ],
   "source": [
    "predictions = grid_cv.predict(X_test_nC4H10)\n",
    "metrics.mean_absolute_error(y_test_nC4H10, predictions)"
   ]
  },
  {
   "cell_type": "markdown",
   "metadata": {},
   "source": [
    "# SGDRegressor"
   ]
  },
  {
   "cell_type": "markdown",
   "metadata": {},
   "source": [
    "### C2H6"
   ]
  },
  {
   "cell_type": "code",
   "execution_count": 795,
   "metadata": {},
   "outputs": [],
   "source": [
    "SGD_regressor = linear_model.SGDRegressor(shuffle=False, random_state=0)\n",
    "#SGD_regressor = linear_model.SGDRegressor(shuffle=False,tol=1, power_t=0.25, penalty='l2', \n",
    "#                                          eta0= 0.005, alpha= 0.0015, random_state=0)\n",
    "SGD_regressor.fit(X_train_C2H6, y_train_C2H6)\n",
    "predictions = SGD_regressor.predict(X_test_C2H6)"
   ]
  },
  {
   "cell_type": "code",
   "execution_count": 796,
   "metadata": {},
   "outputs": [
    {
     "data": {
      "text/plain": [
       "0.5590360486966689"
      ]
     },
     "execution_count": 796,
     "metadata": {},
     "output_type": "execute_result"
    }
   ],
   "source": [
    "metrics.mean_absolute_error(y_test_C2H6, predictions)"
   ]
  },
  {
   "cell_type": "code",
   "execution_count": 797,
   "metadata": {},
   "outputs": [
    {
     "name": "stdout",
     "output_type": "stream",
     "text": [
      "SGD (KFold) mean:0.10902939009391018, max:0.14913144282071145, min:0.06881038741458231, std:0.031197655443314543\n"
     ]
    }
   ],
   "source": [
    "SGD_scoring = cross_val_score(SGD_regressor, X_train_C2H6, y_train_C2H6, scoring = scorer , cv = cv_strategy_KFold)\n",
    "print ('SGD (KFold) mean:{}, max:{}, min:{}, std:{}'.format(SGD_scoring .mean(), SGD_scoring .max(), \n",
    "                                                     SGD_scoring .min(), SGD_scoring .std()))"
   ]
  },
  {
   "cell_type": "code",
   "execution_count": 798,
   "metadata": {},
   "outputs": [
    {
     "data": {
      "text/plain": [
       "array([0.07773904, 0.13390992, 0.11555616, 0.06881039, 0.14913144])"
      ]
     },
     "execution_count": 798,
     "metadata": {},
     "output_type": "execute_result"
    }
   ],
   "source": [
    "SGD_scoring"
   ]
  },
  {
   "cell_type": "code",
   "execution_count": 799,
   "metadata": {},
   "outputs": [
    {
     "name": "stdout",
     "output_type": "stream",
     "text": [
      "SGD (TMS) mean:0.6945835421389384, max:2.6680474561923693, min:0.06995453415871637, std:0.9984590065272846\n"
     ]
    }
   ],
   "source": [
    "SGD_scoring = cross_val_score(SGD_regressor, X_train_C2H6, y_train_C2H6, scoring = scorer, cv = cv_strategy_TMS)\n",
    "print ('SGD (TMS) mean:{}, max:{}, min:{}, std:{}'.format(SGD_scoring .mean(), SGD_scoring .max(), \n",
    "                                                     SGD_scoring .min(), SGD_scoring .std()))"
   ]
  },
  {
   "cell_type": "code",
   "execution_count": 800,
   "metadata": {},
   "outputs": [
    {
     "data": {
      "text/plain": [
       "array([2.66804746, 0.49007947, 0.08172245, 0.06995453, 0.1631138 ])"
      ]
     },
     "execution_count": 800,
     "metadata": {},
     "output_type": "execute_result"
    }
   ],
   "source": [
    "SGD_scoring"
   ]
  },
  {
   "cell_type": "code",
   "execution_count": 801,
   "metadata": {},
   "outputs": [
    {
     "data": {
      "text/plain": [
       "dict_keys(['alpha', 'average', 'early_stopping', 'epsilon', 'eta0', 'fit_intercept', 'l1_ratio', 'learning_rate', 'loss', 'max_iter', 'n_iter_no_change', 'penalty', 'power_t', 'random_state', 'shuffle', 'tol', 'validation_fraction', 'verbose', 'warm_start'])"
      ]
     },
     "execution_count": 801,
     "metadata": {},
     "output_type": "execute_result"
    }
   ],
   "source": [
    "SGD_regressor.get_params().keys()"
   ]
  },
  {
   "cell_type": "code",
   "execution_count": 802,
   "metadata": {},
   "outputs": [],
   "source": [
    "parameters_grid = {\n",
    "    'penalty' : ['l1', 'l2'],\n",
    "    'alpha' : [0.00005, 0.0001, 0.001,0.0001],\n",
    "    'eta0' : [0.001, 0.005, 0.01, 0.05],\n",
    "     'tol' : [0.5,1, 1.5],\n",
    "    'power_t' : [0.2,0.25, 0.3], \n",
    "    \n",
    "}"
   ]
  },
  {
   "cell_type": "code",
   "execution_count": 803,
   "metadata": {},
   "outputs": [],
   "source": [
    "randomized_grid_cv = RandomizedSearchCV(SGD_regressor, parameters_grid, scoring = scorerCV,\n",
    "                                        cv = cv_strategy_KFold, n_iter = 200, random_state=0)"
   ]
  },
  {
   "cell_type": "code",
   "execution_count": 804,
   "metadata": {},
   "outputs": [
    {
     "name": "stdout",
     "output_type": "stream",
     "text": [
      "Wall time: 4.04 s\n"
     ]
    },
    {
     "data": {
      "text/plain": [
       "RandomizedSearchCV(cv=KFold(n_splits=5, random_state=0, shuffle=False),\n",
       "                   estimator=SGDRegressor(random_state=0, shuffle=False),\n",
       "                   n_iter=200,\n",
       "                   param_distributions={'alpha': [5e-05, 0.0001, 0.001, 0.0001],\n",
       "                                        'eta0': [0.001, 0.005, 0.01, 0.05],\n",
       "                                        'penalty': ['l1', 'l2'],\n",
       "                                        'power_t': [0.2, 0.25, 0.3],\n",
       "                                        'tol': [0.5, 1, 1.5]},\n",
       "                   random_state=0,\n",
       "                   scoring=make_scorer(mean_absolute_error, greater_is_better=False))"
      ]
     },
     "execution_count": 804,
     "metadata": {},
     "output_type": "execute_result"
    }
   ],
   "source": [
    "%%time\n",
    "randomized_grid_cv.fit(X_train_C2H6, y_train_C2H6)"
   ]
  },
  {
   "cell_type": "code",
   "execution_count": 805,
   "metadata": {},
   "outputs": [
    {
     "data": {
      "text/plain": [
       "SGDRegressor(alpha=5e-05, power_t=0.2, random_state=0, shuffle=False, tol=0.5)"
      ]
     },
     "execution_count": 805,
     "metadata": {},
     "output_type": "execute_result"
    }
   ],
   "source": [
    "randomized_grid_cv.best_estimator_"
   ]
  },
  {
   "cell_type": "code",
   "execution_count": 806,
   "metadata": {},
   "outputs": [
    {
     "name": "stdout",
     "output_type": "stream",
     "text": [
      "-0.1858660951122899\n",
      "{'tol': 0.5, 'power_t': 0.2, 'penalty': 'l2', 'eta0': 0.01, 'alpha': 5e-05}\n"
     ]
    }
   ],
   "source": [
    "print(randomized_grid_cv.best_score_)\n",
    "print(randomized_grid_cv.best_params_)"
   ]
  },
  {
   "cell_type": "code",
   "execution_count": 807,
   "metadata": {},
   "outputs": [
    {
     "data": {
      "text/plain": [
       "0.7900954386354552"
      ]
     },
     "execution_count": 807,
     "metadata": {},
     "output_type": "execute_result"
    }
   ],
   "source": [
    "predictions = randomized_grid_cv.predict(X_test_C2H6)\n",
    "metrics.mean_absolute_error(y_test_C2H6, predictions)"
   ]
  },
  {
   "cell_type": "code",
   "execution_count": 808,
   "metadata": {},
   "outputs": [],
   "source": [
    "randomized_grid_cv = RandomizedSearchCV(SGD_regressor, parameters_grid, scoring = scorerCV,\n",
    "                                        cv = cv_strategy_TMS, n_iter = 200, random_state=0)"
   ]
  },
  {
   "cell_type": "code",
   "execution_count": 809,
   "metadata": {},
   "outputs": [
    {
     "name": "stdout",
     "output_type": "stream",
     "text": [
      "Wall time: 3.17 s\n"
     ]
    },
    {
     "data": {
      "text/plain": [
       "RandomizedSearchCV(cv=TimeSeriesSplit(max_train_size=None, n_splits=5),\n",
       "                   estimator=SGDRegressor(random_state=0, shuffle=False),\n",
       "                   n_iter=200,\n",
       "                   param_distributions={'alpha': [5e-05, 0.0001, 0.001, 0.0001],\n",
       "                                        'eta0': [0.001, 0.005, 0.01, 0.05],\n",
       "                                        'penalty': ['l1', 'l2'],\n",
       "                                        'power_t': [0.2, 0.25, 0.3],\n",
       "                                        'tol': [0.5, 1, 1.5]},\n",
       "                   random_state=0,\n",
       "                   scoring=make_scorer(mean_absolute_error, greater_is_better=False))"
      ]
     },
     "execution_count": 809,
     "metadata": {},
     "output_type": "execute_result"
    }
   ],
   "source": [
    "%%time\n",
    "randomized_grid_cv.fit(X_train_C2H6, y_train_C2H6)"
   ]
  },
  {
   "cell_type": "code",
   "execution_count": 810,
   "metadata": {},
   "outputs": [
    {
     "data": {
      "text/plain": [
       "SGDRegressor(alpha=0.001, eta0=0.05, power_t=0.2, random_state=0, shuffle=False,\n",
       "             tol=1)"
      ]
     },
     "execution_count": 810,
     "metadata": {},
     "output_type": "execute_result"
    }
   ],
   "source": [
    "randomized_grid_cv.best_estimator_"
   ]
  },
  {
   "cell_type": "code",
   "execution_count": 811,
   "metadata": {},
   "outputs": [
    {
     "name": "stdout",
     "output_type": "stream",
     "text": [
      "-0.4947871368578509\n",
      "{'tol': 1, 'power_t': 0.2, 'penalty': 'l2', 'eta0': 0.05, 'alpha': 0.001}\n"
     ]
    }
   ],
   "source": [
    "print(randomized_grid_cv.best_score_)\n",
    "print(randomized_grid_cv.best_params_)"
   ]
  },
  {
   "cell_type": "code",
   "execution_count": 812,
   "metadata": {},
   "outputs": [
    {
     "data": {
      "text/plain": [
       "0.46635531660550444"
      ]
     },
     "execution_count": 812,
     "metadata": {},
     "output_type": "execute_result"
    }
   ],
   "source": [
    "predictions = randomized_grid_cv.predict(X_test_C2H6)\n",
    "metrics.mean_absolute_error(y_test_C2H6, predictions)"
   ]
  },
  {
   "cell_type": "markdown",
   "metadata": {},
   "source": [
    "### C3H8"
   ]
  },
  {
   "cell_type": "code",
   "execution_count": 815,
   "metadata": {},
   "outputs": [],
   "source": [
    "SGD_regressor = linear_model.SGDRegressor(shuffle=False, random_state=0)\n",
    "#SGD_regressor = linear_model.SGDRegressor(shuffle=False,tol=1, power_t=0.25, penalty='l2', \n",
    "#                                          eta0= 0.005, alpha= 0.0015, random_state=0)\n",
    "SGD_regressor.fit(X_train_C3H8, y_train_C3H8)\n",
    "predictions = SGD_regressor.predict(X_test_C3H8)"
   ]
  },
  {
   "cell_type": "code",
   "execution_count": 816,
   "metadata": {},
   "outputs": [
    {
     "data": {
      "text/plain": [
       "1.8242234970446518"
      ]
     },
     "execution_count": 816,
     "metadata": {},
     "output_type": "execute_result"
    }
   ],
   "source": [
    "metrics.mean_absolute_error(y_test_C3H8, predictions)"
   ]
  },
  {
   "cell_type": "code",
   "execution_count": 817,
   "metadata": {},
   "outputs": [
    {
     "name": "stdout",
     "output_type": "stream",
     "text": [
      "SGD (KFold) mean:1.3401542674686422, max:3.1605406873589525, min:0.3112757328688216, std:0.9877416797165401\n"
     ]
    }
   ],
   "source": [
    "SGD_scoring = cross_val_score(SGD_regressor, X_train_C3H8, y_train_C3H8, scoring = scorer , cv = cv_strategy_KFold)\n",
    "print ('SGD (KFold) mean:{}, max:{}, min:{}, std:{}'.format(SGD_scoring .mean(), SGD_scoring .max(), \n",
    "                                                     SGD_scoring .min(), SGD_scoring .std()))"
   ]
  },
  {
   "cell_type": "code",
   "execution_count": 818,
   "metadata": {},
   "outputs": [
    {
     "data": {
      "text/plain": [
       "array([0.81530236, 3.16054069, 1.51887447, 0.31127573, 0.89477809])"
      ]
     },
     "execution_count": 818,
     "metadata": {},
     "output_type": "execute_result"
    }
   ],
   "source": [
    "SGD_scoring"
   ]
  },
  {
   "cell_type": "code",
   "execution_count": 819,
   "metadata": {},
   "outputs": [
    {
     "name": "stdout",
     "output_type": "stream",
     "text": [
      "SGD (TMS) mean:5.457643565643311, max:23.94805619247017, min:0.5006622751492673, std:9.252665345433257\n"
     ]
    }
   ],
   "source": [
    "SGD_scoring = cross_val_score(SGD_regressor, X_train_C3H8, y_train_C3H8, scoring = scorer, cv = cv_strategy_TMS)\n",
    "print ('SGD (TMS) mean:{}, max:{}, min:{}, std:{}'.format(SGD_scoring .mean(), SGD_scoring .max(), \n",
    "                                                     SGD_scoring .min(), SGD_scoring .std()))"
   ]
  },
  {
   "cell_type": "code",
   "execution_count": 820,
   "metadata": {},
   "outputs": [
    {
     "data": {
      "text/plain": [
       "array([23.94805619,  1.54142175,  0.50066228,  0.71941124,  0.57866637])"
      ]
     },
     "execution_count": 820,
     "metadata": {},
     "output_type": "execute_result"
    }
   ],
   "source": [
    "SGD_scoring"
   ]
  },
  {
   "cell_type": "code",
   "execution_count": 821,
   "metadata": {},
   "outputs": [
    {
     "data": {
      "text/plain": [
       "dict_keys(['alpha', 'average', 'early_stopping', 'epsilon', 'eta0', 'fit_intercept', 'l1_ratio', 'learning_rate', 'loss', 'max_iter', 'n_iter_no_change', 'penalty', 'power_t', 'random_state', 'shuffle', 'tol', 'validation_fraction', 'verbose', 'warm_start'])"
      ]
     },
     "execution_count": 821,
     "metadata": {},
     "output_type": "execute_result"
    }
   ],
   "source": [
    "SGD_regressor.get_params().keys()"
   ]
  },
  {
   "cell_type": "code",
   "execution_count": 822,
   "metadata": {},
   "outputs": [],
   "source": [
    "parameters_grid = {\n",
    "    'penalty' : ['l1', 'l2'],\n",
    "    'alpha' : [0.00005, 0.0001, 0.001,0.0001],\n",
    "    'eta0' : [0.001, 0.005, 0.01, 0.05],\n",
    "     'tol' : [0.5,1, 1.5],\n",
    "    'power_t' : [0.2,0.25, 0.3], \n",
    "    \n",
    "}"
   ]
  },
  {
   "cell_type": "code",
   "execution_count": 823,
   "metadata": {},
   "outputs": [],
   "source": [
    "randomized_grid_cv = RandomizedSearchCV(SGD_regressor, parameters_grid, scoring = scorerCV, \n",
    "                                        cv = cv_strategy_KFold, n_iter = 200, random_state=0)"
   ]
  },
  {
   "cell_type": "code",
   "execution_count": 824,
   "metadata": {},
   "outputs": [
    {
     "name": "stdout",
     "output_type": "stream",
     "text": [
      "Wall time: 5.35 s\n"
     ]
    },
    {
     "data": {
      "text/plain": [
       "RandomizedSearchCV(cv=KFold(n_splits=5, random_state=0, shuffle=False),\n",
       "                   estimator=SGDRegressor(random_state=0, shuffle=False),\n",
       "                   n_iter=200,\n",
       "                   param_distributions={'alpha': [5e-05, 0.0001, 0.001, 0.0001],\n",
       "                                        'eta0': [0.001, 0.005, 0.01, 0.05],\n",
       "                                        'penalty': ['l1', 'l2'],\n",
       "                                        'power_t': [0.2, 0.25, 0.3],\n",
       "                                        'tol': [0.5, 1, 1.5]},\n",
       "                   random_state=0,\n",
       "                   scoring=make_scorer(mean_absolute_error, greater_is_better=False))"
      ]
     },
     "execution_count": 824,
     "metadata": {},
     "output_type": "execute_result"
    }
   ],
   "source": [
    "%%time\n",
    "randomized_grid_cv.fit(X_train_C3H8, y_train_C3H8)"
   ]
  },
  {
   "cell_type": "code",
   "execution_count": 825,
   "metadata": {},
   "outputs": [
    {
     "data": {
      "text/plain": [
       "SGDRegressor(alpha=0.001, eta0=0.05, power_t=0.2, random_state=0, shuffle=False,\n",
       "             tol=1.5)"
      ]
     },
     "execution_count": 825,
     "metadata": {},
     "output_type": "execute_result"
    }
   ],
   "source": [
    "randomized_grid_cv.best_estimator_"
   ]
  },
  {
   "cell_type": "code",
   "execution_count": 826,
   "metadata": {},
   "outputs": [
    {
     "name": "stdout",
     "output_type": "stream",
     "text": [
      "-1.83277394096075\n",
      "{'tol': 1.5, 'power_t': 0.2, 'penalty': 'l2', 'eta0': 0.05, 'alpha': 0.001}\n"
     ]
    }
   ],
   "source": [
    "print(randomized_grid_cv.best_score_)\n",
    "print(randomized_grid_cv.best_params_)"
   ]
  },
  {
   "cell_type": "code",
   "execution_count": 827,
   "metadata": {},
   "outputs": [
    {
     "data": {
      "text/plain": [
       "1.4243883062802207"
      ]
     },
     "execution_count": 827,
     "metadata": {},
     "output_type": "execute_result"
    }
   ],
   "source": [
    "predictions = randomized_grid_cv.predict(X_test_C3H8)\n",
    "metrics.mean_absolute_error(y_test_C3H8, predictions)"
   ]
  },
  {
   "cell_type": "code",
   "execution_count": 828,
   "metadata": {},
   "outputs": [],
   "source": [
    "randomized_grid_cv = RandomizedSearchCV(SGD_regressor, parameters_grid, scoring = scorerCV, \n",
    "                                        cv = cv_strategy_TMS, n_iter = 200, random_state=0)"
   ]
  },
  {
   "cell_type": "code",
   "execution_count": 829,
   "metadata": {},
   "outputs": [
    {
     "name": "stdout",
     "output_type": "stream",
     "text": [
      "Wall time: 4.07 s\n"
     ]
    },
    {
     "data": {
      "text/plain": [
       "RandomizedSearchCV(cv=TimeSeriesSplit(max_train_size=None, n_splits=5),\n",
       "                   estimator=SGDRegressor(random_state=0, shuffle=False),\n",
       "                   n_iter=200,\n",
       "                   param_distributions={'alpha': [5e-05, 0.0001, 0.001, 0.0001],\n",
       "                                        'eta0': [0.001, 0.005, 0.01, 0.05],\n",
       "                                        'penalty': ['l1', 'l2'],\n",
       "                                        'power_t': [0.2, 0.25, 0.3],\n",
       "                                        'tol': [0.5, 1, 1.5]},\n",
       "                   random_state=0,\n",
       "                   scoring=make_scorer(mean_absolute_error, greater_is_better=False))"
      ]
     },
     "execution_count": 829,
     "metadata": {},
     "output_type": "execute_result"
    }
   ],
   "source": [
    "%%time\n",
    "randomized_grid_cv.fit(X_train_C3H8, y_train_C3H8)"
   ]
  },
  {
   "cell_type": "code",
   "execution_count": 830,
   "metadata": {},
   "outputs": [
    {
     "data": {
      "text/plain": [
       "SGDRegressor(alpha=0.001, eta0=0.05, power_t=0.2, random_state=0, shuffle=False,\n",
       "             tol=1)"
      ]
     },
     "execution_count": 830,
     "metadata": {},
     "output_type": "execute_result"
    }
   ],
   "source": [
    "randomized_grid_cv.best_estimator_"
   ]
  },
  {
   "cell_type": "code",
   "execution_count": 831,
   "metadata": {},
   "outputs": [
    {
     "name": "stdout",
     "output_type": "stream",
     "text": [
      "-7.925519347214829\n",
      "{'tol': 1, 'power_t': 0.2, 'penalty': 'l2', 'eta0': 0.05, 'alpha': 0.001}\n"
     ]
    }
   ],
   "source": [
    "print(randomized_grid_cv.best_score_)\n",
    "print(randomized_grid_cv.best_params_)"
   ]
  },
  {
   "cell_type": "code",
   "execution_count": 832,
   "metadata": {},
   "outputs": [
    {
     "data": {
      "text/plain": [
       "1.4243883062802207"
      ]
     },
     "execution_count": 832,
     "metadata": {},
     "output_type": "execute_result"
    }
   ],
   "source": [
    "predictions = randomized_grid_cv.predict(X_test_C3H8)\n",
    "metrics.mean_absolute_error(y_test_C3H8, predictions)"
   ]
  },
  {
   "cell_type": "markdown",
   "metadata": {},
   "source": [
    "### iC4H10"
   ]
  },
  {
   "cell_type": "code",
   "execution_count": 833,
   "metadata": {},
   "outputs": [],
   "source": [
    "SGD_regressor = linear_model.SGDRegressor(shuffle=False, random_state=0)\n",
    "#SGD_regressor = linear_model.SGDRegressor(shuffle=False,tol=1, power_t=0.25, penalty='l2', \n",
    "#                                          eta0= 0.005, alpha= 0.0015, random_state=0)\n",
    "SGD_regressor.fit(X_train_iC4H10, y_train_iC4H10)\n",
    "predictions = SGD_regressor.predict(X_test_iC4H10)"
   ]
  },
  {
   "cell_type": "code",
   "execution_count": 834,
   "metadata": {},
   "outputs": [
    {
     "data": {
      "text/plain": [
       "0.8619252010265784"
      ]
     },
     "execution_count": 834,
     "metadata": {},
     "output_type": "execute_result"
    }
   ],
   "source": [
    "metrics.mean_absolute_error(y_test_iC4H10, predictions)"
   ]
  },
  {
   "cell_type": "code",
   "execution_count": 835,
   "metadata": {},
   "outputs": [
    {
     "name": "stdout",
     "output_type": "stream",
     "text": [
      "SGD (KFold) mean:1.3345436979490326, max:5.737940081668132, min:0.1335496456173011, std:2.203125427065866\n"
     ]
    }
   ],
   "source": [
    "SGD_scoring = cross_val_score(SGD_regressor, X_train_iC4H10, y_train_iC4H10, scoring = scorer , cv = cv_strategy_KFold)\n",
    "print ('SGD (KFold) mean:{}, max:{}, min:{}, std:{}'.format(SGD_scoring .mean(), SGD_scoring .max(), \n",
    "                                                     SGD_scoring .min(), SGD_scoring .std()))"
   ]
  },
  {
   "cell_type": "code",
   "execution_count": 836,
   "metadata": {},
   "outputs": [
    {
     "data": {
      "text/plain": [
       "array([0.13354965, 5.73794008, 0.23757155, 0.19029777, 0.37335945])"
      ]
     },
     "execution_count": 836,
     "metadata": {},
     "output_type": "execute_result"
    }
   ],
   "source": [
    "SGD_scoring"
   ]
  },
  {
   "cell_type": "code",
   "execution_count": 837,
   "metadata": {},
   "outputs": [
    {
     "name": "stdout",
     "output_type": "stream",
     "text": [
      "SGD (TMS) mean:2.959797643876929, max:13.311415163598667, min:0.2012215026072996, std:5.1777526678795684\n"
     ]
    }
   ],
   "source": [
    "SGD_scoring = cross_val_score(SGD_regressor, X_train_iC4H10, y_train_iC4H10, scoring = scorer, cv = cv_strategy_TMS)\n",
    "print ('SGD (TMS) mean:{}, max:{}, min:{}, std:{}'.format(SGD_scoring .mean(), SGD_scoring .max(), \n",
    "                                                     SGD_scoring .min(), SGD_scoring .std()))"
   ]
  },
  {
   "cell_type": "code",
   "execution_count": 838,
   "metadata": {},
   "outputs": [
    {
     "data": {
      "text/plain": [
       "array([13.31141516,  0.61899649,  0.2012215 ,  0.27235007,  0.39500499])"
      ]
     },
     "execution_count": 838,
     "metadata": {},
     "output_type": "execute_result"
    }
   ],
   "source": [
    "SGD_scoring"
   ]
  },
  {
   "cell_type": "code",
   "execution_count": 839,
   "metadata": {},
   "outputs": [
    {
     "data": {
      "text/plain": [
       "dict_keys(['alpha', 'average', 'early_stopping', 'epsilon', 'eta0', 'fit_intercept', 'l1_ratio', 'learning_rate', 'loss', 'max_iter', 'n_iter_no_change', 'penalty', 'power_t', 'random_state', 'shuffle', 'tol', 'validation_fraction', 'verbose', 'warm_start'])"
      ]
     },
     "execution_count": 839,
     "metadata": {},
     "output_type": "execute_result"
    }
   ],
   "source": [
    "SGD_regressor.get_params().keys()"
   ]
  },
  {
   "cell_type": "code",
   "execution_count": 840,
   "metadata": {},
   "outputs": [],
   "source": [
    "parameters_grid = {\n",
    "    'penalty' : ['l1', 'l2'],\n",
    "    'alpha' : [0.00005, 0.0001, 0.001,0.0001],\n",
    "    'eta0' : [0.001, 0.005, 0.01, 0.05],\n",
    "     'tol' : [0.5,1, 1.5],\n",
    "    'power_t' : [0.2,0.25, 0.3], \n",
    "    \n",
    "}"
   ]
  },
  {
   "cell_type": "code",
   "execution_count": 841,
   "metadata": {},
   "outputs": [],
   "source": [
    "randomized_grid_cv = RandomizedSearchCV(SGD_regressor, parameters_grid, scoring = scorerCV,\n",
    "                                        cv = cv_strategy_KFold, n_iter = 200, random_state=0)"
   ]
  },
  {
   "cell_type": "code",
   "execution_count": 842,
   "metadata": {},
   "outputs": [
    {
     "name": "stdout",
     "output_type": "stream",
     "text": [
      "Wall time: 4.78 s\n"
     ]
    },
    {
     "data": {
      "text/plain": [
       "RandomizedSearchCV(cv=KFold(n_splits=5, random_state=0, shuffle=False),\n",
       "                   estimator=SGDRegressor(random_state=0, shuffle=False),\n",
       "                   n_iter=200,\n",
       "                   param_distributions={'alpha': [5e-05, 0.0001, 0.001, 0.0001],\n",
       "                                        'eta0': [0.001, 0.005, 0.01, 0.05],\n",
       "                                        'penalty': ['l1', 'l2'],\n",
       "                                        'power_t': [0.2, 0.25, 0.3],\n",
       "                                        'tol': [0.5, 1, 1.5]},\n",
       "                   random_state=0,\n",
       "                   scoring=make_scorer(mean_absolute_error, greater_is_better=False))"
      ]
     },
     "execution_count": 842,
     "metadata": {},
     "output_type": "execute_result"
    }
   ],
   "source": [
    "%%time\n",
    "randomized_grid_cv.fit(X_train_iC4H10, y_train_iC4H10)"
   ]
  },
  {
   "cell_type": "code",
   "execution_count": 843,
   "metadata": {},
   "outputs": [
    {
     "data": {
      "text/plain": [
       "SGDRegressor(alpha=0.001, eta0=0.05, random_state=0, shuffle=False, tol=0.5)"
      ]
     },
     "execution_count": 843,
     "metadata": {},
     "output_type": "execute_result"
    }
   ],
   "source": [
    "randomized_grid_cv.best_estimator_"
   ]
  },
  {
   "cell_type": "code",
   "execution_count": 844,
   "metadata": {},
   "outputs": [
    {
     "name": "stdout",
     "output_type": "stream",
     "text": [
      "-1.372380018266942\n",
      "{'tol': 0.5, 'power_t': 0.25, 'penalty': 'l2', 'eta0': 0.05, 'alpha': 0.001}\n"
     ]
    }
   ],
   "source": [
    "print(randomized_grid_cv.best_score_)\n",
    "print(randomized_grid_cv.best_params_)"
   ]
  },
  {
   "cell_type": "code",
   "execution_count": 845,
   "metadata": {},
   "outputs": [
    {
     "data": {
      "text/plain": [
       "0.7641924326975736"
      ]
     },
     "execution_count": 845,
     "metadata": {},
     "output_type": "execute_result"
    }
   ],
   "source": [
    "predictions = randomized_grid_cv.predict(X_test_iC4H10)\n",
    "metrics.mean_absolute_error(y_test_iC4H10, predictions)"
   ]
  },
  {
   "cell_type": "code",
   "execution_count": 846,
   "metadata": {},
   "outputs": [],
   "source": [
    "randomized_grid_cv = RandomizedSearchCV(SGD_regressor, parameters_grid, scoring = scorerCV,\n",
    "                                        cv = cv_strategy_TMS, n_iter = 200, random_state=0)"
   ]
  },
  {
   "cell_type": "code",
   "execution_count": 847,
   "metadata": {},
   "outputs": [
    {
     "name": "stdout",
     "output_type": "stream",
     "text": [
      "Wall time: 3.71 s\n"
     ]
    },
    {
     "data": {
      "text/plain": [
       "RandomizedSearchCV(cv=TimeSeriesSplit(max_train_size=None, n_splits=5),\n",
       "                   estimator=SGDRegressor(random_state=0, shuffle=False),\n",
       "                   n_iter=200,\n",
       "                   param_distributions={'alpha': [5e-05, 0.0001, 0.001, 0.0001],\n",
       "                                        'eta0': [0.001, 0.005, 0.01, 0.05],\n",
       "                                        'penalty': ['l1', 'l2'],\n",
       "                                        'power_t': [0.2, 0.25, 0.3],\n",
       "                                        'tol': [0.5, 1, 1.5]},\n",
       "                   random_state=0,\n",
       "                   scoring=make_scorer(mean_absolute_error, greater_is_better=False))"
      ]
     },
     "execution_count": 847,
     "metadata": {},
     "output_type": "execute_result"
    }
   ],
   "source": [
    "%%time\n",
    "randomized_grid_cv.fit(X_train_iC4H10, y_train_iC4H10)"
   ]
  },
  {
   "cell_type": "code",
   "execution_count": 848,
   "metadata": {},
   "outputs": [
    {
     "data": {
      "text/plain": [
       "SGDRegressor(alpha=0.001, eta0=0.05, power_t=0.2, random_state=0, shuffle=False,\n",
       "             tol=0.5)"
      ]
     },
     "execution_count": 848,
     "metadata": {},
     "output_type": "execute_result"
    }
   ],
   "source": [
    "randomized_grid_cv.best_estimator_"
   ]
  },
  {
   "cell_type": "code",
   "execution_count": 849,
   "metadata": {},
   "outputs": [
    {
     "name": "stdout",
     "output_type": "stream",
     "text": [
      "-3.888743764744929\n",
      "{'tol': 0.5, 'power_t': 0.2, 'penalty': 'l2', 'eta0': 0.05, 'alpha': 0.001}\n"
     ]
    }
   ],
   "source": [
    "print(randomized_grid_cv.best_score_)\n",
    "print(randomized_grid_cv.best_params_)"
   ]
  },
  {
   "cell_type": "code",
   "execution_count": 850,
   "metadata": {},
   "outputs": [
    {
     "data": {
      "text/plain": [
       "0.8048955465153628"
      ]
     },
     "execution_count": 850,
     "metadata": {},
     "output_type": "execute_result"
    }
   ],
   "source": [
    "predictions = randomized_grid_cv.predict(X_test_iC4H10)\n",
    "metrics.mean_absolute_error(y_test_iC4H10, predictions)"
   ]
  },
  {
   "cell_type": "markdown",
   "metadata": {},
   "source": [
    "### nC4H10"
   ]
  },
  {
   "cell_type": "code",
   "execution_count": 851,
   "metadata": {},
   "outputs": [],
   "source": [
    "SGD_regressor = linear_model.SGDRegressor(shuffle=False, random_state=0)\n",
    "#SGD_regressor = linear_model.SGDRegressor(shuffle=False,tol=1, power_t=0.25, penalty='l2', \n",
    "#                                          eta0= 0.005, alpha= 0.0015, random_state=0)\n",
    "SGD_regressor.fit(X_train_nC4H10, y_train_nC4H10)\n",
    "predictions = SGD_regressor.predict(X_test_nC4H10)"
   ]
  },
  {
   "cell_type": "code",
   "execution_count": 852,
   "metadata": {},
   "outputs": [
    {
     "data": {
      "text/plain": [
       "1.2138687561609847"
      ]
     },
     "execution_count": 852,
     "metadata": {},
     "output_type": "execute_result"
    }
   ],
   "source": [
    "metrics.mean_absolute_error(y_test_nC4H10, predictions)"
   ]
  },
  {
   "cell_type": "code",
   "execution_count": 853,
   "metadata": {},
   "outputs": [
    {
     "name": "stdout",
     "output_type": "stream",
     "text": [
      "SGD (KFold) mean:1.6152467444803142, max:6.85177595284092, min:0.15224408393135355, std:2.6196135067947672\n"
     ]
    }
   ],
   "source": [
    "SGD_scoring = cross_val_score(SGD_regressor, X_train_nC4H10, y_train_nC4H10, scoring = scorer , cv = cv_strategy_KFold)\n",
    "print ('SGD (KFold) mean:{}, max:{}, min:{}, std:{}'.format(SGD_scoring .mean(), SGD_scoring .max(), \n",
    "                                                     SGD_scoring .min(), SGD_scoring .std()))"
   ]
  },
  {
   "cell_type": "code",
   "execution_count": 854,
   "metadata": {},
   "outputs": [
    {
     "data": {
      "text/plain": [
       "array([0.30843804, 6.85177595, 0.39089451, 0.15224408, 0.37288113])"
      ]
     },
     "execution_count": 854,
     "metadata": {},
     "output_type": "execute_result"
    }
   ],
   "source": [
    "SGD_scoring"
   ]
  },
  {
   "cell_type": "code",
   "execution_count": 855,
   "metadata": {},
   "outputs": [
    {
     "name": "stdout",
     "output_type": "stream",
     "text": [
      "SGD (TMS) mean:4.688029378571647, max:21.210701993050108, min:0.19859836275762482, std:8.267513725039828\n"
     ]
    }
   ],
   "source": [
    "SGD_scoring = cross_val_score(SGD_regressor, X_train_nC4H10, y_train_nC4H10, scoring = scorer, cv = cv_strategy_TMS)\n",
    "print ('SGD (TMS) mean:{}, max:{}, min:{}, std:{}'.format(SGD_scoring .mean(), SGD_scoring .max(), \n",
    "                                                     SGD_scoring .min(), SGD_scoring .std()))"
   ]
  },
  {
   "cell_type": "code",
   "execution_count": 856,
   "metadata": {},
   "outputs": [
    {
     "data": {
      "text/plain": [
       "array([21.21070199,  1.14998587,  0.48085083,  0.19859836,  0.40000983])"
      ]
     },
     "execution_count": 856,
     "metadata": {},
     "output_type": "execute_result"
    }
   ],
   "source": [
    "SGD_scoring"
   ]
  },
  {
   "cell_type": "code",
   "execution_count": 857,
   "metadata": {},
   "outputs": [
    {
     "data": {
      "text/plain": [
       "dict_keys(['alpha', 'average', 'early_stopping', 'epsilon', 'eta0', 'fit_intercept', 'l1_ratio', 'learning_rate', 'loss', 'max_iter', 'n_iter_no_change', 'penalty', 'power_t', 'random_state', 'shuffle', 'tol', 'validation_fraction', 'verbose', 'warm_start'])"
      ]
     },
     "execution_count": 857,
     "metadata": {},
     "output_type": "execute_result"
    }
   ],
   "source": [
    "SGD_regressor.get_params().keys()"
   ]
  },
  {
   "cell_type": "code",
   "execution_count": 858,
   "metadata": {},
   "outputs": [],
   "source": [
    "parameters_grid = {\n",
    "    'penalty' : ['l1', 'l2'],\n",
    "    'alpha' : [0.00005, 0.0001, 0.001,0.0001],\n",
    "    'eta0' : [0.001, 0.005, 0.01, 0.05],\n",
    "     'tol' : [0.5,1, 1.5],\n",
    "    'power_t' : [0.2,0.25, 0.3], \n",
    "    \n",
    "}"
   ]
  },
  {
   "cell_type": "code",
   "execution_count": 859,
   "metadata": {},
   "outputs": [],
   "source": [
    "randomized_grid_cv = RandomizedSearchCV(SGD_regressor, parameters_grid, scoring = scorerCV,\n",
    "                                        cv = cv_strategy_KFold, n_iter = 200, random_state=0)"
   ]
  },
  {
   "cell_type": "code",
   "execution_count": 860,
   "metadata": {},
   "outputs": [
    {
     "name": "stdout",
     "output_type": "stream",
     "text": [
      "Wall time: 5.05 s\n"
     ]
    },
    {
     "data": {
      "text/plain": [
       "RandomizedSearchCV(cv=KFold(n_splits=5, random_state=0, shuffle=False),\n",
       "                   estimator=SGDRegressor(random_state=0, shuffle=False),\n",
       "                   n_iter=200,\n",
       "                   param_distributions={'alpha': [5e-05, 0.0001, 0.001, 0.0001],\n",
       "                                        'eta0': [0.001, 0.005, 0.01, 0.05],\n",
       "                                        'penalty': ['l1', 'l2'],\n",
       "                                        'power_t': [0.2, 0.25, 0.3],\n",
       "                                        'tol': [0.5, 1, 1.5]},\n",
       "                   random_state=0,\n",
       "                   scoring=make_scorer(mean_absolute_error, greater_is_better=False))"
      ]
     },
     "execution_count": 860,
     "metadata": {},
     "output_type": "execute_result"
    }
   ],
   "source": [
    "%%time\n",
    "randomized_grid_cv.fit(X_train_nC4H10, y_train_nC4H10)"
   ]
  },
  {
   "cell_type": "code",
   "execution_count": 861,
   "metadata": {},
   "outputs": [
    {
     "data": {
      "text/plain": [
       "SGDRegressor(alpha=0.001, eta0=0.05, power_t=0.2, random_state=0, shuffle=False,\n",
       "             tol=0.5)"
      ]
     },
     "execution_count": 861,
     "metadata": {},
     "output_type": "execute_result"
    }
   ],
   "source": [
    "randomized_grid_cv.best_estimator_"
   ]
  },
  {
   "cell_type": "code",
   "execution_count": 862,
   "metadata": {},
   "outputs": [
    {
     "name": "stdout",
     "output_type": "stream",
     "text": [
      "-1.8397197478329919\n",
      "{'tol': 0.5, 'power_t': 0.2, 'penalty': 'l2', 'eta0': 0.05, 'alpha': 0.001}\n"
     ]
    }
   ],
   "source": [
    "print(randomized_grid_cv.best_score_)\n",
    "print(randomized_grid_cv.best_params_)"
   ]
  },
  {
   "cell_type": "code",
   "execution_count": 863,
   "metadata": {},
   "outputs": [
    {
     "data": {
      "text/plain": [
       "1.1218332265241755"
      ]
     },
     "execution_count": 863,
     "metadata": {},
     "output_type": "execute_result"
    }
   ],
   "source": [
    "predictions = randomized_grid_cv.predict(X_test_nC4H10)\n",
    "metrics.mean_absolute_error(y_test_nC4H10, predictions)"
   ]
  },
  {
   "cell_type": "code",
   "execution_count": 864,
   "metadata": {},
   "outputs": [],
   "source": [
    "randomized_grid_cv = RandomizedSearchCV(SGD_regressor, parameters_grid, scoring = scorerCV,\n",
    "                                        cv = cv_strategy_TMS, n_iter = 200, random_state=0)"
   ]
  },
  {
   "cell_type": "code",
   "execution_count": 865,
   "metadata": {},
   "outputs": [
    {
     "name": "stdout",
     "output_type": "stream",
     "text": [
      "Wall time: 3.85 s\n"
     ]
    },
    {
     "data": {
      "text/plain": [
       "RandomizedSearchCV(cv=TimeSeriesSplit(max_train_size=None, n_splits=5),\n",
       "                   estimator=SGDRegressor(random_state=0, shuffle=False),\n",
       "                   n_iter=200,\n",
       "                   param_distributions={'alpha': [5e-05, 0.0001, 0.001, 0.0001],\n",
       "                                        'eta0': [0.001, 0.005, 0.01, 0.05],\n",
       "                                        'penalty': ['l1', 'l2'],\n",
       "                                        'power_t': [0.2, 0.25, 0.3],\n",
       "                                        'tol': [0.5, 1, 1.5]},\n",
       "                   random_state=0,\n",
       "                   scoring=make_scorer(mean_absolute_error, greater_is_better=False))"
      ]
     },
     "execution_count": 865,
     "metadata": {},
     "output_type": "execute_result"
    }
   ],
   "source": [
    "%%time\n",
    "randomized_grid_cv.fit(X_train_nC4H10, y_train_nC4H10)"
   ]
  },
  {
   "cell_type": "code",
   "execution_count": 866,
   "metadata": {},
   "outputs": [
    {
     "data": {
      "text/plain": [
       "SGDRegressor(alpha=0.001, eta0=0.05, power_t=0.2, random_state=0, shuffle=False,\n",
       "             tol=0.5)"
      ]
     },
     "execution_count": 866,
     "metadata": {},
     "output_type": "execute_result"
    }
   ],
   "source": [
    "randomized_grid_cv.best_estimator_"
   ]
  },
  {
   "cell_type": "code",
   "execution_count": 867,
   "metadata": {},
   "outputs": [
    {
     "name": "stdout",
     "output_type": "stream",
     "text": [
      "-5.491935553956854\n",
      "{'tol': 0.5, 'power_t': 0.2, 'penalty': 'l2', 'eta0': 0.05, 'alpha': 0.001}\n"
     ]
    }
   ],
   "source": [
    "print(randomized_grid_cv.best_score_)\n",
    "print(randomized_grid_cv.best_params_)"
   ]
  },
  {
   "cell_type": "code",
   "execution_count": 868,
   "metadata": {},
   "outputs": [
    {
     "data": {
      "text/plain": [
       "1.1218332265241755"
      ]
     },
     "execution_count": 868,
     "metadata": {},
     "output_type": "execute_result"
    }
   ],
   "source": [
    "predictions = randomized_grid_cv.predict(X_test_nC4H10)\n",
    "metrics.mean_absolute_error(y_test_nC4H10, predictions)"
   ]
  },
  {
   "cell_type": "markdown",
   "metadata": {},
   "source": [
    "# XGBoost"
   ]
  },
  {
   "cell_type": "markdown",
   "metadata": {},
   "source": [
    "### C2H6"
   ]
  },
  {
   "cell_type": "code",
   "execution_count": 869,
   "metadata": {},
   "outputs": [],
   "source": [
    "#import xgboost as xgb"
   ]
  },
  {
   "cell_type": "markdown",
   "metadata": {},
   "source": [
    "## GradientBoostingRegressor"
   ]
  },
  {
   "cell_type": "markdown",
   "metadata": {},
   "source": [
    "### C2H6"
   ]
  },
  {
   "cell_type": "code",
   "execution_count": 870,
   "metadata": {},
   "outputs": [],
   "source": [
    "estimator = GradientBoostingRegressor(random_state=0)\n",
    "estimator.fit(X_train_C2H6, y_train_C2H6)\n",
    "predictions = estimator.predict(X_test_C2H6)"
   ]
  },
  {
   "cell_type": "code",
   "execution_count": 871,
   "metadata": {},
   "outputs": [
    {
     "data": {
      "text/plain": [
       "1.5550441644968662"
      ]
     },
     "execution_count": 871,
     "metadata": {},
     "output_type": "execute_result"
    }
   ],
   "source": [
    "metrics.mean_absolute_error(y_test_C2H6, predictions)"
   ]
  },
  {
   "cell_type": "code",
   "execution_count": 872,
   "metadata": {},
   "outputs": [
    {
     "name": "stdout",
     "output_type": "stream",
     "text": [
      "GBR (KFold) mean:0.17851706906524326, max:0.29112985409408976, min:0.05567928840146699, std:0.1027457893068434\n"
     ]
    }
   ],
   "source": [
    "GBR_scoring = cross_val_score(estimator, X_train_C2H6, y_train_C2H6, scoring = scorer, cv = cv_strategy_KFold)\n",
    "print ('GBR (KFold) mean:{}, max:{}, min:{}, std:{}'.format(GBR_scoring .mean(), GBR_scoring .max(), \n",
    "                                                     GBR_scoring .min(), GBR_scoring .std()))"
   ]
  },
  {
   "cell_type": "code",
   "execution_count": 873,
   "metadata": {},
   "outputs": [
    {
     "data": {
      "text/plain": [
       "array([0.05567929, 0.29112985, 0.19770569, 0.06312009, 0.28495042])"
      ]
     },
     "execution_count": 873,
     "metadata": {},
     "output_type": "execute_result"
    }
   ],
   "source": [
    "GBR_scoring"
   ]
  },
  {
   "cell_type": "code",
   "execution_count": 874,
   "metadata": {},
   "outputs": [
    {
     "name": "stdout",
     "output_type": "stream",
     "text": [
      "GBR (TMS) mean:0.4553758564193659, max:1.221484822868143, min:0.12817964064374862, std:0.3986066983434876\n"
     ]
    }
   ],
   "source": [
    "GBR_scoring = cross_val_score(estimator, X_train_C2H6, y_train_C2H6, scoring = scorer, cv = cv_strategy_TMS)\n",
    "print ('GBR (TMS) mean:{}, max:{}, min:{}, std:{}'.format(GBR_scoring .mean(), GBR_scoring .max(), \n",
    "                                                     GBR_scoring .min(), GBR_scoring .std()))"
   ]
  },
  {
   "cell_type": "code",
   "execution_count": 875,
   "metadata": {},
   "outputs": [
    {
     "data": {
      "text/plain": [
       "array([1.22148482, 0.43002544, 0.16404695, 0.12817964, 0.33314243])"
      ]
     },
     "execution_count": 875,
     "metadata": {},
     "output_type": "execute_result"
    }
   ],
   "source": [
    "GBR_scoring"
   ]
  },
  {
   "cell_type": "code",
   "execution_count": 876,
   "metadata": {},
   "outputs": [
    {
     "data": {
      "text/plain": [
       "dict_keys(['alpha', 'ccp_alpha', 'criterion', 'init', 'learning_rate', 'loss', 'max_depth', 'max_features', 'max_leaf_nodes', 'min_impurity_decrease', 'min_impurity_split', 'min_samples_leaf', 'min_samples_split', 'min_weight_fraction_leaf', 'n_estimators', 'n_iter_no_change', 'presort', 'random_state', 'subsample', 'tol', 'validation_fraction', 'verbose', 'warm_start'])"
      ]
     },
     "execution_count": 876,
     "metadata": {},
     "output_type": "execute_result"
    }
   ],
   "source": [
    "estimator.get_params().keys()"
   ]
  },
  {
   "cell_type": "code",
   "execution_count": 877,
   "metadata": {},
   "outputs": [],
   "source": [
    "parameters_grid = {\n",
    "    'n_estimators' : [50, 100, 200, 500],\n",
    "    'max_depth' : [3, 5, 10, 15],\n",
    "    \n",
    "}"
   ]
  },
  {
   "cell_type": "code",
   "execution_count": 878,
   "metadata": {},
   "outputs": [],
   "source": [
    "randomized_grid_cv = RandomizedSearchCV(estimator, parameters_grid, scoring = scorer,\n",
    "                                        cv = cv_strategy_KFold, n_iter = 20, random_state = 0)"
   ]
  },
  {
   "cell_type": "code",
   "execution_count": 879,
   "metadata": {},
   "outputs": [
    {
     "name": "stdout",
     "output_type": "stream",
     "text": [
      "Wall time: 4min 27s\n"
     ]
    },
    {
     "data": {
      "text/plain": [
       "RandomizedSearchCV(cv=KFold(n_splits=5, random_state=0, shuffle=False),\n",
       "                   estimator=GradientBoostingRegressor(random_state=0),\n",
       "                   n_iter=20,\n",
       "                   param_distributions={'max_depth': [3, 5, 10, 15],\n",
       "                                        'n_estimators': [50, 100, 200, 500]},\n",
       "                   random_state=0, scoring=make_scorer(mean_absolute_error))"
      ]
     },
     "execution_count": 879,
     "metadata": {},
     "output_type": "execute_result"
    }
   ],
   "source": [
    "%%time\n",
    "randomized_grid_cv.fit(X_train_C2H6, y_train_C2H6)"
   ]
  },
  {
   "cell_type": "code",
   "execution_count": 880,
   "metadata": {},
   "outputs": [
    {
     "data": {
      "text/plain": [
       "GradientBoostingRegressor(n_estimators=50, random_state=0)"
      ]
     },
     "execution_count": 880,
     "metadata": {},
     "output_type": "execute_result"
    }
   ],
   "source": [
    "randomized_grid_cv.best_estimator_"
   ]
  },
  {
   "cell_type": "code",
   "execution_count": 881,
   "metadata": {},
   "outputs": [
    {
     "name": "stdout",
     "output_type": "stream",
     "text": [
      "0.2196688974483517\n",
      "{'n_estimators': 50, 'max_depth': 3}\n"
     ]
    }
   ],
   "source": [
    "print(randomized_grid_cv.best_score_)\n",
    "print(randomized_grid_cv.best_params_)"
   ]
  },
  {
   "cell_type": "code",
   "execution_count": 882,
   "metadata": {},
   "outputs": [
    {
     "data": {
      "text/plain": [
       "1.5994278219254054"
      ]
     },
     "execution_count": 882,
     "metadata": {},
     "output_type": "execute_result"
    }
   ],
   "source": [
    "predictions = randomized_grid_cv.predict(X_test_C2H6)\n",
    "metrics.mean_absolute_error(y_test_C2H6, predictions)"
   ]
  },
  {
   "cell_type": "code",
   "execution_count": 883,
   "metadata": {},
   "outputs": [],
   "source": [
    "randomized_grid_cv = RandomizedSearchCV(estimator, parameters_grid, scoring = scorer,\n",
    "                                        cv = cv_strategy_TMS, n_iter = 20, random_state = 0)"
   ]
  },
  {
   "cell_type": "code",
   "execution_count": 884,
   "metadata": {},
   "outputs": [
    {
     "name": "stdout",
     "output_type": "stream",
     "text": [
      "Wall time: 2min 38s\n"
     ]
    },
    {
     "data": {
      "text/plain": [
       "RandomizedSearchCV(cv=TimeSeriesSplit(max_train_size=None, n_splits=5),\n",
       "                   estimator=GradientBoostingRegressor(random_state=0),\n",
       "                   n_iter=20,\n",
       "                   param_distributions={'max_depth': [3, 5, 10, 15],\n",
       "                                        'n_estimators': [50, 100, 200, 500]},\n",
       "                   random_state=0, scoring=make_scorer(mean_absolute_error))"
      ]
     },
     "execution_count": 884,
     "metadata": {},
     "output_type": "execute_result"
    }
   ],
   "source": [
    "%%time\n",
    "randomized_grid_cv.fit(X_train_C2H6, y_train_C2H6)"
   ]
  },
  {
   "cell_type": "code",
   "execution_count": 885,
   "metadata": {},
   "outputs": [
    {
     "data": {
      "text/plain": [
       "GradientBoostingRegressor(n_estimators=50, random_state=0)"
      ]
     },
     "execution_count": 885,
     "metadata": {},
     "output_type": "execute_result"
    }
   ],
   "source": [
    "randomized_grid_cv.best_estimator_"
   ]
  },
  {
   "cell_type": "code",
   "execution_count": 886,
   "metadata": {},
   "outputs": [
    {
     "name": "stdout",
     "output_type": "stream",
     "text": [
      "0.46955832161293953\n",
      "{'n_estimators': 50, 'max_depth': 3}\n"
     ]
    }
   ],
   "source": [
    "print(randomized_grid_cv.best_score_)\n",
    "print(randomized_grid_cv.best_params_)"
   ]
  },
  {
   "cell_type": "code",
   "execution_count": 887,
   "metadata": {},
   "outputs": [
    {
     "data": {
      "text/plain": [
       "1.5994278219254054"
      ]
     },
     "execution_count": 887,
     "metadata": {},
     "output_type": "execute_result"
    }
   ],
   "source": [
    "predictions = randomized_grid_cv.predict(X_test_C2H6)\n",
    "metrics.mean_absolute_error(y_test_C2H6, predictions)"
   ]
  },
  {
   "cell_type": "markdown",
   "metadata": {},
   "source": [
    "### C3H8"
   ]
  },
  {
   "cell_type": "code",
   "execution_count": 888,
   "metadata": {},
   "outputs": [],
   "source": [
    "estimator = GradientBoostingRegressor(random_state=0)\n",
    "estimator.fit(X_train_C3H8, y_train_C3H8)\n",
    "predictions = estimator.predict(X_test_C3H8)"
   ]
  },
  {
   "cell_type": "code",
   "execution_count": 889,
   "metadata": {},
   "outputs": [
    {
     "data": {
      "text/plain": [
       "1.6929986814274178"
      ]
     },
     "execution_count": 889,
     "metadata": {},
     "output_type": "execute_result"
    }
   ],
   "source": [
    "metrics.mean_absolute_error(y_test_C3H8, predictions)"
   ]
  },
  {
   "cell_type": "code",
   "execution_count": 890,
   "metadata": {},
   "outputs": [
    {
     "name": "stdout",
     "output_type": "stream",
     "text": [
      "GBR (KFold) mean:0.9899476542139298, max:1.926697062592578, min:0.4833777962887588, std:0.49681065449187817\n"
     ]
    }
   ],
   "source": [
    "GBR_scoring = cross_val_score(estimator, X_train_C3H8, y_train_C3H8, scoring = scorer, cv = cv_strategy_KFold)\n",
    "print ('GBR (KFold) mean:{}, max:{}, min:{}, std:{}'.format(GBR_scoring .mean(), GBR_scoring .max(), \n",
    "                                                     GBR_scoring .min(), GBR_scoring .std()))"
   ]
  },
  {
   "cell_type": "code",
   "execution_count": 891,
   "metadata": {},
   "outputs": [
    {
     "data": {
      "text/plain": [
       "array([0.88569451, 1.92669706, 0.96116517, 0.4833778 , 0.69280374])"
      ]
     },
     "execution_count": 891,
     "metadata": {},
     "output_type": "execute_result"
    }
   ],
   "source": [
    "GBR_scoring"
   ]
  },
  {
   "cell_type": "code",
   "execution_count": 892,
   "metadata": {},
   "outputs": [
    {
     "name": "stdout",
     "output_type": "stream",
     "text": [
      "GBR (TMS) mean:2.279955267783915, max:6.666514369044199, min:0.42576910887797176, std:2.3537613551257754\n"
     ]
    }
   ],
   "source": [
    "GBR_scoring = cross_val_score(estimator, X_train_C3H8, y_train_C3H8, scoring = scorer, cv = cv_strategy_TMS)\n",
    "print ('GBR (TMS) mean:{}, max:{}, min:{}, std:{}'.format(GBR_scoring .mean(), GBR_scoring .max(), \n",
    "                                                     GBR_scoring .min(), GBR_scoring .std()))"
   ]
  },
  {
   "cell_type": "code",
   "execution_count": 893,
   "metadata": {},
   "outputs": [
    {
     "data": {
      "text/plain": [
       "array([6.66651437, 2.80349221, 0.42576911, 0.94906883, 0.55493183])"
      ]
     },
     "execution_count": 893,
     "metadata": {},
     "output_type": "execute_result"
    }
   ],
   "source": [
    "GBR_scoring"
   ]
  },
  {
   "cell_type": "code",
   "execution_count": 894,
   "metadata": {},
   "outputs": [
    {
     "data": {
      "text/plain": [
       "dict_keys(['alpha', 'ccp_alpha', 'criterion', 'init', 'learning_rate', 'loss', 'max_depth', 'max_features', 'max_leaf_nodes', 'min_impurity_decrease', 'min_impurity_split', 'min_samples_leaf', 'min_samples_split', 'min_weight_fraction_leaf', 'n_estimators', 'n_iter_no_change', 'presort', 'random_state', 'subsample', 'tol', 'validation_fraction', 'verbose', 'warm_start'])"
      ]
     },
     "execution_count": 894,
     "metadata": {},
     "output_type": "execute_result"
    }
   ],
   "source": [
    "estimator.get_params().keys()"
   ]
  },
  {
   "cell_type": "code",
   "execution_count": 895,
   "metadata": {},
   "outputs": [],
   "source": [
    "parameters_grid = {\n",
    "    'n_estimators' : [50, 100, 200, 500],\n",
    "    'max_depth' : [3, 5, 10, 15],\n",
    "    \n",
    "}"
   ]
  },
  {
   "cell_type": "code",
   "execution_count": 896,
   "metadata": {},
   "outputs": [],
   "source": [
    "randomized_grid_cv = RandomizedSearchCV(estimator, parameters_grid, scoring = scorer,\n",
    "                                        cv = cv_strategy_KFold, n_iter = 20, random_state = 0)"
   ]
  },
  {
   "cell_type": "code",
   "execution_count": 897,
   "metadata": {},
   "outputs": [
    {
     "name": "stdout",
     "output_type": "stream",
     "text": [
      "Wall time: 5min 10s\n"
     ]
    },
    {
     "data": {
      "text/plain": [
       "RandomizedSearchCV(cv=KFold(n_splits=5, random_state=0, shuffle=False),\n",
       "                   estimator=GradientBoostingRegressor(random_state=0),\n",
       "                   n_iter=20,\n",
       "                   param_distributions={'max_depth': [3, 5, 10, 15],\n",
       "                                        'n_estimators': [50, 100, 200, 500]},\n",
       "                   random_state=0, scoring=make_scorer(mean_absolute_error))"
      ]
     },
     "execution_count": 897,
     "metadata": {},
     "output_type": "execute_result"
    }
   ],
   "source": [
    "%%time\n",
    "randomized_grid_cv.fit(X_train_C3H8, y_train_C3H8)"
   ]
  },
  {
   "cell_type": "code",
   "execution_count": 898,
   "metadata": {},
   "outputs": [
    {
     "data": {
      "text/plain": [
       "GradientBoostingRegressor(n_estimators=50, random_state=0)"
      ]
     },
     "execution_count": 898,
     "metadata": {},
     "output_type": "execute_result"
    }
   ],
   "source": [
    "randomized_grid_cv.best_estimator_"
   ]
  },
  {
   "cell_type": "code",
   "execution_count": 899,
   "metadata": {},
   "outputs": [
    {
     "name": "stdout",
     "output_type": "stream",
     "text": [
      "1.0291790974167112\n",
      "{'n_estimators': 50, 'max_depth': 3}\n"
     ]
    }
   ],
   "source": [
    "print(randomized_grid_cv.best_score_)\n",
    "print(randomized_grid_cv.best_params_)"
   ]
  },
  {
   "cell_type": "code",
   "execution_count": 900,
   "metadata": {},
   "outputs": [
    {
     "data": {
      "text/plain": [
       "1.7051101260753803"
      ]
     },
     "execution_count": 900,
     "metadata": {},
     "output_type": "execute_result"
    }
   ],
   "source": [
    "predictions = randomized_grid_cv.predict(X_test_C3H8)\n",
    "metrics.mean_absolute_error(y_test_C3H8, predictions)"
   ]
  },
  {
   "cell_type": "code",
   "execution_count": 901,
   "metadata": {},
   "outputs": [],
   "source": [
    "randomized_grid_cv = RandomizedSearchCV(estimator, parameters_grid, scoring = scorer, \n",
    "                                        cv = cv_strategy_TMS, n_iter = 20, random_state = 0)"
   ]
  },
  {
   "cell_type": "code",
   "execution_count": 902,
   "metadata": {},
   "outputs": [
    {
     "name": "stdout",
     "output_type": "stream",
     "text": [
      "Wall time: 3min 22s\n"
     ]
    },
    {
     "data": {
      "text/plain": [
       "RandomizedSearchCV(cv=TimeSeriesSplit(max_train_size=None, n_splits=5),\n",
       "                   estimator=GradientBoostingRegressor(random_state=0),\n",
       "                   n_iter=20,\n",
       "                   param_distributions={'max_depth': [3, 5, 10, 15],\n",
       "                                        'n_estimators': [50, 100, 200, 500]},\n",
       "                   random_state=0, scoring=make_scorer(mean_absolute_error))"
      ]
     },
     "execution_count": 902,
     "metadata": {},
     "output_type": "execute_result"
    }
   ],
   "source": [
    "%%time\n",
    "randomized_grid_cv.fit(X_train_C3H8, y_train_C3H8)"
   ]
  },
  {
   "cell_type": "code",
   "execution_count": 903,
   "metadata": {},
   "outputs": [
    {
     "data": {
      "text/plain": [
       "GradientBoostingRegressor(max_depth=15, n_estimators=500, random_state=0)"
      ]
     },
     "execution_count": 903,
     "metadata": {},
     "output_type": "execute_result"
    }
   ],
   "source": [
    "randomized_grid_cv.best_estimator_"
   ]
  },
  {
   "cell_type": "code",
   "execution_count": 904,
   "metadata": {},
   "outputs": [
    {
     "name": "stdout",
     "output_type": "stream",
     "text": [
      "2.366790051988395\n",
      "{'n_estimators': 500, 'max_depth': 15}\n"
     ]
    }
   ],
   "source": [
    "print(randomized_grid_cv.best_score_)\n",
    "print(randomized_grid_cv.best_params_)"
   ]
  },
  {
   "cell_type": "code",
   "execution_count": 905,
   "metadata": {},
   "outputs": [
    {
     "data": {
      "text/plain": [
       "1.736412759042659"
      ]
     },
     "execution_count": 905,
     "metadata": {},
     "output_type": "execute_result"
    }
   ],
   "source": [
    "predictions = randomized_grid_cv.predict(X_test_C3H8)\n",
    "metrics.mean_absolute_error(y_test_C3H8, predictions)"
   ]
  },
  {
   "cell_type": "markdown",
   "metadata": {},
   "source": [
    "### iC4H10"
   ]
  },
  {
   "cell_type": "code",
   "execution_count": 906,
   "metadata": {},
   "outputs": [],
   "source": [
    "estimator = GradientBoostingRegressor(random_state=0)\n",
    "estimator.fit(X_train_iC4H10, y_train_iC4H10)\n",
    "predictions = estimator.predict(X_test_iC4H10)"
   ]
  },
  {
   "cell_type": "code",
   "execution_count": 907,
   "metadata": {},
   "outputs": [
    {
     "data": {
      "text/plain": [
       "0.8135903186932548"
      ]
     },
     "execution_count": 907,
     "metadata": {},
     "output_type": "execute_result"
    }
   ],
   "source": [
    "metrics.mean_absolute_error(y_test_iC4H10, predictions)"
   ]
  },
  {
   "cell_type": "code",
   "execution_count": 908,
   "metadata": {},
   "outputs": [
    {
     "name": "stdout",
     "output_type": "stream",
     "text": [
      "GBR (KFold) mean:0.46100688979022963, max:0.932116359286866, min:0.22828301325774616, std:0.25868549217499964\n"
     ]
    }
   ],
   "source": [
    "GBR_scoring = cross_val_score(estimator, X_train_iC4H10, y_train_iC4H10, scoring = scorer, cv = cv_strategy_KFold)\n",
    "print ('GBR (KFold) mean:{}, max:{}, min:{}, std:{}'.format(GBR_scoring .mean(), GBR_scoring .max(), \n",
    "                                                     GBR_scoring .min(), GBR_scoring .std()))"
   ]
  },
  {
   "cell_type": "code",
   "execution_count": 909,
   "metadata": {},
   "outputs": [
    {
     "data": {
      "text/plain": [
       "array([0.53694567, 0.93211636, 0.26310295, 0.22828301, 0.34458645])"
      ]
     },
     "execution_count": 909,
     "metadata": {},
     "output_type": "execute_result"
    }
   ],
   "source": [
    "GBR_scoring"
   ]
  },
  {
   "cell_type": "code",
   "execution_count": 910,
   "metadata": {},
   "outputs": [
    {
     "name": "stdout",
     "output_type": "stream",
     "text": [
      "GBR (TMS) mean:0.9024531933671469, max:2.52973189217762, min:0.22641844303455017, std:0.8763649032090388\n"
     ]
    }
   ],
   "source": [
    "GBR_scoring = cross_val_score(estimator, X_train_iC4H10, y_train_iC4H10, scoring = scorer, cv = cv_strategy_TMS)\n",
    "print ('GBR (TMS) mean:{}, max:{}, min:{}, std:{}'.format(GBR_scoring .mean(), GBR_scoring .max(), \n",
    "                                                     GBR_scoring .min(), GBR_scoring .std()))"
   ]
  },
  {
   "cell_type": "code",
   "execution_count": 911,
   "metadata": {},
   "outputs": [
    {
     "data": {
      "text/plain": [
       "array([2.52973189, 1.11969607, 0.22641844, 0.26749945, 0.36892012])"
      ]
     },
     "execution_count": 911,
     "metadata": {},
     "output_type": "execute_result"
    }
   ],
   "source": [
    "GBR_scoring"
   ]
  },
  {
   "cell_type": "code",
   "execution_count": 912,
   "metadata": {},
   "outputs": [
    {
     "data": {
      "text/plain": [
       "dict_keys(['alpha', 'ccp_alpha', 'criterion', 'init', 'learning_rate', 'loss', 'max_depth', 'max_features', 'max_leaf_nodes', 'min_impurity_decrease', 'min_impurity_split', 'min_samples_leaf', 'min_samples_split', 'min_weight_fraction_leaf', 'n_estimators', 'n_iter_no_change', 'presort', 'random_state', 'subsample', 'tol', 'validation_fraction', 'verbose', 'warm_start'])"
      ]
     },
     "execution_count": 912,
     "metadata": {},
     "output_type": "execute_result"
    }
   ],
   "source": [
    "estimator.get_params().keys()"
   ]
  },
  {
   "cell_type": "code",
   "execution_count": 913,
   "metadata": {},
   "outputs": [],
   "source": [
    "parameters_grid = {\n",
    "    'n_estimators' : [50, 100, 200, 500],\n",
    "    'max_depth' : [3, 5, 10, 15],\n",
    "    \n",
    "}"
   ]
  },
  {
   "cell_type": "code",
   "execution_count": 914,
   "metadata": {},
   "outputs": [],
   "source": [
    "randomized_grid_cv = RandomizedSearchCV(estimator, parameters_grid, scoring = scorer,\n",
    "                                        cv = cv_strategy_KFold, n_iter = 20, random_state = 0)"
   ]
  },
  {
   "cell_type": "code",
   "execution_count": 915,
   "metadata": {},
   "outputs": [
    {
     "name": "stdout",
     "output_type": "stream",
     "text": [
      "Wall time: 5min 6s\n"
     ]
    },
    {
     "data": {
      "text/plain": [
       "RandomizedSearchCV(cv=KFold(n_splits=5, random_state=0, shuffle=False),\n",
       "                   estimator=GradientBoostingRegressor(random_state=0),\n",
       "                   n_iter=20,\n",
       "                   param_distributions={'max_depth': [3, 5, 10, 15],\n",
       "                                        'n_estimators': [50, 100, 200, 500]},\n",
       "                   random_state=0, scoring=make_scorer(mean_absolute_error))"
      ]
     },
     "execution_count": 915,
     "metadata": {},
     "output_type": "execute_result"
    }
   ],
   "source": [
    "%%time\n",
    "randomized_grid_cv.fit(X_train_iC4H10, y_train_iC4H10)"
   ]
  },
  {
   "cell_type": "code",
   "execution_count": 916,
   "metadata": {},
   "outputs": [
    {
     "data": {
      "text/plain": [
       "GradientBoostingRegressor(n_estimators=200, random_state=0)"
      ]
     },
     "execution_count": 916,
     "metadata": {},
     "output_type": "execute_result"
    }
   ],
   "source": [
    "randomized_grid_cv.best_estimator_"
   ]
  },
  {
   "cell_type": "code",
   "execution_count": 917,
   "metadata": {},
   "outputs": [
    {
     "name": "stdout",
     "output_type": "stream",
     "text": [
      "0.4610664105315464\n",
      "{'n_estimators': 200, 'max_depth': 3}\n"
     ]
    }
   ],
   "source": [
    "print(randomized_grid_cv.best_score_)\n",
    "print(randomized_grid_cv.best_params_)"
   ]
  },
  {
   "cell_type": "code",
   "execution_count": 918,
   "metadata": {},
   "outputs": [
    {
     "data": {
      "text/plain": [
       "0.8018972784727917"
      ]
     },
     "execution_count": 918,
     "metadata": {},
     "output_type": "execute_result"
    }
   ],
   "source": [
    "predictions = randomized_grid_cv.predict(X_test_iC4H10)\n",
    "metrics.mean_absolute_error(y_test_iC4H10, predictions)"
   ]
  },
  {
   "cell_type": "code",
   "execution_count": 919,
   "metadata": {},
   "outputs": [],
   "source": [
    "randomized_grid_cv = RandomizedSearchCV(estimator, parameters_grid, scoring = scorer,\n",
    "                                        cv = cv_strategy_TMS, n_iter = 20, random_state = 0)"
   ]
  },
  {
   "cell_type": "code",
   "execution_count": 920,
   "metadata": {},
   "outputs": [
    {
     "name": "stdout",
     "output_type": "stream",
     "text": [
      "Wall time: 3min 1s\n"
     ]
    },
    {
     "data": {
      "text/plain": [
       "RandomizedSearchCV(cv=TimeSeriesSplit(max_train_size=None, n_splits=5),\n",
       "                   estimator=GradientBoostingRegressor(random_state=0),\n",
       "                   n_iter=20,\n",
       "                   param_distributions={'max_depth': [3, 5, 10, 15],\n",
       "                                        'n_estimators': [50, 100, 200, 500]},\n",
       "                   random_state=0, scoring=make_scorer(mean_absolute_error))"
      ]
     },
     "execution_count": 920,
     "metadata": {},
     "output_type": "execute_result"
    }
   ],
   "source": [
    "%%time\n",
    "randomized_grid_cv.fit(X_train_iC4H10, y_train_iC4H10)"
   ]
  },
  {
   "cell_type": "code",
   "execution_count": 921,
   "metadata": {},
   "outputs": [
    {
     "data": {
      "text/plain": [
       "GradientBoostingRegressor(max_depth=15, n_estimators=50, random_state=0)"
      ]
     },
     "execution_count": 921,
     "metadata": {},
     "output_type": "execute_result"
    }
   ],
   "source": [
    "randomized_grid_cv.best_estimator_"
   ]
  },
  {
   "cell_type": "code",
   "execution_count": 922,
   "metadata": {},
   "outputs": [
    {
     "name": "stdout",
     "output_type": "stream",
     "text": [
      "0.9342885467812374\n",
      "{'n_estimators': 50, 'max_depth': 15}\n"
     ]
    }
   ],
   "source": [
    "print(randomized_grid_cv.best_score_)\n",
    "print(randomized_grid_cv.best_params_)"
   ]
  },
  {
   "cell_type": "code",
   "execution_count": 923,
   "metadata": {},
   "outputs": [
    {
     "data": {
      "text/plain": [
       "0.7869643642474926"
      ]
     },
     "execution_count": 923,
     "metadata": {},
     "output_type": "execute_result"
    }
   ],
   "source": [
    "predictions = randomized_grid_cv.predict(X_test_iC4H10)\n",
    "metrics.mean_absolute_error(y_test_iC4H10, predictions)"
   ]
  },
  {
   "cell_type": "markdown",
   "metadata": {},
   "source": [
    "### nC4H10"
   ]
  },
  {
   "cell_type": "code",
   "execution_count": 924,
   "metadata": {},
   "outputs": [],
   "source": [
    "estimator = GradientBoostingRegressor(random_state=0)\n",
    "estimator.fit(X_train_nC4H10, y_train_nC4H10)\n",
    "predictions = estimator.predict(X_test_nC4H10)"
   ]
  },
  {
   "cell_type": "code",
   "execution_count": 925,
   "metadata": {},
   "outputs": [
    {
     "data": {
      "text/plain": [
       "1.100629517796158"
      ]
     },
     "execution_count": 925,
     "metadata": {},
     "output_type": "execute_result"
    }
   ],
   "source": [
    "metrics.mean_absolute_error(y_test_nC4H10, predictions)"
   ]
  },
  {
   "cell_type": "code",
   "execution_count": 926,
   "metadata": {},
   "outputs": [
    {
     "name": "stdout",
     "output_type": "stream",
     "text": [
      "GBR (KFold) mean:0.5325296323627986, max:1.3835332178423243, min:0.1838062130359566, std:0.4334880568705332\n"
     ]
    }
   ],
   "source": [
    "GBR_scoring = cross_val_score(estimator, X_train_nC4H10, y_train_nC4H10, scoring = scorer, cv = cv_strategy_KFold)\n",
    "print ('GBR (KFold) mean:{}, max:{}, min:{}, std:{}'.format(GBR_scoring .mean(), GBR_scoring .max(), \n",
    "                                                     GBR_scoring .min(), GBR_scoring .std()))"
   ]
  },
  {
   "cell_type": "code",
   "execution_count": 927,
   "metadata": {},
   "outputs": [
    {
     "name": "stdout",
     "output_type": "stream",
     "text": [
      "GBR (TMS) mean:1.27207767018252, max:3.5229969350594543, min:0.259252711935195, std:1.2542421178022451\n"
     ]
    }
   ],
   "source": [
    "GBR_scoring = cross_val_score(estimator, X_train_nC4H10, y_train_nC4H10, scoring = scorer, cv = cv_strategy_TMS)\n",
    "print ('GBR (TMS) mean:{}, max:{}, min:{}, std:{}'.format(GBR_scoring .mean(), GBR_scoring .max(), \n",
    "                                                     GBR_scoring .min(), GBR_scoring .std()))"
   ]
  },
  {
   "cell_type": "code",
   "execution_count": 928,
   "metadata": {},
   "outputs": [
    {
     "data": {
      "text/plain": [
       "array([3.52299694, 1.77647706, 0.41820379, 0.25925271, 0.38345786])"
      ]
     },
     "execution_count": 928,
     "metadata": {},
     "output_type": "execute_result"
    }
   ],
   "source": [
    "GBR_scoring"
   ]
  },
  {
   "cell_type": "code",
   "execution_count": 929,
   "metadata": {},
   "outputs": [
    {
     "data": {
      "text/plain": [
       "dict_keys(['alpha', 'ccp_alpha', 'criterion', 'init', 'learning_rate', 'loss', 'max_depth', 'max_features', 'max_leaf_nodes', 'min_impurity_decrease', 'min_impurity_split', 'min_samples_leaf', 'min_samples_split', 'min_weight_fraction_leaf', 'n_estimators', 'n_iter_no_change', 'presort', 'random_state', 'subsample', 'tol', 'validation_fraction', 'verbose', 'warm_start'])"
      ]
     },
     "execution_count": 929,
     "metadata": {},
     "output_type": "execute_result"
    }
   ],
   "source": [
    "estimator.get_params().keys()"
   ]
  },
  {
   "cell_type": "code",
   "execution_count": 930,
   "metadata": {},
   "outputs": [],
   "source": [
    "parameters_grid = {\n",
    "    'n_estimators' : [50, 100, 200, 500],\n",
    "    'max_depth' : [3, 5, 10, 15],\n",
    "    \n",
    "}"
   ]
  },
  {
   "cell_type": "code",
   "execution_count": 931,
   "metadata": {},
   "outputs": [],
   "source": [
    "randomized_grid_cv = RandomizedSearchCV(estimator, parameters_grid, scoring = scorer,\n",
    "                                        cv = cv_strategy_KFold, n_iter = 20, random_state = 0)"
   ]
  },
  {
   "cell_type": "code",
   "execution_count": 932,
   "metadata": {},
   "outputs": [
    {
     "name": "stdout",
     "output_type": "stream",
     "text": [
      "Wall time: 5min 14s\n"
     ]
    },
    {
     "data": {
      "text/plain": [
       "RandomizedSearchCV(cv=KFold(n_splits=5, random_state=0, shuffle=False),\n",
       "                   estimator=GradientBoostingRegressor(random_state=0),\n",
       "                   n_iter=20,\n",
       "                   param_distributions={'max_depth': [3, 5, 10, 15],\n",
       "                                        'n_estimators': [50, 100, 200, 500]},\n",
       "                   random_state=0, scoring=make_scorer(mean_absolute_error))"
      ]
     },
     "execution_count": 932,
     "metadata": {},
     "output_type": "execute_result"
    }
   ],
   "source": [
    "%%time\n",
    "randomized_grid_cv.fit(X_train_nC4H10, y_train_nC4H10)"
   ]
  },
  {
   "cell_type": "code",
   "execution_count": 933,
   "metadata": {},
   "outputs": [
    {
     "data": {
      "text/plain": [
       "GradientBoostingRegressor(max_depth=15, n_estimators=200, random_state=0)"
      ]
     },
     "execution_count": 933,
     "metadata": {},
     "output_type": "execute_result"
    }
   ],
   "source": [
    "randomized_grid_cv.best_estimator_"
   ]
  },
  {
   "cell_type": "code",
   "execution_count": 934,
   "metadata": {},
   "outputs": [
    {
     "name": "stdout",
     "output_type": "stream",
     "text": [
      "0.6118420394467231\n",
      "{'n_estimators': 200, 'max_depth': 15}\n"
     ]
    }
   ],
   "source": [
    "print(randomized_grid_cv.best_score_)\n",
    "print(randomized_grid_cv.best_params_)"
   ]
  },
  {
   "cell_type": "code",
   "execution_count": 935,
   "metadata": {},
   "outputs": [
    {
     "data": {
      "text/plain": [
       "1.0580883144608046"
      ]
     },
     "execution_count": 935,
     "metadata": {},
     "output_type": "execute_result"
    }
   ],
   "source": [
    "predictions = randomized_grid_cv.predict(X_test_nC4H10)\n",
    "metrics.mean_absolute_error(y_test_nC4H10, predictions)"
   ]
  },
  {
   "cell_type": "code",
   "execution_count": 938,
   "metadata": {},
   "outputs": [],
   "source": [
    "randomized_grid_cv = RandomizedSearchCV(estimator, parameters_grid, scoring = scorer, \n",
    "                                        cv = cv_strategy_TMS, n_iter = 20, random_state = 0)"
   ]
  },
  {
   "cell_type": "code",
   "execution_count": 939,
   "metadata": {},
   "outputs": [
    {
     "name": "stdout",
     "output_type": "stream",
     "text": [
      "Wall time: 3min 5s\n"
     ]
    },
    {
     "data": {
      "text/plain": [
       "RandomizedSearchCV(cv=TimeSeriesSplit(max_train_size=None, n_splits=5),\n",
       "                   estimator=GradientBoostingRegressor(random_state=0),\n",
       "                   n_iter=20,\n",
       "                   param_distributions={'max_depth': [3, 5, 10, 15],\n",
       "                                        'n_estimators': [50, 100, 200, 500]},\n",
       "                   random_state=0, scoring=make_scorer(mean_absolute_error))"
      ]
     },
     "execution_count": 939,
     "metadata": {},
     "output_type": "execute_result"
    }
   ],
   "source": [
    "%%time\n",
    "randomized_grid_cv.fit(X_train_nC4H10, y_train_nC4H10)"
   ]
  },
  {
   "cell_type": "code",
   "execution_count": 940,
   "metadata": {},
   "outputs": [
    {
     "data": {
      "text/plain": [
       "GradientBoostingRegressor(max_depth=15, n_estimators=50, random_state=0)"
      ]
     },
     "execution_count": 940,
     "metadata": {},
     "output_type": "execute_result"
    }
   ],
   "source": [
    "randomized_grid_cv.best_estimator_"
   ]
  },
  {
   "cell_type": "code",
   "execution_count": 941,
   "metadata": {},
   "outputs": [
    {
     "name": "stdout",
     "output_type": "stream",
     "text": [
      "1.3239204072767539\n",
      "{'n_estimators': 50, 'max_depth': 15}\n"
     ]
    }
   ],
   "source": [
    "print(randomized_grid_cv.best_score_)\n",
    "print(randomized_grid_cv.best_params_)"
   ]
  },
  {
   "cell_type": "code",
   "execution_count": 942,
   "metadata": {},
   "outputs": [
    {
     "data": {
      "text/plain": [
       "1.059850642124708"
      ]
     },
     "execution_count": 942,
     "metadata": {},
     "output_type": "execute_result"
    }
   ],
   "source": [
    "predictions = randomized_grid_cv.predict(X_test_nC4H10)\n",
    "metrics.mean_absolute_error(y_test_nC4H10, predictions)"
   ]
  },
  {
   "cell_type": "markdown",
   "metadata": {},
   "source": [
    "# Prediction"
   ]
  },
  {
   "cell_type": "code",
   "execution_count": 975,
   "metadata": {},
   "outputs": [],
   "source": [
    "test_data = pd.read_csv('test_data.csv', header = 0, sep = ',')"
   ]
  },
  {
   "cell_type": "code",
   "execution_count": 976,
   "metadata": {},
   "outputs": [
    {
     "data": {
      "text/html": [
       "<div>\n",
       "<style scoped>\n",
       "    .dataframe tbody tr th:only-of-type {\n",
       "        vertical-align: middle;\n",
       "    }\n",
       "\n",
       "    .dataframe tbody tr th {\n",
       "        vertical-align: top;\n",
       "    }\n",
       "\n",
       "    .dataframe thead th {\n",
       "        text-align: right;\n",
       "    }\n",
       "</style>\n",
       "<table border=\"1\" class=\"dataframe\">\n",
       "  <thead>\n",
       "    <tr style=\"text-align: right;\">\n",
       "      <th></th>\n",
       "      <th>A_rate</th>\n",
       "      <th>A_CH4</th>\n",
       "      <th>A_C2H6</th>\n",
       "      <th>A_C3H8</th>\n",
       "      <th>A_iC4H10</th>\n",
       "      <th>A_nC4H10</th>\n",
       "      <th>A_iC5H12</th>\n",
       "      <th>A_nC5H12</th>\n",
       "      <th>A_C6H14</th>\n",
       "      <th>B_rate</th>\n",
       "      <th>month</th>\n",
       "      <th>G_A_CH4</th>\n",
       "      <th>G_A_C2H6</th>\n",
       "      <th>G_A_C3H8</th>\n",
       "      <th>G_A_iC4H10</th>\n",
       "      <th>G_A_nC4H10</th>\n",
       "      <th>G_A_iC5H12</th>\n",
       "      <th>G_A_nC5H12</th>\n",
       "      <th>G_A_C6H14</th>\n",
       "      <th>G_B_C2H6</th>\n",
       "      <th>G_B_C3H8</th>\n",
       "      <th>G_B_iC4H10</th>\n",
       "      <th>G_B_nC4H10</th>\n",
       "      <th>ro_mix_A</th>\n",
       "      <th>mu_mix_A</th>\n",
       "      <th>w_A</th>\n",
       "      <th>Re_A</th>\n",
       "      <th>A_rate**2</th>\n",
       "      <th>sqrt_A_rate</th>\n",
       "      <th>e**A_rate</th>\n",
       "      <th>lg_A_rate</th>\n",
       "      <th>ln_A_rate</th>\n",
       "      <th>B_rate**2</th>\n",
       "      <th>sqrt_B_rate</th>\n",
       "      <th>e**B_rate</th>\n",
       "      <th>Re_A**2</th>\n",
       "      <th>sqrt_Re_A</th>\n",
       "      <th>lg_Re_A</th>\n",
       "      <th>ln_Re_A</th>\n",
       "      <th>Cx_A_C2H6</th>\n",
       "      <th>Cx_A_C3H8</th>\n",
       "      <th>Cx_A_iC4H10</th>\n",
       "      <th>Cx_A_nC4H10</th>\n",
       "      <th>w_prev</th>\n",
       "      <th>Cx_A_C2H6**2</th>\n",
       "      <th>Cx_A_C3H8**2</th>\n",
       "      <th>Cx_A_iC4H10**2</th>\n",
       "      <th>Cx_A_nC4H10**2</th>\n",
       "      <th>Pe_ef_C2H6</th>\n",
       "      <th>Pe_ef_C2H6**2</th>\n",
       "    </tr>\n",
       "  </thead>\n",
       "  <tbody>\n",
       "    <tr>\n",
       "      <th>0</th>\n",
       "      <td>70.488888</td>\n",
       "      <td>0.302244</td>\n",
       "      <td>5.064459</td>\n",
       "      <td>36.147132</td>\n",
       "      <td>16.632641</td>\n",
       "      <td>24.377125</td>\n",
       "      <td>5.890294</td>\n",
       "      <td>5.194408</td>\n",
       "      <td>6.336124</td>\n",
       "      <td>72.601981</td>\n",
       "      <td>4.0</td>\n",
       "      <td>0.213048</td>\n",
       "      <td>3.569881</td>\n",
       "      <td>25.479712</td>\n",
       "      <td>11.724163</td>\n",
       "      <td>17.183164</td>\n",
       "      <td>4.152003</td>\n",
       "      <td>3.661481</td>\n",
       "      <td>4.466263</td>\n",
       "      <td>3.648088</td>\n",
       "      <td>25.981607</td>\n",
       "      <td>11.638576</td>\n",
       "      <td>17.799919</td>\n",
       "      <td>563.169703</td>\n",
       "      <td>0.000150</td>\n",
       "      <td>0.277036</td>\n",
       "      <td>415477.749614</td>\n",
       "      <td>4968.683371</td>\n",
       "      <td>8.395766</td>\n",
       "      <td>4.101429e+30</td>\n",
       "      <td>1.848121</td>\n",
       "      <td>4.255455</td>\n",
       "      <td>5271.047629</td>\n",
       "      <td>8.520680</td>\n",
       "      <td>3.393436e+31</td>\n",
       "      <td>1.726218e+11</td>\n",
       "      <td>644.575635</td>\n",
       "      <td>5.618548</td>\n",
       "      <td>12.937184</td>\n",
       "      <td>0.068488</td>\n",
       "      <td>0.526622</td>\n",
       "      <td>-0.091283</td>\n",
       "      <td>0.596711</td>\n",
       "      <td>0.276608</td>\n",
       "      <td>0.004691</td>\n",
       "      <td>0.277331</td>\n",
       "      <td>0.008333</td>\n",
       "      <td>0.356064</td>\n",
       "      <td>0.07058</td>\n",
       "      <td>0.004981</td>\n",
       "    </tr>\n",
       "    <tr>\n",
       "      <th>1</th>\n",
       "      <td>71.428342</td>\n",
       "      <td>0.267832</td>\n",
       "      <td>5.135159</td>\n",
       "      <td>36.816480</td>\n",
       "      <td>16.632260</td>\n",
       "      <td>24.062587</td>\n",
       "      <td>5.696004</td>\n",
       "      <td>4.939430</td>\n",
       "      <td>6.395286</td>\n",
       "      <td>74.273009</td>\n",
       "      <td>5.0</td>\n",
       "      <td>0.191308</td>\n",
       "      <td>3.667959</td>\n",
       "      <td>26.297401</td>\n",
       "      <td>11.880148</td>\n",
       "      <td>17.187507</td>\n",
       "      <td>4.068561</td>\n",
       "      <td>3.528153</td>\n",
       "      <td>4.568047</td>\n",
       "      <td>NaN</td>\n",
       "      <td>NaN</td>\n",
       "      <td>NaN</td>\n",
       "      <td>NaN</td>\n",
       "      <td>562.574167</td>\n",
       "      <td>0.000151</td>\n",
       "      <td>0.281026</td>\n",
       "      <td>419019.690291</td>\n",
       "      <td>5102.008078</td>\n",
       "      <td>8.451529</td>\n",
       "      <td>1.049385e+31</td>\n",
       "      <td>1.853871</td>\n",
       "      <td>4.268695</td>\n",
       "      <td>5516.479837</td>\n",
       "      <td>8.618179</td>\n",
       "      <td>1.804504e+32</td>\n",
       "      <td>1.755775e+11</td>\n",
       "      <td>647.317303</td>\n",
       "      <td>5.622234</td>\n",
       "      <td>12.945673</td>\n",
       "      <td>NaN</td>\n",
       "      <td>NaN</td>\n",
       "      <td>NaN</td>\n",
       "      <td>NaN</td>\n",
       "      <td>NaN</td>\n",
       "      <td>NaN</td>\n",
       "      <td>NaN</td>\n",
       "      <td>NaN</td>\n",
       "      <td>NaN</td>\n",
       "      <td>NaN</td>\n",
       "      <td>NaN</td>\n",
       "    </tr>\n",
       "    <tr>\n",
       "      <th>2</th>\n",
       "      <td>71.176730</td>\n",
       "      <td>0.268148</td>\n",
       "      <td>5.142402</td>\n",
       "      <td>36.842752</td>\n",
       "      <td>16.642065</td>\n",
       "      <td>24.066193</td>\n",
       "      <td>5.686194</td>\n",
       "      <td>4.925651</td>\n",
       "      <td>6.371121</td>\n",
       "      <td>74.167421</td>\n",
       "      <td>5.0</td>\n",
       "      <td>0.190859</td>\n",
       "      <td>3.660194</td>\n",
       "      <td>26.223466</td>\n",
       "      <td>11.845278</td>\n",
       "      <td>17.129529</td>\n",
       "      <td>4.047247</td>\n",
       "      <td>3.505918</td>\n",
       "      <td>4.534756</td>\n",
       "      <td>NaN</td>\n",
       "      <td>NaN</td>\n",
       "      <td>NaN</td>\n",
       "      <td>NaN</td>\n",
       "      <td>562.513894</td>\n",
       "      <td>0.000151</td>\n",
       "      <td>0.280066</td>\n",
       "      <td>417716.031332</td>\n",
       "      <td>5066.126880</td>\n",
       "      <td>8.436630</td>\n",
       "      <td>8.159453e+30</td>\n",
       "      <td>1.852338</td>\n",
       "      <td>4.265166</td>\n",
       "      <td>5500.806318</td>\n",
       "      <td>8.612051</td>\n",
       "      <td>1.623684e+32</td>\n",
       "      <td>1.744867e+11</td>\n",
       "      <td>646.309548</td>\n",
       "      <td>5.620881</td>\n",
       "      <td>12.942557</td>\n",
       "      <td>NaN</td>\n",
       "      <td>NaN</td>\n",
       "      <td>NaN</td>\n",
       "      <td>NaN</td>\n",
       "      <td>NaN</td>\n",
       "      <td>NaN</td>\n",
       "      <td>NaN</td>\n",
       "      <td>NaN</td>\n",
       "      <td>NaN</td>\n",
       "      <td>NaN</td>\n",
       "      <td>NaN</td>\n",
       "    </tr>\n",
       "    <tr>\n",
       "      <th>3</th>\n",
       "      <td>71.115060</td>\n",
       "      <td>0.268979</td>\n",
       "      <td>5.146473</td>\n",
       "      <td>36.920156</td>\n",
       "      <td>16.665032</td>\n",
       "      <td>24.079513</td>\n",
       "      <td>5.649087</td>\n",
       "      <td>4.886606</td>\n",
       "      <td>6.328293</td>\n",
       "      <td>74.063703</td>\n",
       "      <td>5.0</td>\n",
       "      <td>0.191285</td>\n",
       "      <td>3.659918</td>\n",
       "      <td>26.255791</td>\n",
       "      <td>11.851348</td>\n",
       "      <td>17.124160</td>\n",
       "      <td>4.017352</td>\n",
       "      <td>3.475113</td>\n",
       "      <td>4.500369</td>\n",
       "      <td>NaN</td>\n",
       "      <td>NaN</td>\n",
       "      <td>NaN</td>\n",
       "      <td>NaN</td>\n",
       "      <td>562.390951</td>\n",
       "      <td>0.000151</td>\n",
       "      <td>0.279884</td>\n",
       "      <td>417677.086653</td>\n",
       "      <td>5057.351702</td>\n",
       "      <td>8.432975</td>\n",
       "      <td>7.671459e+30</td>\n",
       "      <td>1.851962</td>\n",
       "      <td>4.264299</td>\n",
       "      <td>5485.432125</td>\n",
       "      <td>8.606027</td>\n",
       "      <td>1.463719e+32</td>\n",
       "      <td>1.744541e+11</td>\n",
       "      <td>646.279418</td>\n",
       "      <td>5.620841</td>\n",
       "      <td>12.942464</td>\n",
       "      <td>NaN</td>\n",
       "      <td>NaN</td>\n",
       "      <td>NaN</td>\n",
       "      <td>NaN</td>\n",
       "      <td>NaN</td>\n",
       "      <td>NaN</td>\n",
       "      <td>NaN</td>\n",
       "      <td>NaN</td>\n",
       "      <td>NaN</td>\n",
       "      <td>NaN</td>\n",
       "      <td>NaN</td>\n",
       "    </tr>\n",
       "    <tr>\n",
       "      <th>4</th>\n",
       "      <td>71.079396</td>\n",
       "      <td>0.270545</td>\n",
       "      <td>5.167520</td>\n",
       "      <td>37.036162</td>\n",
       "      <td>16.669608</td>\n",
       "      <td>24.065133</td>\n",
       "      <td>5.615526</td>\n",
       "      <td>4.847676</td>\n",
       "      <td>6.271631</td>\n",
       "      <td>73.985463</td>\n",
       "      <td>5.0</td>\n",
       "      <td>0.192301</td>\n",
       "      <td>3.673042</td>\n",
       "      <td>26.325080</td>\n",
       "      <td>11.848657</td>\n",
       "      <td>17.105351</td>\n",
       "      <td>3.991482</td>\n",
       "      <td>3.445699</td>\n",
       "      <td>4.457838</td>\n",
       "      <td>NaN</td>\n",
       "      <td>NaN</td>\n",
       "      <td>NaN</td>\n",
       "      <td>NaN</td>\n",
       "      <td>562.189616</td>\n",
       "      <td>0.000151</td>\n",
       "      <td>0.279844</td>\n",
       "      <td>418092.480177</td>\n",
       "      <td>5052.280554</td>\n",
       "      <td>8.430860</td>\n",
       "      <td>7.402689e+30</td>\n",
       "      <td>1.851744</td>\n",
       "      <td>4.263798</td>\n",
       "      <td>5473.848776</td>\n",
       "      <td>8.601480</td>\n",
       "      <td>1.353563e+32</td>\n",
       "      <td>1.748013e+11</td>\n",
       "      <td>646.600712</td>\n",
       "      <td>5.621272</td>\n",
       "      <td>12.943458</td>\n",
       "      <td>NaN</td>\n",
       "      <td>NaN</td>\n",
       "      <td>NaN</td>\n",
       "      <td>NaN</td>\n",
       "      <td>NaN</td>\n",
       "      <td>NaN</td>\n",
       "      <td>NaN</td>\n",
       "      <td>NaN</td>\n",
       "      <td>NaN</td>\n",
       "      <td>NaN</td>\n",
       "      <td>NaN</td>\n",
       "    </tr>\n",
       "    <tr>\n",
       "      <th>...</th>\n",
       "      <td>...</td>\n",
       "      <td>...</td>\n",
       "      <td>...</td>\n",
       "      <td>...</td>\n",
       "      <td>...</td>\n",
       "      <td>...</td>\n",
       "      <td>...</td>\n",
       "      <td>...</td>\n",
       "      <td>...</td>\n",
       "      <td>...</td>\n",
       "      <td>...</td>\n",
       "      <td>...</td>\n",
       "      <td>...</td>\n",
       "      <td>...</td>\n",
       "      <td>...</td>\n",
       "      <td>...</td>\n",
       "      <td>...</td>\n",
       "      <td>...</td>\n",
       "      <td>...</td>\n",
       "      <td>...</td>\n",
       "      <td>...</td>\n",
       "      <td>...</td>\n",
       "      <td>...</td>\n",
       "      <td>...</td>\n",
       "      <td>...</td>\n",
       "      <td>...</td>\n",
       "      <td>...</td>\n",
       "      <td>...</td>\n",
       "      <td>...</td>\n",
       "      <td>...</td>\n",
       "      <td>...</td>\n",
       "      <td>...</td>\n",
       "      <td>...</td>\n",
       "      <td>...</td>\n",
       "      <td>...</td>\n",
       "      <td>...</td>\n",
       "      <td>...</td>\n",
       "      <td>...</td>\n",
       "      <td>...</td>\n",
       "      <td>...</td>\n",
       "      <td>...</td>\n",
       "      <td>...</td>\n",
       "      <td>...</td>\n",
       "      <td>...</td>\n",
       "      <td>...</td>\n",
       "      <td>...</td>\n",
       "      <td>...</td>\n",
       "      <td>...</td>\n",
       "      <td>...</td>\n",
       "      <td>...</td>\n",
       "    </tr>\n",
       "    <tr>\n",
       "      <th>3980</th>\n",
       "      <td>68.304891</td>\n",
       "      <td>0.119512</td>\n",
       "      <td>4.025974</td>\n",
       "      <td>39.598743</td>\n",
       "      <td>17.690124</td>\n",
       "      <td>24.125104</td>\n",
       "      <td>4.584583</td>\n",
       "      <td>3.754411</td>\n",
       "      <td>6.050439</td>\n",
       "      <td>71.147451</td>\n",
       "      <td>7.0</td>\n",
       "      <td>0.081633</td>\n",
       "      <td>2.749937</td>\n",
       "      <td>27.047878</td>\n",
       "      <td>12.083220</td>\n",
       "      <td>16.478626</td>\n",
       "      <td>3.131494</td>\n",
       "      <td>2.564446</td>\n",
       "      <td>4.132746</td>\n",
       "      <td>NaN</td>\n",
       "      <td>NaN</td>\n",
       "      <td>NaN</td>\n",
       "      <td>NaN</td>\n",
       "      <td>563.020705</td>\n",
       "      <td>0.000159</td>\n",
       "      <td>0.268524</td>\n",
       "      <td>380844.777764</td>\n",
       "      <td>4665.558100</td>\n",
       "      <td>8.264677</td>\n",
       "      <td>4.617821e+29</td>\n",
       "      <td>1.834452</td>\n",
       "      <td>4.223981</td>\n",
       "      <td>5061.959773</td>\n",
       "      <td>8.434895</td>\n",
       "      <td>7.924016e+30</td>\n",
       "      <td>1.450427e+11</td>\n",
       "      <td>617.126225</td>\n",
       "      <td>5.580748</td>\n",
       "      <td>12.850147</td>\n",
       "      <td>NaN</td>\n",
       "      <td>NaN</td>\n",
       "      <td>NaN</td>\n",
       "      <td>NaN</td>\n",
       "      <td>NaN</td>\n",
       "      <td>NaN</td>\n",
       "      <td>NaN</td>\n",
       "      <td>NaN</td>\n",
       "      <td>NaN</td>\n",
       "      <td>NaN</td>\n",
       "      <td>NaN</td>\n",
       "    </tr>\n",
       "    <tr>\n",
       "      <th>3981</th>\n",
       "      <td>68.632519</td>\n",
       "      <td>0.119121</td>\n",
       "      <td>4.015950</td>\n",
       "      <td>39.536427</td>\n",
       "      <td>17.662900</td>\n",
       "      <td>24.111860</td>\n",
       "      <td>4.598629</td>\n",
       "      <td>3.773469</td>\n",
       "      <td>6.130404</td>\n",
       "      <td>71.256112</td>\n",
       "      <td>7.0</td>\n",
       "      <td>0.081756</td>\n",
       "      <td>2.756247</td>\n",
       "      <td>27.134846</td>\n",
       "      <td>12.122493</td>\n",
       "      <td>16.548577</td>\n",
       "      <td>3.156155</td>\n",
       "      <td>2.589827</td>\n",
       "      <td>4.207451</td>\n",
       "      <td>NaN</td>\n",
       "      <td>NaN</td>\n",
       "      <td>NaN</td>\n",
       "      <td>NaN</td>\n",
       "      <td>563.157117</td>\n",
       "      <td>0.000159</td>\n",
       "      <td>0.269746</td>\n",
       "      <td>382368.259444</td>\n",
       "      <td>4710.422705</td>\n",
       "      <td>8.284475</td>\n",
       "      <td>6.408028e+29</td>\n",
       "      <td>1.836530</td>\n",
       "      <td>4.228766</td>\n",
       "      <td>5077.433495</td>\n",
       "      <td>8.441334</td>\n",
       "      <td>8.833570e+30</td>\n",
       "      <td>1.462055e+11</td>\n",
       "      <td>618.359329</td>\n",
       "      <td>5.582482</td>\n",
       "      <td>12.854139</td>\n",
       "      <td>NaN</td>\n",
       "      <td>NaN</td>\n",
       "      <td>NaN</td>\n",
       "      <td>NaN</td>\n",
       "      <td>NaN</td>\n",
       "      <td>NaN</td>\n",
       "      <td>NaN</td>\n",
       "      <td>NaN</td>\n",
       "      <td>NaN</td>\n",
       "      <td>NaN</td>\n",
       "      <td>NaN</td>\n",
       "    </tr>\n",
       "    <tr>\n",
       "      <th>3982</th>\n",
       "      <td>69.834182</td>\n",
       "      <td>0.118976</td>\n",
       "      <td>4.002939</td>\n",
       "      <td>39.496366</td>\n",
       "      <td>17.645730</td>\n",
       "      <td>24.110723</td>\n",
       "      <td>4.610501</td>\n",
       "      <td>3.788795</td>\n",
       "      <td>6.174530</td>\n",
       "      <td>71.607384</td>\n",
       "      <td>7.0</td>\n",
       "      <td>0.083086</td>\n",
       "      <td>2.795420</td>\n",
       "      <td>27.581964</td>\n",
       "      <td>12.322751</td>\n",
       "      <td>16.837526</td>\n",
       "      <td>3.219705</td>\n",
       "      <td>2.645874</td>\n",
       "      <td>4.311932</td>\n",
       "      <td>NaN</td>\n",
       "      <td>NaN</td>\n",
       "      <td>NaN</td>\n",
       "      <td>NaN</td>\n",
       "      <td>563.259337</td>\n",
       "      <td>0.000159</td>\n",
       "      <td>0.274419</td>\n",
       "      <td>388821.338979</td>\n",
       "      <td>4876.812974</td>\n",
       "      <td>8.356685</td>\n",
       "      <td>2.131081e+30</td>\n",
       "      <td>1.844068</td>\n",
       "      <td>4.246124</td>\n",
       "      <td>5127.617512</td>\n",
       "      <td>8.462115</td>\n",
       "      <td>1.255139e+31</td>\n",
       "      <td>1.511820e+11</td>\n",
       "      <td>623.555402</td>\n",
       "      <td>5.589750</td>\n",
       "      <td>12.870875</td>\n",
       "      <td>NaN</td>\n",
       "      <td>NaN</td>\n",
       "      <td>NaN</td>\n",
       "      <td>NaN</td>\n",
       "      <td>NaN</td>\n",
       "      <td>NaN</td>\n",
       "      <td>NaN</td>\n",
       "      <td>NaN</td>\n",
       "      <td>NaN</td>\n",
       "      <td>NaN</td>\n",
       "      <td>NaN</td>\n",
       "    </tr>\n",
       "    <tr>\n",
       "      <th>3983</th>\n",
       "      <td>71.735081</td>\n",
       "      <td>0.119308</td>\n",
       "      <td>3.991399</td>\n",
       "      <td>39.479565</td>\n",
       "      <td>17.635418</td>\n",
       "      <td>24.113394</td>\n",
       "      <td>4.617921</td>\n",
       "      <td>3.798771</td>\n",
       "      <td>6.192439</td>\n",
       "      <td>72.582642</td>\n",
       "      <td>7.0</td>\n",
       "      <td>0.085586</td>\n",
       "      <td>2.863233</td>\n",
       "      <td>28.320698</td>\n",
       "      <td>12.650781</td>\n",
       "      <td>17.297763</td>\n",
       "      <td>3.312669</td>\n",
       "      <td>2.725052</td>\n",
       "      <td>4.442151</td>\n",
       "      <td>NaN</td>\n",
       "      <td>NaN</td>\n",
       "      <td>NaN</td>\n",
       "      <td>NaN</td>\n",
       "      <td>563.319351</td>\n",
       "      <td>0.000159</td>\n",
       "      <td>0.281859</td>\n",
       "      <td>399288.163412</td>\n",
       "      <td>5145.921826</td>\n",
       "      <td>8.469656</td>\n",
       "      <td>1.426099e+31</td>\n",
       "      <td>1.855732</td>\n",
       "      <td>4.272980</td>\n",
       "      <td>5268.239886</td>\n",
       "      <td>8.519545</td>\n",
       "      <td>3.328441e+31</td>\n",
       "      <td>1.594310e+11</td>\n",
       "      <td>631.892525</td>\n",
       "      <td>5.601286</td>\n",
       "      <td>12.897439</td>\n",
       "      <td>NaN</td>\n",
       "      <td>NaN</td>\n",
       "      <td>NaN</td>\n",
       "      <td>NaN</td>\n",
       "      <td>NaN</td>\n",
       "      <td>NaN</td>\n",
       "      <td>NaN</td>\n",
       "      <td>NaN</td>\n",
       "      <td>NaN</td>\n",
       "      <td>NaN</td>\n",
       "      <td>NaN</td>\n",
       "    </tr>\n",
       "    <tr>\n",
       "      <th>3984</th>\n",
       "      <td>72.741092</td>\n",
       "      <td>0.120283</td>\n",
       "      <td>3.998443</td>\n",
       "      <td>39.627151</td>\n",
       "      <td>17.650079</td>\n",
       "      <td>24.115738</td>\n",
       "      <td>4.596188</td>\n",
       "      <td>3.772929</td>\n",
       "      <td>6.066762</td>\n",
       "      <td>73.808644</td>\n",
       "      <td>7.0</td>\n",
       "      <td>0.087495</td>\n",
       "      <td>2.908511</td>\n",
       "      <td>28.825223</td>\n",
       "      <td>12.838860</td>\n",
       "      <td>17.542051</td>\n",
       "      <td>3.343317</td>\n",
       "      <td>2.744470</td>\n",
       "      <td>4.413029</td>\n",
       "      <td>NaN</td>\n",
       "      <td>NaN</td>\n",
       "      <td>NaN</td>\n",
       "      <td>NaN</td>\n",
       "      <td>563.101145</td>\n",
       "      <td>0.000159</td>\n",
       "      <td>0.285923</td>\n",
       "      <td>405435.375734</td>\n",
       "      <td>5291.266535</td>\n",
       "      <td>8.528839</td>\n",
       "      <td>3.899914e+31</td>\n",
       "      <td>1.861780</td>\n",
       "      <td>4.286906</td>\n",
       "      <td>5447.715933</td>\n",
       "      <td>8.591196</td>\n",
       "      <td>1.134193e+32</td>\n",
       "      <td>1.643778e+11</td>\n",
       "      <td>636.738075</td>\n",
       "      <td>5.607922</td>\n",
       "      <td>12.912717</td>\n",
       "      <td>NaN</td>\n",
       "      <td>NaN</td>\n",
       "      <td>NaN</td>\n",
       "      <td>NaN</td>\n",
       "      <td>NaN</td>\n",
       "      <td>NaN</td>\n",
       "      <td>NaN</td>\n",
       "      <td>NaN</td>\n",
       "      <td>NaN</td>\n",
       "      <td>NaN</td>\n",
       "      <td>NaN</td>\n",
       "    </tr>\n",
       "  </tbody>\n",
       "</table>\n",
       "<p>3985 rows × 50 columns</p>\n",
       "</div>"
      ],
      "text/plain": [
       "         A_rate     A_CH4    A_C2H6     A_C3H8   A_iC4H10   A_nC4H10  \\\n",
       "0     70.488888  0.302244  5.064459  36.147132  16.632641  24.377125   \n",
       "1     71.428342  0.267832  5.135159  36.816480  16.632260  24.062587   \n",
       "2     71.176730  0.268148  5.142402  36.842752  16.642065  24.066193   \n",
       "3     71.115060  0.268979  5.146473  36.920156  16.665032  24.079513   \n",
       "4     71.079396  0.270545  5.167520  37.036162  16.669608  24.065133   \n",
       "...         ...       ...       ...        ...        ...        ...   \n",
       "3980  68.304891  0.119512  4.025974  39.598743  17.690124  24.125104   \n",
       "3981  68.632519  0.119121  4.015950  39.536427  17.662900  24.111860   \n",
       "3982  69.834182  0.118976  4.002939  39.496366  17.645730  24.110723   \n",
       "3983  71.735081  0.119308  3.991399  39.479565  17.635418  24.113394   \n",
       "3984  72.741092  0.120283  3.998443  39.627151  17.650079  24.115738   \n",
       "\n",
       "      A_iC5H12  A_nC5H12   A_C6H14     B_rate  month   G_A_CH4  G_A_C2H6  \\\n",
       "0     5.890294  5.194408  6.336124  72.601981    4.0  0.213048  3.569881   \n",
       "1     5.696004  4.939430  6.395286  74.273009    5.0  0.191308  3.667959   \n",
       "2     5.686194  4.925651  6.371121  74.167421    5.0  0.190859  3.660194   \n",
       "3     5.649087  4.886606  6.328293  74.063703    5.0  0.191285  3.659918   \n",
       "4     5.615526  4.847676  6.271631  73.985463    5.0  0.192301  3.673042   \n",
       "...        ...       ...       ...        ...    ...       ...       ...   \n",
       "3980  4.584583  3.754411  6.050439  71.147451    7.0  0.081633  2.749937   \n",
       "3981  4.598629  3.773469  6.130404  71.256112    7.0  0.081756  2.756247   \n",
       "3982  4.610501  3.788795  6.174530  71.607384    7.0  0.083086  2.795420   \n",
       "3983  4.617921  3.798771  6.192439  72.582642    7.0  0.085586  2.863233   \n",
       "3984  4.596188  3.772929  6.066762  73.808644    7.0  0.087495  2.908511   \n",
       "\n",
       "       G_A_C3H8  G_A_iC4H10  G_A_nC4H10  G_A_iC5H12  G_A_nC5H12  G_A_C6H14  \\\n",
       "0     25.479712   11.724163   17.183164    4.152003    3.661481   4.466263   \n",
       "1     26.297401   11.880148   17.187507    4.068561    3.528153   4.568047   \n",
       "2     26.223466   11.845278   17.129529    4.047247    3.505918   4.534756   \n",
       "3     26.255791   11.851348   17.124160    4.017352    3.475113   4.500369   \n",
       "4     26.325080   11.848657   17.105351    3.991482    3.445699   4.457838   \n",
       "...         ...         ...         ...         ...         ...        ...   \n",
       "3980  27.047878   12.083220   16.478626    3.131494    2.564446   4.132746   \n",
       "3981  27.134846   12.122493   16.548577    3.156155    2.589827   4.207451   \n",
       "3982  27.581964   12.322751   16.837526    3.219705    2.645874   4.311932   \n",
       "3983  28.320698   12.650781   17.297763    3.312669    2.725052   4.442151   \n",
       "3984  28.825223   12.838860   17.542051    3.343317    2.744470   4.413029   \n",
       "\n",
       "      G_B_C2H6   G_B_C3H8  G_B_iC4H10  G_B_nC4H10    ro_mix_A  mu_mix_A  \\\n",
       "0     3.648088  25.981607   11.638576   17.799919  563.169703  0.000150   \n",
       "1          NaN        NaN         NaN         NaN  562.574167  0.000151   \n",
       "2          NaN        NaN         NaN         NaN  562.513894  0.000151   \n",
       "3          NaN        NaN         NaN         NaN  562.390951  0.000151   \n",
       "4          NaN        NaN         NaN         NaN  562.189616  0.000151   \n",
       "...        ...        ...         ...         ...         ...       ...   \n",
       "3980       NaN        NaN         NaN         NaN  563.020705  0.000159   \n",
       "3981       NaN        NaN         NaN         NaN  563.157117  0.000159   \n",
       "3982       NaN        NaN         NaN         NaN  563.259337  0.000159   \n",
       "3983       NaN        NaN         NaN         NaN  563.319351  0.000159   \n",
       "3984       NaN        NaN         NaN         NaN  563.101145  0.000159   \n",
       "\n",
       "           w_A           Re_A    A_rate**2  sqrt_A_rate     e**A_rate  \\\n",
       "0     0.277036  415477.749614  4968.683371     8.395766  4.101429e+30   \n",
       "1     0.281026  419019.690291  5102.008078     8.451529  1.049385e+31   \n",
       "2     0.280066  417716.031332  5066.126880     8.436630  8.159453e+30   \n",
       "3     0.279884  417677.086653  5057.351702     8.432975  7.671459e+30   \n",
       "4     0.279844  418092.480177  5052.280554     8.430860  7.402689e+30   \n",
       "...        ...            ...          ...          ...           ...   \n",
       "3980  0.268524  380844.777764  4665.558100     8.264677  4.617821e+29   \n",
       "3981  0.269746  382368.259444  4710.422705     8.284475  6.408028e+29   \n",
       "3982  0.274419  388821.338979  4876.812974     8.356685  2.131081e+30   \n",
       "3983  0.281859  399288.163412  5145.921826     8.469656  1.426099e+31   \n",
       "3984  0.285923  405435.375734  5291.266535     8.528839  3.899914e+31   \n",
       "\n",
       "      lg_A_rate  ln_A_rate    B_rate**2  sqrt_B_rate     e**B_rate  \\\n",
       "0      1.848121   4.255455  5271.047629     8.520680  3.393436e+31   \n",
       "1      1.853871   4.268695  5516.479837     8.618179  1.804504e+32   \n",
       "2      1.852338   4.265166  5500.806318     8.612051  1.623684e+32   \n",
       "3      1.851962   4.264299  5485.432125     8.606027  1.463719e+32   \n",
       "4      1.851744   4.263798  5473.848776     8.601480  1.353563e+32   \n",
       "...         ...        ...          ...          ...           ...   \n",
       "3980   1.834452   4.223981  5061.959773     8.434895  7.924016e+30   \n",
       "3981   1.836530   4.228766  5077.433495     8.441334  8.833570e+30   \n",
       "3982   1.844068   4.246124  5127.617512     8.462115  1.255139e+31   \n",
       "3983   1.855732   4.272980  5268.239886     8.519545  3.328441e+31   \n",
       "3984   1.861780   4.286906  5447.715933     8.591196  1.134193e+32   \n",
       "\n",
       "           Re_A**2   sqrt_Re_A   lg_Re_A    ln_Re_A  Cx_A_C2H6  Cx_A_C3H8  \\\n",
       "0     1.726218e+11  644.575635  5.618548  12.937184   0.068488   0.526622   \n",
       "1     1.755775e+11  647.317303  5.622234  12.945673        NaN        NaN   \n",
       "2     1.744867e+11  646.309548  5.620881  12.942557        NaN        NaN   \n",
       "3     1.744541e+11  646.279418  5.620841  12.942464        NaN        NaN   \n",
       "4     1.748013e+11  646.600712  5.621272  12.943458        NaN        NaN   \n",
       "...            ...         ...       ...        ...        ...        ...   \n",
       "3980  1.450427e+11  617.126225  5.580748  12.850147        NaN        NaN   \n",
       "3981  1.462055e+11  618.359329  5.582482  12.854139        NaN        NaN   \n",
       "3982  1.511820e+11  623.555402  5.589750  12.870875        NaN        NaN   \n",
       "3983  1.594310e+11  631.892525  5.601286  12.897439        NaN        NaN   \n",
       "3984  1.643778e+11  636.738075  5.607922  12.912717        NaN        NaN   \n",
       "\n",
       "      Cx_A_iC4H10  Cx_A_nC4H10    w_prev  Cx_A_C2H6**2  Cx_A_C3H8**2  \\\n",
       "0       -0.091283     0.596711  0.276608      0.004691      0.277331   \n",
       "1             NaN          NaN       NaN           NaN           NaN   \n",
       "2             NaN          NaN       NaN           NaN           NaN   \n",
       "3             NaN          NaN       NaN           NaN           NaN   \n",
       "4             NaN          NaN       NaN           NaN           NaN   \n",
       "...           ...          ...       ...           ...           ...   \n",
       "3980          NaN          NaN       NaN           NaN           NaN   \n",
       "3981          NaN          NaN       NaN           NaN           NaN   \n",
       "3982          NaN          NaN       NaN           NaN           NaN   \n",
       "3983          NaN          NaN       NaN           NaN           NaN   \n",
       "3984          NaN          NaN       NaN           NaN           NaN   \n",
       "\n",
       "      Cx_A_iC4H10**2  Cx_A_nC4H10**2  Pe_ef_C2H6  Pe_ef_C2H6**2  \n",
       "0           0.008333        0.356064     0.07058       0.004981  \n",
       "1                NaN             NaN         NaN            NaN  \n",
       "2                NaN             NaN         NaN            NaN  \n",
       "3                NaN             NaN         NaN            NaN  \n",
       "4                NaN             NaN         NaN            NaN  \n",
       "...              ...             ...         ...            ...  \n",
       "3980             NaN             NaN         NaN            NaN  \n",
       "3981             NaN             NaN         NaN            NaN  \n",
       "3982             NaN             NaN         NaN            NaN  \n",
       "3983             NaN             NaN         NaN            NaN  \n",
       "3984             NaN             NaN         NaN            NaN  \n",
       "\n",
       "[3985 rows x 50 columns]"
      ]
     },
     "execution_count": 976,
     "metadata": {},
     "output_type": "execute_result"
    }
   ],
   "source": [
    "test_data"
   ]
  },
  {
   "cell_type": "code",
   "execution_count": 977,
   "metadata": {},
   "outputs": [
    {
     "data": {
      "text/plain": [
       "GradientBoostingRegressor(random_state=0)"
      ]
     },
     "execution_count": 977,
     "metadata": {},
     "output_type": "execute_result"
    }
   ],
   "source": [
    "rg_C2H6 = linear_model.LinearRegression()\n",
    "rg_C2H6.fit(X_train_C2H6, y_train_C2H6)\n",
    "\n",
    "rg_C3H8 = linear_model.SGDRegressor(shuffle=False, tol=1.5, power_t=0.2, penalty='l2',\n",
    "                                    eta0= 0.05, alpha= 0.001, random_state=0)\n",
    "rg_C3H8.fit(X_train_C3H8, y_train_C3H8)\n",
    "\n",
    "rg_iC4H10 = linear_model.SGDRegressor(shuffle=False, tol=0.5, power_t=0.25, penalty='l2',\n",
    "                                    eta0= 0.05, alpha= 0.001, random_state=0)\n",
    "rg_iC4H10.fit(X_train_iC4H10, y_train_iC4H10)\n",
    "\n",
    "rg_nC4H10 = GradientBoostingRegressor(random_state=0)\n",
    "rg_nC4H10.fit(X_train_nC4H10, y_train_nC4H10)"
   ]
  },
  {
   "cell_type": "code",
   "execution_count": 978,
   "metadata": {},
   "outputs": [
    {
     "name": "stdout",
     "output_type": "stream",
     "text": [
      "1\n",
      "2\n",
      "3\n",
      "4\n",
      "5\n",
      "6\n",
      "7\n",
      "8\n",
      "9\n",
      "10\n",
      "11\n",
      "12\n",
      "13\n",
      "14\n",
      "15\n",
      "16\n",
      "17\n",
      "18\n",
      "19\n",
      "20\n",
      "21\n",
      "22\n",
      "23\n",
      "24\n",
      "25\n",
      "26\n",
      "27\n",
      "28\n",
      "29\n",
      "30\n",
      "31\n",
      "32\n",
      "33\n",
      "34\n",
      "35\n",
      "36\n",
      "37\n",
      "38\n",
      "39\n",
      "40\n",
      "41\n",
      "42\n",
      "43\n",
      "44\n",
      "45\n",
      "46\n",
      "47\n",
      "48\n",
      "49\n",
      "50\n",
      "51\n",
      "52\n",
      "53\n",
      "54\n",
      "55\n",
      "56\n",
      "57\n",
      "58\n",
      "59\n",
      "60\n",
      "61\n",
      "62\n",
      "63\n",
      "64\n",
      "65\n",
      "66\n",
      "67\n",
      "68\n",
      "69\n",
      "70\n",
      "71\n",
      "72\n",
      "73\n",
      "74\n",
      "75\n",
      "76\n",
      "77\n",
      "78\n",
      "79\n",
      "80\n",
      "81\n",
      "82\n",
      "83\n",
      "84\n",
      "85\n",
      "86\n",
      "87\n",
      "88\n",
      "89\n",
      "90\n",
      "91\n",
      "92\n",
      "93\n",
      "94\n",
      "95\n",
      "96\n",
      "97\n",
      "98\n",
      "99\n",
      "100\n",
      "101\n",
      "102\n",
      "103\n",
      "104\n",
      "105\n",
      "106\n",
      "107\n",
      "108\n",
      "109\n",
      "110\n",
      "111\n",
      "112\n",
      "113\n",
      "114\n",
      "115\n",
      "116\n",
      "117\n",
      "118\n",
      "119\n",
      "120\n",
      "121\n",
      "122\n",
      "123\n",
      "124\n",
      "125\n",
      "126\n",
      "127\n",
      "128\n",
      "129\n",
      "130\n",
      "131\n",
      "132\n",
      "133\n",
      "134\n",
      "135\n",
      "136\n",
      "137\n",
      "138\n",
      "139\n",
      "140\n",
      "141\n",
      "142\n",
      "143\n",
      "144\n",
      "145\n",
      "146\n",
      "147\n",
      "148\n",
      "149\n",
      "150\n",
      "151\n",
      "152\n",
      "153\n",
      "154\n",
      "155\n",
      "156\n",
      "157\n",
      "158\n",
      "159\n",
      "160\n",
      "161\n",
      "162\n",
      "163\n",
      "164\n",
      "165\n",
      "166\n",
      "167\n",
      "168\n",
      "169\n",
      "170\n",
      "171\n",
      "172\n",
      "173\n",
      "174\n",
      "175\n",
      "176\n",
      "177\n",
      "178\n",
      "179\n",
      "180\n",
      "181\n",
      "182\n",
      "183\n",
      "184\n",
      "185\n",
      "186\n",
      "187\n",
      "188\n",
      "189\n",
      "190\n",
      "191\n",
      "192\n",
      "193\n",
      "194\n",
      "195\n",
      "196\n",
      "197\n",
      "198\n",
      "199\n",
      "200\n",
      "201\n",
      "202\n",
      "203\n",
      "204\n",
      "205\n",
      "206\n",
      "207\n",
      "208\n",
      "209\n",
      "210\n",
      "211\n",
      "212\n",
      "213\n",
      "214\n",
      "215\n",
      "216\n",
      "217\n",
      "218\n",
      "219\n",
      "220\n",
      "221\n",
      "222\n",
      "223\n",
      "224\n",
      "225\n",
      "226\n",
      "227\n",
      "228\n",
      "229\n",
      "230\n",
      "231\n",
      "232\n",
      "233\n",
      "234\n",
      "235\n",
      "236\n",
      "237\n",
      "238\n",
      "239\n",
      "240\n",
      "241\n",
      "242\n",
      "243\n",
      "244\n",
      "245\n",
      "246\n",
      "247\n",
      "248\n",
      "249\n",
      "250\n",
      "251\n",
      "252\n",
      "253\n",
      "254\n",
      "255\n",
      "256\n",
      "257\n",
      "258\n",
      "259\n",
      "260\n",
      "261\n",
      "262\n",
      "263\n",
      "264\n",
      "265\n",
      "266\n",
      "267\n",
      "268\n",
      "269\n",
      "270\n",
      "271\n",
      "272\n",
      "273\n",
      "274\n",
      "275\n",
      "276\n",
      "277\n",
      "278\n",
      "279\n",
      "280\n",
      "281\n",
      "282\n",
      "283\n",
      "284\n",
      "285\n",
      "286\n",
      "287\n",
      "288\n",
      "289\n",
      "290\n",
      "291\n",
      "292\n",
      "293\n",
      "294\n",
      "295\n",
      "296\n",
      "297\n",
      "298\n",
      "299\n",
      "300\n",
      "301\n",
      "302\n",
      "303\n",
      "304\n",
      "305\n",
      "306\n",
      "307\n",
      "308\n",
      "309\n",
      "310\n",
      "311\n",
      "312\n",
      "313\n",
      "314\n",
      "315\n",
      "316\n",
      "317\n",
      "318\n",
      "319\n",
      "320\n",
      "321\n",
      "322\n",
      "323\n",
      "324\n",
      "325\n",
      "326\n",
      "327\n",
      "328\n",
      "329\n",
      "330\n",
      "331\n",
      "332\n",
      "333\n",
      "334\n",
      "335\n",
      "336\n",
      "337\n",
      "338\n",
      "339\n",
      "340\n",
      "341\n",
      "342\n",
      "343\n",
      "344\n",
      "345\n",
      "346\n",
      "347\n",
      "348\n",
      "349\n",
      "350\n",
      "351\n",
      "352\n",
      "353\n",
      "354\n",
      "355\n",
      "356\n",
      "357\n",
      "358\n",
      "359\n",
      "360\n",
      "361\n",
      "362\n",
      "363\n",
      "364\n",
      "365\n",
      "366\n",
      "367\n",
      "368\n",
      "369\n",
      "370\n",
      "371\n",
      "372\n",
      "373\n",
      "374\n",
      "375\n",
      "376\n",
      "377\n",
      "378\n",
      "379\n",
      "380\n",
      "381\n",
      "382\n",
      "383\n",
      "384\n",
      "385\n",
      "386\n",
      "387\n",
      "388\n",
      "389\n",
      "390\n",
      "391\n",
      "392\n",
      "393\n",
      "394\n",
      "395\n",
      "396\n",
      "397\n",
      "398\n",
      "399\n",
      "400\n",
      "401\n",
      "402\n",
      "403\n",
      "404\n",
      "405\n",
      "406\n",
      "407\n",
      "408\n",
      "409\n",
      "410\n",
      "411\n",
      "412\n",
      "413\n",
      "414\n",
      "415\n",
      "416\n",
      "417\n",
      "418\n",
      "419\n",
      "420\n",
      "421\n",
      "422\n",
      "423\n",
      "424\n",
      "425\n",
      "426\n",
      "427\n",
      "428\n",
      "429\n",
      "430\n",
      "431\n",
      "432\n",
      "433\n",
      "434\n",
      "435\n",
      "436\n",
      "437\n",
      "438\n",
      "439\n",
      "440\n",
      "441\n",
      "442\n",
      "443\n",
      "444\n",
      "445\n",
      "446\n",
      "447\n",
      "448\n",
      "449\n",
      "450\n",
      "451\n",
      "452\n",
      "453\n",
      "454\n",
      "455\n",
      "456\n",
      "457\n",
      "458\n",
      "459\n",
      "460\n",
      "461\n",
      "462\n",
      "463\n",
      "464\n",
      "465\n",
      "466\n",
      "467\n",
      "468\n",
      "469\n",
      "470\n",
      "471\n",
      "472\n",
      "473\n",
      "474\n",
      "475\n",
      "476\n",
      "477\n",
      "478\n",
      "479\n",
      "480\n",
      "481\n",
      "482\n",
      "483\n",
      "484\n",
      "485\n",
      "486\n",
      "487\n",
      "488\n",
      "489\n",
      "490\n",
      "491\n",
      "492\n",
      "493\n",
      "494\n",
      "495\n",
      "496\n",
      "497\n",
      "498\n",
      "499\n",
      "500\n",
      "501\n",
      "502\n",
      "503\n",
      "504\n",
      "505\n",
      "506\n",
      "507\n",
      "508\n",
      "509\n",
      "510\n",
      "511\n",
      "512\n",
      "513\n",
      "514\n",
      "515\n",
      "516\n",
      "517\n",
      "518\n",
      "519\n",
      "520\n",
      "521\n",
      "522\n",
      "523\n",
      "524\n",
      "525\n",
      "526\n",
      "527\n",
      "528\n",
      "529\n",
      "530\n",
      "531\n",
      "532\n",
      "533\n",
      "534\n",
      "535\n",
      "536\n",
      "537\n",
      "538\n",
      "539\n",
      "540\n",
      "541\n",
      "542\n",
      "543\n",
      "544\n",
      "545\n",
      "546\n",
      "547\n",
      "548\n",
      "549\n",
      "550\n",
      "551\n",
      "552\n",
      "553\n",
      "554\n",
      "555\n",
      "556\n",
      "557\n",
      "558\n",
      "559\n",
      "560\n",
      "561\n",
      "562\n",
      "563\n",
      "564\n",
      "565\n",
      "566\n",
      "567\n",
      "568\n",
      "569\n",
      "570\n",
      "571\n",
      "572\n",
      "573\n",
      "574\n",
      "575\n",
      "576\n",
      "577\n",
      "578\n",
      "579\n",
      "580\n",
      "581\n",
      "582\n",
      "583\n",
      "584\n",
      "585\n",
      "586\n",
      "587\n",
      "588\n",
      "589\n",
      "590\n",
      "591\n",
      "592\n",
      "593\n",
      "594\n",
      "595\n",
      "596\n",
      "597\n",
      "598\n",
      "599\n",
      "600\n",
      "601\n",
      "602\n",
      "603\n",
      "604\n",
      "605\n",
      "606\n",
      "607\n",
      "608\n",
      "609\n",
      "610\n",
      "611\n",
      "612\n",
      "613\n",
      "614\n",
      "615\n",
      "616\n",
      "617\n",
      "618\n",
      "619\n",
      "620\n",
      "621\n",
      "622\n",
      "623\n",
      "624\n",
      "625\n",
      "626\n",
      "627\n",
      "628\n",
      "629\n",
      "630\n",
      "631\n",
      "632\n",
      "633\n",
      "634\n",
      "635\n",
      "636\n",
      "637\n",
      "638\n",
      "639\n",
      "640\n",
      "641\n",
      "642\n",
      "643\n",
      "644\n",
      "645\n",
      "646\n",
      "647\n",
      "648\n",
      "649\n",
      "650\n",
      "651\n",
      "652\n",
      "653\n",
      "654\n",
      "655\n",
      "656\n",
      "657\n",
      "658\n",
      "659\n",
      "660\n",
      "661\n",
      "662\n",
      "663\n",
      "664\n",
      "665\n",
      "666\n",
      "667\n",
      "668\n",
      "669\n",
      "670\n",
      "671\n",
      "672\n",
      "673\n",
      "674\n",
      "675\n",
      "676\n",
      "677\n",
      "678\n",
      "679\n",
      "680\n",
      "681\n",
      "682\n",
      "683\n",
      "684\n",
      "685\n",
      "686\n",
      "687\n",
      "688\n",
      "689\n",
      "690\n",
      "691\n",
      "692\n",
      "693\n",
      "694\n",
      "695\n",
      "696\n",
      "697\n",
      "698\n",
      "699\n",
      "700\n",
      "701\n",
      "702\n",
      "703\n",
      "704\n",
      "705\n",
      "706\n",
      "707\n",
      "708\n",
      "709\n",
      "710\n",
      "711\n",
      "712\n",
      "713\n",
      "714\n",
      "715\n",
      "716\n",
      "717\n",
      "718\n",
      "719\n",
      "720\n",
      "721\n",
      "722\n",
      "723\n",
      "724\n",
      "725\n",
      "726\n",
      "727\n",
      "728\n",
      "729\n",
      "730\n",
      "731\n",
      "732\n",
      "733\n",
      "734\n",
      "735\n",
      "736\n",
      "737\n",
      "738\n",
      "739\n",
      "740\n",
      "741\n",
      "742\n",
      "743\n",
      "744\n",
      "745\n",
      "746\n",
      "747\n",
      "748\n",
      "749\n",
      "750\n",
      "751\n",
      "752\n",
      "753\n",
      "754\n",
      "755\n",
      "756\n",
      "757\n",
      "758\n",
      "759\n",
      "760\n",
      "761\n",
      "762\n",
      "763\n",
      "764\n",
      "765\n",
      "766\n",
      "767\n",
      "768\n",
      "769\n",
      "770\n",
      "771\n",
      "772\n",
      "773\n",
      "774\n",
      "775\n",
      "776\n",
      "777\n",
      "778\n",
      "779\n",
      "780\n",
      "781\n",
      "782\n",
      "783\n",
      "784\n",
      "785\n",
      "786\n",
      "787\n",
      "788\n",
      "789\n",
      "790\n",
      "791\n",
      "792\n",
      "793\n",
      "794\n",
      "795\n",
      "796\n",
      "797\n",
      "798\n",
      "799\n",
      "800\n",
      "801\n",
      "802\n",
      "803\n",
      "804\n",
      "805\n",
      "806\n",
      "807\n",
      "808\n",
      "809\n",
      "810\n",
      "811\n",
      "812\n",
      "813\n",
      "814\n",
      "815\n",
      "816\n",
      "817\n",
      "818\n",
      "819\n",
      "820\n",
      "821\n",
      "822\n",
      "823\n",
      "824\n",
      "825\n",
      "826\n",
      "827\n",
      "828\n",
      "829\n",
      "830\n",
      "831\n",
      "832\n",
      "833\n",
      "834\n",
      "835\n",
      "836\n",
      "837\n",
      "838\n",
      "839\n",
      "840\n",
      "841\n",
      "842\n",
      "843\n",
      "844\n",
      "845\n",
      "846\n",
      "847\n",
      "848\n",
      "849\n",
      "850\n",
      "851\n",
      "852\n",
      "853\n",
      "854\n",
      "855\n",
      "856\n",
      "857\n",
      "858\n",
      "859\n",
      "860\n",
      "861\n",
      "862\n",
      "863\n",
      "864\n",
      "865\n",
      "866\n",
      "867\n",
      "868\n",
      "869\n",
      "870\n",
      "871\n",
      "872\n",
      "873\n",
      "874\n",
      "875\n",
      "876\n",
      "877\n",
      "878\n",
      "879\n",
      "880\n",
      "881\n",
      "882\n",
      "883\n",
      "884\n",
      "885\n",
      "886\n",
      "887\n",
      "888\n",
      "889\n",
      "890\n",
      "891\n",
      "892\n",
      "893\n",
      "894\n",
      "895\n",
      "896\n",
      "897\n",
      "898\n",
      "899\n",
      "900\n",
      "901\n",
      "902\n",
      "903\n",
      "904\n",
      "905\n",
      "906\n",
      "907\n",
      "908\n",
      "909\n",
      "910\n",
      "911\n",
      "912\n",
      "913\n",
      "914\n",
      "915\n",
      "916\n",
      "917\n",
      "918\n",
      "919\n",
      "920\n",
      "921\n",
      "922\n",
      "923\n",
      "924\n",
      "925\n",
      "926\n",
      "927\n",
      "928\n",
      "929\n",
      "930\n",
      "931\n",
      "932\n",
      "933\n",
      "934\n",
      "935\n",
      "936\n",
      "937\n",
      "938\n",
      "939\n",
      "940\n",
      "941\n",
      "942\n",
      "943\n",
      "944\n",
      "945\n",
      "946\n",
      "947\n",
      "948\n",
      "949\n",
      "950\n",
      "951\n",
      "952\n",
      "953\n",
      "954\n",
      "955\n",
      "956\n",
      "957\n",
      "958\n",
      "959\n",
      "960\n",
      "961\n",
      "962\n",
      "963\n",
      "964\n",
      "965\n",
      "966\n",
      "967\n",
      "968\n",
      "969\n",
      "970\n",
      "971\n",
      "972\n",
      "973\n",
      "974\n",
      "975\n",
      "976\n",
      "977\n",
      "978\n",
      "979\n",
      "980\n",
      "981\n",
      "982\n",
      "983\n",
      "984\n",
      "985\n",
      "986\n",
      "987\n",
      "988\n",
      "989\n",
      "990\n",
      "991\n",
      "992\n",
      "993\n",
      "994\n",
      "995\n",
      "996\n",
      "997\n",
      "998\n",
      "999\n",
      "1000\n",
      "1001\n",
      "1002\n",
      "1003\n",
      "1004\n",
      "1005\n",
      "1006\n",
      "1007\n",
      "1008\n",
      "1009\n",
      "1010\n",
      "1011\n",
      "1012\n",
      "1013\n",
      "1014\n",
      "1015\n",
      "1016\n",
      "1017\n",
      "1018\n",
      "1019\n",
      "1020\n",
      "1021\n",
      "1022\n",
      "1023\n",
      "1024\n",
      "1025\n",
      "1026\n",
      "1027\n",
      "1028\n",
      "1029\n",
      "1030\n",
      "1031\n",
      "1032\n",
      "1033\n",
      "1034\n",
      "1035\n",
      "1036\n",
      "1037\n",
      "1038\n",
      "1039\n",
      "1040\n",
      "1041\n",
      "1042\n",
      "1043\n",
      "1044\n",
      "1045\n",
      "1046\n",
      "1047\n",
      "1048\n",
      "1049\n",
      "1050\n",
      "1051\n",
      "1052\n",
      "1053\n",
      "1054\n",
      "1055\n",
      "1056\n",
      "1057\n",
      "1058\n",
      "1059\n",
      "1060\n",
      "1061\n",
      "1062\n",
      "1063\n",
      "1064\n",
      "1065\n",
      "1066\n",
      "1067\n",
      "1068\n",
      "1069\n",
      "1070\n",
      "1071\n",
      "1072\n",
      "1073\n",
      "1074\n",
      "1075\n",
      "1076\n",
      "1077\n",
      "1078\n",
      "1079\n",
      "1080\n",
      "1081\n",
      "1082\n",
      "1083\n",
      "1084\n",
      "1085\n",
      "1086\n",
      "1087\n",
      "1088\n",
      "1089\n",
      "1090\n",
      "1091\n",
      "1092\n",
      "1093\n",
      "1094\n",
      "1095\n",
      "1096\n",
      "1097\n",
      "1098\n",
      "1099\n",
      "1100\n",
      "1101\n",
      "1102\n",
      "1103\n",
      "1104\n",
      "1105\n",
      "1106\n",
      "1107\n",
      "1108\n",
      "1109\n",
      "1110\n",
      "1111\n",
      "1112\n",
      "1113\n",
      "1114\n",
      "1115\n",
      "1116\n",
      "1117\n",
      "1118\n",
      "1119\n",
      "1120\n",
      "1121\n",
      "1122\n",
      "1123\n",
      "1124\n",
      "1125\n",
      "1126\n",
      "1127\n",
      "1128\n",
      "1129\n",
      "1130\n",
      "1131\n",
      "1132\n",
      "1133\n",
      "1134\n",
      "1135\n",
      "1136\n",
      "1137\n",
      "1138\n",
      "1139\n",
      "1140\n",
      "1141\n",
      "1142\n",
      "1143\n",
      "1144\n",
      "1145\n",
      "1146\n",
      "1147\n",
      "1148\n",
      "1149\n",
      "1150\n",
      "1151\n",
      "1152\n",
      "1153\n",
      "1154\n",
      "1155\n",
      "1156\n",
      "1157\n",
      "1158\n",
      "1159\n",
      "1160\n",
      "1161\n",
      "1162\n",
      "1163\n",
      "1164\n",
      "1165\n",
      "1166\n",
      "1167\n",
      "1168\n",
      "1169\n",
      "1170\n",
      "1171\n",
      "1172\n",
      "1173\n",
      "1174\n",
      "1175\n",
      "1176\n",
      "1177\n",
      "1178\n",
      "1179\n",
      "1180\n",
      "1181\n",
      "1182\n",
      "1183\n",
      "1184\n",
      "1185\n",
      "1186\n",
      "1187\n",
      "1188\n",
      "1189\n",
      "1190\n",
      "1191\n",
      "1192\n",
      "1193\n",
      "1194\n",
      "1195\n",
      "1196\n",
      "1197\n",
      "1198\n",
      "1199\n",
      "1200\n",
      "1201\n",
      "1202\n",
      "1203\n",
      "1204\n",
      "1205\n",
      "1206\n",
      "1207\n",
      "1208\n",
      "1209\n",
      "1210\n",
      "1211\n",
      "1212\n",
      "1213\n",
      "1214\n",
      "1215\n",
      "1216\n",
      "1217\n",
      "1218\n",
      "1219\n",
      "1220\n",
      "1221\n",
      "1222\n",
      "1223\n",
      "1224\n",
      "1225\n",
      "1226\n",
      "1227\n",
      "1228\n",
      "1229\n",
      "1230\n",
      "1231\n",
      "1232\n",
      "1233\n",
      "1234\n",
      "1235\n",
      "1236\n",
      "1237\n",
      "1238\n",
      "1239\n",
      "1240\n",
      "1241\n",
      "1242\n",
      "1243\n",
      "1244\n",
      "1245\n",
      "1246\n",
      "1247\n",
      "1248\n",
      "1249\n",
      "1250\n",
      "1251\n",
      "1252\n",
      "1253\n",
      "1254\n",
      "1255\n",
      "1256\n",
      "1257\n",
      "1258\n",
      "1259\n",
      "1260\n",
      "1261\n",
      "1262\n",
      "1263\n",
      "1264\n",
      "1265\n",
      "1266\n",
      "1267\n",
      "1268\n",
      "1269\n",
      "1270\n",
      "1271\n",
      "1272\n",
      "1273\n",
      "1274\n",
      "1275\n",
      "1276\n",
      "1277\n",
      "1278\n",
      "1279\n",
      "1280\n",
      "1281\n",
      "1282\n",
      "1283\n",
      "1284\n",
      "1285\n",
      "1286\n",
      "1287\n",
      "1288\n",
      "1289\n",
      "1290\n",
      "1291\n",
      "1292\n",
      "1293\n",
      "1294\n",
      "1295\n",
      "1296\n",
      "1297\n",
      "1298\n",
      "1299\n",
      "1300\n",
      "1301\n",
      "1302\n",
      "1303\n",
      "1304\n",
      "1305\n",
      "1306\n",
      "1307\n",
      "1308\n",
      "1309\n",
      "1310\n",
      "1311\n",
      "1312\n",
      "1313\n",
      "1314\n",
      "1315\n",
      "1316\n",
      "1317\n",
      "1318\n",
      "1319\n",
      "1320\n",
      "1321\n",
      "1322\n",
      "1323\n",
      "1324\n",
      "1325\n",
      "1326\n",
      "1327\n",
      "1328\n",
      "1329\n",
      "1330\n",
      "1331\n",
      "1332\n",
      "1333\n",
      "1334\n",
      "1335\n",
      "1336\n",
      "1337\n",
      "1338\n",
      "1339\n",
      "1340\n",
      "1341\n",
      "1342\n",
      "1343\n",
      "1344\n",
      "1345\n",
      "1346\n",
      "1347\n",
      "1348\n",
      "1349\n",
      "1350\n",
      "1351\n",
      "1352\n",
      "1353\n",
      "1354\n",
      "1355\n",
      "1356\n",
      "1357\n",
      "1358\n",
      "1359\n",
      "1360\n",
      "1361\n",
      "1362\n",
      "1363\n",
      "1364\n",
      "1365\n",
      "1366\n",
      "1367\n",
      "1368\n",
      "1369\n",
      "1370\n",
      "1371\n",
      "1372\n",
      "1373\n",
      "1374\n",
      "1375\n",
      "1376\n",
      "1377\n",
      "1378\n",
      "1379\n",
      "1380\n",
      "1381\n",
      "1382\n",
      "1383\n",
      "1384\n",
      "1385\n",
      "1386\n",
      "1387\n",
      "1388\n",
      "1389\n",
      "1390\n",
      "1391\n",
      "1392\n",
      "1393\n",
      "1394\n",
      "1395\n",
      "1396\n",
      "1397\n",
      "1398\n",
      "1399\n",
      "1400\n",
      "1401\n",
      "1402\n",
      "1403\n",
      "1404\n",
      "1405\n",
      "1406\n",
      "1407\n",
      "1408\n",
      "1409\n",
      "1410\n",
      "1411\n",
      "1412\n",
      "1413\n",
      "1414\n",
      "1415\n",
      "1416\n",
      "1417\n",
      "1418\n",
      "1419\n",
      "1420\n",
      "1421\n",
      "1422\n",
      "1423\n",
      "1424\n",
      "1425\n",
      "1426\n",
      "1427\n",
      "1428\n",
      "1429\n",
      "1430\n",
      "1431\n",
      "1432\n",
      "1433\n",
      "1434\n",
      "1435\n",
      "1436\n",
      "1437\n",
      "1438\n",
      "1439\n",
      "1440\n",
      "1441\n",
      "1442\n",
      "1443\n",
      "1444\n",
      "1445\n",
      "1446\n",
      "1447\n",
      "1448\n",
      "1449\n",
      "1450\n",
      "1451\n",
      "1452\n",
      "1453\n",
      "1454\n",
      "1455\n",
      "1456\n",
      "1457\n",
      "1458\n",
      "1459\n",
      "1460\n",
      "1461\n",
      "1462\n",
      "1463\n",
      "1464\n",
      "1465\n",
      "1466\n",
      "1467\n",
      "1468\n",
      "1469\n",
      "1470\n",
      "1471\n",
      "1472\n",
      "1473\n",
      "1474\n",
      "1475\n",
      "1476\n",
      "1477\n",
      "1478\n",
      "1479\n",
      "1480\n",
      "1481\n",
      "1482\n",
      "1483\n",
      "1484\n",
      "1485\n",
      "1486\n",
      "1487\n",
      "1488\n",
      "1489\n",
      "1490\n",
      "1491\n",
      "1492\n",
      "1493\n",
      "1494\n",
      "1495\n",
      "1496\n",
      "1497\n",
      "1498\n",
      "1499\n",
      "1500\n",
      "1501\n",
      "1502\n",
      "1503\n",
      "1504\n",
      "1505\n",
      "1506\n",
      "1507\n",
      "1508\n",
      "1509\n",
      "1510\n",
      "1511\n",
      "1512\n",
      "1513\n",
      "1514\n",
      "1515\n",
      "1516\n",
      "1517\n",
      "1518\n",
      "1519\n",
      "1520\n",
      "1521\n",
      "1522\n",
      "1523\n",
      "1524\n",
      "1525\n",
      "1526\n",
      "1527\n",
      "1528\n",
      "1529\n",
      "1530\n",
      "1531\n",
      "1532\n",
      "1533\n",
      "1534\n",
      "1535\n",
      "1536\n",
      "1537\n",
      "1538\n",
      "1539\n",
      "1540\n",
      "1541\n",
      "1542\n",
      "1543\n",
      "1544\n",
      "1545\n",
      "1546\n",
      "1547\n",
      "1548\n",
      "1549\n",
      "1550\n",
      "1551\n",
      "1552\n",
      "1553\n",
      "1554\n",
      "1555\n",
      "1556\n",
      "1557\n",
      "1558\n",
      "1559\n",
      "1560\n",
      "1561\n",
      "1562\n",
      "1563\n",
      "1564\n",
      "1565\n",
      "1566\n",
      "1567\n",
      "1568\n",
      "1569\n",
      "1570\n",
      "1571\n",
      "1572\n",
      "1573\n",
      "1574\n",
      "1575\n",
      "1576\n",
      "1577\n",
      "1578\n",
      "1579\n",
      "1580\n",
      "1581\n",
      "1582\n",
      "1583\n",
      "1584\n",
      "1585\n",
      "1586\n",
      "1587\n",
      "1588\n",
      "1589\n",
      "1590\n",
      "1591\n",
      "1592\n",
      "1593\n",
      "1594\n",
      "1595\n",
      "1596\n",
      "1597\n",
      "1598\n",
      "1599\n",
      "1600\n",
      "1601\n",
      "1602\n",
      "1603\n",
      "1604\n",
      "1605\n",
      "1606\n",
      "1607\n",
      "1608\n",
      "1609\n",
      "1610\n",
      "1611\n",
      "1612\n",
      "1613\n",
      "1614\n",
      "1615\n",
      "1616\n",
      "1617\n",
      "1618\n",
      "1619\n",
      "1620\n",
      "1621\n",
      "1622\n",
      "1623\n",
      "1624\n",
      "1625\n",
      "1626\n",
      "1627\n",
      "1628\n",
      "1629\n",
      "1630\n",
      "1631\n",
      "1632\n",
      "1633\n",
      "1634\n",
      "1635\n",
      "1636\n",
      "1637\n",
      "1638\n",
      "1639\n",
      "1640\n",
      "1641\n",
      "1642\n",
      "1643\n",
      "1644\n",
      "1645\n",
      "1646\n",
      "1647\n",
      "1648\n",
      "1649\n",
      "1650\n",
      "1651\n",
      "1652\n",
      "1653\n",
      "1654\n",
      "1655\n",
      "1656\n",
      "1657\n",
      "1658\n",
      "1659\n",
      "1660\n",
      "1661\n",
      "1662\n",
      "1663\n",
      "1664\n",
      "1665\n",
      "1666\n",
      "1667\n",
      "1668\n",
      "1669\n",
      "1670\n",
      "1671\n",
      "1672\n",
      "1673\n",
      "1674\n",
      "1675\n",
      "1676\n",
      "1677\n",
      "1678\n",
      "1679\n",
      "1680\n",
      "1681\n",
      "1682\n",
      "1683\n",
      "1684\n",
      "1685\n",
      "1686\n",
      "1687\n",
      "1688\n",
      "1689\n",
      "1690\n",
      "1691\n",
      "1692\n",
      "1693\n",
      "1694\n",
      "1695\n",
      "1696\n",
      "1697\n",
      "1698\n",
      "1699\n",
      "1700\n",
      "1701\n",
      "1702\n",
      "1703\n",
      "1704\n",
      "1705\n",
      "1706\n",
      "1707\n",
      "1708\n",
      "1709\n",
      "1710\n",
      "1711\n",
      "1712\n",
      "1713\n",
      "1714\n",
      "1715\n",
      "1716\n",
      "1717\n",
      "1718\n",
      "1719\n",
      "1720\n",
      "1721\n",
      "1722\n",
      "1723\n",
      "1724\n",
      "1725\n",
      "1726\n",
      "1727\n"
     ]
    },
    {
     "ename": "ValueError",
     "evalue": "Input contains infinity or a value too large for dtype('float64').",
     "output_type": "error",
     "traceback": [
      "\u001b[1;31m---------------------------------------------------------------------------\u001b[0m",
      "\u001b[1;31mValueError\u001b[0m                                Traceback (most recent call last)",
      "\u001b[1;32m<ipython-input-978-c7eb21f1d939>\u001b[0m in \u001b[0;36m<module>\u001b[1;34m\u001b[0m\n\u001b[0;32m     17\u001b[0m     \u001b[0mtest_data\u001b[0m\u001b[1;33m.\u001b[0m\u001b[0mloc\u001b[0m\u001b[1;33m[\u001b[0m\u001b[1;33m[\u001b[0m\u001b[0mi\u001b[0m\u001b[1;33m]\u001b[0m\u001b[1;33m,\u001b[0m\u001b[1;33m[\u001b[0m\u001b[1;34m'Pe_ef_C2H6**2'\u001b[0m\u001b[1;33m]\u001b[0m\u001b[1;33m]\u001b[0m \u001b[1;33m=\u001b[0m \u001b[0mtest_data\u001b[0m\u001b[1;33m.\u001b[0m\u001b[0mloc\u001b[0m\u001b[1;33m[\u001b[0m\u001b[0mi\u001b[0m\u001b[1;33m,\u001b[0m\u001b[1;34m'Pe_ef_C2H6'\u001b[0m\u001b[1;33m]\u001b[0m\u001b[1;33m**\u001b[0m\u001b[1;36m2\u001b[0m\u001b[1;33m\u001b[0m\u001b[1;33m\u001b[0m\u001b[0m\n\u001b[0;32m     18\u001b[0m     \u001b[1;31m#print(3)\u001b[0m\u001b[1;33m\u001b[0m\u001b[1;33m\u001b[0m\u001b[1;33m\u001b[0m\u001b[0m\n\u001b[1;32m---> 19\u001b[1;33m     \u001b[0mC2H6\u001b[0m \u001b[1;33m=\u001b[0m \u001b[0mscaler_C2H6\u001b[0m\u001b[1;33m.\u001b[0m\u001b[0mtransform\u001b[0m\u001b[1;33m(\u001b[0m\u001b[0mtest_data\u001b[0m\u001b[1;33m.\u001b[0m\u001b[0mloc\u001b[0m\u001b[1;33m[\u001b[0m\u001b[1;33m[\u001b[0m\u001b[0mi\u001b[0m\u001b[1;33m]\u001b[0m\u001b[1;33m,\u001b[0m\u001b[0mcol_C2H6\u001b[0m\u001b[1;33m]\u001b[0m\u001b[1;33m)\u001b[0m\u001b[1;33m\u001b[0m\u001b[1;33m\u001b[0m\u001b[0m\n\u001b[0m\u001b[0;32m     20\u001b[0m     \u001b[0mC3H8\u001b[0m \u001b[1;33m=\u001b[0m \u001b[0mscaler_C3H8\u001b[0m\u001b[1;33m.\u001b[0m\u001b[0mtransform\u001b[0m\u001b[1;33m(\u001b[0m\u001b[0mtest_data\u001b[0m\u001b[1;33m.\u001b[0m\u001b[0mloc\u001b[0m\u001b[1;33m[\u001b[0m\u001b[1;33m[\u001b[0m\u001b[0mi\u001b[0m\u001b[1;33m]\u001b[0m\u001b[1;33m,\u001b[0m\u001b[0mcol_C3H8\u001b[0m\u001b[1;33m]\u001b[0m\u001b[1;33m)\u001b[0m\u001b[1;33m\u001b[0m\u001b[1;33m\u001b[0m\u001b[0m\n\u001b[0;32m     21\u001b[0m     \u001b[0miC4H10\u001b[0m \u001b[1;33m=\u001b[0m \u001b[0mscaler_iC4H10\u001b[0m\u001b[1;33m.\u001b[0m\u001b[0mtransform\u001b[0m\u001b[1;33m(\u001b[0m\u001b[0mtest_data\u001b[0m\u001b[1;33m.\u001b[0m\u001b[0mloc\u001b[0m\u001b[1;33m[\u001b[0m\u001b[1;33m[\u001b[0m\u001b[0mi\u001b[0m\u001b[1;33m]\u001b[0m\u001b[1;33m,\u001b[0m\u001b[0mcol_iC4H10\u001b[0m\u001b[1;33m]\u001b[0m\u001b[1;33m)\u001b[0m\u001b[1;33m\u001b[0m\u001b[1;33m\u001b[0m\u001b[0m\n",
      "\u001b[1;32mC:\\ProgramData\\Anaconda3\\lib\\site-packages\\sklearn\\preprocessing\\_data.py\u001b[0m in \u001b[0;36mtransform\u001b[1;34m(self, X, copy)\u001b[0m\n\u001b[0;32m    789\u001b[0m \u001b[1;33m\u001b[0m\u001b[0m\n\u001b[0;32m    790\u001b[0m         \u001b[0mcopy\u001b[0m \u001b[1;33m=\u001b[0m \u001b[0mcopy\u001b[0m \u001b[1;32mif\u001b[0m \u001b[0mcopy\u001b[0m \u001b[1;32mis\u001b[0m \u001b[1;32mnot\u001b[0m \u001b[1;32mNone\u001b[0m \u001b[1;32melse\u001b[0m \u001b[0mself\u001b[0m\u001b[1;33m.\u001b[0m\u001b[0mcopy\u001b[0m\u001b[1;33m\u001b[0m\u001b[1;33m\u001b[0m\u001b[0m\n\u001b[1;32m--> 791\u001b[1;33m         X = self._validate_data(X, reset=False,\n\u001b[0m\u001b[0;32m    792\u001b[0m                                 \u001b[0maccept_sparse\u001b[0m\u001b[1;33m=\u001b[0m\u001b[1;34m'csr'\u001b[0m\u001b[1;33m,\u001b[0m \u001b[0mcopy\u001b[0m\u001b[1;33m=\u001b[0m\u001b[0mcopy\u001b[0m\u001b[1;33m,\u001b[0m\u001b[1;33m\u001b[0m\u001b[1;33m\u001b[0m\u001b[0m\n\u001b[0;32m    793\u001b[0m                                 \u001b[0mestimator\u001b[0m\u001b[1;33m=\u001b[0m\u001b[0mself\u001b[0m\u001b[1;33m,\u001b[0m \u001b[0mdtype\u001b[0m\u001b[1;33m=\u001b[0m\u001b[0mFLOAT_DTYPES\u001b[0m\u001b[1;33m,\u001b[0m\u001b[1;33m\u001b[0m\u001b[1;33m\u001b[0m\u001b[0m\n",
      "\u001b[1;32mC:\\ProgramData\\Anaconda3\\lib\\site-packages\\sklearn\\base.py\u001b[0m in \u001b[0;36m_validate_data\u001b[1;34m(self, X, y, reset, validate_separately, **check_params)\u001b[0m\n\u001b[0;32m    418\u001b[0m                     \u001b[1;34mf\"requires y to be passed, but the target y is None.\"\u001b[0m\u001b[1;33m\u001b[0m\u001b[1;33m\u001b[0m\u001b[0m\n\u001b[0;32m    419\u001b[0m                 )\n\u001b[1;32m--> 420\u001b[1;33m             \u001b[0mX\u001b[0m \u001b[1;33m=\u001b[0m \u001b[0mcheck_array\u001b[0m\u001b[1;33m(\u001b[0m\u001b[0mX\u001b[0m\u001b[1;33m,\u001b[0m \u001b[1;33m**\u001b[0m\u001b[0mcheck_params\u001b[0m\u001b[1;33m)\u001b[0m\u001b[1;33m\u001b[0m\u001b[1;33m\u001b[0m\u001b[0m\n\u001b[0m\u001b[0;32m    421\u001b[0m             \u001b[0mout\u001b[0m \u001b[1;33m=\u001b[0m \u001b[0mX\u001b[0m\u001b[1;33m\u001b[0m\u001b[1;33m\u001b[0m\u001b[0m\n\u001b[0;32m    422\u001b[0m         \u001b[1;32melse\u001b[0m\u001b[1;33m:\u001b[0m\u001b[1;33m\u001b[0m\u001b[1;33m\u001b[0m\u001b[0m\n",
      "\u001b[1;32mC:\\ProgramData\\Anaconda3\\lib\\site-packages\\sklearn\\utils\\validation.py\u001b[0m in \u001b[0;36minner_f\u001b[1;34m(*args, **kwargs)\u001b[0m\n\u001b[0;32m     71\u001b[0m                           FutureWarning)\n\u001b[0;32m     72\u001b[0m         \u001b[0mkwargs\u001b[0m\u001b[1;33m.\u001b[0m\u001b[0mupdate\u001b[0m\u001b[1;33m(\u001b[0m\u001b[1;33m{\u001b[0m\u001b[0mk\u001b[0m\u001b[1;33m:\u001b[0m \u001b[0marg\u001b[0m \u001b[1;32mfor\u001b[0m \u001b[0mk\u001b[0m\u001b[1;33m,\u001b[0m \u001b[0marg\u001b[0m \u001b[1;32min\u001b[0m \u001b[0mzip\u001b[0m\u001b[1;33m(\u001b[0m\u001b[0msig\u001b[0m\u001b[1;33m.\u001b[0m\u001b[0mparameters\u001b[0m\u001b[1;33m,\u001b[0m \u001b[0margs\u001b[0m\u001b[1;33m)\u001b[0m\u001b[1;33m}\u001b[0m\u001b[1;33m)\u001b[0m\u001b[1;33m\u001b[0m\u001b[1;33m\u001b[0m\u001b[0m\n\u001b[1;32m---> 73\u001b[1;33m         \u001b[1;32mreturn\u001b[0m \u001b[0mf\u001b[0m\u001b[1;33m(\u001b[0m\u001b[1;33m**\u001b[0m\u001b[0mkwargs\u001b[0m\u001b[1;33m)\u001b[0m\u001b[1;33m\u001b[0m\u001b[1;33m\u001b[0m\u001b[0m\n\u001b[0m\u001b[0;32m     74\u001b[0m     \u001b[1;32mreturn\u001b[0m \u001b[0minner_f\u001b[0m\u001b[1;33m\u001b[0m\u001b[1;33m\u001b[0m\u001b[0m\n\u001b[0;32m     75\u001b[0m \u001b[1;33m\u001b[0m\u001b[0m\n",
      "\u001b[1;32mC:\\ProgramData\\Anaconda3\\lib\\site-packages\\sklearn\\utils\\validation.py\u001b[0m in \u001b[0;36mcheck_array\u001b[1;34m(array, accept_sparse, accept_large_sparse, dtype, order, copy, force_all_finite, ensure_2d, allow_nd, ensure_min_samples, ensure_min_features, estimator)\u001b[0m\n\u001b[0;32m    643\u001b[0m \u001b[1;33m\u001b[0m\u001b[0m\n\u001b[0;32m    644\u001b[0m         \u001b[1;32mif\u001b[0m \u001b[0mforce_all_finite\u001b[0m\u001b[1;33m:\u001b[0m\u001b[1;33m\u001b[0m\u001b[1;33m\u001b[0m\u001b[0m\n\u001b[1;32m--> 645\u001b[1;33m             _assert_all_finite(array,\n\u001b[0m\u001b[0;32m    646\u001b[0m                                allow_nan=force_all_finite == 'allow-nan')\n\u001b[0;32m    647\u001b[0m \u001b[1;33m\u001b[0m\u001b[0m\n",
      "\u001b[1;32mC:\\ProgramData\\Anaconda3\\lib\\site-packages\\sklearn\\utils\\validation.py\u001b[0m in \u001b[0;36m_assert_all_finite\u001b[1;34m(X, allow_nan, msg_dtype)\u001b[0m\n\u001b[0;32m     95\u001b[0m                 not allow_nan and not np.isfinite(X).all()):\n\u001b[0;32m     96\u001b[0m             \u001b[0mtype_err\u001b[0m \u001b[1;33m=\u001b[0m \u001b[1;34m'infinity'\u001b[0m \u001b[1;32mif\u001b[0m \u001b[0mallow_nan\u001b[0m \u001b[1;32melse\u001b[0m \u001b[1;34m'NaN, infinity'\u001b[0m\u001b[1;33m\u001b[0m\u001b[1;33m\u001b[0m\u001b[0m\n\u001b[1;32m---> 97\u001b[1;33m             raise ValueError(\n\u001b[0m\u001b[0;32m     98\u001b[0m                     \u001b[0mmsg_err\u001b[0m\u001b[1;33m.\u001b[0m\u001b[0mformat\u001b[0m\u001b[1;33m\u001b[0m\u001b[1;33m\u001b[0m\u001b[0m\n\u001b[0;32m     99\u001b[0m                     (type_err,\n",
      "\u001b[1;31mValueError\u001b[0m: Input contains infinity or a value too large for dtype('float64')."
     ]
    }
   ],
   "source": [
    "for i in range(1,test_data.shape[0]):\n",
    "    test_data.loc[[i], [\"w_prev\"]] = test_data.loc[i-1, \"w_A\"]\n",
    "    test_data.loc[[i], [\"Cx_A_C2H6\"]] = test_data.loc[i-1,'G_B_C2H6'] - test_data.loc[i-1,'G_A_C2H6'] \n",
    "    test_data.loc[[i], [\"Cx_A_C3H8\"]] = test_data.loc[i-1,'G_B_C3H8'] - test_data.loc[i-1,'G_A_C3H8']\n",
    "    test_data.loc[[i], [\"Cx_A_iC4H10\"]] = test_data.loc[i-1,'G_B_iC4H10'] - test_data.loc[i-1,'G_A_iC4H10']\n",
    "    test_data.loc[[i], [\"Cx_A_nC4H10\"]] = test_data.loc[i-1,'G_B_nC4H10'] - test_data.loc[i-1,'G_A_nC4H10']\n",
    "    #print(1)\n",
    "    test_data.loc[[i], [\"Cx_A_C2H6**2\"]] = test_data.loc[i, \"Cx_A_C2H6\"]**2\n",
    "    test_data.loc[[i], [\"Cx_A_C3H8**2\"]] = test_data.loc[i, \"Cx_A_C3H8\"]**2\n",
    "    test_data.loc[[i], [\"Cx_A_iC4H10**2\"]] = test_data.loc[i, \"Cx_A_iC4H10\"]**2\n",
    "    test_data.loc[[i], [\"Cx_A_nC4H10**2\"]] = test_data.loc[i, \"Cx_A_nC4H10\"]**2\n",
    "    #print(2)\n",
    "    a = (test_data.loc[i,'G_A_C2H6'] - test_data.loc[i-1,'G_A_C2H6']) + test_data.loc[i,'w_prev'] * test_data.loc[i,'Cx_A_C2H6']\n",
    "    E = a / test_data.loc[i,'Cx_A_C2H6**2']\n",
    "    \n",
    "    test_data.loc[[i],['Pe_ef_C2H6']] = test_data.loc[i,'w_prev'] / E\n",
    "    test_data.loc[[i],['Pe_ef_C2H6**2']] = test_data.loc[i,'Pe_ef_C2H6']**2\n",
    "    #print(3)\n",
    "    C2H6 = scaler_C2H6.transform(test_data.loc[[i],col_C2H6])\n",
    "    C3H8 = scaler_C3H8.transform(test_data.loc[[i],col_C3H8])\n",
    "    iC4H10 = scaler_iC4H10.transform(test_data.loc[[i],col_iC4H10])\n",
    "    nC4H10 = scaler_nC4H10.transform(test_data.loc[[i],col_nC4H10])\n",
    "    #print(4)\n",
    "    test_data.loc[[i], [\"G_B_C2H6\"]] = rg_C2H6.predict(C2H6)\n",
    "    test_data.loc[[i], [\"G_B_C3H8\"]] = rg_C3H8.predict(C3H8)\n",
    "    test_data.loc[[i], [\"G_B_iC4H10\"]] = rg_iC4H10.predict(iC4H10)\n",
    "    test_data.loc[[i], [\"G_B_nC4H10\"]] = rg_nC4H10.predict(nC4H10)\n",
    "    #print(5)\n",
    "    \n",
    "    #x = test_data.loc[[i], [\"G_B_C2H6\",'G_B_C3H8','G_B_iC4H10','G_B_iC4H10']]\n",
    "    \n",
    "    #if np.array(x).sum() > test_data.loc[i, \"B_rate\"]:\n",
    "    #    test_data.loc[[i], [\"G_B_C2H6\"]] = test_data.loc[:i-100, \"G_B_C2H6\"].mean()\n",
    "    #    test_data.loc[[i], [\"G_B_C3H8\"]] = test_data.loc[:i-100, \"G_B_C3H8\"].mean()\n",
    "    #    test_data.loc[[i], [\"G_B_iC4H10\"]] = test_data.loc[:i-100, \"G_B_iC4H10\"].mean()\n",
    "    #    test_data.loc[[i], [\"G_B_nC4H10\"]] = test_data.loc[:i-100, \"G_B_nC4H10\"].mean()\n",
    "        \n",
    "    print(i)"
   ]
  },
  {
   "cell_type": "code",
   "execution_count": 981,
   "metadata": {},
   "outputs": [
    {
     "data": {
      "text/html": [
       "<div>\n",
       "<style scoped>\n",
       "    .dataframe tbody tr th:only-of-type {\n",
       "        vertical-align: middle;\n",
       "    }\n",
       "\n",
       "    .dataframe tbody tr th {\n",
       "        vertical-align: top;\n",
       "    }\n",
       "\n",
       "    .dataframe thead th {\n",
       "        text-align: right;\n",
       "    }\n",
       "</style>\n",
       "<table border=\"1\" class=\"dataframe\">\n",
       "  <thead>\n",
       "    <tr style=\"text-align: right;\">\n",
       "      <th></th>\n",
       "      <th>A_rate</th>\n",
       "      <th>A_CH4</th>\n",
       "      <th>A_C2H6</th>\n",
       "      <th>A_C3H8</th>\n",
       "      <th>A_iC4H10</th>\n",
       "      <th>A_nC4H10</th>\n",
       "      <th>A_iC5H12</th>\n",
       "      <th>A_nC5H12</th>\n",
       "      <th>A_C6H14</th>\n",
       "      <th>B_rate</th>\n",
       "      <th>month</th>\n",
       "      <th>G_A_CH4</th>\n",
       "      <th>G_A_C2H6</th>\n",
       "      <th>G_A_C3H8</th>\n",
       "      <th>G_A_iC4H10</th>\n",
       "      <th>G_A_nC4H10</th>\n",
       "      <th>G_A_iC5H12</th>\n",
       "      <th>G_A_nC5H12</th>\n",
       "      <th>G_A_C6H14</th>\n",
       "      <th>G_B_C2H6</th>\n",
       "      <th>G_B_C3H8</th>\n",
       "      <th>G_B_iC4H10</th>\n",
       "      <th>G_B_nC4H10</th>\n",
       "      <th>ro_mix_A</th>\n",
       "      <th>mu_mix_A</th>\n",
       "      <th>w_A</th>\n",
       "      <th>Re_A</th>\n",
       "      <th>A_rate**2</th>\n",
       "      <th>sqrt_A_rate</th>\n",
       "      <th>e**A_rate</th>\n",
       "      <th>lg_A_rate</th>\n",
       "      <th>ln_A_rate</th>\n",
       "      <th>B_rate**2</th>\n",
       "      <th>sqrt_B_rate</th>\n",
       "      <th>e**B_rate</th>\n",
       "      <th>Re_A**2</th>\n",
       "      <th>sqrt_Re_A</th>\n",
       "      <th>lg_Re_A</th>\n",
       "      <th>ln_Re_A</th>\n",
       "      <th>Cx_A_C2H6</th>\n",
       "      <th>Cx_A_C3H8</th>\n",
       "      <th>Cx_A_iC4H10</th>\n",
       "      <th>Cx_A_nC4H10</th>\n",
       "      <th>w_prev</th>\n",
       "      <th>Cx_A_C2H6**2</th>\n",
       "      <th>Cx_A_C3H8**2</th>\n",
       "      <th>Cx_A_iC4H10**2</th>\n",
       "      <th>Cx_A_nC4H10**2</th>\n",
       "      <th>Pe_ef_C2H6</th>\n",
       "      <th>Pe_ef_C2H6**2</th>\n",
       "    </tr>\n",
       "  </thead>\n",
       "  <tbody>\n",
       "    <tr>\n",
       "      <th>0</th>\n",
       "      <td>70.488888</td>\n",
       "      <td>0.302244</td>\n",
       "      <td>5.064459</td>\n",
       "      <td>36.147132</td>\n",
       "      <td>16.632641</td>\n",
       "      <td>24.377125</td>\n",
       "      <td>5.890294</td>\n",
       "      <td>5.194408</td>\n",
       "      <td>6.336124</td>\n",
       "      <td>72.601981</td>\n",
       "      <td>4.0</td>\n",
       "      <td>0.213048</td>\n",
       "      <td>3.569881</td>\n",
       "      <td>25.479712</td>\n",
       "      <td>11.724163</td>\n",
       "      <td>17.183164</td>\n",
       "      <td>4.152003</td>\n",
       "      <td>3.661481</td>\n",
       "      <td>4.466263</td>\n",
       "      <td>3.648088</td>\n",
       "      <td>25.981607</td>\n",
       "      <td>11.638576</td>\n",
       "      <td>17.799919</td>\n",
       "      <td>563.169703</td>\n",
       "      <td>0.000150</td>\n",
       "      <td>0.277036</td>\n",
       "      <td>415477.749614</td>\n",
       "      <td>4968.683371</td>\n",
       "      <td>8.395766</td>\n",
       "      <td>4.101429e+30</td>\n",
       "      <td>1.848121</td>\n",
       "      <td>4.255455</td>\n",
       "      <td>5271.047629</td>\n",
       "      <td>8.520680</td>\n",
       "      <td>3.393436e+31</td>\n",
       "      <td>1.726218e+11</td>\n",
       "      <td>644.575635</td>\n",
       "      <td>5.618548</td>\n",
       "      <td>12.937184</td>\n",
       "      <td>0.068488</td>\n",
       "      <td>0.526622</td>\n",
       "      <td>-0.091283</td>\n",
       "      <td>0.596711</td>\n",
       "      <td>0.276608</td>\n",
       "      <td>0.004691</td>\n",
       "      <td>0.277331</td>\n",
       "      <td>0.008333</td>\n",
       "      <td>0.356064</td>\n",
       "      <td>0.070580</td>\n",
       "      <td>0.004981</td>\n",
       "    </tr>\n",
       "    <tr>\n",
       "      <th>1</th>\n",
       "      <td>71.428342</td>\n",
       "      <td>0.267832</td>\n",
       "      <td>5.135159</td>\n",
       "      <td>36.816480</td>\n",
       "      <td>16.632260</td>\n",
       "      <td>24.062587</td>\n",
       "      <td>5.696004</td>\n",
       "      <td>4.939430</td>\n",
       "      <td>6.395286</td>\n",
       "      <td>74.273009</td>\n",
       "      <td>5.0</td>\n",
       "      <td>0.191308</td>\n",
       "      <td>3.667959</td>\n",
       "      <td>26.297401</td>\n",
       "      <td>11.880148</td>\n",
       "      <td>17.187507</td>\n",
       "      <td>4.068561</td>\n",
       "      <td>3.528153</td>\n",
       "      <td>4.568047</td>\n",
       "      <td>3.746823</td>\n",
       "      <td>26.963010</td>\n",
       "      <td>12.608834</td>\n",
       "      <td>17.610576</td>\n",
       "      <td>562.574167</td>\n",
       "      <td>0.000151</td>\n",
       "      <td>0.281026</td>\n",
       "      <td>419019.690291</td>\n",
       "      <td>5102.008078</td>\n",
       "      <td>8.451529</td>\n",
       "      <td>1.049385e+31</td>\n",
       "      <td>1.853871</td>\n",
       "      <td>4.268695</td>\n",
       "      <td>5516.479837</td>\n",
       "      <td>8.618179</td>\n",
       "      <td>1.804504e+32</td>\n",
       "      <td>1.755775e+11</td>\n",
       "      <td>647.317303</td>\n",
       "      <td>5.622234</td>\n",
       "      <td>12.945673</td>\n",
       "      <td>0.078208</td>\n",
       "      <td>0.501895</td>\n",
       "      <td>-0.085587</td>\n",
       "      <td>0.616754</td>\n",
       "      <td>0.277036</td>\n",
       "      <td>0.006116</td>\n",
       "      <td>0.251899</td>\n",
       "      <td>0.007325</td>\n",
       "      <td>0.380386</td>\n",
       "      <td>0.014151</td>\n",
       "      <td>0.000200</td>\n",
       "    </tr>\n",
       "    <tr>\n",
       "      <th>2</th>\n",
       "      <td>71.176730</td>\n",
       "      <td>0.268148</td>\n",
       "      <td>5.142402</td>\n",
       "      <td>36.842752</td>\n",
       "      <td>16.642065</td>\n",
       "      <td>24.066193</td>\n",
       "      <td>5.686194</td>\n",
       "      <td>4.925651</td>\n",
       "      <td>6.371121</td>\n",
       "      <td>74.167421</td>\n",
       "      <td>5.0</td>\n",
       "      <td>0.190859</td>\n",
       "      <td>3.660194</td>\n",
       "      <td>26.223466</td>\n",
       "      <td>11.845278</td>\n",
       "      <td>17.129529</td>\n",
       "      <td>4.047247</td>\n",
       "      <td>3.505918</td>\n",
       "      <td>4.534756</td>\n",
       "      <td>3.739892</td>\n",
       "      <td>26.924583</td>\n",
       "      <td>12.602022</td>\n",
       "      <td>17.429965</td>\n",
       "      <td>562.513894</td>\n",
       "      <td>0.000151</td>\n",
       "      <td>0.280066</td>\n",
       "      <td>417716.031332</td>\n",
       "      <td>5066.126880</td>\n",
       "      <td>8.436630</td>\n",
       "      <td>8.159453e+30</td>\n",
       "      <td>1.852338</td>\n",
       "      <td>4.265166</td>\n",
       "      <td>5500.806318</td>\n",
       "      <td>8.612051</td>\n",
       "      <td>1.623684e+32</td>\n",
       "      <td>1.744867e+11</td>\n",
       "      <td>646.309548</td>\n",
       "      <td>5.620881</td>\n",
       "      <td>12.942557</td>\n",
       "      <td>0.078865</td>\n",
       "      <td>0.665608</td>\n",
       "      <td>0.728686</td>\n",
       "      <td>0.423069</td>\n",
       "      <td>0.281026</td>\n",
       "      <td>0.006220</td>\n",
       "      <td>0.443034</td>\n",
       "      <td>0.530983</td>\n",
       "      <td>0.178988</td>\n",
       "      <td>0.121396</td>\n",
       "      <td>0.014737</td>\n",
       "    </tr>\n",
       "    <tr>\n",
       "      <th>3</th>\n",
       "      <td>71.115060</td>\n",
       "      <td>0.268979</td>\n",
       "      <td>5.146473</td>\n",
       "      <td>36.920156</td>\n",
       "      <td>16.665032</td>\n",
       "      <td>24.079513</td>\n",
       "      <td>5.649087</td>\n",
       "      <td>4.886606</td>\n",
       "      <td>6.328293</td>\n",
       "      <td>74.063703</td>\n",
       "      <td>5.0</td>\n",
       "      <td>0.191285</td>\n",
       "      <td>3.659918</td>\n",
       "      <td>26.255791</td>\n",
       "      <td>11.851348</td>\n",
       "      <td>17.124160</td>\n",
       "      <td>4.017352</td>\n",
       "      <td>3.475113</td>\n",
       "      <td>4.500369</td>\n",
       "      <td>3.740388</td>\n",
       "      <td>26.900648</td>\n",
       "      <td>12.584298</td>\n",
       "      <td>17.327684</td>\n",
       "      <td>562.390951</td>\n",
       "      <td>0.000151</td>\n",
       "      <td>0.279884</td>\n",
       "      <td>417677.086653</td>\n",
       "      <td>5057.351702</td>\n",
       "      <td>8.432975</td>\n",
       "      <td>7.671459e+30</td>\n",
       "      <td>1.851962</td>\n",
       "      <td>4.264299</td>\n",
       "      <td>5485.432125</td>\n",
       "      <td>8.606027</td>\n",
       "      <td>1.463719e+32</td>\n",
       "      <td>1.744541e+11</td>\n",
       "      <td>646.279418</td>\n",
       "      <td>5.620841</td>\n",
       "      <td>12.942464</td>\n",
       "      <td>0.079699</td>\n",
       "      <td>0.701117</td>\n",
       "      <td>0.756744</td>\n",
       "      <td>0.300436</td>\n",
       "      <td>0.280066</td>\n",
       "      <td>0.006352</td>\n",
       "      <td>0.491565</td>\n",
       "      <td>0.572661</td>\n",
       "      <td>0.090262</td>\n",
       "      <td>0.080697</td>\n",
       "      <td>0.006512</td>\n",
       "    </tr>\n",
       "    <tr>\n",
       "      <th>4</th>\n",
       "      <td>71.079396</td>\n",
       "      <td>0.270545</td>\n",
       "      <td>5.167520</td>\n",
       "      <td>37.036162</td>\n",
       "      <td>16.669608</td>\n",
       "      <td>24.065133</td>\n",
       "      <td>5.615526</td>\n",
       "      <td>4.847676</td>\n",
       "      <td>6.271631</td>\n",
       "      <td>73.985463</td>\n",
       "      <td>5.0</td>\n",
       "      <td>0.192301</td>\n",
       "      <td>3.673042</td>\n",
       "      <td>26.325080</td>\n",
       "      <td>11.848657</td>\n",
       "      <td>17.105351</td>\n",
       "      <td>3.991482</td>\n",
       "      <td>3.445699</td>\n",
       "      <td>4.457838</td>\n",
       "      <td>3.754257</td>\n",
       "      <td>26.886588</td>\n",
       "      <td>12.572456</td>\n",
       "      <td>17.281756</td>\n",
       "      <td>562.189616</td>\n",
       "      <td>0.000151</td>\n",
       "      <td>0.279844</td>\n",
       "      <td>418092.480177</td>\n",
       "      <td>5052.280554</td>\n",
       "      <td>8.430860</td>\n",
       "      <td>7.402689e+30</td>\n",
       "      <td>1.851744</td>\n",
       "      <td>4.263798</td>\n",
       "      <td>5473.848776</td>\n",
       "      <td>8.601480</td>\n",
       "      <td>1.353563e+32</td>\n",
       "      <td>1.748013e+11</td>\n",
       "      <td>646.600712</td>\n",
       "      <td>5.621272</td>\n",
       "      <td>12.943458</td>\n",
       "      <td>0.080471</td>\n",
       "      <td>0.644857</td>\n",
       "      <td>0.732951</td>\n",
       "      <td>0.203524</td>\n",
       "      <td>0.279884</td>\n",
       "      <td>0.006476</td>\n",
       "      <td>0.415840</td>\n",
       "      <td>0.537217</td>\n",
       "      <td>0.041422</td>\n",
       "      <td>0.050843</td>\n",
       "      <td>0.002585</td>\n",
       "    </tr>\n",
       "    <tr>\n",
       "      <th>...</th>\n",
       "      <td>...</td>\n",
       "      <td>...</td>\n",
       "      <td>...</td>\n",
       "      <td>...</td>\n",
       "      <td>...</td>\n",
       "      <td>...</td>\n",
       "      <td>...</td>\n",
       "      <td>...</td>\n",
       "      <td>...</td>\n",
       "      <td>...</td>\n",
       "      <td>...</td>\n",
       "      <td>...</td>\n",
       "      <td>...</td>\n",
       "      <td>...</td>\n",
       "      <td>...</td>\n",
       "      <td>...</td>\n",
       "      <td>...</td>\n",
       "      <td>...</td>\n",
       "      <td>...</td>\n",
       "      <td>...</td>\n",
       "      <td>...</td>\n",
       "      <td>...</td>\n",
       "      <td>...</td>\n",
       "      <td>...</td>\n",
       "      <td>...</td>\n",
       "      <td>...</td>\n",
       "      <td>...</td>\n",
       "      <td>...</td>\n",
       "      <td>...</td>\n",
       "      <td>...</td>\n",
       "      <td>...</td>\n",
       "      <td>...</td>\n",
       "      <td>...</td>\n",
       "      <td>...</td>\n",
       "      <td>...</td>\n",
       "      <td>...</td>\n",
       "      <td>...</td>\n",
       "      <td>...</td>\n",
       "      <td>...</td>\n",
       "      <td>...</td>\n",
       "      <td>...</td>\n",
       "      <td>...</td>\n",
       "      <td>...</td>\n",
       "      <td>...</td>\n",
       "      <td>...</td>\n",
       "      <td>...</td>\n",
       "      <td>...</td>\n",
       "      <td>...</td>\n",
       "      <td>...</td>\n",
       "      <td>...</td>\n",
       "    </tr>\n",
       "    <tr>\n",
       "      <th>3980</th>\n",
       "      <td>68.304891</td>\n",
       "      <td>0.119512</td>\n",
       "      <td>4.025974</td>\n",
       "      <td>39.598743</td>\n",
       "      <td>17.690124</td>\n",
       "      <td>24.125104</td>\n",
       "      <td>4.584583</td>\n",
       "      <td>3.754411</td>\n",
       "      <td>6.050439</td>\n",
       "      <td>71.147451</td>\n",
       "      <td>7.0</td>\n",
       "      <td>0.081633</td>\n",
       "      <td>2.749937</td>\n",
       "      <td>27.047878</td>\n",
       "      <td>12.083220</td>\n",
       "      <td>16.478626</td>\n",
       "      <td>3.131494</td>\n",
       "      <td>2.564446</td>\n",
       "      <td>4.132746</td>\n",
       "      <td>NaN</td>\n",
       "      <td>NaN</td>\n",
       "      <td>NaN</td>\n",
       "      <td>NaN</td>\n",
       "      <td>563.020705</td>\n",
       "      <td>0.000159</td>\n",
       "      <td>0.268524</td>\n",
       "      <td>380844.777764</td>\n",
       "      <td>4665.558100</td>\n",
       "      <td>8.264677</td>\n",
       "      <td>4.617821e+29</td>\n",
       "      <td>1.834452</td>\n",
       "      <td>4.223981</td>\n",
       "      <td>5061.959773</td>\n",
       "      <td>8.434895</td>\n",
       "      <td>7.924016e+30</td>\n",
       "      <td>1.450427e+11</td>\n",
       "      <td>617.126225</td>\n",
       "      <td>5.580748</td>\n",
       "      <td>12.850147</td>\n",
       "      <td>NaN</td>\n",
       "      <td>NaN</td>\n",
       "      <td>NaN</td>\n",
       "      <td>NaN</td>\n",
       "      <td>NaN</td>\n",
       "      <td>NaN</td>\n",
       "      <td>NaN</td>\n",
       "      <td>NaN</td>\n",
       "      <td>NaN</td>\n",
       "      <td>NaN</td>\n",
       "      <td>NaN</td>\n",
       "    </tr>\n",
       "    <tr>\n",
       "      <th>3981</th>\n",
       "      <td>68.632519</td>\n",
       "      <td>0.119121</td>\n",
       "      <td>4.015950</td>\n",
       "      <td>39.536427</td>\n",
       "      <td>17.662900</td>\n",
       "      <td>24.111860</td>\n",
       "      <td>4.598629</td>\n",
       "      <td>3.773469</td>\n",
       "      <td>6.130404</td>\n",
       "      <td>71.256112</td>\n",
       "      <td>7.0</td>\n",
       "      <td>0.081756</td>\n",
       "      <td>2.756247</td>\n",
       "      <td>27.134846</td>\n",
       "      <td>12.122493</td>\n",
       "      <td>16.548577</td>\n",
       "      <td>3.156155</td>\n",
       "      <td>2.589827</td>\n",
       "      <td>4.207451</td>\n",
       "      <td>NaN</td>\n",
       "      <td>NaN</td>\n",
       "      <td>NaN</td>\n",
       "      <td>NaN</td>\n",
       "      <td>563.157117</td>\n",
       "      <td>0.000159</td>\n",
       "      <td>0.269746</td>\n",
       "      <td>382368.259444</td>\n",
       "      <td>4710.422705</td>\n",
       "      <td>8.284475</td>\n",
       "      <td>6.408028e+29</td>\n",
       "      <td>1.836530</td>\n",
       "      <td>4.228766</td>\n",
       "      <td>5077.433495</td>\n",
       "      <td>8.441334</td>\n",
       "      <td>8.833570e+30</td>\n",
       "      <td>1.462055e+11</td>\n",
       "      <td>618.359329</td>\n",
       "      <td>5.582482</td>\n",
       "      <td>12.854139</td>\n",
       "      <td>NaN</td>\n",
       "      <td>NaN</td>\n",
       "      <td>NaN</td>\n",
       "      <td>NaN</td>\n",
       "      <td>NaN</td>\n",
       "      <td>NaN</td>\n",
       "      <td>NaN</td>\n",
       "      <td>NaN</td>\n",
       "      <td>NaN</td>\n",
       "      <td>NaN</td>\n",
       "      <td>NaN</td>\n",
       "    </tr>\n",
       "    <tr>\n",
       "      <th>3982</th>\n",
       "      <td>69.834182</td>\n",
       "      <td>0.118976</td>\n",
       "      <td>4.002939</td>\n",
       "      <td>39.496366</td>\n",
       "      <td>17.645730</td>\n",
       "      <td>24.110723</td>\n",
       "      <td>4.610501</td>\n",
       "      <td>3.788795</td>\n",
       "      <td>6.174530</td>\n",
       "      <td>71.607384</td>\n",
       "      <td>7.0</td>\n",
       "      <td>0.083086</td>\n",
       "      <td>2.795420</td>\n",
       "      <td>27.581964</td>\n",
       "      <td>12.322751</td>\n",
       "      <td>16.837526</td>\n",
       "      <td>3.219705</td>\n",
       "      <td>2.645874</td>\n",
       "      <td>4.311932</td>\n",
       "      <td>NaN</td>\n",
       "      <td>NaN</td>\n",
       "      <td>NaN</td>\n",
       "      <td>NaN</td>\n",
       "      <td>563.259337</td>\n",
       "      <td>0.000159</td>\n",
       "      <td>0.274419</td>\n",
       "      <td>388821.338979</td>\n",
       "      <td>4876.812974</td>\n",
       "      <td>8.356685</td>\n",
       "      <td>2.131081e+30</td>\n",
       "      <td>1.844068</td>\n",
       "      <td>4.246124</td>\n",
       "      <td>5127.617512</td>\n",
       "      <td>8.462115</td>\n",
       "      <td>1.255139e+31</td>\n",
       "      <td>1.511820e+11</td>\n",
       "      <td>623.555402</td>\n",
       "      <td>5.589750</td>\n",
       "      <td>12.870875</td>\n",
       "      <td>NaN</td>\n",
       "      <td>NaN</td>\n",
       "      <td>NaN</td>\n",
       "      <td>NaN</td>\n",
       "      <td>NaN</td>\n",
       "      <td>NaN</td>\n",
       "      <td>NaN</td>\n",
       "      <td>NaN</td>\n",
       "      <td>NaN</td>\n",
       "      <td>NaN</td>\n",
       "      <td>NaN</td>\n",
       "    </tr>\n",
       "    <tr>\n",
       "      <th>3983</th>\n",
       "      <td>71.735081</td>\n",
       "      <td>0.119308</td>\n",
       "      <td>3.991399</td>\n",
       "      <td>39.479565</td>\n",
       "      <td>17.635418</td>\n",
       "      <td>24.113394</td>\n",
       "      <td>4.617921</td>\n",
       "      <td>3.798771</td>\n",
       "      <td>6.192439</td>\n",
       "      <td>72.582642</td>\n",
       "      <td>7.0</td>\n",
       "      <td>0.085586</td>\n",
       "      <td>2.863233</td>\n",
       "      <td>28.320698</td>\n",
       "      <td>12.650781</td>\n",
       "      <td>17.297763</td>\n",
       "      <td>3.312669</td>\n",
       "      <td>2.725052</td>\n",
       "      <td>4.442151</td>\n",
       "      <td>NaN</td>\n",
       "      <td>NaN</td>\n",
       "      <td>NaN</td>\n",
       "      <td>NaN</td>\n",
       "      <td>563.319351</td>\n",
       "      <td>0.000159</td>\n",
       "      <td>0.281859</td>\n",
       "      <td>399288.163412</td>\n",
       "      <td>5145.921826</td>\n",
       "      <td>8.469656</td>\n",
       "      <td>1.426099e+31</td>\n",
       "      <td>1.855732</td>\n",
       "      <td>4.272980</td>\n",
       "      <td>5268.239886</td>\n",
       "      <td>8.519545</td>\n",
       "      <td>3.328441e+31</td>\n",
       "      <td>1.594310e+11</td>\n",
       "      <td>631.892525</td>\n",
       "      <td>5.601286</td>\n",
       "      <td>12.897439</td>\n",
       "      <td>NaN</td>\n",
       "      <td>NaN</td>\n",
       "      <td>NaN</td>\n",
       "      <td>NaN</td>\n",
       "      <td>NaN</td>\n",
       "      <td>NaN</td>\n",
       "      <td>NaN</td>\n",
       "      <td>NaN</td>\n",
       "      <td>NaN</td>\n",
       "      <td>NaN</td>\n",
       "      <td>NaN</td>\n",
       "    </tr>\n",
       "    <tr>\n",
       "      <th>3984</th>\n",
       "      <td>72.741092</td>\n",
       "      <td>0.120283</td>\n",
       "      <td>3.998443</td>\n",
       "      <td>39.627151</td>\n",
       "      <td>17.650079</td>\n",
       "      <td>24.115738</td>\n",
       "      <td>4.596188</td>\n",
       "      <td>3.772929</td>\n",
       "      <td>6.066762</td>\n",
       "      <td>73.808644</td>\n",
       "      <td>7.0</td>\n",
       "      <td>0.087495</td>\n",
       "      <td>2.908511</td>\n",
       "      <td>28.825223</td>\n",
       "      <td>12.838860</td>\n",
       "      <td>17.542051</td>\n",
       "      <td>3.343317</td>\n",
       "      <td>2.744470</td>\n",
       "      <td>4.413029</td>\n",
       "      <td>NaN</td>\n",
       "      <td>NaN</td>\n",
       "      <td>NaN</td>\n",
       "      <td>NaN</td>\n",
       "      <td>563.101145</td>\n",
       "      <td>0.000159</td>\n",
       "      <td>0.285923</td>\n",
       "      <td>405435.375734</td>\n",
       "      <td>5291.266535</td>\n",
       "      <td>8.528839</td>\n",
       "      <td>3.899914e+31</td>\n",
       "      <td>1.861780</td>\n",
       "      <td>4.286906</td>\n",
       "      <td>5447.715933</td>\n",
       "      <td>8.591196</td>\n",
       "      <td>1.134193e+32</td>\n",
       "      <td>1.643778e+11</td>\n",
       "      <td>636.738075</td>\n",
       "      <td>5.607922</td>\n",
       "      <td>12.912717</td>\n",
       "      <td>NaN</td>\n",
       "      <td>NaN</td>\n",
       "      <td>NaN</td>\n",
       "      <td>NaN</td>\n",
       "      <td>NaN</td>\n",
       "      <td>NaN</td>\n",
       "      <td>NaN</td>\n",
       "      <td>NaN</td>\n",
       "      <td>NaN</td>\n",
       "      <td>NaN</td>\n",
       "      <td>NaN</td>\n",
       "    </tr>\n",
       "  </tbody>\n",
       "</table>\n",
       "<p>3985 rows × 50 columns</p>\n",
       "</div>"
      ],
      "text/plain": [
       "         A_rate     A_CH4    A_C2H6     A_C3H8   A_iC4H10   A_nC4H10  \\\n",
       "0     70.488888  0.302244  5.064459  36.147132  16.632641  24.377125   \n",
       "1     71.428342  0.267832  5.135159  36.816480  16.632260  24.062587   \n",
       "2     71.176730  0.268148  5.142402  36.842752  16.642065  24.066193   \n",
       "3     71.115060  0.268979  5.146473  36.920156  16.665032  24.079513   \n",
       "4     71.079396  0.270545  5.167520  37.036162  16.669608  24.065133   \n",
       "...         ...       ...       ...        ...        ...        ...   \n",
       "3980  68.304891  0.119512  4.025974  39.598743  17.690124  24.125104   \n",
       "3981  68.632519  0.119121  4.015950  39.536427  17.662900  24.111860   \n",
       "3982  69.834182  0.118976  4.002939  39.496366  17.645730  24.110723   \n",
       "3983  71.735081  0.119308  3.991399  39.479565  17.635418  24.113394   \n",
       "3984  72.741092  0.120283  3.998443  39.627151  17.650079  24.115738   \n",
       "\n",
       "      A_iC5H12  A_nC5H12   A_C6H14     B_rate  month   G_A_CH4  G_A_C2H6  \\\n",
       "0     5.890294  5.194408  6.336124  72.601981    4.0  0.213048  3.569881   \n",
       "1     5.696004  4.939430  6.395286  74.273009    5.0  0.191308  3.667959   \n",
       "2     5.686194  4.925651  6.371121  74.167421    5.0  0.190859  3.660194   \n",
       "3     5.649087  4.886606  6.328293  74.063703    5.0  0.191285  3.659918   \n",
       "4     5.615526  4.847676  6.271631  73.985463    5.0  0.192301  3.673042   \n",
       "...        ...       ...       ...        ...    ...       ...       ...   \n",
       "3980  4.584583  3.754411  6.050439  71.147451    7.0  0.081633  2.749937   \n",
       "3981  4.598629  3.773469  6.130404  71.256112    7.0  0.081756  2.756247   \n",
       "3982  4.610501  3.788795  6.174530  71.607384    7.0  0.083086  2.795420   \n",
       "3983  4.617921  3.798771  6.192439  72.582642    7.0  0.085586  2.863233   \n",
       "3984  4.596188  3.772929  6.066762  73.808644    7.0  0.087495  2.908511   \n",
       "\n",
       "       G_A_C3H8  G_A_iC4H10  G_A_nC4H10  G_A_iC5H12  G_A_nC5H12  G_A_C6H14  \\\n",
       "0     25.479712   11.724163   17.183164    4.152003    3.661481   4.466263   \n",
       "1     26.297401   11.880148   17.187507    4.068561    3.528153   4.568047   \n",
       "2     26.223466   11.845278   17.129529    4.047247    3.505918   4.534756   \n",
       "3     26.255791   11.851348   17.124160    4.017352    3.475113   4.500369   \n",
       "4     26.325080   11.848657   17.105351    3.991482    3.445699   4.457838   \n",
       "...         ...         ...         ...         ...         ...        ...   \n",
       "3980  27.047878   12.083220   16.478626    3.131494    2.564446   4.132746   \n",
       "3981  27.134846   12.122493   16.548577    3.156155    2.589827   4.207451   \n",
       "3982  27.581964   12.322751   16.837526    3.219705    2.645874   4.311932   \n",
       "3983  28.320698   12.650781   17.297763    3.312669    2.725052   4.442151   \n",
       "3984  28.825223   12.838860   17.542051    3.343317    2.744470   4.413029   \n",
       "\n",
       "      G_B_C2H6   G_B_C3H8  G_B_iC4H10  G_B_nC4H10    ro_mix_A  mu_mix_A  \\\n",
       "0     3.648088  25.981607   11.638576   17.799919  563.169703  0.000150   \n",
       "1     3.746823  26.963010   12.608834   17.610576  562.574167  0.000151   \n",
       "2     3.739892  26.924583   12.602022   17.429965  562.513894  0.000151   \n",
       "3     3.740388  26.900648   12.584298   17.327684  562.390951  0.000151   \n",
       "4     3.754257  26.886588   12.572456   17.281756  562.189616  0.000151   \n",
       "...        ...        ...         ...         ...         ...       ...   \n",
       "3980       NaN        NaN         NaN         NaN  563.020705  0.000159   \n",
       "3981       NaN        NaN         NaN         NaN  563.157117  0.000159   \n",
       "3982       NaN        NaN         NaN         NaN  563.259337  0.000159   \n",
       "3983       NaN        NaN         NaN         NaN  563.319351  0.000159   \n",
       "3984       NaN        NaN         NaN         NaN  563.101145  0.000159   \n",
       "\n",
       "           w_A           Re_A    A_rate**2  sqrt_A_rate     e**A_rate  \\\n",
       "0     0.277036  415477.749614  4968.683371     8.395766  4.101429e+30   \n",
       "1     0.281026  419019.690291  5102.008078     8.451529  1.049385e+31   \n",
       "2     0.280066  417716.031332  5066.126880     8.436630  8.159453e+30   \n",
       "3     0.279884  417677.086653  5057.351702     8.432975  7.671459e+30   \n",
       "4     0.279844  418092.480177  5052.280554     8.430860  7.402689e+30   \n",
       "...        ...            ...          ...          ...           ...   \n",
       "3980  0.268524  380844.777764  4665.558100     8.264677  4.617821e+29   \n",
       "3981  0.269746  382368.259444  4710.422705     8.284475  6.408028e+29   \n",
       "3982  0.274419  388821.338979  4876.812974     8.356685  2.131081e+30   \n",
       "3983  0.281859  399288.163412  5145.921826     8.469656  1.426099e+31   \n",
       "3984  0.285923  405435.375734  5291.266535     8.528839  3.899914e+31   \n",
       "\n",
       "      lg_A_rate  ln_A_rate    B_rate**2  sqrt_B_rate     e**B_rate  \\\n",
       "0      1.848121   4.255455  5271.047629     8.520680  3.393436e+31   \n",
       "1      1.853871   4.268695  5516.479837     8.618179  1.804504e+32   \n",
       "2      1.852338   4.265166  5500.806318     8.612051  1.623684e+32   \n",
       "3      1.851962   4.264299  5485.432125     8.606027  1.463719e+32   \n",
       "4      1.851744   4.263798  5473.848776     8.601480  1.353563e+32   \n",
       "...         ...        ...          ...          ...           ...   \n",
       "3980   1.834452   4.223981  5061.959773     8.434895  7.924016e+30   \n",
       "3981   1.836530   4.228766  5077.433495     8.441334  8.833570e+30   \n",
       "3982   1.844068   4.246124  5127.617512     8.462115  1.255139e+31   \n",
       "3983   1.855732   4.272980  5268.239886     8.519545  3.328441e+31   \n",
       "3984   1.861780   4.286906  5447.715933     8.591196  1.134193e+32   \n",
       "\n",
       "           Re_A**2   sqrt_Re_A   lg_Re_A    ln_Re_A  Cx_A_C2H6  Cx_A_C3H8  \\\n",
       "0     1.726218e+11  644.575635  5.618548  12.937184   0.068488   0.526622   \n",
       "1     1.755775e+11  647.317303  5.622234  12.945673   0.078208   0.501895   \n",
       "2     1.744867e+11  646.309548  5.620881  12.942557   0.078865   0.665608   \n",
       "3     1.744541e+11  646.279418  5.620841  12.942464   0.079699   0.701117   \n",
       "4     1.748013e+11  646.600712  5.621272  12.943458   0.080471   0.644857   \n",
       "...            ...         ...       ...        ...        ...        ...   \n",
       "3980  1.450427e+11  617.126225  5.580748  12.850147        NaN        NaN   \n",
       "3981  1.462055e+11  618.359329  5.582482  12.854139        NaN        NaN   \n",
       "3982  1.511820e+11  623.555402  5.589750  12.870875        NaN        NaN   \n",
       "3983  1.594310e+11  631.892525  5.601286  12.897439        NaN        NaN   \n",
       "3984  1.643778e+11  636.738075  5.607922  12.912717        NaN        NaN   \n",
       "\n",
       "      Cx_A_iC4H10  Cx_A_nC4H10    w_prev  Cx_A_C2H6**2  Cx_A_C3H8**2  \\\n",
       "0       -0.091283     0.596711  0.276608      0.004691      0.277331   \n",
       "1       -0.085587     0.616754  0.277036      0.006116      0.251899   \n",
       "2        0.728686     0.423069  0.281026      0.006220      0.443034   \n",
       "3        0.756744     0.300436  0.280066      0.006352      0.491565   \n",
       "4        0.732951     0.203524  0.279884      0.006476      0.415840   \n",
       "...           ...          ...       ...           ...           ...   \n",
       "3980          NaN          NaN       NaN           NaN           NaN   \n",
       "3981          NaN          NaN       NaN           NaN           NaN   \n",
       "3982          NaN          NaN       NaN           NaN           NaN   \n",
       "3983          NaN          NaN       NaN           NaN           NaN   \n",
       "3984          NaN          NaN       NaN           NaN           NaN   \n",
       "\n",
       "      Cx_A_iC4H10**2  Cx_A_nC4H10**2  Pe_ef_C2H6  Pe_ef_C2H6**2  \n",
       "0           0.008333        0.356064    0.070580       0.004981  \n",
       "1           0.007325        0.380386    0.014151       0.000200  \n",
       "2           0.530983        0.178988    0.121396       0.014737  \n",
       "3           0.572661        0.090262    0.080697       0.006512  \n",
       "4           0.537217        0.041422    0.050843       0.002585  \n",
       "...              ...             ...         ...            ...  \n",
       "3980             NaN             NaN         NaN            NaN  \n",
       "3981             NaN             NaN         NaN            NaN  \n",
       "3982             NaN             NaN         NaN            NaN  \n",
       "3983             NaN             NaN         NaN            NaN  \n",
       "3984             NaN             NaN         NaN            NaN  \n",
       "\n",
       "[3985 rows x 50 columns]"
      ]
     },
     "execution_count": 981,
     "metadata": {},
     "output_type": "execute_result"
    }
   ],
   "source": [
    "test_data.loc[:]"
   ]
  },
  {
   "cell_type": "code",
   "execution_count": 536,
   "metadata": {},
   "outputs": [
    {
     "data": {
      "image/png": "[encoded data removed]",
      "text/plain": [
       "<Figure size 720x720 with 1 Axes>"
      ]
     },
     "metadata": {
      "needs_background": "light"
     },
     "output_type": "display_data"
    }
   ],
   "source": [
    "plt.rcParams[\"figure.figsize\"] = (10,10)\n",
    "\n",
    "test_data[['G_B_C2H6','G_B_C3H8','G_B_iC4H10','G_B_nC4H10']][:].plot()\n",
    "\n",
    "# make room for tick labels\n",
    "plt.tight_layout()\n",
    "\n",
    "\n",
    "plt.show()"
   ]
  },
  {
   "cell_type": "code",
   "execution_count": 537,
   "metadata": {},
   "outputs": [],
   "source": [
    "predict = pd.DataFrame()"
   ]
  },
  {
   "cell_type": "code",
   "execution_count": 538,
   "metadata": {},
   "outputs": [],
   "source": [
    "predict[['timestamp']] = test_data[['timestamp']]"
   ]
  },
  {
   "cell_type": "code",
   "execution_count": 539,
   "metadata": {},
   "outputs": [],
   "source": [
    "B = pd.DataFrame({'B_C2H6':[],'B_C3H8':[],'B_iC4H10':[], 'B_nC4H10':[]})"
   ]
  },
  {
   "cell_type": "code",
   "execution_count": 540,
   "metadata": {
    "scrolled": true
   },
   "outputs": [],
   "source": [
    "for i in range(test_data.shape[0]):\n",
    "    new_line = {}\n",
    "    B_C2H6 = test_data.loc[i,'G_B_C2H6'] * 100 / test_data.loc[i,'B_rate']\n",
    "    B_C3H8 = test_data.loc[i,'G_B_C3H8'] * 100 / test_data.loc[i,'B_rate']\n",
    "    B_iC4H10 = test_data.loc[i,'G_B_iC4H10'] * 100 / test_data.loc[i,'B_rate']\n",
    "    B_nC4H10 = test_data.loc[i,'G_B_nC4H10'] * 100 / test_data.loc[i,'B_rate']\n",
    "    \n",
    "    new_line.update({'B_C2H6':B_C2H6,'B_C3H8':B_C3H8,'B_iC4H10':B_iC4H10,'B_nC4H10': B_nC4H10})\n",
    "    B = B.append(new_line, ignore_index=True)"
   ]
  },
  {
   "cell_type": "code",
   "execution_count": 541,
   "metadata": {},
   "outputs": [],
   "source": [
    "predict = pd.concat([predict,B] , axis=1)"
   ]
  },
  {
   "cell_type": "code",
   "execution_count": 542,
   "metadata": {},
   "outputs": [
    {
     "data": {
      "text/html": [
       "<div>\n",
       "<style scoped>\n",
       "    .dataframe tbody tr th:only-of-type {\n",
       "        vertical-align: middle;\n",
       "    }\n",
       "\n",
       "    .dataframe tbody tr th {\n",
       "        vertical-align: top;\n",
       "    }\n",
       "\n",
       "    .dataframe thead th {\n",
       "        text-align: right;\n",
       "    }\n",
       "</style>\n",
       "<table border=\"1\" class=\"dataframe\">\n",
       "  <thead>\n",
       "    <tr style=\"text-align: right;\">\n",
       "      <th></th>\n",
       "      <th>timestamp</th>\n",
       "      <th>B_C2H6</th>\n",
       "      <th>B_C3H8</th>\n",
       "      <th>B_iC4H10</th>\n",
       "      <th>B_nC4H10</th>\n",
       "    </tr>\n",
       "  </thead>\n",
       "  <tbody>\n",
       "    <tr>\n",
       "      <th>0</th>\n",
       "      <td>2020-04-30 23:30:00</td>\n",
       "      <td>5.136487</td>\n",
       "      <td>35.860326</td>\n",
       "      <td>16.101509</td>\n",
       "      <td>24.426845</td>\n",
       "    </tr>\n",
       "    <tr>\n",
       "      <th>1</th>\n",
       "      <td>2020-05-01 00:00:00</td>\n",
       "      <td>5.005460</td>\n",
       "      <td>36.534989</td>\n",
       "      <td>16.488635</td>\n",
       "      <td>23.656546</td>\n",
       "    </tr>\n",
       "    <tr>\n",
       "      <th>2</th>\n",
       "      <td>2020-05-01 00:30:00</td>\n",
       "      <td>4.844662</td>\n",
       "      <td>36.560018</td>\n",
       "      <td>16.489698</td>\n",
       "      <td>23.665170</td>\n",
       "    </tr>\n",
       "    <tr>\n",
       "      <th>3</th>\n",
       "      <td>2020-05-01 01:00:00</td>\n",
       "      <td>4.748409</td>\n",
       "      <td>36.638714</td>\n",
       "      <td>16.517512</td>\n",
       "      <td>23.681882</td>\n",
       "    </tr>\n",
       "    <tr>\n",
       "      <th>4</th>\n",
       "      <td>2020-05-01 01:30:00</td>\n",
       "      <td>4.718339</td>\n",
       "      <td>36.740232</td>\n",
       "      <td>16.526230</td>\n",
       "      <td>23.667524</td>\n",
       "    </tr>\n",
       "    <tr>\n",
       "      <th>...</th>\n",
       "      <td>...</td>\n",
       "      <td>...</td>\n",
       "      <td>...</td>\n",
       "      <td>...</td>\n",
       "      <td>...</td>\n",
       "    </tr>\n",
       "    <tr>\n",
       "      <th>3980</th>\n",
       "      <td>2020-07-22 21:30:00</td>\n",
       "      <td>4.327626</td>\n",
       "      <td>38.360160</td>\n",
       "      <td>17.032927</td>\n",
       "      <td>24.190793</td>\n",
       "    </tr>\n",
       "    <tr>\n",
       "      <th>3981</th>\n",
       "      <td>2020-07-22 22:00:00</td>\n",
       "      <td>4.021365</td>\n",
       "      <td>37.624925</td>\n",
       "      <td>16.962623</td>\n",
       "      <td>24.155403</td>\n",
       "    </tr>\n",
       "    <tr>\n",
       "      <th>3982</th>\n",
       "      <td>2020-07-22 22:30:00</td>\n",
       "      <td>4.075533</td>\n",
       "      <td>37.908120</td>\n",
       "      <td>16.997969</td>\n",
       "      <td>24.194732</td>\n",
       "    </tr>\n",
       "    <tr>\n",
       "      <th>3983</th>\n",
       "      <td>2020-07-22 23:00:00</td>\n",
       "      <td>4.203098</td>\n",
       "      <td>38.154092</td>\n",
       "      <td>17.030138</td>\n",
       "      <td>24.212723</td>\n",
       "    </tr>\n",
       "    <tr>\n",
       "      <th>3984</th>\n",
       "      <td>2020-07-22 23:30:00</td>\n",
       "      <td>4.328644</td>\n",
       "      <td>38.388732</td>\n",
       "      <td>17.079312</td>\n",
       "      <td>24.221198</td>\n",
       "    </tr>\n",
       "  </tbody>\n",
       "</table>\n",
       "<p>3985 rows × 5 columns</p>\n",
       "</div>"
      ],
      "text/plain": [
       "                timestamp    B_C2H6     B_C3H8   B_iC4H10   B_nC4H10\n",
       "0     2020-04-30 23:30:00  5.136487  35.860326  16.101509  24.426845\n",
       "1     2020-05-01 00:00:00  5.005460  36.534989  16.488635  23.656546\n",
       "2     2020-05-01 00:30:00  4.844662  36.560018  16.489698  23.665170\n",
       "3     2020-05-01 01:00:00  4.748409  36.638714  16.517512  23.681882\n",
       "4     2020-05-01 01:30:00  4.718339  36.740232  16.526230  23.667524\n",
       "...                   ...       ...        ...        ...        ...\n",
       "3980  2020-07-22 21:30:00  4.327626  38.360160  17.032927  24.190793\n",
       "3981  2020-07-22 22:00:00  4.021365  37.624925  16.962623  24.155403\n",
       "3982  2020-07-22 22:30:00  4.075533  37.908120  16.997969  24.194732\n",
       "3983  2020-07-22 23:00:00  4.203098  38.154092  17.030138  24.212723\n",
       "3984  2020-07-22 23:30:00  4.328644  38.388732  17.079312  24.221198\n",
       "\n",
       "[3985 rows x 5 columns]"
      ]
     },
     "execution_count": 542,
     "metadata": {},
     "output_type": "execute_result"
    }
   ],
   "source": [
    "predict"
   ]
  },
  {
   "cell_type": "code",
   "execution_count": 543,
   "metadata": {},
   "outputs": [],
   "source": [
    "predict.drop(0, axis=0, inplace=True)"
   ]
  },
  {
   "cell_type": "code",
   "execution_count": 544,
   "metadata": {},
   "outputs": [],
   "source": [
    "predict = predict.reset_index(drop=True)"
   ]
  },
  {
   "cell_type": "code",
   "execution_count": 545,
   "metadata": {},
   "outputs": [
    {
     "data": {
      "text/html": [
       "<div>\n",
       "<style scoped>\n",
       "    .dataframe tbody tr th:only-of-type {\n",
       "        vertical-align: middle;\n",
       "    }\n",
       "\n",
       "    .dataframe tbody tr th {\n",
       "        vertical-align: top;\n",
       "    }\n",
       "\n",
       "    .dataframe thead th {\n",
       "        text-align: right;\n",
       "    }\n",
       "</style>\n",
       "<table border=\"1\" class=\"dataframe\">\n",
       "  <thead>\n",
       "    <tr style=\"text-align: right;\">\n",
       "      <th></th>\n",
       "      <th>timestamp</th>\n",
       "      <th>B_C2H6</th>\n",
       "      <th>B_C3H8</th>\n",
       "      <th>B_iC4H10</th>\n",
       "      <th>B_nC4H10</th>\n",
       "    </tr>\n",
       "  </thead>\n",
       "  <tbody>\n",
       "    <tr>\n",
       "      <th>0</th>\n",
       "      <td>2020-05-01 00:00:00</td>\n",
       "      <td>5.005460</td>\n",
       "      <td>36.534989</td>\n",
       "      <td>16.488635</td>\n",
       "      <td>23.656546</td>\n",
       "    </tr>\n",
       "    <tr>\n",
       "      <th>1</th>\n",
       "      <td>2020-05-01 00:30:00</td>\n",
       "      <td>4.844662</td>\n",
       "      <td>36.560018</td>\n",
       "      <td>16.489698</td>\n",
       "      <td>23.665170</td>\n",
       "    </tr>\n",
       "    <tr>\n",
       "      <th>2</th>\n",
       "      <td>2020-05-01 01:00:00</td>\n",
       "      <td>4.748409</td>\n",
       "      <td>36.638714</td>\n",
       "      <td>16.517512</td>\n",
       "      <td>23.681882</td>\n",
       "    </tr>\n",
       "    <tr>\n",
       "      <th>3</th>\n",
       "      <td>2020-05-01 01:30:00</td>\n",
       "      <td>4.718339</td>\n",
       "      <td>36.740232</td>\n",
       "      <td>16.526230</td>\n",
       "      <td>23.667524</td>\n",
       "    </tr>\n",
       "    <tr>\n",
       "      <th>4</th>\n",
       "      <td>2020-05-01 02:00:00</td>\n",
       "      <td>4.641492</td>\n",
       "      <td>36.753554</td>\n",
       "      <td>16.518411</td>\n",
       "      <td>23.653819</td>\n",
       "    </tr>\n",
       "    <tr>\n",
       "      <th>...</th>\n",
       "      <td>...</td>\n",
       "      <td>...</td>\n",
       "      <td>...</td>\n",
       "      <td>...</td>\n",
       "      <td>...</td>\n",
       "    </tr>\n",
       "    <tr>\n",
       "      <th>3979</th>\n",
       "      <td>2020-07-22 21:30:00</td>\n",
       "      <td>4.327626</td>\n",
       "      <td>38.360160</td>\n",
       "      <td>17.032927</td>\n",
       "      <td>24.190793</td>\n",
       "    </tr>\n",
       "    <tr>\n",
       "      <th>3980</th>\n",
       "      <td>2020-07-22 22:00:00</td>\n",
       "      <td>4.021365</td>\n",
       "      <td>37.624925</td>\n",
       "      <td>16.962623</td>\n",
       "      <td>24.155403</td>\n",
       "    </tr>\n",
       "    <tr>\n",
       "      <th>3981</th>\n",
       "      <td>2020-07-22 22:30:00</td>\n",
       "      <td>4.075533</td>\n",
       "      <td>37.908120</td>\n",
       "      <td>16.997969</td>\n",
       "      <td>24.194732</td>\n",
       "    </tr>\n",
       "    <tr>\n",
       "      <th>3982</th>\n",
       "      <td>2020-07-22 23:00:00</td>\n",
       "      <td>4.203098</td>\n",
       "      <td>38.154092</td>\n",
       "      <td>17.030138</td>\n",
       "      <td>24.212723</td>\n",
       "    </tr>\n",
       "    <tr>\n",
       "      <th>3983</th>\n",
       "      <td>2020-07-22 23:30:00</td>\n",
       "      <td>4.328644</td>\n",
       "      <td>38.388732</td>\n",
       "      <td>17.079312</td>\n",
       "      <td>24.221198</td>\n",
       "    </tr>\n",
       "  </tbody>\n",
       "</table>\n",
       "<p>3984 rows × 5 columns</p>\n",
       "</div>"
      ],
      "text/plain": [
       "                timestamp    B_C2H6     B_C3H8   B_iC4H10   B_nC4H10\n",
       "0     2020-05-01 00:00:00  5.005460  36.534989  16.488635  23.656546\n",
       "1     2020-05-01 00:30:00  4.844662  36.560018  16.489698  23.665170\n",
       "2     2020-05-01 01:00:00  4.748409  36.638714  16.517512  23.681882\n",
       "3     2020-05-01 01:30:00  4.718339  36.740232  16.526230  23.667524\n",
       "4     2020-05-01 02:00:00  4.641492  36.753554  16.518411  23.653819\n",
       "...                   ...       ...        ...        ...        ...\n",
       "3979  2020-07-22 21:30:00  4.327626  38.360160  17.032927  24.190793\n",
       "3980  2020-07-22 22:00:00  4.021365  37.624925  16.962623  24.155403\n",
       "3981  2020-07-22 22:30:00  4.075533  37.908120  16.997969  24.194732\n",
       "3982  2020-07-22 23:00:00  4.203098  38.154092  17.030138  24.212723\n",
       "3983  2020-07-22 23:30:00  4.328644  38.388732  17.079312  24.221198\n",
       "\n",
       "[3984 rows x 5 columns]"
      ]
     },
     "execution_count": 545,
     "metadata": {},
     "output_type": "execute_result"
    }
   ],
   "source": [
    "predict"
   ]
  },
  {
   "cell_type": "code",
   "execution_count": 550,
   "metadata": {},
   "outputs": [],
   "source": [
    "predict.to_csv('predictSGD.csv', sep=',', header=True, index=False)"
   ]
  },
  {
   "cell_type": "code",
   "execution_count": 551,
   "metadata": {},
   "outputs": [],
   "source": [
    "a = pd.read_csv('sample_submission.csv', header = 0, sep = ',')\n",
    "b = pd.read_csv('predictSGD.csv', header = 0, sep = ',')"
   ]
  },
  {
   "cell_type": "code",
   "execution_count": 552,
   "metadata": {},
   "outputs": [
    {
     "data": {
      "text/html": [
       "<div>\n",
       "<style scoped>\n",
       "    .dataframe tbody tr th:only-of-type {\n",
       "        vertical-align: middle;\n",
       "    }\n",
       "\n",
       "    .dataframe tbody tr th {\n",
       "        vertical-align: top;\n",
       "    }\n",
       "\n",
       "    .dataframe thead th {\n",
       "        text-align: right;\n",
       "    }\n",
       "</style>\n",
       "<table border=\"1\" class=\"dataframe\">\n",
       "  <thead>\n",
       "    <tr style=\"text-align: right;\">\n",
       "      <th></th>\n",
       "      <th>timestamp</th>\n",
       "      <th>B_C2H6</th>\n",
       "      <th>B_C3H8</th>\n",
       "      <th>B_iC4H10</th>\n",
       "      <th>B_nC4H10</th>\n",
       "    </tr>\n",
       "  </thead>\n",
       "  <tbody>\n",
       "    <tr>\n",
       "      <th>0</th>\n",
       "      <td>2020-05-01 00:00:00</td>\n",
       "      <td>4.363701</td>\n",
       "      <td>37.742757</td>\n",
       "      <td>16.843028</td>\n",
       "      <td>24.171264</td>\n",
       "    </tr>\n",
       "    <tr>\n",
       "      <th>1</th>\n",
       "      <td>2020-05-01 00:30:00</td>\n",
       "      <td>4.363701</td>\n",
       "      <td>37.742757</td>\n",
       "      <td>16.843028</td>\n",
       "      <td>24.171264</td>\n",
       "    </tr>\n",
       "    <tr>\n",
       "      <th>2</th>\n",
       "      <td>2020-05-01 01:00:00</td>\n",
       "      <td>4.363701</td>\n",
       "      <td>37.742757</td>\n",
       "      <td>16.843028</td>\n",
       "      <td>24.171264</td>\n",
       "    </tr>\n",
       "    <tr>\n",
       "      <th>3</th>\n",
       "      <td>2020-05-01 01:30:00</td>\n",
       "      <td>4.363701</td>\n",
       "      <td>37.742757</td>\n",
       "      <td>16.843028</td>\n",
       "      <td>24.171264</td>\n",
       "    </tr>\n",
       "    <tr>\n",
       "      <th>4</th>\n",
       "      <td>2020-05-01 02:00:00</td>\n",
       "      <td>4.363701</td>\n",
       "      <td>37.742757</td>\n",
       "      <td>16.843028</td>\n",
       "      <td>24.171264</td>\n",
       "    </tr>\n",
       "    <tr>\n",
       "      <th>...</th>\n",
       "      <td>...</td>\n",
       "      <td>...</td>\n",
       "      <td>...</td>\n",
       "      <td>...</td>\n",
       "      <td>...</td>\n",
       "    </tr>\n",
       "    <tr>\n",
       "      <th>3979</th>\n",
       "      <td>2020-07-22 21:30:00</td>\n",
       "      <td>4.363701</td>\n",
       "      <td>37.742757</td>\n",
       "      <td>16.843028</td>\n",
       "      <td>24.171264</td>\n",
       "    </tr>\n",
       "    <tr>\n",
       "      <th>3980</th>\n",
       "      <td>2020-07-22 22:00:00</td>\n",
       "      <td>4.363701</td>\n",
       "      <td>37.742757</td>\n",
       "      <td>16.843028</td>\n",
       "      <td>24.171264</td>\n",
       "    </tr>\n",
       "    <tr>\n",
       "      <th>3981</th>\n",
       "      <td>2020-07-22 22:30:00</td>\n",
       "      <td>4.363701</td>\n",
       "      <td>37.742757</td>\n",
       "      <td>16.843028</td>\n",
       "      <td>24.171264</td>\n",
       "    </tr>\n",
       "    <tr>\n",
       "      <th>3982</th>\n",
       "      <td>2020-07-22 23:00:00</td>\n",
       "      <td>4.363701</td>\n",
       "      <td>37.742757</td>\n",
       "      <td>16.843028</td>\n",
       "      <td>24.171264</td>\n",
       "    </tr>\n",
       "    <tr>\n",
       "      <th>3983</th>\n",
       "      <td>2020-07-22 23:30:00</td>\n",
       "      <td>4.363701</td>\n",
       "      <td>37.742757</td>\n",
       "      <td>16.843028</td>\n",
       "      <td>24.171264</td>\n",
       "    </tr>\n",
       "  </tbody>\n",
       "</table>\n",
       "<p>3984 rows × 5 columns</p>\n",
       "</div>"
      ],
      "text/plain": [
       "                timestamp    B_C2H6     B_C3H8   B_iC4H10   B_nC4H10\n",
       "0     2020-05-01 00:00:00  4.363701  37.742757  16.843028  24.171264\n",
       "1     2020-05-01 00:30:00  4.363701  37.742757  16.843028  24.171264\n",
       "2     2020-05-01 01:00:00  4.363701  37.742757  16.843028  24.171264\n",
       "3     2020-05-01 01:30:00  4.363701  37.742757  16.843028  24.171264\n",
       "4     2020-05-01 02:00:00  4.363701  37.742757  16.843028  24.171264\n",
       "...                   ...       ...        ...        ...        ...\n",
       "3979  2020-07-22 21:30:00  4.363701  37.742757  16.843028  24.171264\n",
       "3980  2020-07-22 22:00:00  4.363701  37.742757  16.843028  24.171264\n",
       "3981  2020-07-22 22:30:00  4.363701  37.742757  16.843028  24.171264\n",
       "3982  2020-07-22 23:00:00  4.363701  37.742757  16.843028  24.171264\n",
       "3983  2020-07-22 23:30:00  4.363701  37.742757  16.843028  24.171264\n",
       "\n",
       "[3984 rows x 5 columns]"
      ]
     },
     "execution_count": 552,
     "metadata": {},
     "output_type": "execute_result"
    }
   ],
   "source": [
    "a"
   ]
  },
  {
   "cell_type": "code",
   "execution_count": 553,
   "metadata": {},
   "outputs": [
    {
     "data": {
      "text/html": [
       "<div>\n",
       "<style scoped>\n",
       "    .dataframe tbody tr th:only-of-type {\n",
       "        vertical-align: middle;\n",
       "    }\n",
       "\n",
       "    .dataframe tbody tr th {\n",
       "        vertical-align: top;\n",
       "    }\n",
       "\n",
       "    .dataframe thead th {\n",
       "        text-align: right;\n",
       "    }\n",
       "</style>\n",
       "<table border=\"1\" class=\"dataframe\">\n",
       "  <thead>\n",
       "    <tr style=\"text-align: right;\">\n",
       "      <th></th>\n",
       "      <th>timestamp</th>\n",
       "      <th>B_C2H6</th>\n",
       "      <th>B_C3H8</th>\n",
       "      <th>B_iC4H10</th>\n",
       "      <th>B_nC4H10</th>\n",
       "    </tr>\n",
       "  </thead>\n",
       "  <tbody>\n",
       "    <tr>\n",
       "      <th>0</th>\n",
       "      <td>2020-05-01 00:00:00</td>\n",
       "      <td>5.005460</td>\n",
       "      <td>36.534989</td>\n",
       "      <td>16.488635</td>\n",
       "      <td>23.656546</td>\n",
       "    </tr>\n",
       "    <tr>\n",
       "      <th>1</th>\n",
       "      <td>2020-05-01 00:30:00</td>\n",
       "      <td>4.844662</td>\n",
       "      <td>36.560018</td>\n",
       "      <td>16.489698</td>\n",
       "      <td>23.665170</td>\n",
       "    </tr>\n",
       "    <tr>\n",
       "      <th>2</th>\n",
       "      <td>2020-05-01 01:00:00</td>\n",
       "      <td>4.748409</td>\n",
       "      <td>36.638714</td>\n",
       "      <td>16.517512</td>\n",
       "      <td>23.681882</td>\n",
       "    </tr>\n",
       "    <tr>\n",
       "      <th>3</th>\n",
       "      <td>2020-05-01 01:30:00</td>\n",
       "      <td>4.718339</td>\n",
       "      <td>36.740232</td>\n",
       "      <td>16.526230</td>\n",
       "      <td>23.667524</td>\n",
       "    </tr>\n",
       "    <tr>\n",
       "      <th>4</th>\n",
       "      <td>2020-05-01 02:00:00</td>\n",
       "      <td>4.641492</td>\n",
       "      <td>36.753554</td>\n",
       "      <td>16.518411</td>\n",
       "      <td>23.653819</td>\n",
       "    </tr>\n",
       "    <tr>\n",
       "      <th>...</th>\n",
       "      <td>...</td>\n",
       "      <td>...</td>\n",
       "      <td>...</td>\n",
       "      <td>...</td>\n",
       "      <td>...</td>\n",
       "    </tr>\n",
       "    <tr>\n",
       "      <th>3979</th>\n",
       "      <td>2020-07-22 21:30:00</td>\n",
       "      <td>4.327626</td>\n",
       "      <td>38.360160</td>\n",
       "      <td>17.032927</td>\n",
       "      <td>24.190793</td>\n",
       "    </tr>\n",
       "    <tr>\n",
       "      <th>3980</th>\n",
       "      <td>2020-07-22 22:00:00</td>\n",
       "      <td>4.021365</td>\n",
       "      <td>37.624925</td>\n",
       "      <td>16.962623</td>\n",
       "      <td>24.155403</td>\n",
       "    </tr>\n",
       "    <tr>\n",
       "      <th>3981</th>\n",
       "      <td>2020-07-22 22:30:00</td>\n",
       "      <td>4.075533</td>\n",
       "      <td>37.908120</td>\n",
       "      <td>16.997969</td>\n",
       "      <td>24.194732</td>\n",
       "    </tr>\n",
       "    <tr>\n",
       "      <th>3982</th>\n",
       "      <td>2020-07-22 23:00:00</td>\n",
       "      <td>4.203098</td>\n",
       "      <td>38.154092</td>\n",
       "      <td>17.030138</td>\n",
       "      <td>24.212723</td>\n",
       "    </tr>\n",
       "    <tr>\n",
       "      <th>3983</th>\n",
       "      <td>2020-07-22 23:30:00</td>\n",
       "      <td>4.328644</td>\n",
       "      <td>38.388732</td>\n",
       "      <td>17.079312</td>\n",
       "      <td>24.221198</td>\n",
       "    </tr>\n",
       "  </tbody>\n",
       "</table>\n",
       "<p>3984 rows × 5 columns</p>\n",
       "</div>"
      ],
      "text/plain": [
       "                timestamp    B_C2H6     B_C3H8   B_iC4H10   B_nC4H10\n",
       "0     2020-05-01 00:00:00  5.005460  36.534989  16.488635  23.656546\n",
       "1     2020-05-01 00:30:00  4.844662  36.560018  16.489698  23.665170\n",
       "2     2020-05-01 01:00:00  4.748409  36.638714  16.517512  23.681882\n",
       "3     2020-05-01 01:30:00  4.718339  36.740232  16.526230  23.667524\n",
       "4     2020-05-01 02:00:00  4.641492  36.753554  16.518411  23.653819\n",
       "...                   ...       ...        ...        ...        ...\n",
       "3979  2020-07-22 21:30:00  4.327626  38.360160  17.032927  24.190793\n",
       "3980  2020-07-22 22:00:00  4.021365  37.624925  16.962623  24.155403\n",
       "3981  2020-07-22 22:30:00  4.075533  37.908120  16.997969  24.194732\n",
       "3982  2020-07-22 23:00:00  4.203098  38.154092  17.030138  24.212723\n",
       "3983  2020-07-22 23:30:00  4.328644  38.388732  17.079312  24.221198\n",
       "\n",
       "[3984 rows x 5 columns]"
      ]
     },
     "execution_count": 553,
     "metadata": {},
     "output_type": "execute_result"
    }
   ],
   "source": [
    "b"
   ]
  },
  {
   "cell_type": "code",
   "execution_count": 983,
   "metadata": {},
   "outputs": [],
   "source": [
    "test_data.to_excel('123.xlsx')"
   ]
  },
  {
   "cell_type": "code",
   "execution_count": null,
   "metadata": {},
   "outputs": [],
   "source": []
  }
 ],
 "metadata": {
  "kernelspec": {
   "display_name": "Python 3",
   "language": "python",
   "name": "python3"
  },
  "language_info": {
   "codemirror_mode": {
    "name": "ipython",
    "version": 3
   },
   "file_extension": ".py",
   "mimetype": "text/x-python",
   "name": "python",
   "nbconvert_exporter": "python",
   "pygments_lexer": "ipython3",
   "version": "3.8.3"
  }
 },
 "nbformat": 4,
 "nbformat_minor": 4
}
